{
 "cells": [
  {
   "cell_type": "code",
   "execution_count": 1,
   "metadata": {},
   "outputs": [],
   "source": [
    "import os\n",
    "import random\n",
    "\n",
    "import numpy as np\n",
    "import pandas as pd\n",
    "import plotly.graph_objects as go\n",
    "\n",
    "from utilities import animate_play"
   ]
  },
  {
   "cell_type": "code",
   "execution_count": 2,
   "metadata": {},
   "outputs": [],
   "source": [
    "DATA_ROOT = \"/Users/andrewgrowney/Data/kaggle/nfl-big-data-bowl-2025\""
   ]
  },
  {
   "cell_type": "code",
   "execution_count": 3,
   "metadata": {},
   "outputs": [],
   "source": [
    "GAMES = pd.read_csv(f\"{DATA_ROOT}/games.csv\")\n",
    "TRACKING_WEEK_1 = pd.read_csv(os.path.join(DATA_ROOT, \"tracking_week_1.csv\"))\n",
    "PLAYS = pd.read_csv(f\"{DATA_ROOT}/plays.csv\")\n",
    "PLAYERS = pd.read_csv(f\"{DATA_ROOT}/players.csv\")"
   ]
  },
  {
   "cell_type": "code",
   "execution_count": 4,
   "metadata": {},
   "outputs": [],
   "source": [
    "play_figures = []\n",
    "for game_id in TRACKING_WEEK_1.gameId.unique()[0:3].tolist():\n",
    "    plays_list = TRACKING_WEEK_1[TRACKING_WEEK_1.gameId==game_id].playId.unique().tolist()\n",
    "    play_id = random.choice(plays_list)\n",
    "    play_fig = animate_play(GAMES,TRACKING_WEEK_1,PLAYS,PLAYERS, game_id, play_id)\n",
    "    play_figures.append(play_fig)"
   ]
  },
  {
   "cell_type": "code",
   "execution_count": 5,
   "metadata": {},
   "outputs": [
    {
     "data": {
      "application/vnd.plotly.v1+json": {
       "config": {
        "plotlyServerURL": "https://plot.ly"
       },
       "data": [
        {
         "hoverinfo": "none",
         "mode": "text",
         "showlegend": false,
         "text": [
          "10",
          "20",
          "30",
          "40",
          "50",
          "40",
          "30",
          "20",
          "10"
         ],
         "textfont": {
          "color": "#ffffff",
          "family": "Courier New, monospace",
          "size": 30
         },
         "type": "scatter",
         "x": [
          20,
          30,
          40,
          50,
          60,
          70,
          80,
          90,
          100
         ],
         "y": [
          5,
          5,
          5,
          5,
          5,
          5,
          5,
          5,
          5
         ]
        },
        {
         "hoverinfo": "none",
         "mode": "text",
         "showlegend": false,
         "text": [
          "10",
          "20",
          "30",
          "40",
          "50",
          "40",
          "30",
          "20",
          "10"
         ],
         "textfont": {
          "color": "#ffffff",
          "family": "Courier New, monospace",
          "size": 30
         },
         "type": "scatter",
         "x": [
          20,
          30,
          40,
          50,
          60,
          70,
          80,
          90,
          100
         ],
         "y": [
          48.5,
          48.5,
          48.5,
          48.5,
          48.5,
          48.5,
          48.5,
          48.5,
          48.5
         ]
        },
        {
         "hoverinfo": "none",
         "line": {
          "color": "blue",
          "dash": "dash"
         },
         "showlegend": false,
         "type": "scatter",
         "x": [
          52,
          52
         ],
         "y": [
          0,
          53.5
         ]
        },
        {
         "hoverinfo": "none",
         "line": {
          "color": "yellow",
          "dash": "dash"
         },
         "showlegend": false,
         "type": "scatter",
         "x": [
          44,
          44
         ],
         "y": [
          0,
          53.5
         ]
        },
        {
         "fill": "toself",
         "fillcolor": "#4B92DB",
         "hoverinfo": "skip",
         "line": {
          "color": "white",
          "width": 3
         },
         "mode": "lines",
         "opacity": 1,
         "showlegend": false,
         "type": "scatter",
         "x": [
          0,
          0,
          10,
          10,
          0
         ],
         "y": [
          0,
          53.5,
          53.5,
          0,
          0
         ]
        },
        {
         "fill": "toself",
         "fillcolor": "#0B2265",
         "hoverinfo": "skip",
         "line": {
          "color": "white",
          "width": 3
         },
         "mode": "lines",
         "opacity": 1,
         "showlegend": false,
         "type": "scatter",
         "x": [
          110,
          110,
          120,
          120,
          110
         ],
         "y": [
          0,
          53.5,
          53.5,
          0,
          0
         ]
        },
        {
         "hoverinfo": "text",
         "hovertext": [
          "nflId:42365.0<br>displayName:Bud Dupree<br>Player Speed:0.39 yd/s",
          "nflId:43353.0<br>displayName:Kevin Byard<br>Player Speed:0.42 yd/s",
          "nflId:44869.0<br>displayName:Zach Cunningham<br>Player Speed:0.31 yd/s",
          "nflId:46457.0<br>displayName:Olasunkanmi Adeniyi<br>Player Speed:0.23 yd/s",
          "nflId:47802.0<br>displayName:Jeffery Simmons<br>Player Speed:0.24 yd/s",
          "nflId:47899.0<br>displayName:Amani Hooker<br>Player Speed:0.45 yd/s",
          "nflId:47915.0<br>displayName:Ugochukwu Amadi<br>Player Speed:0.38 yd/s",
          "nflId:47971.0<br>displayName:David Long<br>Player Speed:0.65 yd/s",
          "nflId:52469.0<br>displayName:Kristian Fulton<br>Player Speed:0.21 yd/s",
          "nflId:53073.0<br>displayName:Teair Tart<br>Player Speed:0.06 yd/s",
          "nflId:54500.0<br>displayName:Roger McCreary<br>Player Speed:0.55 yd/s"
         ],
         "marker": {
          "color": "#4B92DB",
          "line": {
           "color": "#0C2340",
           "width": 2
          },
          "size": 10
         },
         "mode": "markers",
         "name": "TEN",
         "type": "scatter",
         "x": [
          51.28,
          41.87,
          46.69,
          51.16,
          50.95,
          41.04,
          48.44,
          45.89,
          48.32,
          50.82,
          45.05
         ],
         "y": [
          23.29,
          34.91,
          32.74,
          35.61,
          26.86,
          22.13,
          20.92,
          27.53,
          10.74,
          30.89,
          40.81
         ]
        },
        {
         "hoverinfo": "text",
         "hovertext": [
          "nflId:42471.0<br>displayName:Jon Feliciano<br>Player Speed:0.0 yd/s",
          "nflId:42477.0<br>displayName:Mark Glowinski<br>Player Speed:0.0 yd/s",
          "nflId:44908.0<br>displayName:Kenny Golladay<br>Player Speed:0.02 yd/s",
          "nflId:46071.0<br>displayName:Saquon Barkley<br>Player Speed:0.0 yd/s",
          "nflId:46309.0<br>displayName:Richie James<br>Player Speed:0.01 yd/s",
          "nflId:47789.0<br>displayName:Daniel Jones<br>Player Speed:1.33 yd/s",
          "nflId:48489.0<br>displayName:David Sills<br>Player Speed:0.01 yd/s",
          "nflId:52412.0<br>displayName:Andrew Thomas<br>Player Speed:0.16 yd/s",
          "nflId:54472.0<br>displayName:Evan Neal<br>Player Speed:0.04 yd/s",
          "nflId:54532.0<br>displayName:Joshua Ezeudu<br>Player Speed:0.0 yd/s",
          "nflId:54577.0<br>displayName:Daniel Bellinger<br>Player Speed:0.02 yd/s"
         ],
         "marker": {
          "color": "#0B2265",
          "line": {
           "color": "#A71930",
           "width": 2
          },
          "size": 10
         },
         "mode": "markers",
         "name": "NYG",
         "type": "scatter",
         "x": [
          52.47,
          52.91,
          52.49,
          56.9,
          53.3,
          56.31,
          52.9,
          53.13,
          53.12,
          52.89,
          53.89
         ],
         "y": [
          29.55,
          31.31,
          10.64,
          27.51,
          20.46,
          29.72,
          38.85,
          26.5,
          32.83,
          28.28,
          35.6
         ]
        },
        {
         "hoverinfo": "none",
         "marker": {
          "color": "#CBB67C",
          "line": {
           "color": "#663831",
           "width": 2
          },
          "size": 10
         },
         "mode": "markers",
         "name": "football",
         "type": "scatter",
         "x": [
          52.0299987792969
         ],
         "y": [
          29.7399997711182
         ]
        }
       ],
       "frames": [
        {
         "data": [
          {
           "hoverinfo": "none",
           "mode": "text",
           "showlegend": false,
           "text": [
            "10",
            "20",
            "30",
            "40",
            "50",
            "40",
            "30",
            "20",
            "10"
           ],
           "textfont": {
            "color": "#ffffff",
            "family": "Courier New, monospace",
            "size": 30
           },
           "type": "scatter",
           "x": [
            20,
            30,
            40,
            50,
            60,
            70,
            80,
            90,
            100
           ],
           "y": [
            5,
            5,
            5,
            5,
            5,
            5,
            5,
            5,
            5
           ]
          },
          {
           "hoverinfo": "none",
           "mode": "text",
           "showlegend": false,
           "text": [
            "10",
            "20",
            "30",
            "40",
            "50",
            "40",
            "30",
            "20",
            "10"
           ],
           "textfont": {
            "color": "#ffffff",
            "family": "Courier New, monospace",
            "size": 30
           },
           "type": "scatter",
           "x": [
            20,
            30,
            40,
            50,
            60,
            70,
            80,
            90,
            100
           ],
           "y": [
            48.5,
            48.5,
            48.5,
            48.5,
            48.5,
            48.5,
            48.5,
            48.5,
            48.5
           ]
          },
          {
           "hoverinfo": "none",
           "line": {
            "color": "blue",
            "dash": "dash"
           },
           "showlegend": false,
           "type": "scatter",
           "x": [
            52,
            52
           ],
           "y": [
            0,
            53.5
           ]
          },
          {
           "hoverinfo": "none",
           "line": {
            "color": "yellow",
            "dash": "dash"
           },
           "showlegend": false,
           "type": "scatter",
           "x": [
            44,
            44
           ],
           "y": [
            0,
            53.5
           ]
          },
          {
           "fill": "toself",
           "fillcolor": "#4B92DB",
           "hoverinfo": "skip",
           "line": {
            "color": "white",
            "width": 3
           },
           "mode": "lines",
           "opacity": 1,
           "showlegend": false,
           "type": "scatter",
           "x": [
            0,
            0,
            10,
            10,
            0
           ],
           "y": [
            0,
            53.5,
            53.5,
            0,
            0
           ]
          },
          {
           "fill": "toself",
           "fillcolor": "#0B2265",
           "hoverinfo": "skip",
           "line": {
            "color": "white",
            "width": 3
           },
           "mode": "lines",
           "opacity": 1,
           "showlegend": false,
           "type": "scatter",
           "x": [
            110,
            110,
            120,
            120,
            110
           ],
           "y": [
            0,
            53.5,
            53.5,
            0,
            0
           ]
          },
          {
           "hoverinfo": "text",
           "hovertext": [
            "nflId:42365.0<br>displayName:Bud Dupree<br>Player Speed:0.33 yd/s",
            "nflId:43353.0<br>displayName:Kevin Byard<br>Player Speed:0.44 yd/s",
            "nflId:44869.0<br>displayName:Zach Cunningham<br>Player Speed:0.25 yd/s",
            "nflId:46457.0<br>displayName:Olasunkanmi Adeniyi<br>Player Speed:0.17 yd/s",
            "nflId:47802.0<br>displayName:Jeffery Simmons<br>Player Speed:0.24 yd/s",
            "nflId:47899.0<br>displayName:Amani Hooker<br>Player Speed:0.43 yd/s",
            "nflId:47915.0<br>displayName:Ugochukwu Amadi<br>Player Speed:0.38 yd/s",
            "nflId:47971.0<br>displayName:David Long<br>Player Speed:0.6 yd/s",
            "nflId:52469.0<br>displayName:Kristian Fulton<br>Player Speed:0.1 yd/s",
            "nflId:53073.0<br>displayName:Teair Tart<br>Player Speed:0.04 yd/s",
            "nflId:54500.0<br>displayName:Roger McCreary<br>Player Speed:0.54 yd/s"
           ],
           "marker": {
            "color": "#4B92DB",
            "line": {
             "color": "#0C2340",
             "width": 2
            },
            "size": 10
           },
           "mode": "markers",
           "name": "TEN",
           "type": "scatter",
           "x": [
            51.25,
            41.86,
            46.71,
            51.17,
            50.94,
            40.99,
            48.47,
            45.89,
            48.34,
            50.83,
            45
           ],
           "y": [
            23.29,
            34.95,
            32.73,
            35.62,
            26.88,
            22.11,
            20.89,
            27.47,
            10.74,
            30.89,
            40.79
           ]
          },
          {
           "hoverinfo": "text",
           "hovertext": [
            "nflId:42471.0<br>displayName:Jon Feliciano<br>Player Speed:0.0 yd/s",
            "nflId:42477.0<br>displayName:Mark Glowinski<br>Player Speed:0.0 yd/s",
            "nflId:44908.0<br>displayName:Kenny Golladay<br>Player Speed:0.03 yd/s",
            "nflId:46071.0<br>displayName:Saquon Barkley<br>Player Speed:0.0 yd/s",
            "nflId:46309.0<br>displayName:Richie James<br>Player Speed:0.01 yd/s",
            "nflId:47789.0<br>displayName:Daniel Jones<br>Player Speed:1.24 yd/s",
            "nflId:48489.0<br>displayName:David Sills<br>Player Speed:0.01 yd/s",
            "nflId:52412.0<br>displayName:Andrew Thomas<br>Player Speed:0.15 yd/s",
            "nflId:54472.0<br>displayName:Evan Neal<br>Player Speed:0.03 yd/s",
            "nflId:54532.0<br>displayName:Joshua Ezeudu<br>Player Speed:0.0 yd/s",
            "nflId:54577.0<br>displayName:Daniel Bellinger<br>Player Speed:0.02 yd/s"
           ],
           "marker": {
            "color": "#0B2265",
            "line": {
             "color": "#A71930",
             "width": 2
            },
            "size": 10
           },
           "mode": "markers",
           "name": "NYG",
           "type": "scatter",
           "x": [
            52.47,
            52.91,
            52.49,
            56.9,
            53.3,
            56.43,
            52.91,
            53.11,
            53.11,
            52.89,
            53.89
           ],
           "y": [
            29.55,
            31.31,
            10.63,
            27.51,
            20.47,
            29.7,
            38.85,
            26.52,
            32.83,
            28.28,
            35.61
           ]
          },
          {
           "hoverinfo": "none",
           "marker": {
            "color": "#CBB67C",
            "line": {
             "color": "#663831",
             "width": 2
            },
            "size": 10
           },
           "mode": "markers",
           "name": "football",
           "type": "scatter",
           "x": [
            52.0299987792969
           ],
           "y": [
            29.7399997711182
           ]
          }
         ],
         "name": "2"
        },
        {
         "data": [
          {
           "hoverinfo": "none",
           "mode": "text",
           "showlegend": false,
           "text": [
            "10",
            "20",
            "30",
            "40",
            "50",
            "40",
            "30",
            "20",
            "10"
           ],
           "textfont": {
            "color": "#ffffff",
            "family": "Courier New, monospace",
            "size": 30
           },
           "type": "scatter",
           "x": [
            20,
            30,
            40,
            50,
            60,
            70,
            80,
            90,
            100
           ],
           "y": [
            5,
            5,
            5,
            5,
            5,
            5,
            5,
            5,
            5
           ]
          },
          {
           "hoverinfo": "none",
           "mode": "text",
           "showlegend": false,
           "text": [
            "10",
            "20",
            "30",
            "40",
            "50",
            "40",
            "30",
            "20",
            "10"
           ],
           "textfont": {
            "color": "#ffffff",
            "family": "Courier New, monospace",
            "size": 30
           },
           "type": "scatter",
           "x": [
            20,
            30,
            40,
            50,
            60,
            70,
            80,
            90,
            100
           ],
           "y": [
            48.5,
            48.5,
            48.5,
            48.5,
            48.5,
            48.5,
            48.5,
            48.5,
            48.5
           ]
          },
          {
           "hoverinfo": "none",
           "line": {
            "color": "blue",
            "dash": "dash"
           },
           "showlegend": false,
           "type": "scatter",
           "x": [
            52,
            52
           ],
           "y": [
            0,
            53.5
           ]
          },
          {
           "hoverinfo": "none",
           "line": {
            "color": "yellow",
            "dash": "dash"
           },
           "showlegend": false,
           "type": "scatter",
           "x": [
            44,
            44
           ],
           "y": [
            0,
            53.5
           ]
          },
          {
           "fill": "toself",
           "fillcolor": "#4B92DB",
           "hoverinfo": "skip",
           "line": {
            "color": "white",
            "width": 3
           },
           "mode": "lines",
           "opacity": 1,
           "showlegend": false,
           "type": "scatter",
           "x": [
            0,
            0,
            10,
            10,
            0
           ],
           "y": [
            0,
            53.5,
            53.5,
            0,
            0
           ]
          },
          {
           "fill": "toself",
           "fillcolor": "#0B2265",
           "hoverinfo": "skip",
           "line": {
            "color": "white",
            "width": 3
           },
           "mode": "lines",
           "opacity": 1,
           "showlegend": false,
           "type": "scatter",
           "x": [
            110,
            110,
            120,
            120,
            110
           ],
           "y": [
            0,
            53.5,
            53.5,
            0,
            0
           ]
          },
          {
           "hoverinfo": "text",
           "hovertext": [
            "nflId:42365.0<br>displayName:Bud Dupree<br>Player Speed:0.24 yd/s",
            "nflId:43353.0<br>displayName:Kevin Byard<br>Player Speed:0.47 yd/s",
            "nflId:44869.0<br>displayName:Zach Cunningham<br>Player Speed:0.29 yd/s",
            "nflId:46457.0<br>displayName:Olasunkanmi Adeniyi<br>Player Speed:0.01 yd/s",
            "nflId:47802.0<br>displayName:Jeffery Simmons<br>Player Speed:0.22 yd/s",
            "nflId:47899.0<br>displayName:Amani Hooker<br>Player Speed:0.4 yd/s",
            "nflId:47915.0<br>displayName:Ugochukwu Amadi<br>Player Speed:0.39 yd/s",
            "nflId:47971.0<br>displayName:David Long<br>Player Speed:0.5 yd/s",
            "nflId:52469.0<br>displayName:Kristian Fulton<br>Player Speed:0.14 yd/s",
            "nflId:53073.0<br>displayName:Teair Tart<br>Player Speed:0.02 yd/s",
            "nflId:54500.0<br>displayName:Roger McCreary<br>Player Speed:0.48 yd/s"
           ],
           "marker": {
            "color": "#4B92DB",
            "line": {
             "color": "#0C2340",
             "width": 2
            },
            "size": 10
           },
           "mode": "markers",
           "name": "TEN",
           "type": "scatter",
           "x": [
            51.23,
            41.85,
            46.74,
            51.18,
            50.94,
            40.96,
            48.51,
            45.88,
            48.34,
            50.84,
            44.96
           ],
           "y": [
            23.29,
            35,
            32.74,
            35.63,
            26.9,
            22.1,
            20.87,
            27.42,
            10.75,
            30.91,
            40.77
           ]
          },
          {
           "hoverinfo": "text",
           "hovertext": [
            "nflId:42471.0<br>displayName:Jon Feliciano<br>Player Speed:0.0 yd/s",
            "nflId:42477.0<br>displayName:Mark Glowinski<br>Player Speed:0.0 yd/s",
            "nflId:44908.0<br>displayName:Kenny Golladay<br>Player Speed:0.03 yd/s",
            "nflId:46071.0<br>displayName:Saquon Barkley<br>Player Speed:0.0 yd/s",
            "nflId:46309.0<br>displayName:Richie James<br>Player Speed:0.01 yd/s",
            "nflId:47789.0<br>displayName:Daniel Jones<br>Player Speed:1.13 yd/s",
            "nflId:48489.0<br>displayName:David Sills<br>Player Speed:0.01 yd/s",
            "nflId:52412.0<br>displayName:Andrew Thomas<br>Player Speed:0.14 yd/s",
            "nflId:54472.0<br>displayName:Evan Neal<br>Player Speed:0.03 yd/s",
            "nflId:54532.0<br>displayName:Joshua Ezeudu<br>Player Speed:0.0 yd/s",
            "nflId:54577.0<br>displayName:Daniel Bellinger<br>Player Speed:0.01 yd/s"
           ],
           "marker": {
            "color": "#0B2265",
            "line": {
             "color": "#A71930",
             "width": 2
            },
            "size": 10
           },
           "mode": "markers",
           "name": "NYG",
           "type": "scatter",
           "x": [
            52.47,
            52.92,
            52.5,
            56.91,
            53.3,
            56.55,
            52.91,
            53.1,
            53.1,
            52.89,
            53.88
           ],
           "y": [
            29.55,
            31.32,
            10.63,
            27.51,
            20.47,
            29.68,
            38.86,
            26.52,
            32.83,
            28.28,
            35.62
           ]
          },
          {
           "hoverinfo": "none",
           "marker": {
            "color": "#CBB67C",
            "line": {
             "color": "#663831",
             "width": 2
            },
            "size": 10
           },
           "mode": "markers",
           "name": "football",
           "type": "scatter",
           "x": [
            52.0299987792969
           ],
           "y": [
            29.7299995422363
           ]
          }
         ],
         "name": "3"
        },
        {
         "data": [
          {
           "hoverinfo": "none",
           "mode": "text",
           "showlegend": false,
           "text": [
            "10",
            "20",
            "30",
            "40",
            "50",
            "40",
            "30",
            "20",
            "10"
           ],
           "textfont": {
            "color": "#ffffff",
            "family": "Courier New, monospace",
            "size": 30
           },
           "type": "scatter",
           "x": [
            20,
            30,
            40,
            50,
            60,
            70,
            80,
            90,
            100
           ],
           "y": [
            5,
            5,
            5,
            5,
            5,
            5,
            5,
            5,
            5
           ]
          },
          {
           "hoverinfo": "none",
           "mode": "text",
           "showlegend": false,
           "text": [
            "10",
            "20",
            "30",
            "40",
            "50",
            "40",
            "30",
            "20",
            "10"
           ],
           "textfont": {
            "color": "#ffffff",
            "family": "Courier New, monospace",
            "size": 30
           },
           "type": "scatter",
           "x": [
            20,
            30,
            40,
            50,
            60,
            70,
            80,
            90,
            100
           ],
           "y": [
            48.5,
            48.5,
            48.5,
            48.5,
            48.5,
            48.5,
            48.5,
            48.5,
            48.5
           ]
          },
          {
           "hoverinfo": "none",
           "line": {
            "color": "blue",
            "dash": "dash"
           },
           "showlegend": false,
           "type": "scatter",
           "x": [
            52,
            52
           ],
           "y": [
            0,
            53.5
           ]
          },
          {
           "hoverinfo": "none",
           "line": {
            "color": "yellow",
            "dash": "dash"
           },
           "showlegend": false,
           "type": "scatter",
           "x": [
            44,
            44
           ],
           "y": [
            0,
            53.5
           ]
          },
          {
           "fill": "toself",
           "fillcolor": "#4B92DB",
           "hoverinfo": "skip",
           "line": {
            "color": "white",
            "width": 3
           },
           "mode": "lines",
           "opacity": 1,
           "showlegend": false,
           "type": "scatter",
           "x": [
            0,
            0,
            10,
            10,
            0
           ],
           "y": [
            0,
            53.5,
            53.5,
            0,
            0
           ]
          },
          {
           "fill": "toself",
           "fillcolor": "#0B2265",
           "hoverinfo": "skip",
           "line": {
            "color": "white",
            "width": 3
           },
           "mode": "lines",
           "opacity": 1,
           "showlegend": false,
           "type": "scatter",
           "x": [
            110,
            110,
            120,
            120,
            110
           ],
           "y": [
            0,
            53.5,
            53.5,
            0,
            0
           ]
          },
          {
           "hoverinfo": "text",
           "hovertext": [
            "nflId:42365.0<br>displayName:Bud Dupree<br>Player Speed:0.14 yd/s",
            "nflId:43353.0<br>displayName:Kevin Byard<br>Player Speed:0.41 yd/s",
            "nflId:44869.0<br>displayName:Zach Cunningham<br>Player Speed:0.37 yd/s",
            "nflId:46457.0<br>displayName:Olasunkanmi Adeniyi<br>Player Speed:0.13 yd/s",
            "nflId:47802.0<br>displayName:Jeffery Simmons<br>Player Speed:0.21 yd/s",
            "nflId:47899.0<br>displayName:Amani Hooker<br>Player Speed:0.42 yd/s",
            "nflId:47915.0<br>displayName:Ugochukwu Amadi<br>Player Speed:0.4 yd/s",
            "nflId:47971.0<br>displayName:David Long<br>Player Speed:0.41 yd/s",
            "nflId:52469.0<br>displayName:Kristian Fulton<br>Player Speed:0.3 yd/s",
            "nflId:53073.0<br>displayName:Teair Tart<br>Player Speed:0.02 yd/s",
            "nflId:54500.0<br>displayName:Roger McCreary<br>Player Speed:0.46 yd/s"
           ],
           "marker": {
            "color": "#4B92DB",
            "line": {
             "color": "#0C2340",
             "width": 2
            },
            "size": 10
           },
           "mode": "markers",
           "name": "TEN",
           "type": "scatter",
           "x": [
            51.21,
            41.83,
            46.76,
            51.17,
            50.93,
            40.92,
            48.55,
            45.86,
            48.33,
            50.84,
            44.91
           ],
           "y": [
            23.29,
            35.03,
            32.77,
            35.63,
            26.92,
            22.07,
            20.83,
            27.37,
            10.77,
            30.91,
            40.76
           ]
          },
          {
           "hoverinfo": "text",
           "hovertext": [
            "nflId:42471.0<br>displayName:Jon Feliciano<br>Player Speed:0.0 yd/s",
            "nflId:42477.0<br>displayName:Mark Glowinski<br>Player Speed:0.0 yd/s",
            "nflId:44908.0<br>displayName:Kenny Golladay<br>Player Speed:0.03 yd/s",
            "nflId:46071.0<br>displayName:Saquon Barkley<br>Player Speed:0.0 yd/s",
            "nflId:46309.0<br>displayName:Richie James<br>Player Speed:0.0 yd/s",
            "nflId:47789.0<br>displayName:Daniel Jones<br>Player Speed:0.98 yd/s",
            "nflId:48489.0<br>displayName:David Sills<br>Player Speed:0.01 yd/s",
            "nflId:52412.0<br>displayName:Andrew Thomas<br>Player Speed:0.1 yd/s",
            "nflId:54472.0<br>displayName:Evan Neal<br>Player Speed:0.02 yd/s",
            "nflId:54532.0<br>displayName:Joshua Ezeudu<br>Player Speed:0.0 yd/s",
            "nflId:54577.0<br>displayName:Daniel Bellinger<br>Player Speed:0.01 yd/s"
           ],
           "marker": {
            "color": "#0B2265",
            "line": {
             "color": "#A71930",
             "width": 2
            },
            "size": 10
           },
           "mode": "markers",
           "name": "NYG",
           "type": "scatter",
           "x": [
            52.47,
            52.92,
            52.51,
            56.91,
            53.3,
            56.65,
            52.91,
            53.1,
            53.09,
            52.89,
            53.88
           ],
           "y": [
            29.55,
            31.32,
            10.62,
            27.52,
            20.47,
            29.66,
            38.86,
            26.53,
            32.83,
            28.28,
            35.62
           ]
          },
          {
           "hoverinfo": "none",
           "marker": {
            "color": "#CBB67C",
            "line": {
             "color": "#663831",
             "width": 2
            },
            "size": 10
           },
           "mode": "markers",
           "name": "football",
           "type": "scatter",
           "x": [
            52.0299987792969
           ],
           "y": [
            29.7299995422363
           ]
          }
         ],
         "name": "4"
        },
        {
         "data": [
          {
           "hoverinfo": "none",
           "mode": "text",
           "showlegend": false,
           "text": [
            "10",
            "20",
            "30",
            "40",
            "50",
            "40",
            "30",
            "20",
            "10"
           ],
           "textfont": {
            "color": "#ffffff",
            "family": "Courier New, monospace",
            "size": 30
           },
           "type": "scatter",
           "x": [
            20,
            30,
            40,
            50,
            60,
            70,
            80,
            90,
            100
           ],
           "y": [
            5,
            5,
            5,
            5,
            5,
            5,
            5,
            5,
            5
           ]
          },
          {
           "hoverinfo": "none",
           "mode": "text",
           "showlegend": false,
           "text": [
            "10",
            "20",
            "30",
            "40",
            "50",
            "40",
            "30",
            "20",
            "10"
           ],
           "textfont": {
            "color": "#ffffff",
            "family": "Courier New, monospace",
            "size": 30
           },
           "type": "scatter",
           "x": [
            20,
            30,
            40,
            50,
            60,
            70,
            80,
            90,
            100
           ],
           "y": [
            48.5,
            48.5,
            48.5,
            48.5,
            48.5,
            48.5,
            48.5,
            48.5,
            48.5
           ]
          },
          {
           "hoverinfo": "none",
           "line": {
            "color": "blue",
            "dash": "dash"
           },
           "showlegend": false,
           "type": "scatter",
           "x": [
            52,
            52
           ],
           "y": [
            0,
            53.5
           ]
          },
          {
           "hoverinfo": "none",
           "line": {
            "color": "yellow",
            "dash": "dash"
           },
           "showlegend": false,
           "type": "scatter",
           "x": [
            44,
            44
           ],
           "y": [
            0,
            53.5
           ]
          },
          {
           "fill": "toself",
           "fillcolor": "#4B92DB",
           "hoverinfo": "skip",
           "line": {
            "color": "white",
            "width": 3
           },
           "mode": "lines",
           "opacity": 1,
           "showlegend": false,
           "type": "scatter",
           "x": [
            0,
            0,
            10,
            10,
            0
           ],
           "y": [
            0,
            53.5,
            53.5,
            0,
            0
           ]
          },
          {
           "fill": "toself",
           "fillcolor": "#0B2265",
           "hoverinfo": "skip",
           "line": {
            "color": "white",
            "width": 3
           },
           "mode": "lines",
           "opacity": 1,
           "showlegend": false,
           "type": "scatter",
           "x": [
            110,
            110,
            120,
            120,
            110
           ],
           "y": [
            0,
            53.5,
            53.5,
            0,
            0
           ]
          },
          {
           "hoverinfo": "text",
           "hovertext": [
            "nflId:42365.0<br>displayName:Bud Dupree<br>Player Speed:0.14 yd/s",
            "nflId:43353.0<br>displayName:Kevin Byard<br>Player Speed:0.33 yd/s",
            "nflId:44869.0<br>displayName:Zach Cunningham<br>Player Speed:0.5 yd/s",
            "nflId:46457.0<br>displayName:Olasunkanmi Adeniyi<br>Player Speed:0.25 yd/s",
            "nflId:47802.0<br>displayName:Jeffery Simmons<br>Player Speed:0.15 yd/s",
            "nflId:47899.0<br>displayName:Amani Hooker<br>Player Speed:0.41 yd/s",
            "nflId:47915.0<br>displayName:Ugochukwu Amadi<br>Player Speed:0.38 yd/s",
            "nflId:47971.0<br>displayName:David Long<br>Player Speed:0.4 yd/s",
            "nflId:52469.0<br>displayName:Kristian Fulton<br>Player Speed:0.42 yd/s",
            "nflId:53073.0<br>displayName:Teair Tart<br>Player Speed:0.02 yd/s",
            "nflId:54500.0<br>displayName:Roger McCreary<br>Player Speed:0.43 yd/s"
           ],
           "marker": {
            "color": "#4B92DB",
            "line": {
             "color": "#0C2340",
             "width": 2
            },
            "size": 10
           },
           "mode": "markers",
           "name": "TEN",
           "type": "scatter",
           "x": [
            51.21,
            41.81,
            46.78,
            51.16,
            50.94,
            40.89,
            48.58,
            45.83,
            48.31,
            50.85,
            44.87
           ],
           "y": [
            23.3,
            35.06,
            32.81,
            35.63,
            26.92,
            22.05,
            20.8,
            27.34,
            10.79,
            30.92,
            40.75
           ]
          },
          {
           "hoverinfo": "text",
           "hovertext": [
            "nflId:42471.0<br>displayName:Jon Feliciano<br>Player Speed:0.0 yd/s",
            "nflId:42477.0<br>displayName:Mark Glowinski<br>Player Speed:0.0 yd/s",
            "nflId:44908.0<br>displayName:Kenny Golladay<br>Player Speed:0.03 yd/s",
            "nflId:46071.0<br>displayName:Saquon Barkley<br>Player Speed:0.0 yd/s",
            "nflId:46309.0<br>displayName:Richie James<br>Player Speed:0.0 yd/s",
            "nflId:47789.0<br>displayName:Daniel Jones<br>Player Speed:0.82 yd/s",
            "nflId:48489.0<br>displayName:David Sills<br>Player Speed:0.01 yd/s",
            "nflId:52412.0<br>displayName:Andrew Thomas<br>Player Speed:0.1 yd/s",
            "nflId:54472.0<br>displayName:Evan Neal<br>Player Speed:0.02 yd/s",
            "nflId:54532.0<br>displayName:Joshua Ezeudu<br>Player Speed:0.0 yd/s",
            "nflId:54577.0<br>displayName:Daniel Bellinger<br>Player Speed:0.01 yd/s"
           ],
           "marker": {
            "color": "#0B2265",
            "line": {
             "color": "#A71930",
             "width": 2
            },
            "size": 10
           },
           "mode": "markers",
           "name": "NYG",
           "type": "scatter",
           "x": [
            52.47,
            52.92,
            52.52,
            56.91,
            53.3,
            56.74,
            52.91,
            53.1,
            53.09,
            52.89,
            53.89
           ],
           "y": [
            29.55,
            31.32,
            10.62,
            27.52,
            20.47,
            29.65,
            38.86,
            26.54,
            32.84,
            28.28,
            35.62
           ]
          },
          {
           "hoverinfo": "none",
           "marker": {
            "color": "#CBB67C",
            "line": {
             "color": "#663831",
             "width": 2
            },
            "size": 10
           },
           "mode": "markers",
           "name": "football",
           "type": "scatter",
           "x": [
            52.0299987792969
           ],
           "y": [
            29.7299995422363
           ]
          }
         ],
         "name": "5"
        },
        {
         "data": [
          {
           "hoverinfo": "none",
           "mode": "text",
           "showlegend": false,
           "text": [
            "10",
            "20",
            "30",
            "40",
            "50",
            "40",
            "30",
            "20",
            "10"
           ],
           "textfont": {
            "color": "#ffffff",
            "family": "Courier New, monospace",
            "size": 30
           },
           "type": "scatter",
           "x": [
            20,
            30,
            40,
            50,
            60,
            70,
            80,
            90,
            100
           ],
           "y": [
            5,
            5,
            5,
            5,
            5,
            5,
            5,
            5,
            5
           ]
          },
          {
           "hoverinfo": "none",
           "mode": "text",
           "showlegend": false,
           "text": [
            "10",
            "20",
            "30",
            "40",
            "50",
            "40",
            "30",
            "20",
            "10"
           ],
           "textfont": {
            "color": "#ffffff",
            "family": "Courier New, monospace",
            "size": 30
           },
           "type": "scatter",
           "x": [
            20,
            30,
            40,
            50,
            60,
            70,
            80,
            90,
            100
           ],
           "y": [
            48.5,
            48.5,
            48.5,
            48.5,
            48.5,
            48.5,
            48.5,
            48.5,
            48.5
           ]
          },
          {
           "hoverinfo": "none",
           "line": {
            "color": "blue",
            "dash": "dash"
           },
           "showlegend": false,
           "type": "scatter",
           "x": [
            52,
            52
           ],
           "y": [
            0,
            53.5
           ]
          },
          {
           "hoverinfo": "none",
           "line": {
            "color": "yellow",
            "dash": "dash"
           },
           "showlegend": false,
           "type": "scatter",
           "x": [
            44,
            44
           ],
           "y": [
            0,
            53.5
           ]
          },
          {
           "fill": "toself",
           "fillcolor": "#4B92DB",
           "hoverinfo": "skip",
           "line": {
            "color": "white",
            "width": 3
           },
           "mode": "lines",
           "opacity": 1,
           "showlegend": false,
           "type": "scatter",
           "x": [
            0,
            0,
            10,
            10,
            0
           ],
           "y": [
            0,
            53.5,
            53.5,
            0,
            0
           ]
          },
          {
           "fill": "toself",
           "fillcolor": "#0B2265",
           "hoverinfo": "skip",
           "line": {
            "color": "white",
            "width": 3
           },
           "mode": "lines",
           "opacity": 1,
           "showlegend": false,
           "type": "scatter",
           "x": [
            110,
            110,
            120,
            120,
            110
           ],
           "y": [
            0,
            53.5,
            53.5,
            0,
            0
           ]
          },
          {
           "hoverinfo": "text",
           "hovertext": [
            "nflId:42365.0<br>displayName:Bud Dupree<br>Player Speed:0.27 yd/s",
            "nflId:43353.0<br>displayName:Kevin Byard<br>Player Speed:0.27 yd/s",
            "nflId:44869.0<br>displayName:Zach Cunningham<br>Player Speed:0.59 yd/s",
            "nflId:46457.0<br>displayName:Olasunkanmi Adeniyi<br>Player Speed:0.36 yd/s",
            "nflId:47802.0<br>displayName:Jeffery Simmons<br>Player Speed:0.09 yd/s",
            "nflId:47899.0<br>displayName:Amani Hooker<br>Player Speed:0.38 yd/s",
            "nflId:47915.0<br>displayName:Ugochukwu Amadi<br>Player Speed:0.36 yd/s",
            "nflId:47971.0<br>displayName:David Long<br>Player Speed:0.36 yd/s",
            "nflId:52469.0<br>displayName:Kristian Fulton<br>Player Speed:0.52 yd/s",
            "nflId:53073.0<br>displayName:Teair Tart<br>Player Speed:0.02 yd/s",
            "nflId:54500.0<br>displayName:Roger McCreary<br>Player Speed:0.43 yd/s"
           ],
           "marker": {
            "color": "#4B92DB",
            "line": {
             "color": "#0C2340",
             "width": 2
            },
            "size": 10
           },
           "mode": "markers",
           "name": "TEN",
           "type": "scatter",
           "x": [
            51.22,
            41.8,
            46.8,
            51.13,
            50.95,
            40.85,
            48.61,
            45.8,
            48.27,
            50.85,
            44.83
           ],
           "y": [
            23.32,
            35.09,
            32.86,
            35.62,
            26.91,
            22.03,
            20.77,
            27.32,
            10.82,
            30.92,
            40.76
           ]
          },
          {
           "hoverinfo": "text",
           "hovertext": [
            "nflId:42471.0<br>displayName:Jon Feliciano<br>Player Speed:0.0 yd/s",
            "nflId:42477.0<br>displayName:Mark Glowinski<br>Player Speed:0.0 yd/s",
            "nflId:44908.0<br>displayName:Kenny Golladay<br>Player Speed:0.03 yd/s",
            "nflId:46071.0<br>displayName:Saquon Barkley<br>Player Speed:0.0 yd/s",
            "nflId:46309.0<br>displayName:Richie James<br>Player Speed:0.0 yd/s",
            "nflId:47789.0<br>displayName:Daniel Jones<br>Player Speed:0.59 yd/s",
            "nflId:48489.0<br>displayName:David Sills<br>Player Speed:0.01 yd/s",
            "nflId:52412.0<br>displayName:Andrew Thomas<br>Player Speed:0.09 yd/s",
            "nflId:54472.0<br>displayName:Evan Neal<br>Player Speed:0.02 yd/s",
            "nflId:54532.0<br>displayName:Joshua Ezeudu<br>Player Speed:0.0 yd/s",
            "nflId:54577.0<br>displayName:Daniel Bellinger<br>Player Speed:0.01 yd/s"
           ],
           "marker": {
            "color": "#0B2265",
            "line": {
             "color": "#A71930",
             "width": 2
            },
            "size": 10
           },
           "mode": "markers",
           "name": "NYG",
           "type": "scatter",
           "x": [
            52.46,
            52.92,
            52.52,
            56.91,
            53.3,
            56.81,
            52.91,
            53.09,
            53.09,
            52.9,
            53.89
           ],
           "y": [
            29.55,
            31.32,
            10.62,
            27.52,
            20.47,
            29.63,
            38.86,
            26.54,
            32.83,
            28.27,
            35.62
           ]
          },
          {
           "hoverinfo": "none",
           "marker": {
            "color": "#CBB67C",
            "line": {
             "color": "#663831",
             "width": 2
            },
            "size": 10
           },
           "mode": "markers",
           "name": "football",
           "type": "scatter",
           "x": [
            52.0299987792969
           ],
           "y": [
            29.7299995422363
           ]
          }
         ],
         "name": "6"
        },
        {
         "data": [
          {
           "hoverinfo": "none",
           "mode": "text",
           "showlegend": false,
           "text": [
            "10",
            "20",
            "30",
            "40",
            "50",
            "40",
            "30",
            "20",
            "10"
           ],
           "textfont": {
            "color": "#ffffff",
            "family": "Courier New, monospace",
            "size": 30
           },
           "type": "scatter",
           "x": [
            20,
            30,
            40,
            50,
            60,
            70,
            80,
            90,
            100
           ],
           "y": [
            5,
            5,
            5,
            5,
            5,
            5,
            5,
            5,
            5
           ]
          },
          {
           "hoverinfo": "none",
           "mode": "text",
           "showlegend": false,
           "text": [
            "10",
            "20",
            "30",
            "40",
            "50",
            "40",
            "30",
            "20",
            "10"
           ],
           "textfont": {
            "color": "#ffffff",
            "family": "Courier New, monospace",
            "size": 30
           },
           "type": "scatter",
           "x": [
            20,
            30,
            40,
            50,
            60,
            70,
            80,
            90,
            100
           ],
           "y": [
            48.5,
            48.5,
            48.5,
            48.5,
            48.5,
            48.5,
            48.5,
            48.5,
            48.5
           ]
          },
          {
           "hoverinfo": "none",
           "line": {
            "color": "blue",
            "dash": "dash"
           },
           "showlegend": false,
           "type": "scatter",
           "x": [
            52,
            52
           ],
           "y": [
            0,
            53.5
           ]
          },
          {
           "hoverinfo": "none",
           "line": {
            "color": "yellow",
            "dash": "dash"
           },
           "showlegend": false,
           "type": "scatter",
           "x": [
            44,
            44
           ],
           "y": [
            0,
            53.5
           ]
          },
          {
           "fill": "toself",
           "fillcolor": "#4B92DB",
           "hoverinfo": "skip",
           "line": {
            "color": "white",
            "width": 3
           },
           "mode": "lines",
           "opacity": 1,
           "showlegend": false,
           "type": "scatter",
           "x": [
            0,
            0,
            10,
            10,
            0
           ],
           "y": [
            0,
            53.5,
            53.5,
            0,
            0
           ]
          },
          {
           "fill": "toself",
           "fillcolor": "#0B2265",
           "hoverinfo": "skip",
           "line": {
            "color": "white",
            "width": 3
           },
           "mode": "lines",
           "opacity": 1,
           "showlegend": false,
           "type": "scatter",
           "x": [
            110,
            110,
            120,
            120,
            110
           ],
           "y": [
            0,
            53.5,
            53.5,
            0,
            0
           ]
          },
          {
           "hoverinfo": "text",
           "hovertext": [
            "nflId:42365.0<br>displayName:Bud Dupree<br>Player Speed:0.42 yd/s",
            "nflId:43353.0<br>displayName:Kevin Byard<br>Player Speed:0.23 yd/s",
            "nflId:44869.0<br>displayName:Zach Cunningham<br>Player Speed:0.7 yd/s",
            "nflId:46457.0<br>displayName:Olasunkanmi Adeniyi<br>Player Speed:0.46 yd/s",
            "nflId:47802.0<br>displayName:Jeffery Simmons<br>Player Speed:0.07 yd/s",
            "nflId:47899.0<br>displayName:Amani Hooker<br>Player Speed:0.37 yd/s",
            "nflId:47915.0<br>displayName:Ugochukwu Amadi<br>Player Speed:0.34 yd/s",
            "nflId:47971.0<br>displayName:David Long<br>Player Speed:0.38 yd/s",
            "nflId:52469.0<br>displayName:Kristian Fulton<br>Player Speed:0.62 yd/s",
            "nflId:53073.0<br>displayName:Teair Tart<br>Player Speed:0.04 yd/s",
            "nflId:54500.0<br>displayName:Roger McCreary<br>Player Speed:0.42 yd/s"
           ],
           "marker": {
            "color": "#4B92DB",
            "line": {
             "color": "#0C2340",
             "width": 2
            },
            "size": 10
           },
           "mode": "markers",
           "name": "TEN",
           "type": "scatter",
           "x": [
            51.25,
            41.78,
            46.81,
            51.09,
            50.95,
            40.83,
            48.64,
            45.77,
            48.23,
            50.88,
            44.79
           ],
           "y": [
            23.33,
            35.11,
            32.92,
            35.61,
            26.91,
            22,
            20.75,
            27.31,
            10.85,
            30.94,
            40.77
           ]
          },
          {
           "hoverinfo": "text",
           "hovertext": [
            "nflId:42471.0<br>displayName:Jon Feliciano<br>Player Speed:0.0 yd/s",
            "nflId:42477.0<br>displayName:Mark Glowinski<br>Player Speed:0.0 yd/s",
            "nflId:44908.0<br>displayName:Kenny Golladay<br>Player Speed:0.03 yd/s",
            "nflId:46071.0<br>displayName:Saquon Barkley<br>Player Speed:0.0 yd/s",
            "nflId:46309.0<br>displayName:Richie James<br>Player Speed:0.0 yd/s",
            "nflId:47789.0<br>displayName:Daniel Jones<br>Player Speed:0.42 yd/s",
            "nflId:48489.0<br>displayName:David Sills<br>Player Speed:0.0 yd/s",
            "nflId:52412.0<br>displayName:Andrew Thomas<br>Player Speed:0.08 yd/s",
            "nflId:54472.0<br>displayName:Evan Neal<br>Player Speed:0.02 yd/s",
            "nflId:54532.0<br>displayName:Joshua Ezeudu<br>Player Speed:0.0 yd/s",
            "nflId:54577.0<br>displayName:Daniel Bellinger<br>Player Speed:0.01 yd/s"
           ],
           "marker": {
            "color": "#0B2265",
            "line": {
             "color": "#A71930",
             "width": 2
            },
            "size": 10
           },
           "mode": "markers",
           "name": "NYG",
           "type": "scatter",
           "x": [
            52.46,
            52.92,
            52.53,
            56.91,
            53.3,
            56.86,
            52.91,
            53.08,
            53.08,
            52.9,
            53.89
           ],
           "y": [
            29.55,
            31.32,
            10.62,
            27.52,
            20.46,
            29.63,
            38.87,
            26.54,
            32.81,
            28.27,
            35.62
           ]
          },
          {
           "hoverinfo": "none",
           "marker": {
            "color": "#CBB67C",
            "line": {
             "color": "#663831",
             "width": 2
            },
            "size": 10
           },
           "mode": "markers",
           "name": "football",
           "type": "scatter",
           "x": [
            52.0299987792969
           ],
           "y": [
            29.7299995422363
           ]
          }
         ],
         "name": "7"
        },
        {
         "data": [
          {
           "hoverinfo": "none",
           "mode": "text",
           "showlegend": false,
           "text": [
            "10",
            "20",
            "30",
            "40",
            "50",
            "40",
            "30",
            "20",
            "10"
           ],
           "textfont": {
            "color": "#ffffff",
            "family": "Courier New, monospace",
            "size": 30
           },
           "type": "scatter",
           "x": [
            20,
            30,
            40,
            50,
            60,
            70,
            80,
            90,
            100
           ],
           "y": [
            5,
            5,
            5,
            5,
            5,
            5,
            5,
            5,
            5
           ]
          },
          {
           "hoverinfo": "none",
           "mode": "text",
           "showlegend": false,
           "text": [
            "10",
            "20",
            "30",
            "40",
            "50",
            "40",
            "30",
            "20",
            "10"
           ],
           "textfont": {
            "color": "#ffffff",
            "family": "Courier New, monospace",
            "size": 30
           },
           "type": "scatter",
           "x": [
            20,
            30,
            40,
            50,
            60,
            70,
            80,
            90,
            100
           ],
           "y": [
            48.5,
            48.5,
            48.5,
            48.5,
            48.5,
            48.5,
            48.5,
            48.5,
            48.5
           ]
          },
          {
           "hoverinfo": "none",
           "line": {
            "color": "blue",
            "dash": "dash"
           },
           "showlegend": false,
           "type": "scatter",
           "x": [
            52,
            52
           ],
           "y": [
            0,
            53.5
           ]
          },
          {
           "hoverinfo": "none",
           "line": {
            "color": "yellow",
            "dash": "dash"
           },
           "showlegend": false,
           "type": "scatter",
           "x": [
            44,
            44
           ],
           "y": [
            0,
            53.5
           ]
          },
          {
           "fill": "toself",
           "fillcolor": "#4B92DB",
           "hoverinfo": "skip",
           "line": {
            "color": "white",
            "width": 3
           },
           "mode": "lines",
           "opacity": 1,
           "showlegend": false,
           "type": "scatter",
           "x": [
            0,
            0,
            10,
            10,
            0
           ],
           "y": [
            0,
            53.5,
            53.5,
            0,
            0
           ]
          },
          {
           "fill": "toself",
           "fillcolor": "#0B2265",
           "hoverinfo": "skip",
           "line": {
            "color": "white",
            "width": 3
           },
           "mode": "lines",
           "opacity": 1,
           "showlegend": false,
           "type": "scatter",
           "x": [
            110,
            110,
            120,
            120,
            110
           ],
           "y": [
            0,
            53.5,
            53.5,
            0,
            0
           ]
          },
          {
           "hoverinfo": "text",
           "hovertext": [
            "nflId:42365.0<br>displayName:Bud Dupree<br>Player Speed:0.51 yd/s",
            "nflId:43353.0<br>displayName:Kevin Byard<br>Player Speed:0.2 yd/s",
            "nflId:44869.0<br>displayName:Zach Cunningham<br>Player Speed:0.67 yd/s",
            "nflId:46457.0<br>displayName:Olasunkanmi Adeniyi<br>Player Speed:0.46 yd/s",
            "nflId:47802.0<br>displayName:Jeffery Simmons<br>Player Speed:0.06 yd/s",
            "nflId:47899.0<br>displayName:Amani Hooker<br>Player Speed:0.35 yd/s",
            "nflId:47915.0<br>displayName:Ugochukwu Amadi<br>Player Speed:0.32 yd/s",
            "nflId:47971.0<br>displayName:David Long<br>Player Speed:0.42 yd/s",
            "nflId:52469.0<br>displayName:Kristian Fulton<br>Player Speed:0.68 yd/s",
            "nflId:53073.0<br>displayName:Teair Tart<br>Player Speed:0.04 yd/s",
            "nflId:54500.0<br>displayName:Roger McCreary<br>Player Speed:0.42 yd/s"
           ],
           "marker": {
            "color": "#4B92DB",
            "line": {
             "color": "#0C2340",
             "width": 2
            },
            "size": 10
           },
           "mode": "markers",
           "name": "TEN",
           "type": "scatter",
           "x": [
            51.29,
            41.77,
            46.83,
            51.04,
            50.95,
            40.8,
            48.67,
            45.73,
            48.17,
            50.89,
            44.75
           ],
           "y": [
            23.35,
            35.12,
            32.99,
            35.6,
            26.91,
            21.98,
            20.73,
            27.32,
            10.89,
            30.95,
            40.78
           ]
          },
          {
           "hoverinfo": "text",
           "hovertext": [
            "nflId:42471.0<br>displayName:Jon Feliciano<br>Player Speed:0.0 yd/s",
            "nflId:42477.0<br>displayName:Mark Glowinski<br>Player Speed:0.0 yd/s",
            "nflId:44908.0<br>displayName:Kenny Golladay<br>Player Speed:0.03 yd/s",
            "nflId:46071.0<br>displayName:Saquon Barkley<br>Player Speed:0.0 yd/s",
            "nflId:46309.0<br>displayName:Richie James<br>Player Speed:0.0 yd/s",
            "nflId:47789.0<br>displayName:Daniel Jones<br>Player Speed:0.29 yd/s",
            "nflId:48489.0<br>displayName:David Sills<br>Player Speed:0.0 yd/s",
            "nflId:52412.0<br>displayName:Andrew Thomas<br>Player Speed:0.06 yd/s",
            "nflId:54472.0<br>displayName:Evan Neal<br>Player Speed:0.02 yd/s",
            "nflId:54532.0<br>displayName:Joshua Ezeudu<br>Player Speed:0.0 yd/s",
            "nflId:54577.0<br>displayName:Daniel Bellinger<br>Player Speed:0.01 yd/s"
           ],
           "marker": {
            "color": "#0B2265",
            "line": {
             "color": "#A71930",
             "width": 2
            },
            "size": 10
           },
           "mode": "markers",
           "name": "NYG",
           "type": "scatter",
           "x": [
            52.46,
            52.92,
            52.53,
            56.91,
            53.3,
            56.89,
            52.92,
            53.08,
            53.08,
            52.9,
            53.89
           ],
           "y": [
            29.55,
            31.32,
            10.62,
            27.52,
            20.46,
            29.64,
            38.86,
            26.53,
            32.81,
            28.27,
            35.62
           ]
          },
          {
           "hoverinfo": "none",
           "marker": {
            "color": "#CBB67C",
            "line": {
             "color": "#663831",
             "width": 2
            },
            "size": 10
           },
           "mode": "markers",
           "name": "football",
           "type": "scatter",
           "x": [
            52.0299987792969
           ],
           "y": [
            29.7399997711182
           ]
          }
         ],
         "name": "8"
        },
        {
         "data": [
          {
           "hoverinfo": "none",
           "mode": "text",
           "showlegend": false,
           "text": [
            "10",
            "20",
            "30",
            "40",
            "50",
            "40",
            "30",
            "20",
            "10"
           ],
           "textfont": {
            "color": "#ffffff",
            "family": "Courier New, monospace",
            "size": 30
           },
           "type": "scatter",
           "x": [
            20,
            30,
            40,
            50,
            60,
            70,
            80,
            90,
            100
           ],
           "y": [
            5,
            5,
            5,
            5,
            5,
            5,
            5,
            5,
            5
           ]
          },
          {
           "hoverinfo": "none",
           "mode": "text",
           "showlegend": false,
           "text": [
            "10",
            "20",
            "30",
            "40",
            "50",
            "40",
            "30",
            "20",
            "10"
           ],
           "textfont": {
            "color": "#ffffff",
            "family": "Courier New, monospace",
            "size": 30
           },
           "type": "scatter",
           "x": [
            20,
            30,
            40,
            50,
            60,
            70,
            80,
            90,
            100
           ],
           "y": [
            48.5,
            48.5,
            48.5,
            48.5,
            48.5,
            48.5,
            48.5,
            48.5,
            48.5
           ]
          },
          {
           "hoverinfo": "none",
           "line": {
            "color": "blue",
            "dash": "dash"
           },
           "showlegend": false,
           "type": "scatter",
           "x": [
            52,
            52
           ],
           "y": [
            0,
            53.5
           ]
          },
          {
           "hoverinfo": "none",
           "line": {
            "color": "yellow",
            "dash": "dash"
           },
           "showlegend": false,
           "type": "scatter",
           "x": [
            44,
            44
           ],
           "y": [
            0,
            53.5
           ]
          },
          {
           "fill": "toself",
           "fillcolor": "#4B92DB",
           "hoverinfo": "skip",
           "line": {
            "color": "white",
            "width": 3
           },
           "mode": "lines",
           "opacity": 1,
           "showlegend": false,
           "type": "scatter",
           "x": [
            0,
            0,
            10,
            10,
            0
           ],
           "y": [
            0,
            53.5,
            53.5,
            0,
            0
           ]
          },
          {
           "fill": "toself",
           "fillcolor": "#0B2265",
           "hoverinfo": "skip",
           "line": {
            "color": "white",
            "width": 3
           },
           "mode": "lines",
           "opacity": 1,
           "showlegend": false,
           "type": "scatter",
           "x": [
            110,
            110,
            120,
            120,
            110
           ],
           "y": [
            0,
            53.5,
            53.5,
            0,
            0
           ]
          },
          {
           "hoverinfo": "text",
           "hovertext": [
            "nflId:42365.0<br>displayName:Bud Dupree<br>Player Speed:0.58 yd/s",
            "nflId:43353.0<br>displayName:Kevin Byard<br>Player Speed:0.16 yd/s",
            "nflId:44869.0<br>displayName:Zach Cunningham<br>Player Speed:0.49 yd/s",
            "nflId:46457.0<br>displayName:Olasunkanmi Adeniyi<br>Player Speed:0.46 yd/s",
            "nflId:47802.0<br>displayName:Jeffery Simmons<br>Player Speed:0.06 yd/s",
            "nflId:47899.0<br>displayName:Amani Hooker<br>Player Speed:0.34 yd/s",
            "nflId:47915.0<br>displayName:Ugochukwu Amadi<br>Player Speed:0.3 yd/s",
            "nflId:47971.0<br>displayName:David Long<br>Player Speed:0.46 yd/s",
            "nflId:52469.0<br>displayName:Kristian Fulton<br>Player Speed:0.72 yd/s",
            "nflId:53073.0<br>displayName:Teair Tart<br>Player Speed:0.05 yd/s",
            "nflId:54500.0<br>displayName:Roger McCreary<br>Player Speed:0.4 yd/s"
           ],
           "marker": {
            "color": "#4B92DB",
            "line": {
             "color": "#0C2340",
             "width": 2
            },
            "size": 10
           },
           "mode": "markers",
           "name": "TEN",
           "type": "scatter",
           "x": [
            51.34,
            41.75,
            46.84,
            50.99,
            50.96,
            40.77,
            48.7,
            45.69,
            48.11,
            50.9,
            44.71
           ],
           "y": [
            23.37,
            35.14,
            33.05,
            35.59,
            26.92,
            21.96,
            20.72,
            27.33,
            10.91,
            30.96,
            40.8
           ]
          },
          {
           "hoverinfo": "text",
           "hovertext": [
            "nflId:42471.0<br>displayName:Jon Feliciano<br>Player Speed:0.0 yd/s",
            "nflId:42477.0<br>displayName:Mark Glowinski<br>Player Speed:0.0 yd/s",
            "nflId:44908.0<br>displayName:Kenny Golladay<br>Player Speed:0.02 yd/s",
            "nflId:46071.0<br>displayName:Saquon Barkley<br>Player Speed:0.0 yd/s",
            "nflId:46309.0<br>displayName:Richie James<br>Player Speed:0.0 yd/s",
            "nflId:47789.0<br>displayName:Daniel Jones<br>Player Speed:0.21 yd/s",
            "nflId:48489.0<br>displayName:David Sills<br>Player Speed:0.0 yd/s",
            "nflId:52412.0<br>displayName:Andrew Thomas<br>Player Speed:0.04 yd/s",
            "nflId:54472.0<br>displayName:Evan Neal<br>Player Speed:0.01 yd/s",
            "nflId:54532.0<br>displayName:Joshua Ezeudu<br>Player Speed:0.0 yd/s",
            "nflId:54577.0<br>displayName:Daniel Bellinger<br>Player Speed:0.01 yd/s"
           ],
           "marker": {
            "color": "#0B2265",
            "line": {
             "color": "#A71930",
             "width": 2
            },
            "size": 10
           },
           "mode": "markers",
           "name": "NYG",
           "type": "scatter",
           "x": [
            52.46,
            52.92,
            52.53,
            56.91,
            53.3,
            56.9,
            52.92,
            53.09,
            53.08,
            52.9,
            53.89
           ],
           "y": [
            29.56,
            31.32,
            10.61,
            27.52,
            20.46,
            29.66,
            38.86,
            26.54,
            32.8,
            28.27,
            35.62
           ]
          },
          {
           "hoverinfo": "none",
           "marker": {
            "color": "#CBB67C",
            "line": {
             "color": "#663831",
             "width": 2
            },
            "size": 10
           },
           "mode": "markers",
           "name": "football",
           "type": "scatter",
           "x": [
            52.0299987792969
           ],
           "y": [
            29.7399997711182
           ]
          }
         ],
         "name": "9"
        },
        {
         "data": [
          {
           "hoverinfo": "none",
           "mode": "text",
           "showlegend": false,
           "text": [
            "10",
            "20",
            "30",
            "40",
            "50",
            "40",
            "30",
            "20",
            "10"
           ],
           "textfont": {
            "color": "#ffffff",
            "family": "Courier New, monospace",
            "size": 30
           },
           "type": "scatter",
           "x": [
            20,
            30,
            40,
            50,
            60,
            70,
            80,
            90,
            100
           ],
           "y": [
            5,
            5,
            5,
            5,
            5,
            5,
            5,
            5,
            5
           ]
          },
          {
           "hoverinfo": "none",
           "mode": "text",
           "showlegend": false,
           "text": [
            "10",
            "20",
            "30",
            "40",
            "50",
            "40",
            "30",
            "20",
            "10"
           ],
           "textfont": {
            "color": "#ffffff",
            "family": "Courier New, monospace",
            "size": 30
           },
           "type": "scatter",
           "x": [
            20,
            30,
            40,
            50,
            60,
            70,
            80,
            90,
            100
           ],
           "y": [
            48.5,
            48.5,
            48.5,
            48.5,
            48.5,
            48.5,
            48.5,
            48.5,
            48.5
           ]
          },
          {
           "hoverinfo": "none",
           "line": {
            "color": "blue",
            "dash": "dash"
           },
           "showlegend": false,
           "type": "scatter",
           "x": [
            52,
            52
           ],
           "y": [
            0,
            53.5
           ]
          },
          {
           "hoverinfo": "none",
           "line": {
            "color": "yellow",
            "dash": "dash"
           },
           "showlegend": false,
           "type": "scatter",
           "x": [
            44,
            44
           ],
           "y": [
            0,
            53.5
           ]
          },
          {
           "fill": "toself",
           "fillcolor": "#4B92DB",
           "hoverinfo": "skip",
           "line": {
            "color": "white",
            "width": 3
           },
           "mode": "lines",
           "opacity": 1,
           "showlegend": false,
           "type": "scatter",
           "x": [
            0,
            0,
            10,
            10,
            0
           ],
           "y": [
            0,
            53.5,
            53.5,
            0,
            0
           ]
          },
          {
           "fill": "toself",
           "fillcolor": "#0B2265",
           "hoverinfo": "skip",
           "line": {
            "color": "white",
            "width": 3
           },
           "mode": "lines",
           "opacity": 1,
           "showlegend": false,
           "type": "scatter",
           "x": [
            110,
            110,
            120,
            120,
            110
           ],
           "y": [
            0,
            53.5,
            53.5,
            0,
            0
           ]
          },
          {
           "hoverinfo": "text",
           "hovertext": [
            "nflId:42365.0<br>displayName:Bud Dupree<br>Player Speed:0.57 yd/s",
            "nflId:43353.0<br>displayName:Kevin Byard<br>Player Speed:0.13 yd/s",
            "nflId:44869.0<br>displayName:Zach Cunningham<br>Player Speed:0.42 yd/s",
            "nflId:46457.0<br>displayName:Olasunkanmi Adeniyi<br>Player Speed:0.43 yd/s",
            "nflId:47802.0<br>displayName:Jeffery Simmons<br>Player Speed:0.04 yd/s",
            "nflId:47899.0<br>displayName:Amani Hooker<br>Player Speed:0.33 yd/s",
            "nflId:47915.0<br>displayName:Ugochukwu Amadi<br>Player Speed:0.28 yd/s",
            "nflId:47971.0<br>displayName:David Long<br>Player Speed:0.49 yd/s",
            "nflId:52469.0<br>displayName:Kristian Fulton<br>Player Speed:0.84 yd/s",
            "nflId:53073.0<br>displayName:Teair Tart<br>Player Speed:0.06 yd/s",
            "nflId:54500.0<br>displayName:Roger McCreary<br>Player Speed:0.37 yd/s"
           ],
           "marker": {
            "color": "#4B92DB",
            "line": {
             "color": "#0C2340",
             "width": 2
            },
            "size": 10
           },
           "mode": "markers",
           "name": "TEN",
           "type": "scatter",
           "x": [
            51.39,
            41.74,
            46.86,
            50.95,
            50.95,
            40.74,
            48.73,
            45.64,
            48.03,
            50.93,
            44.67
           ],
           "y": [
            23.39,
            35.15,
            33.09,
            35.59,
            26.91,
            21.95,
            20.71,
            27.35,
            10.94,
            30.97,
            40.81
           ]
          },
          {
           "hoverinfo": "text",
           "hovertext": [
            "nflId:42471.0<br>displayName:Jon Feliciano<br>Player Speed:0.0 yd/s",
            "nflId:42477.0<br>displayName:Mark Glowinski<br>Player Speed:0.0 yd/s",
            "nflId:44908.0<br>displayName:Kenny Golladay<br>Player Speed:0.02 yd/s",
            "nflId:46071.0<br>displayName:Saquon Barkley<br>Player Speed:0.0 yd/s",
            "nflId:46309.0<br>displayName:Richie James<br>Player Speed:0.0 yd/s",
            "nflId:47789.0<br>displayName:Daniel Jones<br>Player Speed:0.22 yd/s",
            "nflId:48489.0<br>displayName:David Sills<br>Player Speed:0.0 yd/s",
            "nflId:52412.0<br>displayName:Andrew Thomas<br>Player Speed:0.04 yd/s",
            "nflId:54472.0<br>displayName:Evan Neal<br>Player Speed:0.01 yd/s",
            "nflId:54532.0<br>displayName:Joshua Ezeudu<br>Player Speed:0.0 yd/s",
            "nflId:54577.0<br>displayName:Daniel Bellinger<br>Player Speed:0.0 yd/s"
           ],
           "marker": {
            "color": "#0B2265",
            "line": {
             "color": "#A71930",
             "width": 2
            },
            "size": 10
           },
           "mode": "markers",
           "name": "NYG",
           "type": "scatter",
           "x": [
            52.46,
            52.93,
            52.54,
            56.91,
            53.29,
            56.9,
            52.92,
            53.1,
            53.07,
            52.9,
            53.89
           ],
           "y": [
            29.56,
            31.33,
            10.61,
            27.52,
            20.45,
            29.68,
            38.87,
            26.56,
            32.8,
            28.26,
            35.62
           ]
          },
          {
           "hoverinfo": "none",
           "marker": {
            "color": "#CBB67C",
            "line": {
             "color": "#663831",
             "width": 2
            },
            "size": 10
           },
           "mode": "markers",
           "name": "football",
           "type": "scatter",
           "x": [
            52.0299987792969
           ],
           "y": [
            29.7399997711182
           ]
          }
         ],
         "name": "10"
        },
        {
         "data": [
          {
           "hoverinfo": "none",
           "mode": "text",
           "showlegend": false,
           "text": [
            "10",
            "20",
            "30",
            "40",
            "50",
            "40",
            "30",
            "20",
            "10"
           ],
           "textfont": {
            "color": "#ffffff",
            "family": "Courier New, monospace",
            "size": 30
           },
           "type": "scatter",
           "x": [
            20,
            30,
            40,
            50,
            60,
            70,
            80,
            90,
            100
           ],
           "y": [
            5,
            5,
            5,
            5,
            5,
            5,
            5,
            5,
            5
           ]
          },
          {
           "hoverinfo": "none",
           "mode": "text",
           "showlegend": false,
           "text": [
            "10",
            "20",
            "30",
            "40",
            "50",
            "40",
            "30",
            "20",
            "10"
           ],
           "textfont": {
            "color": "#ffffff",
            "family": "Courier New, monospace",
            "size": 30
           },
           "type": "scatter",
           "x": [
            20,
            30,
            40,
            50,
            60,
            70,
            80,
            90,
            100
           ],
           "y": [
            48.5,
            48.5,
            48.5,
            48.5,
            48.5,
            48.5,
            48.5,
            48.5,
            48.5
           ]
          },
          {
           "hoverinfo": "none",
           "line": {
            "color": "blue",
            "dash": "dash"
           },
           "showlegend": false,
           "type": "scatter",
           "x": [
            52,
            52
           ],
           "y": [
            0,
            53.5
           ]
          },
          {
           "hoverinfo": "none",
           "line": {
            "color": "yellow",
            "dash": "dash"
           },
           "showlegend": false,
           "type": "scatter",
           "x": [
            44,
            44
           ],
           "y": [
            0,
            53.5
           ]
          },
          {
           "fill": "toself",
           "fillcolor": "#4B92DB",
           "hoverinfo": "skip",
           "line": {
            "color": "white",
            "width": 3
           },
           "mode": "lines",
           "opacity": 1,
           "showlegend": false,
           "type": "scatter",
           "x": [
            0,
            0,
            10,
            10,
            0
           ],
           "y": [
            0,
            53.5,
            53.5,
            0,
            0
           ]
          },
          {
           "fill": "toself",
           "fillcolor": "#0B2265",
           "hoverinfo": "skip",
           "line": {
            "color": "white",
            "width": 3
           },
           "mode": "lines",
           "opacity": 1,
           "showlegend": false,
           "type": "scatter",
           "x": [
            110,
            110,
            120,
            120,
            110
           ],
           "y": [
            0,
            53.5,
            53.5,
            0,
            0
           ]
          },
          {
           "hoverinfo": "text",
           "hovertext": [
            "nflId:42365.0<br>displayName:Bud Dupree<br>Player Speed:0.57 yd/s",
            "nflId:43353.0<br>displayName:Kevin Byard<br>Player Speed:0.12 yd/s",
            "nflId:44869.0<br>displayName:Zach Cunningham<br>Player Speed:0.33 yd/s",
            "nflId:46457.0<br>displayName:Olasunkanmi Adeniyi<br>Player Speed:0.29 yd/s",
            "nflId:47802.0<br>displayName:Jeffery Simmons<br>Player Speed:0.04 yd/s",
            "nflId:47899.0<br>displayName:Amani Hooker<br>Player Speed:0.32 yd/s",
            "nflId:47915.0<br>displayName:Ugochukwu Amadi<br>Player Speed:0.26 yd/s",
            "nflId:47971.0<br>displayName:David Long<br>Player Speed:0.51 yd/s",
            "nflId:52469.0<br>displayName:Kristian Fulton<br>Player Speed:0.92 yd/s",
            "nflId:53073.0<br>displayName:Teair Tart<br>Player Speed:0.06 yd/s",
            "nflId:54500.0<br>displayName:Roger McCreary<br>Player Speed:0.31 yd/s"
           ],
           "marker": {
            "color": "#4B92DB",
            "line": {
             "color": "#0C2340",
             "width": 2
            },
            "size": 10
           },
           "mode": "markers",
           "name": "TEN",
           "type": "scatter",
           "x": [
            51.45,
            41.73,
            46.87,
            50.91,
            50.96,
            40.71,
            48.76,
            45.6,
            47.94,
            50.95,
            44.64
           ],
           "y": [
            23.41,
            35.15,
            33.13,
            35.58,
            26.92,
            21.94,
            20.7,
            27.37,
            10.95,
            30.98,
            40.82
           ]
          },
          {
           "hoverinfo": "text",
           "hovertext": [
            "nflId:42471.0<br>displayName:Jon Feliciano<br>Player Speed:0.0 yd/s",
            "nflId:42477.0<br>displayName:Mark Glowinski<br>Player Speed:0.0 yd/s",
            "nflId:44908.0<br>displayName:Kenny Golladay<br>Player Speed:0.02 yd/s",
            "nflId:46071.0<br>displayName:Saquon Barkley<br>Player Speed:0.0 yd/s",
            "nflId:46309.0<br>displayName:Richie James<br>Player Speed:0.0 yd/s",
            "nflId:47789.0<br>displayName:Daniel Jones<br>Player Speed:0.29 yd/s",
            "nflId:48489.0<br>displayName:David Sills<br>Player Speed:0.0 yd/s",
            "nflId:52412.0<br>displayName:Andrew Thomas<br>Player Speed:0.04 yd/s",
            "nflId:54472.0<br>displayName:Evan Neal<br>Player Speed:0.01 yd/s",
            "nflId:54532.0<br>displayName:Joshua Ezeudu<br>Player Speed:0.0 yd/s",
            "nflId:54577.0<br>displayName:Daniel Bellinger<br>Player Speed:0.0 yd/s"
           ],
           "marker": {
            "color": "#0B2265",
            "line": {
             "color": "#A71930",
             "width": 2
            },
            "size": 10
           },
           "mode": "markers",
           "name": "NYG",
           "type": "scatter",
           "x": [
            52.46,
            52.93,
            52.52,
            56.91,
            53.29,
            56.89,
            52.92,
            53.1,
            53.07,
            52.9,
            53.89
           ],
           "y": [
            29.56,
            31.32,
            10.6,
            27.52,
            20.45,
            29.7,
            38.87,
            26.57,
            32.81,
            28.26,
            35.62
           ]
          },
          {
           "hoverinfo": "none",
           "marker": {
            "color": "#CBB67C",
            "line": {
             "color": "#663831",
             "width": 2
            },
            "size": 10
           },
           "mode": "markers",
           "name": "football",
           "type": "scatter",
           "x": [
            52.0299987792969
           ],
           "y": [
            29.7399997711182
           ]
          }
         ],
         "name": "11"
        },
        {
         "data": [
          {
           "hoverinfo": "none",
           "mode": "text",
           "showlegend": false,
           "text": [
            "10",
            "20",
            "30",
            "40",
            "50",
            "40",
            "30",
            "20",
            "10"
           ],
           "textfont": {
            "color": "#ffffff",
            "family": "Courier New, monospace",
            "size": 30
           },
           "type": "scatter",
           "x": [
            20,
            30,
            40,
            50,
            60,
            70,
            80,
            90,
            100
           ],
           "y": [
            5,
            5,
            5,
            5,
            5,
            5,
            5,
            5,
            5
           ]
          },
          {
           "hoverinfo": "none",
           "mode": "text",
           "showlegend": false,
           "text": [
            "10",
            "20",
            "30",
            "40",
            "50",
            "40",
            "30",
            "20",
            "10"
           ],
           "textfont": {
            "color": "#ffffff",
            "family": "Courier New, monospace",
            "size": 30
           },
           "type": "scatter",
           "x": [
            20,
            30,
            40,
            50,
            60,
            70,
            80,
            90,
            100
           ],
           "y": [
            48.5,
            48.5,
            48.5,
            48.5,
            48.5,
            48.5,
            48.5,
            48.5,
            48.5
           ]
          },
          {
           "hoverinfo": "none",
           "line": {
            "color": "blue",
            "dash": "dash"
           },
           "showlegend": false,
           "type": "scatter",
           "x": [
            52,
            52
           ],
           "y": [
            0,
            53.5
           ]
          },
          {
           "hoverinfo": "none",
           "line": {
            "color": "yellow",
            "dash": "dash"
           },
           "showlegend": false,
           "type": "scatter",
           "x": [
            44,
            44
           ],
           "y": [
            0,
            53.5
           ]
          },
          {
           "fill": "toself",
           "fillcolor": "#4B92DB",
           "hoverinfo": "skip",
           "line": {
            "color": "white",
            "width": 3
           },
           "mode": "lines",
           "opacity": 1,
           "showlegend": false,
           "type": "scatter",
           "x": [
            0,
            0,
            10,
            10,
            0
           ],
           "y": [
            0,
            53.5,
            53.5,
            0,
            0
           ]
          },
          {
           "fill": "toself",
           "fillcolor": "#0B2265",
           "hoverinfo": "skip",
           "line": {
            "color": "white",
            "width": 3
           },
           "mode": "lines",
           "opacity": 1,
           "showlegend": false,
           "type": "scatter",
           "x": [
            110,
            110,
            120,
            120,
            110
           ],
           "y": [
            0,
            53.5,
            53.5,
            0,
            0
           ]
          },
          {
           "hoverinfo": "text",
           "hovertext": [
            "nflId:42365.0<br>displayName:Bud Dupree<br>Player Speed:0.51 yd/s",
            "nflId:43353.0<br>displayName:Kevin Byard<br>Player Speed:0.12 yd/s",
            "nflId:44869.0<br>displayName:Zach Cunningham<br>Player Speed:0.22 yd/s",
            "nflId:46457.0<br>displayName:Olasunkanmi Adeniyi<br>Player Speed:0.16 yd/s",
            "nflId:47802.0<br>displayName:Jeffery Simmons<br>Player Speed:0.03 yd/s",
            "nflId:47899.0<br>displayName:Amani Hooker<br>Player Speed:0.32 yd/s",
            "nflId:47915.0<br>displayName:Ugochukwu Amadi<br>Player Speed:0.26 yd/s",
            "nflId:47971.0<br>displayName:David Long<br>Player Speed:0.5 yd/s",
            "nflId:52469.0<br>displayName:Kristian Fulton<br>Player Speed:0.89 yd/s",
            "nflId:53073.0<br>displayName:Teair Tart<br>Player Speed:0.06 yd/s",
            "nflId:54500.0<br>displayName:Roger McCreary<br>Player Speed:0.29 yd/s"
           ],
           "marker": {
            "color": "#4B92DB",
            "line": {
             "color": "#0C2340",
             "width": 2
            },
            "size": 10
           },
           "mode": "markers",
           "name": "TEN",
           "type": "scatter",
           "x": [
            51.5,
            41.72,
            46.88,
            50.89,
            50.97,
            40.68,
            48.78,
            45.56,
            47.86,
            50.97,
            44.61
           ],
           "y": [
            23.42,
            35.15,
            33.15,
            35.57,
            26.91,
            21.92,
            20.69,
            27.4,
            10.96,
            30.99,
            40.82
           ]
          },
          {
           "hoverinfo": "text",
           "hovertext": [
            "nflId:42471.0<br>displayName:Jon Feliciano<br>Player Speed:0.0 yd/s",
            "nflId:42477.0<br>displayName:Mark Glowinski<br>Player Speed:0.0 yd/s",
            "nflId:44908.0<br>displayName:Kenny Golladay<br>Player Speed:0.02 yd/s",
            "nflId:46071.0<br>displayName:Saquon Barkley<br>Player Speed:0.0 yd/s",
            "nflId:46309.0<br>displayName:Richie James<br>Player Speed:0.0 yd/s",
            "nflId:47789.0<br>displayName:Daniel Jones<br>Player Speed:0.3 yd/s",
            "nflId:48489.0<br>displayName:David Sills<br>Player Speed:0.0 yd/s",
            "nflId:52412.0<br>displayName:Andrew Thomas<br>Player Speed:0.05 yd/s",
            "nflId:54472.0<br>displayName:Evan Neal<br>Player Speed:0.01 yd/s",
            "nflId:54532.0<br>displayName:Joshua Ezeudu<br>Player Speed:0.0 yd/s",
            "nflId:54577.0<br>displayName:Daniel Bellinger<br>Player Speed:0.0 yd/s"
           ],
           "marker": {
            "color": "#0B2265",
            "line": {
             "color": "#A71930",
             "width": 2
            },
            "size": 10
           },
           "mode": "markers",
           "name": "NYG",
           "type": "scatter",
           "x": [
            52.46,
            52.93,
            52.52,
            56.91,
            53.28,
            56.87,
            52.92,
            53.1,
            53.06,
            52.9,
            53.89
           ],
           "y": [
            29.56,
            31.32,
            10.59,
            27.52,
            20.45,
            29.71,
            38.87,
            26.59,
            32.81,
            28.26,
            35.63
           ]
          },
          {
           "hoverinfo": "none",
           "marker": {
            "color": "#CBB67C",
            "line": {
             "color": "#663831",
             "width": 2
            },
            "size": 10
           },
           "mode": "markers",
           "name": "football",
           "type": "scatter",
           "x": [
            52.0299987792969
           ],
           "y": [
            29.7399997711182
           ]
          }
         ],
         "name": "12"
        },
        {
         "data": [
          {
           "hoverinfo": "none",
           "mode": "text",
           "showlegend": false,
           "text": [
            "10",
            "20",
            "30",
            "40",
            "50",
            "40",
            "30",
            "20",
            "10"
           ],
           "textfont": {
            "color": "#ffffff",
            "family": "Courier New, monospace",
            "size": 30
           },
           "type": "scatter",
           "x": [
            20,
            30,
            40,
            50,
            60,
            70,
            80,
            90,
            100
           ],
           "y": [
            5,
            5,
            5,
            5,
            5,
            5,
            5,
            5,
            5
           ]
          },
          {
           "hoverinfo": "none",
           "mode": "text",
           "showlegend": false,
           "text": [
            "10",
            "20",
            "30",
            "40",
            "50",
            "40",
            "30",
            "20",
            "10"
           ],
           "textfont": {
            "color": "#ffffff",
            "family": "Courier New, monospace",
            "size": 30
           },
           "type": "scatter",
           "x": [
            20,
            30,
            40,
            50,
            60,
            70,
            80,
            90,
            100
           ],
           "y": [
            48.5,
            48.5,
            48.5,
            48.5,
            48.5,
            48.5,
            48.5,
            48.5,
            48.5
           ]
          },
          {
           "hoverinfo": "none",
           "line": {
            "color": "blue",
            "dash": "dash"
           },
           "showlegend": false,
           "type": "scatter",
           "x": [
            52,
            52
           ],
           "y": [
            0,
            53.5
           ]
          },
          {
           "hoverinfo": "none",
           "line": {
            "color": "yellow",
            "dash": "dash"
           },
           "showlegend": false,
           "type": "scatter",
           "x": [
            44,
            44
           ],
           "y": [
            0,
            53.5
           ]
          },
          {
           "fill": "toself",
           "fillcolor": "#4B92DB",
           "hoverinfo": "skip",
           "line": {
            "color": "white",
            "width": 3
           },
           "mode": "lines",
           "opacity": 1,
           "showlegend": false,
           "type": "scatter",
           "x": [
            0,
            0,
            10,
            10,
            0
           ],
           "y": [
            0,
            53.5,
            53.5,
            0,
            0
           ]
          },
          {
           "fill": "toself",
           "fillcolor": "#0B2265",
           "hoverinfo": "skip",
           "line": {
            "color": "white",
            "width": 3
           },
           "mode": "lines",
           "opacity": 1,
           "showlegend": false,
           "type": "scatter",
           "x": [
            110,
            110,
            120,
            120,
            110
           ],
           "y": [
            0,
            53.5,
            53.5,
            0,
            0
           ]
          },
          {
           "hoverinfo": "text",
           "hovertext": [
            "nflId:42365.0<br>displayName:Bud Dupree<br>Player Speed:0.43 yd/s",
            "nflId:43353.0<br>displayName:Kevin Byard<br>Player Speed:0.13 yd/s",
            "nflId:44869.0<br>displayName:Zach Cunningham<br>Player Speed:0.11 yd/s",
            "nflId:46457.0<br>displayName:Olasunkanmi Adeniyi<br>Player Speed:0.08 yd/s",
            "nflId:47802.0<br>displayName:Jeffery Simmons<br>Player Speed:0.04 yd/s",
            "nflId:47899.0<br>displayName:Amani Hooker<br>Player Speed:0.33 yd/s",
            "nflId:47915.0<br>displayName:Ugochukwu Amadi<br>Player Speed:0.26 yd/s",
            "nflId:47971.0<br>displayName:David Long<br>Player Speed:0.45 yd/s",
            "nflId:52469.0<br>displayName:Kristian Fulton<br>Player Speed:0.92 yd/s",
            "nflId:53073.0<br>displayName:Teair Tart<br>Player Speed:0.06 yd/s",
            "nflId:54500.0<br>displayName:Roger McCreary<br>Player Speed:0.3 yd/s"
           ],
           "marker": {
            "color": "#4B92DB",
            "line": {
             "color": "#0C2340",
             "width": 2
            },
            "size": 10
           },
           "mode": "markers",
           "name": "TEN",
           "type": "scatter",
           "x": [
            51.54,
            41.7,
            46.88,
            50.88,
            50.96,
            40.64,
            48.8,
            45.53,
            47.77,
            50.99,
            44.58
           ],
           "y": [
            23.44,
            35.15,
            33.17,
            35.56,
            26.93,
            21.92,
            20.7,
            27.43,
            10.96,
            31,
            40.81
           ]
          },
          {
           "hoverinfo": "text",
           "hovertext": [
            "nflId:42471.0<br>displayName:Jon Feliciano<br>Player Speed:0.0 yd/s",
            "nflId:42477.0<br>displayName:Mark Glowinski<br>Player Speed:0.0 yd/s",
            "nflId:44908.0<br>displayName:Kenny Golladay<br>Player Speed:0.02 yd/s",
            "nflId:46071.0<br>displayName:Saquon Barkley<br>Player Speed:0.0 yd/s",
            "nflId:46309.0<br>displayName:Richie James<br>Player Speed:0.0 yd/s",
            "nflId:47789.0<br>displayName:Daniel Jones<br>Player Speed:0.33 yd/s",
            "nflId:48489.0<br>displayName:David Sills<br>Player Speed:0.0 yd/s",
            "nflId:52412.0<br>displayName:Andrew Thomas<br>Player Speed:0.05 yd/s",
            "nflId:54472.0<br>displayName:Evan Neal<br>Player Speed:0.01 yd/s",
            "nflId:54532.0<br>displayName:Joshua Ezeudu<br>Player Speed:0.0 yd/s",
            "nflId:54577.0<br>displayName:Daniel Bellinger<br>Player Speed:0.0 yd/s"
           ],
           "marker": {
            "color": "#0B2265",
            "line": {
             "color": "#A71930",
             "width": 2
            },
            "size": 10
           },
           "mode": "markers",
           "name": "NYG",
           "type": "scatter",
           "x": [
            52.46,
            52.93,
            52.52,
            56.91,
            53.28,
            56.85,
            52.92,
            53.1,
            53.06,
            52.9,
            53.88
           ],
           "y": [
            29.57,
            31.33,
            10.58,
            27.52,
            20.44,
            29.73,
            38.88,
            26.6,
            32.81,
            28.26,
            35.63
           ]
          },
          {
           "hoverinfo": "none",
           "marker": {
            "color": "#CBB67C",
            "line": {
             "color": "#663831",
             "width": 2
            },
            "size": 10
           },
           "mode": "markers",
           "name": "football",
           "type": "scatter",
           "x": [
            52.0299987792969
           ],
           "y": [
            29.7399997711182
           ]
          }
         ],
         "name": "13"
        },
        {
         "data": [
          {
           "hoverinfo": "none",
           "mode": "text",
           "showlegend": false,
           "text": [
            "10",
            "20",
            "30",
            "40",
            "50",
            "40",
            "30",
            "20",
            "10"
           ],
           "textfont": {
            "color": "#ffffff",
            "family": "Courier New, monospace",
            "size": 30
           },
           "type": "scatter",
           "x": [
            20,
            30,
            40,
            50,
            60,
            70,
            80,
            90,
            100
           ],
           "y": [
            5,
            5,
            5,
            5,
            5,
            5,
            5,
            5,
            5
           ]
          },
          {
           "hoverinfo": "none",
           "mode": "text",
           "showlegend": false,
           "text": [
            "10",
            "20",
            "30",
            "40",
            "50",
            "40",
            "30",
            "20",
            "10"
           ],
           "textfont": {
            "color": "#ffffff",
            "family": "Courier New, monospace",
            "size": 30
           },
           "type": "scatter",
           "x": [
            20,
            30,
            40,
            50,
            60,
            70,
            80,
            90,
            100
           ],
           "y": [
            48.5,
            48.5,
            48.5,
            48.5,
            48.5,
            48.5,
            48.5,
            48.5,
            48.5
           ]
          },
          {
           "hoverinfo": "none",
           "line": {
            "color": "blue",
            "dash": "dash"
           },
           "showlegend": false,
           "type": "scatter",
           "x": [
            52,
            52
           ],
           "y": [
            0,
            53.5
           ]
          },
          {
           "hoverinfo": "none",
           "line": {
            "color": "yellow",
            "dash": "dash"
           },
           "showlegend": false,
           "type": "scatter",
           "x": [
            44,
            44
           ],
           "y": [
            0,
            53.5
           ]
          },
          {
           "fill": "toself",
           "fillcolor": "#4B92DB",
           "hoverinfo": "skip",
           "line": {
            "color": "white",
            "width": 3
           },
           "mode": "lines",
           "opacity": 1,
           "showlegend": false,
           "type": "scatter",
           "x": [
            0,
            0,
            10,
            10,
            0
           ],
           "y": [
            0,
            53.5,
            53.5,
            0,
            0
           ]
          },
          {
           "fill": "toself",
           "fillcolor": "#0B2265",
           "hoverinfo": "skip",
           "line": {
            "color": "white",
            "width": 3
           },
           "mode": "lines",
           "opacity": 1,
           "showlegend": false,
           "type": "scatter",
           "x": [
            110,
            110,
            120,
            120,
            110
           ],
           "y": [
            0,
            53.5,
            53.5,
            0,
            0
           ]
          },
          {
           "hoverinfo": "text",
           "hovertext": [
            "nflId:42365.0<br>displayName:Bud Dupree<br>Player Speed:0.33 yd/s",
            "nflId:43353.0<br>displayName:Kevin Byard<br>Player Speed:0.15 yd/s",
            "nflId:44869.0<br>displayName:Zach Cunningham<br>Player Speed:0.04 yd/s",
            "nflId:46457.0<br>displayName:Olasunkanmi Adeniyi<br>Player Speed:0.18 yd/s",
            "nflId:47802.0<br>displayName:Jeffery Simmons<br>Player Speed:0.03 yd/s",
            "nflId:47899.0<br>displayName:Amani Hooker<br>Player Speed:0.33 yd/s",
            "nflId:47915.0<br>displayName:Ugochukwu Amadi<br>Player Speed:0.38 yd/s",
            "nflId:47971.0<br>displayName:David Long<br>Player Speed:0.41 yd/s",
            "nflId:52469.0<br>displayName:Kristian Fulton<br>Player Speed:0.93 yd/s",
            "nflId:53073.0<br>displayName:Teair Tart<br>Player Speed:0.06 yd/s",
            "nflId:54500.0<br>displayName:Roger McCreary<br>Player Speed:0.32 yd/s"
           ],
           "marker": {
            "color": "#4B92DB",
            "line": {
             "color": "#0C2340",
             "width": 2
            },
            "size": 10
           },
           "mode": "markers",
           "name": "TEN",
           "type": "scatter",
           "x": [
            51.58,
            41.69,
            46.89,
            50.89,
            50.97,
            40.61,
            48.84,
            45.5,
            47.67,
            51.03,
            44.56
           ],
           "y": [
            23.45,
            35.15,
            33.17,
            35.56,
            26.93,
            21.92,
            20.71,
            27.46,
            10.95,
            30.99,
            40.8
           ]
          },
          {
           "hoverinfo": "text",
           "hovertext": [
            "nflId:42471.0<br>displayName:Jon Feliciano<br>Player Speed:0.0 yd/s",
            "nflId:42477.0<br>displayName:Mark Glowinski<br>Player Speed:0.0 yd/s",
            "nflId:44908.0<br>displayName:Kenny Golladay<br>Player Speed:0.02 yd/s",
            "nflId:46071.0<br>displayName:Saquon Barkley<br>Player Speed:0.0 yd/s",
            "nflId:46309.0<br>displayName:Richie James<br>Player Speed:0.0 yd/s",
            "nflId:47789.0<br>displayName:Daniel Jones<br>Player Speed:0.32 yd/s",
            "nflId:48489.0<br>displayName:David Sills<br>Player Speed:0.0 yd/s",
            "nflId:52412.0<br>displayName:Andrew Thomas<br>Player Speed:0.04 yd/s",
            "nflId:54472.0<br>displayName:Evan Neal<br>Player Speed:0.01 yd/s",
            "nflId:54532.0<br>displayName:Joshua Ezeudu<br>Player Speed:0.0 yd/s",
            "nflId:54577.0<br>displayName:Daniel Bellinger<br>Player Speed:0.0 yd/s"
           ],
           "marker": {
            "color": "#0B2265",
            "line": {
             "color": "#A71930",
             "width": 2
            },
            "size": 10
           },
           "mode": "markers",
           "name": "NYG",
           "type": "scatter",
           "x": [
            52.46,
            52.93,
            52.51,
            56.91,
            53.28,
            56.82,
            52.92,
            53.09,
            53.06,
            52.9,
            53.88
           ],
           "y": [
            29.57,
            31.33,
            10.57,
            27.52,
            20.44,
            29.75,
            38.88,
            26.59,
            32.8,
            28.26,
            35.63
           ]
          },
          {
           "hoverinfo": "none",
           "marker": {
            "color": "#CBB67C",
            "line": {
             "color": "#663831",
             "width": 2
            },
            "size": 10
           },
           "mode": "markers",
           "name": "football",
           "type": "scatter",
           "x": [
            52.0299987792969
           ],
           "y": [
            29.7399997711182
           ]
          }
         ],
         "name": "14"
        },
        {
         "data": [
          {
           "hoverinfo": "none",
           "mode": "text",
           "showlegend": false,
           "text": [
            "10",
            "20",
            "30",
            "40",
            "50",
            "40",
            "30",
            "20",
            "10"
           ],
           "textfont": {
            "color": "#ffffff",
            "family": "Courier New, monospace",
            "size": 30
           },
           "type": "scatter",
           "x": [
            20,
            30,
            40,
            50,
            60,
            70,
            80,
            90,
            100
           ],
           "y": [
            5,
            5,
            5,
            5,
            5,
            5,
            5,
            5,
            5
           ]
          },
          {
           "hoverinfo": "none",
           "mode": "text",
           "showlegend": false,
           "text": [
            "10",
            "20",
            "30",
            "40",
            "50",
            "40",
            "30",
            "20",
            "10"
           ],
           "textfont": {
            "color": "#ffffff",
            "family": "Courier New, monospace",
            "size": 30
           },
           "type": "scatter",
           "x": [
            20,
            30,
            40,
            50,
            60,
            70,
            80,
            90,
            100
           ],
           "y": [
            48.5,
            48.5,
            48.5,
            48.5,
            48.5,
            48.5,
            48.5,
            48.5,
            48.5
           ]
          },
          {
           "hoverinfo": "none",
           "line": {
            "color": "blue",
            "dash": "dash"
           },
           "showlegend": false,
           "type": "scatter",
           "x": [
            52,
            52
           ],
           "y": [
            0,
            53.5
           ]
          },
          {
           "hoverinfo": "none",
           "line": {
            "color": "yellow",
            "dash": "dash"
           },
           "showlegend": false,
           "type": "scatter",
           "x": [
            44,
            44
           ],
           "y": [
            0,
            53.5
           ]
          },
          {
           "fill": "toself",
           "fillcolor": "#4B92DB",
           "hoverinfo": "skip",
           "line": {
            "color": "white",
            "width": 3
           },
           "mode": "lines",
           "opacity": 1,
           "showlegend": false,
           "type": "scatter",
           "x": [
            0,
            0,
            10,
            10,
            0
           ],
           "y": [
            0,
            53.5,
            53.5,
            0,
            0
           ]
          },
          {
           "fill": "toself",
           "fillcolor": "#0B2265",
           "hoverinfo": "skip",
           "line": {
            "color": "white",
            "width": 3
           },
           "mode": "lines",
           "opacity": 1,
           "showlegend": false,
           "type": "scatter",
           "x": [
            110,
            110,
            120,
            120,
            110
           ],
           "y": [
            0,
            53.5,
            53.5,
            0,
            0
           ]
          },
          {
           "hoverinfo": "text",
           "hovertext": [
            "nflId:42365.0<br>displayName:Bud Dupree<br>Player Speed:0.16 yd/s",
            "nflId:43353.0<br>displayName:Kevin Byard<br>Player Speed:0.19 yd/s",
            "nflId:44869.0<br>displayName:Zach Cunningham<br>Player Speed:0.04 yd/s",
            "nflId:46457.0<br>displayName:Olasunkanmi Adeniyi<br>Player Speed:0.34 yd/s",
            "nflId:47802.0<br>displayName:Jeffery Simmons<br>Player Speed:0.03 yd/s",
            "nflId:47899.0<br>displayName:Amani Hooker<br>Player Speed:0.32 yd/s",
            "nflId:47915.0<br>displayName:Ugochukwu Amadi<br>Player Speed:0.58 yd/s",
            "nflId:47971.0<br>displayName:David Long<br>Player Speed:0.34 yd/s",
            "nflId:52469.0<br>displayName:Kristian Fulton<br>Player Speed:0.92 yd/s",
            "nflId:53073.0<br>displayName:Teair Tart<br>Player Speed:0.06 yd/s",
            "nflId:54500.0<br>displayName:Roger McCreary<br>Player Speed:0.33 yd/s"
           ],
           "marker": {
            "color": "#4B92DB",
            "line": {
             "color": "#0C2340",
             "width": 2
            },
            "size": 10
           },
           "mode": "markers",
           "name": "TEN",
           "type": "scatter",
           "x": [
            51.6,
            41.67,
            46.89,
            50.92,
            50.97,
            40.58,
            48.89,
            45.47,
            47.58,
            51.05,
            44.53
           ],
           "y": [
            23.46,
            35.15,
            33.17,
            35.54,
            26.93,
            21.92,
            20.73,
            27.48,
            10.94,
            30.99,
            40.78
           ]
          },
          {
           "hoverinfo": "text",
           "hovertext": [
            "nflId:42471.0<br>displayName:Jon Feliciano<br>Player Speed:0.0 yd/s",
            "nflId:42477.0<br>displayName:Mark Glowinski<br>Player Speed:0.0 yd/s",
            "nflId:44908.0<br>displayName:Kenny Golladay<br>Player Speed:0.01 yd/s",
            "nflId:46071.0<br>displayName:Saquon Barkley<br>Player Speed:0.0 yd/s",
            "nflId:46309.0<br>displayName:Richie James<br>Player Speed:0.0 yd/s",
            "nflId:47789.0<br>displayName:Daniel Jones<br>Player Speed:0.29 yd/s",
            "nflId:48489.0<br>displayName:David Sills<br>Player Speed:0.0 yd/s",
            "nflId:52412.0<br>displayName:Andrew Thomas<br>Player Speed:0.03 yd/s",
            "nflId:54472.0<br>displayName:Evan Neal<br>Player Speed:0.01 yd/s",
            "nflId:54532.0<br>displayName:Joshua Ezeudu<br>Player Speed:0.0 yd/s",
            "nflId:54577.0<br>displayName:Daniel Bellinger<br>Player Speed:0.0 yd/s"
           ],
           "marker": {
            "color": "#0B2265",
            "line": {
             "color": "#A71930",
             "width": 2
            },
            "size": 10
           },
           "mode": "markers",
           "name": "NYG",
           "type": "scatter",
           "x": [
            52.46,
            52.93,
            52.5,
            56.91,
            53.28,
            56.79,
            52.91,
            53.09,
            53.06,
            52.9,
            53.88
           ],
           "y": [
            29.57,
            31.33,
            10.56,
            27.52,
            20.45,
            29.76,
            38.88,
            26.59,
            32.8,
            28.26,
            35.63
           ]
          },
          {
           "hoverinfo": "none",
           "marker": {
            "color": "#CBB67C",
            "line": {
             "color": "#663831",
             "width": 2
            },
            "size": 10
           },
           "mode": "markers",
           "name": "football",
           "type": "scatter",
           "x": [
            52.0299987792969
           ],
           "y": [
            29.7399997711182
           ]
          }
         ],
         "name": "15"
        },
        {
         "data": [
          {
           "hoverinfo": "none",
           "mode": "text",
           "showlegend": false,
           "text": [
            "10",
            "20",
            "30",
            "40",
            "50",
            "40",
            "30",
            "20",
            "10"
           ],
           "textfont": {
            "color": "#ffffff",
            "family": "Courier New, monospace",
            "size": 30
           },
           "type": "scatter",
           "x": [
            20,
            30,
            40,
            50,
            60,
            70,
            80,
            90,
            100
           ],
           "y": [
            5,
            5,
            5,
            5,
            5,
            5,
            5,
            5,
            5
           ]
          },
          {
           "hoverinfo": "none",
           "mode": "text",
           "showlegend": false,
           "text": [
            "10",
            "20",
            "30",
            "40",
            "50",
            "40",
            "30",
            "20",
            "10"
           ],
           "textfont": {
            "color": "#ffffff",
            "family": "Courier New, monospace",
            "size": 30
           },
           "type": "scatter",
           "x": [
            20,
            30,
            40,
            50,
            60,
            70,
            80,
            90,
            100
           ],
           "y": [
            48.5,
            48.5,
            48.5,
            48.5,
            48.5,
            48.5,
            48.5,
            48.5,
            48.5
           ]
          },
          {
           "hoverinfo": "none",
           "line": {
            "color": "blue",
            "dash": "dash"
           },
           "showlegend": false,
           "type": "scatter",
           "x": [
            52,
            52
           ],
           "y": [
            0,
            53.5
           ]
          },
          {
           "hoverinfo": "none",
           "line": {
            "color": "yellow",
            "dash": "dash"
           },
           "showlegend": false,
           "type": "scatter",
           "x": [
            44,
            44
           ],
           "y": [
            0,
            53.5
           ]
          },
          {
           "fill": "toself",
           "fillcolor": "#4B92DB",
           "hoverinfo": "skip",
           "line": {
            "color": "white",
            "width": 3
           },
           "mode": "lines",
           "opacity": 1,
           "showlegend": false,
           "type": "scatter",
           "x": [
            0,
            0,
            10,
            10,
            0
           ],
           "y": [
            0,
            53.5,
            53.5,
            0,
            0
           ]
          },
          {
           "fill": "toself",
           "fillcolor": "#0B2265",
           "hoverinfo": "skip",
           "line": {
            "color": "white",
            "width": 3
           },
           "mode": "lines",
           "opacity": 1,
           "showlegend": false,
           "type": "scatter",
           "x": [
            110,
            110,
            120,
            120,
            110
           ],
           "y": [
            0,
            53.5,
            53.5,
            0,
            0
           ]
          },
          {
           "hoverinfo": "text",
           "hovertext": [
            "nflId:42365.0<br>displayName:Bud Dupree<br>Player Speed:0.02 yd/s",
            "nflId:43353.0<br>displayName:Kevin Byard<br>Player Speed:0.21 yd/s",
            "nflId:44869.0<br>displayName:Zach Cunningham<br>Player Speed:0.05 yd/s",
            "nflId:46457.0<br>displayName:Olasunkanmi Adeniyi<br>Player Speed:0.41 yd/s",
            "nflId:47802.0<br>displayName:Jeffery Simmons<br>Player Speed:0.02 yd/s",
            "nflId:47899.0<br>displayName:Amani Hooker<br>Player Speed:0.3 yd/s",
            "nflId:47915.0<br>displayName:Ugochukwu Amadi<br>Player Speed:0.72 yd/s",
            "nflId:47971.0<br>displayName:David Long<br>Player Speed:0.23 yd/s",
            "nflId:52469.0<br>displayName:Kristian Fulton<br>Player Speed:0.92 yd/s",
            "nflId:53073.0<br>displayName:Teair Tart<br>Player Speed:0.06 yd/s",
            "nflId:54500.0<br>displayName:Roger McCreary<br>Player Speed:0.33 yd/s"
           ],
           "marker": {
            "color": "#4B92DB",
            "line": {
             "color": "#0C2340",
             "width": 2
            },
            "size": 10
           },
           "mode": "markers",
           "name": "TEN",
           "type": "scatter",
           "x": [
            51.61,
            41.65,
            46.89,
            50.95,
            50.97,
            40.55,
            48.96,
            45.45,
            47.49,
            51.06,
            44.51
           ],
           "y": [
            23.46,
            35.15,
            33.17,
            35.53,
            26.92,
            21.92,
            20.77,
            27.49,
            10.93,
            31,
            40.76
           ]
          },
          {
           "hoverinfo": "text",
           "hovertext": [
            "nflId:42471.0<br>displayName:Jon Feliciano<br>Player Speed:0.0 yd/s",
            "nflId:42477.0<br>displayName:Mark Glowinski<br>Player Speed:0.0 yd/s",
            "nflId:44908.0<br>displayName:Kenny Golladay<br>Player Speed:0.01 yd/s",
            "nflId:46071.0<br>displayName:Saquon Barkley<br>Player Speed:0.0 yd/s",
            "nflId:46309.0<br>displayName:Richie James<br>Player Speed:0.0 yd/s",
            "nflId:47789.0<br>displayName:Daniel Jones<br>Player Speed:0.28 yd/s",
            "nflId:48489.0<br>displayName:David Sills<br>Player Speed:0.0 yd/s",
            "nflId:52412.0<br>displayName:Andrew Thomas<br>Player Speed:0.03 yd/s",
            "nflId:54472.0<br>displayName:Evan Neal<br>Player Speed:0.01 yd/s",
            "nflId:54532.0<br>displayName:Joshua Ezeudu<br>Player Speed:0.0 yd/s",
            "nflId:54577.0<br>displayName:Daniel Bellinger<br>Player Speed:0.0 yd/s"
           ],
           "marker": {
            "color": "#0B2265",
            "line": {
             "color": "#A71930",
             "width": 2
            },
            "size": 10
           },
           "mode": "markers",
           "name": "NYG",
           "type": "scatter",
           "x": [
            52.45,
            52.93,
            52.51,
            56.91,
            53.28,
            56.76,
            52.91,
            53.08,
            53.06,
            52.9,
            53.88
           ],
           "y": [
            29.58,
            31.34,
            10.55,
            27.53,
            20.45,
            29.76,
            38.87,
            26.59,
            32.79,
            28.26,
            35.63
           ]
          },
          {
           "hoverinfo": "none",
           "marker": {
            "color": "#CBB67C",
            "line": {
             "color": "#663831",
             "width": 2
            },
            "size": 10
           },
           "mode": "markers",
           "name": "football",
           "type": "scatter",
           "x": [
            52.0299987792969
           ],
           "y": [
            29.7399997711182
           ]
          }
         ],
         "name": "16"
        },
        {
         "data": [
          {
           "hoverinfo": "none",
           "mode": "text",
           "showlegend": false,
           "text": [
            "10",
            "20",
            "30",
            "40",
            "50",
            "40",
            "30",
            "20",
            "10"
           ],
           "textfont": {
            "color": "#ffffff",
            "family": "Courier New, monospace",
            "size": 30
           },
           "type": "scatter",
           "x": [
            20,
            30,
            40,
            50,
            60,
            70,
            80,
            90,
            100
           ],
           "y": [
            5,
            5,
            5,
            5,
            5,
            5,
            5,
            5,
            5
           ]
          },
          {
           "hoverinfo": "none",
           "mode": "text",
           "showlegend": false,
           "text": [
            "10",
            "20",
            "30",
            "40",
            "50",
            "40",
            "30",
            "20",
            "10"
           ],
           "textfont": {
            "color": "#ffffff",
            "family": "Courier New, monospace",
            "size": 30
           },
           "type": "scatter",
           "x": [
            20,
            30,
            40,
            50,
            60,
            70,
            80,
            90,
            100
           ],
           "y": [
            48.5,
            48.5,
            48.5,
            48.5,
            48.5,
            48.5,
            48.5,
            48.5,
            48.5
           ]
          },
          {
           "hoverinfo": "none",
           "line": {
            "color": "blue",
            "dash": "dash"
           },
           "showlegend": false,
           "type": "scatter",
           "x": [
            52,
            52
           ],
           "y": [
            0,
            53.5
           ]
          },
          {
           "hoverinfo": "none",
           "line": {
            "color": "yellow",
            "dash": "dash"
           },
           "showlegend": false,
           "type": "scatter",
           "x": [
            44,
            44
           ],
           "y": [
            0,
            53.5
           ]
          },
          {
           "fill": "toself",
           "fillcolor": "#4B92DB",
           "hoverinfo": "skip",
           "line": {
            "color": "white",
            "width": 3
           },
           "mode": "lines",
           "opacity": 1,
           "showlegend": false,
           "type": "scatter",
           "x": [
            0,
            0,
            10,
            10,
            0
           ],
           "y": [
            0,
            53.5,
            53.5,
            0,
            0
           ]
          },
          {
           "fill": "toself",
           "fillcolor": "#0B2265",
           "hoverinfo": "skip",
           "line": {
            "color": "white",
            "width": 3
           },
           "mode": "lines",
           "opacity": 1,
           "showlegend": false,
           "type": "scatter",
           "x": [
            110,
            110,
            120,
            120,
            110
           ],
           "y": [
            0,
            53.5,
            53.5,
            0,
            0
           ]
          },
          {
           "hoverinfo": "text",
           "hovertext": [
            "nflId:42365.0<br>displayName:Bud Dupree<br>Player Speed:0.17 yd/s",
            "nflId:43353.0<br>displayName:Kevin Byard<br>Player Speed:0.24 yd/s",
            "nflId:44869.0<br>displayName:Zach Cunningham<br>Player Speed:0.03 yd/s",
            "nflId:46457.0<br>displayName:Olasunkanmi Adeniyi<br>Player Speed:0.49 yd/s",
            "nflId:47802.0<br>displayName:Jeffery Simmons<br>Player Speed:0.02 yd/s",
            "nflId:47899.0<br>displayName:Amani Hooker<br>Player Speed:0.28 yd/s",
            "nflId:47915.0<br>displayName:Ugochukwu Amadi<br>Player Speed:0.85 yd/s",
            "nflId:47971.0<br>displayName:David Long<br>Player Speed:0.16 yd/s",
            "nflId:52469.0<br>displayName:Kristian Fulton<br>Player Speed:0.88 yd/s",
            "nflId:53073.0<br>displayName:Teair Tart<br>Player Speed:0.06 yd/s",
            "nflId:54500.0<br>displayName:Roger McCreary<br>Player Speed:0.32 yd/s"
           ],
           "marker": {
            "color": "#4B92DB",
            "line": {
             "color": "#0C2340",
             "width": 2
            },
            "size": 10
           },
           "mode": "markers",
           "name": "TEN",
           "type": "scatter",
           "x": [
            51.6,
            41.62,
            46.89,
            50.99,
            50.98,
            40.52,
            49.04,
            45.43,
            47.4,
            51.09,
            44.49
           ],
           "y": [
            23.45,
            35.14,
            33.17,
            35.51,
            26.93,
            21.92,
            20.8,
            27.5,
            10.91,
            31.01,
            40.74
           ]
          },
          {
           "hoverinfo": "text",
           "hovertext": [
            "nflId:42471.0<br>displayName:Jon Feliciano<br>Player Speed:0.0 yd/s",
            "nflId:42477.0<br>displayName:Mark Glowinski<br>Player Speed:0.0 yd/s",
            "nflId:44908.0<br>displayName:Kenny Golladay<br>Player Speed:0.01 yd/s",
            "nflId:46071.0<br>displayName:Saquon Barkley<br>Player Speed:0.0 yd/s",
            "nflId:46309.0<br>displayName:Richie James<br>Player Speed:0.0 yd/s",
            "nflId:47789.0<br>displayName:Daniel Jones<br>Player Speed:0.23 yd/s",
            "nflId:48489.0<br>displayName:David Sills<br>Player Speed:0.0 yd/s",
            "nflId:52412.0<br>displayName:Andrew Thomas<br>Player Speed:0.03 yd/s",
            "nflId:54472.0<br>displayName:Evan Neal<br>Player Speed:0.01 yd/s",
            "nflId:54532.0<br>displayName:Joshua Ezeudu<br>Player Speed:0.0 yd/s",
            "nflId:54577.0<br>displayName:Daniel Bellinger<br>Player Speed:0.0 yd/s"
           ],
           "marker": {
            "color": "#0B2265",
            "line": {
             "color": "#A71930",
             "width": 2
            },
            "size": 10
           },
           "mode": "markers",
           "name": "NYG",
           "type": "scatter",
           "x": [
            52.45,
            52.93,
            52.51,
            56.92,
            53.28,
            56.74,
            52.91,
            53.08,
            53.06,
            52.9,
            53.88
           ],
           "y": [
            29.58,
            31.34,
            10.55,
            27.53,
            20.45,
            29.76,
            38.87,
            26.6,
            32.78,
            28.26,
            35.62
           ]
          },
          {
           "hoverinfo": "none",
           "marker": {
            "color": "#CBB67C",
            "line": {
             "color": "#663831",
             "width": 2
            },
            "size": 10
           },
           "mode": "markers",
           "name": "football",
           "type": "scatter",
           "x": [
            52.0299987792969
           ],
           "y": [
            29.7399997711182
           ]
          }
         ],
         "name": "17"
        },
        {
         "data": [
          {
           "hoverinfo": "none",
           "mode": "text",
           "showlegend": false,
           "text": [
            "10",
            "20",
            "30",
            "40",
            "50",
            "40",
            "30",
            "20",
            "10"
           ],
           "textfont": {
            "color": "#ffffff",
            "family": "Courier New, monospace",
            "size": 30
           },
           "type": "scatter",
           "x": [
            20,
            30,
            40,
            50,
            60,
            70,
            80,
            90,
            100
           ],
           "y": [
            5,
            5,
            5,
            5,
            5,
            5,
            5,
            5,
            5
           ]
          },
          {
           "hoverinfo": "none",
           "mode": "text",
           "showlegend": false,
           "text": [
            "10",
            "20",
            "30",
            "40",
            "50",
            "40",
            "30",
            "20",
            "10"
           ],
           "textfont": {
            "color": "#ffffff",
            "family": "Courier New, monospace",
            "size": 30
           },
           "type": "scatter",
           "x": [
            20,
            30,
            40,
            50,
            60,
            70,
            80,
            90,
            100
           ],
           "y": [
            48.5,
            48.5,
            48.5,
            48.5,
            48.5,
            48.5,
            48.5,
            48.5,
            48.5
           ]
          },
          {
           "hoverinfo": "none",
           "line": {
            "color": "blue",
            "dash": "dash"
           },
           "showlegend": false,
           "type": "scatter",
           "x": [
            52,
            52
           ],
           "y": [
            0,
            53.5
           ]
          },
          {
           "hoverinfo": "none",
           "line": {
            "color": "yellow",
            "dash": "dash"
           },
           "showlegend": false,
           "type": "scatter",
           "x": [
            44,
            44
           ],
           "y": [
            0,
            53.5
           ]
          },
          {
           "fill": "toself",
           "fillcolor": "#4B92DB",
           "hoverinfo": "skip",
           "line": {
            "color": "white",
            "width": 3
           },
           "mode": "lines",
           "opacity": 1,
           "showlegend": false,
           "type": "scatter",
           "x": [
            0,
            0,
            10,
            10,
            0
           ],
           "y": [
            0,
            53.5,
            53.5,
            0,
            0
           ]
          },
          {
           "fill": "toself",
           "fillcolor": "#0B2265",
           "hoverinfo": "skip",
           "line": {
            "color": "white",
            "width": 3
           },
           "mode": "lines",
           "opacity": 1,
           "showlegend": false,
           "type": "scatter",
           "x": [
            110,
            110,
            120,
            120,
            110
           ],
           "y": [
            0,
            53.5,
            53.5,
            0,
            0
           ]
          },
          {
           "hoverinfo": "text",
           "hovertext": [
            "nflId:42365.0<br>displayName:Bud Dupree<br>Player Speed:0.25 yd/s",
            "nflId:43353.0<br>displayName:Kevin Byard<br>Player Speed:0.24 yd/s",
            "nflId:44869.0<br>displayName:Zach Cunningham<br>Player Speed:0.02 yd/s",
            "nflId:46457.0<br>displayName:Olasunkanmi Adeniyi<br>Player Speed:0.52 yd/s",
            "nflId:47802.0<br>displayName:Jeffery Simmons<br>Player Speed:0.02 yd/s",
            "nflId:47899.0<br>displayName:Amani Hooker<br>Player Speed:0.21 yd/s",
            "nflId:47915.0<br>displayName:Ugochukwu Amadi<br>Player Speed:0.94 yd/s",
            "nflId:47971.0<br>displayName:David Long<br>Player Speed:0.14 yd/s",
            "nflId:52469.0<br>displayName:Kristian Fulton<br>Player Speed:0.85 yd/s",
            "nflId:53073.0<br>displayName:Teair Tart<br>Player Speed:0.06 yd/s",
            "nflId:54500.0<br>displayName:Roger McCreary<br>Player Speed:0.36 yd/s"
           ],
           "marker": {
            "color": "#4B92DB",
            "line": {
             "color": "#0C2340",
             "width": 2
            },
            "size": 10
           },
           "mode": "markers",
           "name": "TEN",
           "type": "scatter",
           "x": [
            51.58,
            41.6,
            46.89,
            51.04,
            50.98,
            40.5,
            49.13,
            45.42,
            47.32,
            51.12,
            44.47
           ],
           "y": [
            23.45,
            35.14,
            33.17,
            35.5,
            26.92,
            21.92,
            20.83,
            27.5,
            10.9,
            31.02,
            40.71
           ]
          },
          {
           "hoverinfo": "text",
           "hovertext": [
            "nflId:42471.0<br>displayName:Jon Feliciano<br>Player Speed:0.0 yd/s",
            "nflId:42477.0<br>displayName:Mark Glowinski<br>Player Speed:0.0 yd/s",
            "nflId:44908.0<br>displayName:Kenny Golladay<br>Player Speed:0.01 yd/s",
            "nflId:46071.0<br>displayName:Saquon Barkley<br>Player Speed:0.0 yd/s",
            "nflId:46309.0<br>displayName:Richie James<br>Player Speed:0.0 yd/s",
            "nflId:47789.0<br>displayName:Daniel Jones<br>Player Speed:0.18 yd/s",
            "nflId:48489.0<br>displayName:David Sills<br>Player Speed:0.0 yd/s",
            "nflId:52412.0<br>displayName:Andrew Thomas<br>Player Speed:0.02 yd/s",
            "nflId:54472.0<br>displayName:Evan Neal<br>Player Speed:0.01 yd/s",
            "nflId:54532.0<br>displayName:Joshua Ezeudu<br>Player Speed:0.0 yd/s",
            "nflId:54577.0<br>displayName:Daniel Bellinger<br>Player Speed:0.0 yd/s"
           ],
           "marker": {
            "color": "#0B2265",
            "line": {
             "color": "#A71930",
             "width": 2
            },
            "size": 10
           },
           "mode": "markers",
           "name": "NYG",
           "type": "scatter",
           "x": [
            52.45,
            52.93,
            52.5,
            56.92,
            53.28,
            56.72,
            52.91,
            53.08,
            53.06,
            52.9,
            53.88
           ],
           "y": [
            29.58,
            31.34,
            10.56,
            27.52,
            20.45,
            29.77,
            38.87,
            26.59,
            32.78,
            28.26,
            35.63
           ]
          },
          {
           "hoverinfo": "none",
           "marker": {
            "color": "#CBB67C",
            "line": {
             "color": "#663831",
             "width": 2
            },
            "size": 10
           },
           "mode": "markers",
           "name": "football",
           "type": "scatter",
           "x": [
            52.0299987792969
           ],
           "y": [
            29.7399997711182
           ]
          }
         ],
         "name": "18"
        },
        {
         "data": [
          {
           "hoverinfo": "none",
           "mode": "text",
           "showlegend": false,
           "text": [
            "10",
            "20",
            "30",
            "40",
            "50",
            "40",
            "30",
            "20",
            "10"
           ],
           "textfont": {
            "color": "#ffffff",
            "family": "Courier New, monospace",
            "size": 30
           },
           "type": "scatter",
           "x": [
            20,
            30,
            40,
            50,
            60,
            70,
            80,
            90,
            100
           ],
           "y": [
            5,
            5,
            5,
            5,
            5,
            5,
            5,
            5,
            5
           ]
          },
          {
           "hoverinfo": "none",
           "mode": "text",
           "showlegend": false,
           "text": [
            "10",
            "20",
            "30",
            "40",
            "50",
            "40",
            "30",
            "20",
            "10"
           ],
           "textfont": {
            "color": "#ffffff",
            "family": "Courier New, monospace",
            "size": 30
           },
           "type": "scatter",
           "x": [
            20,
            30,
            40,
            50,
            60,
            70,
            80,
            90,
            100
           ],
           "y": [
            48.5,
            48.5,
            48.5,
            48.5,
            48.5,
            48.5,
            48.5,
            48.5,
            48.5
           ]
          },
          {
           "hoverinfo": "none",
           "line": {
            "color": "blue",
            "dash": "dash"
           },
           "showlegend": false,
           "type": "scatter",
           "x": [
            52,
            52
           ],
           "y": [
            0,
            53.5
           ]
          },
          {
           "hoverinfo": "none",
           "line": {
            "color": "yellow",
            "dash": "dash"
           },
           "showlegend": false,
           "type": "scatter",
           "x": [
            44,
            44
           ],
           "y": [
            0,
            53.5
           ]
          },
          {
           "fill": "toself",
           "fillcolor": "#4B92DB",
           "hoverinfo": "skip",
           "line": {
            "color": "white",
            "width": 3
           },
           "mode": "lines",
           "opacity": 1,
           "showlegend": false,
           "type": "scatter",
           "x": [
            0,
            0,
            10,
            10,
            0
           ],
           "y": [
            0,
            53.5,
            53.5,
            0,
            0
           ]
          },
          {
           "fill": "toself",
           "fillcolor": "#0B2265",
           "hoverinfo": "skip",
           "line": {
            "color": "white",
            "width": 3
           },
           "mode": "lines",
           "opacity": 1,
           "showlegend": false,
           "type": "scatter",
           "x": [
            110,
            110,
            120,
            120,
            110
           ],
           "y": [
            0,
            53.5,
            53.5,
            0,
            0
           ]
          },
          {
           "hoverinfo": "text",
           "hovertext": [
            "nflId:42365.0<br>displayName:Bud Dupree<br>Player Speed:0.37 yd/s",
            "nflId:43353.0<br>displayName:Kevin Byard<br>Player Speed:0.26 yd/s",
            "nflId:44869.0<br>displayName:Zach Cunningham<br>Player Speed:0.02 yd/s",
            "nflId:46457.0<br>displayName:Olasunkanmi Adeniyi<br>Player Speed:0.51 yd/s",
            "nflId:47802.0<br>displayName:Jeffery Simmons<br>Player Speed:0.01 yd/s",
            "nflId:47899.0<br>displayName:Amani Hooker<br>Player Speed:0.11 yd/s",
            "nflId:47915.0<br>displayName:Ugochukwu Amadi<br>Player Speed:1.05 yd/s",
            "nflId:47971.0<br>displayName:David Long<br>Player Speed:0.12 yd/s",
            "nflId:52469.0<br>displayName:Kristian Fulton<br>Player Speed:0.76 yd/s",
            "nflId:53073.0<br>displayName:Teair Tart<br>Player Speed:0.07 yd/s",
            "nflId:54500.0<br>displayName:Roger McCreary<br>Player Speed:0.36 yd/s"
           ],
           "marker": {
            "color": "#4B92DB",
            "line": {
             "color": "#0C2340",
             "width": 2
            },
            "size": 10
           },
           "mode": "markers",
           "name": "TEN",
           "type": "scatter",
           "x": [
            51.55,
            41.57,
            46.89,
            51.09,
            50.99,
            40.49,
            49.23,
            45.41,
            47.24,
            51.15,
            44.45
           ],
           "y": [
            23.44,
            35.14,
            33.17,
            35.49,
            26.92,
            21.93,
            20.88,
            27.49,
            10.9,
            31.04,
            40.68
           ]
          },
          {
           "hoverinfo": "text",
           "hovertext": [
            "nflId:42471.0<br>displayName:Jon Feliciano<br>Player Speed:0.0 yd/s",
            "nflId:42477.0<br>displayName:Mark Glowinski<br>Player Speed:0.0 yd/s",
            "nflId:44908.0<br>displayName:Kenny Golladay<br>Player Speed:0.01 yd/s",
            "nflId:46071.0<br>displayName:Saquon Barkley<br>Player Speed:0.0 yd/s",
            "nflId:46309.0<br>displayName:Richie James<br>Player Speed:0.0 yd/s",
            "nflId:47789.0<br>displayName:Daniel Jones<br>Player Speed:0.12 yd/s",
            "nflId:48489.0<br>displayName:David Sills<br>Player Speed:0.0 yd/s",
            "nflId:52412.0<br>displayName:Andrew Thomas<br>Player Speed:0.02 yd/s",
            "nflId:54472.0<br>displayName:Evan Neal<br>Player Speed:0.0 yd/s",
            "nflId:54532.0<br>displayName:Joshua Ezeudu<br>Player Speed:0.0 yd/s",
            "nflId:54577.0<br>displayName:Daniel Bellinger<br>Player Speed:0.0 yd/s"
           ],
           "marker": {
            "color": "#0B2265",
            "line": {
             "color": "#A71930",
             "width": 2
            },
            "size": 10
           },
           "mode": "markers",
           "name": "NYG",
           "type": "scatter",
           "x": [
            52.46,
            52.93,
            52.5,
            56.92,
            53.28,
            56.71,
            52.91,
            53.08,
            53.06,
            52.9,
            53.88
           ],
           "y": [
            29.59,
            31.34,
            10.56,
            27.52,
            20.45,
            29.77,
            38.87,
            26.6,
            32.78,
            28.26,
            35.62
           ]
          },
          {
           "hoverinfo": "none",
           "marker": {
            "color": "#CBB67C",
            "line": {
             "color": "#663831",
             "width": 2
            },
            "size": 10
           },
           "mode": "markers",
           "name": "football",
           "type": "scatter",
           "x": [
            52.0299987792969
           ],
           "y": [
            29.7399997711182
           ]
          }
         ],
         "name": "19"
        },
        {
         "data": [
          {
           "hoverinfo": "none",
           "mode": "text",
           "showlegend": false,
           "text": [
            "10",
            "20",
            "30",
            "40",
            "50",
            "40",
            "30",
            "20",
            "10"
           ],
           "textfont": {
            "color": "#ffffff",
            "family": "Courier New, monospace",
            "size": 30
           },
           "type": "scatter",
           "x": [
            20,
            30,
            40,
            50,
            60,
            70,
            80,
            90,
            100
           ],
           "y": [
            5,
            5,
            5,
            5,
            5,
            5,
            5,
            5,
            5
           ]
          },
          {
           "hoverinfo": "none",
           "mode": "text",
           "showlegend": false,
           "text": [
            "10",
            "20",
            "30",
            "40",
            "50",
            "40",
            "30",
            "20",
            "10"
           ],
           "textfont": {
            "color": "#ffffff",
            "family": "Courier New, monospace",
            "size": 30
           },
           "type": "scatter",
           "x": [
            20,
            30,
            40,
            50,
            60,
            70,
            80,
            90,
            100
           ],
           "y": [
            48.5,
            48.5,
            48.5,
            48.5,
            48.5,
            48.5,
            48.5,
            48.5,
            48.5
           ]
          },
          {
           "hoverinfo": "none",
           "line": {
            "color": "blue",
            "dash": "dash"
           },
           "showlegend": false,
           "type": "scatter",
           "x": [
            52,
            52
           ],
           "y": [
            0,
            53.5
           ]
          },
          {
           "hoverinfo": "none",
           "line": {
            "color": "yellow",
            "dash": "dash"
           },
           "showlegend": false,
           "type": "scatter",
           "x": [
            44,
            44
           ],
           "y": [
            0,
            53.5
           ]
          },
          {
           "fill": "toself",
           "fillcolor": "#4B92DB",
           "hoverinfo": "skip",
           "line": {
            "color": "white",
            "width": 3
           },
           "mode": "lines",
           "opacity": 1,
           "showlegend": false,
           "type": "scatter",
           "x": [
            0,
            0,
            10,
            10,
            0
           ],
           "y": [
            0,
            53.5,
            53.5,
            0,
            0
           ]
          },
          {
           "fill": "toself",
           "fillcolor": "#0B2265",
           "hoverinfo": "skip",
           "line": {
            "color": "white",
            "width": 3
           },
           "mode": "lines",
           "opacity": 1,
           "showlegend": false,
           "type": "scatter",
           "x": [
            110,
            110,
            120,
            120,
            110
           ],
           "y": [
            0,
            53.5,
            53.5,
            0,
            0
           ]
          },
          {
           "hoverinfo": "text",
           "hovertext": [
            "nflId:42365.0<br>displayName:Bud Dupree<br>Player Speed:0.44 yd/s",
            "nflId:43353.0<br>displayName:Kevin Byard<br>Player Speed:0.28 yd/s",
            "nflId:44869.0<br>displayName:Zach Cunningham<br>Player Speed:0.05 yd/s",
            "nflId:46457.0<br>displayName:Olasunkanmi Adeniyi<br>Player Speed:0.51 yd/s",
            "nflId:47802.0<br>displayName:Jeffery Simmons<br>Player Speed:0.01 yd/s",
            "nflId:47899.0<br>displayName:Amani Hooker<br>Player Speed:0.01 yd/s",
            "nflId:47915.0<br>displayName:Ugochukwu Amadi<br>Player Speed:1.16 yd/s",
            "nflId:47971.0<br>displayName:David Long<br>Player Speed:0.1 yd/s",
            "nflId:52469.0<br>displayName:Kristian Fulton<br>Player Speed:0.69 yd/s",
            "nflId:53073.0<br>displayName:Teair Tart<br>Player Speed:0.14 yd/s",
            "nflId:54500.0<br>displayName:Roger McCreary<br>Player Speed:0.32 yd/s"
           ],
           "marker": {
            "color": "#4B92DB",
            "line": {
             "color": "#0C2340",
             "width": 2
            },
            "size": 10
           },
           "mode": "markers",
           "name": "TEN",
           "type": "scatter",
           "x": [
            51.51,
            41.53,
            46.9,
            51.14,
            50.98,
            40.49,
            49.34,
            45.4,
            47.17,
            51.16,
            44.44
           ],
           "y": [
            23.43,
            35.14,
            33.18,
            35.47,
            26.92,
            21.93,
            20.93,
            27.49,
            10.9,
            31.04,
            40.65
           ]
          },
          {
           "hoverinfo": "text",
           "hovertext": [
            "nflId:42471.0<br>displayName:Jon Feliciano<br>Player Speed:0.0 yd/s",
            "nflId:42477.0<br>displayName:Mark Glowinski<br>Player Speed:0.0 yd/s",
            "nflId:44908.0<br>displayName:Kenny Golladay<br>Player Speed:0.01 yd/s",
            "nflId:46071.0<br>displayName:Saquon Barkley<br>Player Speed:0.0 yd/s",
            "nflId:46309.0<br>displayName:Richie James<br>Player Speed:0.0 yd/s",
            "nflId:47789.0<br>displayName:Daniel Jones<br>Player Speed:0.06 yd/s",
            "nflId:48489.0<br>displayName:David Sills<br>Player Speed:0.0 yd/s",
            "nflId:52412.0<br>displayName:Andrew Thomas<br>Player Speed:0.02 yd/s",
            "nflId:54472.0<br>displayName:Evan Neal<br>Player Speed:0.0 yd/s",
            "nflId:54532.0<br>displayName:Joshua Ezeudu<br>Player Speed:0.0 yd/s",
            "nflId:54577.0<br>displayName:Daniel Bellinger<br>Player Speed:0.0 yd/s"
           ],
           "marker": {
            "color": "#0B2265",
            "line": {
             "color": "#A71930",
             "width": 2
            },
            "size": 10
           },
           "mode": "markers",
           "name": "NYG",
           "type": "scatter",
           "x": [
            52.45,
            52.93,
            52.5,
            56.92,
            53.28,
            56.7,
            52.9,
            53.08,
            53.06,
            52.9,
            53.88
           ],
           "y": [
            29.59,
            31.34,
            10.55,
            27.52,
            20.45,
            29.77,
            38.88,
            26.61,
            32.78,
            28.26,
            35.62
           ]
          },
          {
           "hoverinfo": "none",
           "marker": {
            "color": "#CBB67C",
            "line": {
             "color": "#663831",
             "width": 2
            },
            "size": 10
           },
           "mode": "markers",
           "name": "football",
           "type": "scatter",
           "x": [
            52.0299987792969
           ],
           "y": [
            29.7399997711182
           ]
          }
         ],
         "name": "20"
        },
        {
         "data": [
          {
           "hoverinfo": "none",
           "mode": "text",
           "showlegend": false,
           "text": [
            "10",
            "20",
            "30",
            "40",
            "50",
            "40",
            "30",
            "20",
            "10"
           ],
           "textfont": {
            "color": "#ffffff",
            "family": "Courier New, monospace",
            "size": 30
           },
           "type": "scatter",
           "x": [
            20,
            30,
            40,
            50,
            60,
            70,
            80,
            90,
            100
           ],
           "y": [
            5,
            5,
            5,
            5,
            5,
            5,
            5,
            5,
            5
           ]
          },
          {
           "hoverinfo": "none",
           "mode": "text",
           "showlegend": false,
           "text": [
            "10",
            "20",
            "30",
            "40",
            "50",
            "40",
            "30",
            "20",
            "10"
           ],
           "textfont": {
            "color": "#ffffff",
            "family": "Courier New, monospace",
            "size": 30
           },
           "type": "scatter",
           "x": [
            20,
            30,
            40,
            50,
            60,
            70,
            80,
            90,
            100
           ],
           "y": [
            48.5,
            48.5,
            48.5,
            48.5,
            48.5,
            48.5,
            48.5,
            48.5,
            48.5
           ]
          },
          {
           "hoverinfo": "none",
           "line": {
            "color": "blue",
            "dash": "dash"
           },
           "showlegend": false,
           "type": "scatter",
           "x": [
            52,
            52
           ],
           "y": [
            0,
            53.5
           ]
          },
          {
           "hoverinfo": "none",
           "line": {
            "color": "yellow",
            "dash": "dash"
           },
           "showlegend": false,
           "type": "scatter",
           "x": [
            44,
            44
           ],
           "y": [
            0,
            53.5
           ]
          },
          {
           "fill": "toself",
           "fillcolor": "#4B92DB",
           "hoverinfo": "skip",
           "line": {
            "color": "white",
            "width": 3
           },
           "mode": "lines",
           "opacity": 1,
           "showlegend": false,
           "type": "scatter",
           "x": [
            0,
            0,
            10,
            10,
            0
           ],
           "y": [
            0,
            53.5,
            53.5,
            0,
            0
           ]
          },
          {
           "fill": "toself",
           "fillcolor": "#0B2265",
           "hoverinfo": "skip",
           "line": {
            "color": "white",
            "width": 3
           },
           "mode": "lines",
           "opacity": 1,
           "showlegend": false,
           "type": "scatter",
           "x": [
            110,
            110,
            120,
            120,
            110
           ],
           "y": [
            0,
            53.5,
            53.5,
            0,
            0
           ]
          },
          {
           "hoverinfo": "text",
           "hovertext": [
            "nflId:42365.0<br>displayName:Bud Dupree<br>Player Speed:0.43 yd/s",
            "nflId:43353.0<br>displayName:Kevin Byard<br>Player Speed:0.29 yd/s",
            "nflId:44869.0<br>displayName:Zach Cunningham<br>Player Speed:0.05 yd/s",
            "nflId:46457.0<br>displayName:Olasunkanmi Adeniyi<br>Player Speed:0.47 yd/s",
            "nflId:47802.0<br>displayName:Jeffery Simmons<br>Player Speed:0.01 yd/s",
            "nflId:47899.0<br>displayName:Amani Hooker<br>Player Speed:0.1 yd/s",
            "nflId:47915.0<br>displayName:Ugochukwu Amadi<br>Player Speed:1.25 yd/s",
            "nflId:47971.0<br>displayName:David Long<br>Player Speed:0.11 yd/s",
            "nflId:52469.0<br>displayName:Kristian Fulton<br>Player Speed:0.6 yd/s",
            "nflId:53073.0<br>displayName:Teair Tart<br>Player Speed:0.25 yd/s",
            "nflId:54500.0<br>displayName:Roger McCreary<br>Player Speed:0.3 yd/s"
           ],
           "marker": {
            "color": "#4B92DB",
            "line": {
             "color": "#0C2340",
             "width": 2
            },
            "size": 10
           },
           "mode": "markers",
           "name": "TEN",
           "type": "scatter",
           "x": [
            51.47,
            41.49,
            46.89,
            51.18,
            50.98,
            40.49,
            49.45,
            45.4,
            47.1,
            51.18,
            44.43
           ],
           "y": [
            23.42,
            35.15,
            33.19,
            35.46,
            26.92,
            21.92,
            20.98,
            27.47,
            10.9,
            31.06,
            40.62
           ]
          },
          {
           "hoverinfo": "text",
           "hovertext": [
            "nflId:42471.0<br>displayName:Jon Feliciano<br>Player Speed:0.0 yd/s",
            "nflId:42477.0<br>displayName:Mark Glowinski<br>Player Speed:0.0 yd/s",
            "nflId:44908.0<br>displayName:Kenny Golladay<br>Player Speed:0.01 yd/s",
            "nflId:46071.0<br>displayName:Saquon Barkley<br>Player Speed:0.0 yd/s",
            "nflId:46309.0<br>displayName:Richie James<br>Player Speed:0.0 yd/s",
            "nflId:47789.0<br>displayName:Daniel Jones<br>Player Speed:0.01 yd/s",
            "nflId:48489.0<br>displayName:David Sills<br>Player Speed:0.0 yd/s",
            "nflId:52412.0<br>displayName:Andrew Thomas<br>Player Speed:0.02 yd/s",
            "nflId:54472.0<br>displayName:Evan Neal<br>Player Speed:0.0 yd/s",
            "nflId:54532.0<br>displayName:Joshua Ezeudu<br>Player Speed:0.0 yd/s",
            "nflId:54577.0<br>displayName:Daniel Bellinger<br>Player Speed:0.0 yd/s"
           ],
           "marker": {
            "color": "#0B2265",
            "line": {
             "color": "#A71930",
             "width": 2
            },
            "size": 10
           },
           "mode": "markers",
           "name": "NYG",
           "type": "scatter",
           "x": [
            52.45,
            52.93,
            52.5,
            56.92,
            53.28,
            56.7,
            52.91,
            53.08,
            53.06,
            52.9,
            53.88
           ],
           "y": [
            29.59,
            31.34,
            10.55,
            27.52,
            20.45,
            29.77,
            38.87,
            26.6,
            32.77,
            28.26,
            35.62
           ]
          },
          {
           "hoverinfo": "none",
           "marker": {
            "color": "#CBB67C",
            "line": {
             "color": "#663831",
             "width": 2
            },
            "size": 10
           },
           "mode": "markers",
           "name": "football",
           "type": "scatter",
           "x": [
            52.0299987792969
           ],
           "y": [
            29.7399997711182
           ]
          }
         ],
         "name": "21"
        },
        {
         "data": [
          {
           "hoverinfo": "none",
           "mode": "text",
           "showlegend": false,
           "text": [
            "10",
            "20",
            "30",
            "40",
            "50",
            "40",
            "30",
            "20",
            "10"
           ],
           "textfont": {
            "color": "#ffffff",
            "family": "Courier New, monospace",
            "size": 30
           },
           "type": "scatter",
           "x": [
            20,
            30,
            40,
            50,
            60,
            70,
            80,
            90,
            100
           ],
           "y": [
            5,
            5,
            5,
            5,
            5,
            5,
            5,
            5,
            5
           ]
          },
          {
           "hoverinfo": "none",
           "mode": "text",
           "showlegend": false,
           "text": [
            "10",
            "20",
            "30",
            "40",
            "50",
            "40",
            "30",
            "20",
            "10"
           ],
           "textfont": {
            "color": "#ffffff",
            "family": "Courier New, monospace",
            "size": 30
           },
           "type": "scatter",
           "x": [
            20,
            30,
            40,
            50,
            60,
            70,
            80,
            90,
            100
           ],
           "y": [
            48.5,
            48.5,
            48.5,
            48.5,
            48.5,
            48.5,
            48.5,
            48.5,
            48.5
           ]
          },
          {
           "hoverinfo": "none",
           "line": {
            "color": "blue",
            "dash": "dash"
           },
           "showlegend": false,
           "type": "scatter",
           "x": [
            52,
            52
           ],
           "y": [
            0,
            53.5
           ]
          },
          {
           "hoverinfo": "none",
           "line": {
            "color": "yellow",
            "dash": "dash"
           },
           "showlegend": false,
           "type": "scatter",
           "x": [
            44,
            44
           ],
           "y": [
            0,
            53.5
           ]
          },
          {
           "fill": "toself",
           "fillcolor": "#4B92DB",
           "hoverinfo": "skip",
           "line": {
            "color": "white",
            "width": 3
           },
           "mode": "lines",
           "opacity": 1,
           "showlegend": false,
           "type": "scatter",
           "x": [
            0,
            0,
            10,
            10,
            0
           ],
           "y": [
            0,
            53.5,
            53.5,
            0,
            0
           ]
          },
          {
           "fill": "toself",
           "fillcolor": "#0B2265",
           "hoverinfo": "skip",
           "line": {
            "color": "white",
            "width": 3
           },
           "mode": "lines",
           "opacity": 1,
           "showlegend": false,
           "type": "scatter",
           "x": [
            110,
            110,
            120,
            120,
            110
           ],
           "y": [
            0,
            53.5,
            53.5,
            0,
            0
           ]
          },
          {
           "hoverinfo": "text",
           "hovertext": [
            "nflId:42365.0<br>displayName:Bud Dupree<br>Player Speed:0.41 yd/s",
            "nflId:43353.0<br>displayName:Kevin Byard<br>Player Speed:0.28 yd/s",
            "nflId:44869.0<br>displayName:Zach Cunningham<br>Player Speed:0.04 yd/s",
            "nflId:46457.0<br>displayName:Olasunkanmi Adeniyi<br>Player Speed:0.44 yd/s",
            "nflId:47802.0<br>displayName:Jeffery Simmons<br>Player Speed:0.01 yd/s",
            "nflId:47899.0<br>displayName:Amani Hooker<br>Player Speed:0.17 yd/s",
            "nflId:47915.0<br>displayName:Ugochukwu Amadi<br>Player Speed:1.31 yd/s",
            "nflId:47971.0<br>displayName:David Long<br>Player Speed:0.11 yd/s",
            "nflId:52469.0<br>displayName:Kristian Fulton<br>Player Speed:0.49 yd/s",
            "nflId:53073.0<br>displayName:Teair Tart<br>Player Speed:0.33 yd/s",
            "nflId:54500.0<br>displayName:Roger McCreary<br>Player Speed:0.32 yd/s"
           ],
           "marker": {
            "color": "#4B92DB",
            "line": {
             "color": "#0C2340",
             "width": 2
            },
            "size": 10
           },
           "mode": "markers",
           "name": "TEN",
           "type": "scatter",
           "x": [
            51.43,
            41.46,
            46.89,
            51.23,
            50.98,
            40.5,
            49.57,
            45.41,
            47.05,
            51.2,
            44.42
           ],
           "y": [
            23.41,
            35.16,
            33.19,
            35.45,
            26.92,
            21.92,
            21.03,
            27.47,
            10.9,
            31.07,
            40.59
           ]
          },
          {
           "hoverinfo": "text",
           "hovertext": [
            "nflId:42471.0<br>displayName:Jon Feliciano<br>Player Speed:0.0 yd/s",
            "nflId:42477.0<br>displayName:Mark Glowinski<br>Player Speed:0.0 yd/s",
            "nflId:44908.0<br>displayName:Kenny Golladay<br>Player Speed:0.01 yd/s",
            "nflId:46071.0<br>displayName:Saquon Barkley<br>Player Speed:0.0 yd/s",
            "nflId:46309.0<br>displayName:Richie James<br>Player Speed:0.0 yd/s",
            "nflId:47789.0<br>displayName:Daniel Jones<br>Player Speed:0.09 yd/s",
            "nflId:48489.0<br>displayName:David Sills<br>Player Speed:0.0 yd/s",
            "nflId:52412.0<br>displayName:Andrew Thomas<br>Player Speed:0.02 yd/s",
            "nflId:54472.0<br>displayName:Evan Neal<br>Player Speed:0.0 yd/s",
            "nflId:54532.0<br>displayName:Joshua Ezeudu<br>Player Speed:0.0 yd/s",
            "nflId:54577.0<br>displayName:Daniel Bellinger<br>Player Speed:0.0 yd/s"
           ],
           "marker": {
            "color": "#0B2265",
            "line": {
             "color": "#A71930",
             "width": 2
            },
            "size": 10
           },
           "mode": "markers",
           "name": "NYG",
           "type": "scatter",
           "x": [
            52.45,
            52.93,
            52.49,
            56.92,
            53.28,
            56.71,
            52.9,
            53.09,
            53.06,
            52.9,
            53.88
           ],
           "y": [
            29.6,
            31.34,
            10.55,
            27.52,
            20.46,
            29.76,
            38.88,
            26.62,
            32.77,
            28.26,
            35.62
           ]
          },
          {
           "hoverinfo": "none",
           "marker": {
            "color": "#CBB67C",
            "line": {
             "color": "#663831",
             "width": 2
            },
            "size": 10
           },
           "mode": "markers",
           "name": "football",
           "type": "scatter",
           "x": [
            52.0299987792969
           ],
           "y": [
            29.7399997711182
           ]
          }
         ],
         "name": "22"
        },
        {
         "data": [
          {
           "hoverinfo": "none",
           "mode": "text",
           "showlegend": false,
           "text": [
            "10",
            "20",
            "30",
            "40",
            "50",
            "40",
            "30",
            "20",
            "10"
           ],
           "textfont": {
            "color": "#ffffff",
            "family": "Courier New, monospace",
            "size": 30
           },
           "type": "scatter",
           "x": [
            20,
            30,
            40,
            50,
            60,
            70,
            80,
            90,
            100
           ],
           "y": [
            5,
            5,
            5,
            5,
            5,
            5,
            5,
            5,
            5
           ]
          },
          {
           "hoverinfo": "none",
           "mode": "text",
           "showlegend": false,
           "text": [
            "10",
            "20",
            "30",
            "40",
            "50",
            "40",
            "30",
            "20",
            "10"
           ],
           "textfont": {
            "color": "#ffffff",
            "family": "Courier New, monospace",
            "size": 30
           },
           "type": "scatter",
           "x": [
            20,
            30,
            40,
            50,
            60,
            70,
            80,
            90,
            100
           ],
           "y": [
            48.5,
            48.5,
            48.5,
            48.5,
            48.5,
            48.5,
            48.5,
            48.5,
            48.5
           ]
          },
          {
           "hoverinfo": "none",
           "line": {
            "color": "blue",
            "dash": "dash"
           },
           "showlegend": false,
           "type": "scatter",
           "x": [
            52,
            52
           ],
           "y": [
            0,
            53.5
           ]
          },
          {
           "hoverinfo": "none",
           "line": {
            "color": "yellow",
            "dash": "dash"
           },
           "showlegend": false,
           "type": "scatter",
           "x": [
            44,
            44
           ],
           "y": [
            0,
            53.5
           ]
          },
          {
           "fill": "toself",
           "fillcolor": "#4B92DB",
           "hoverinfo": "skip",
           "line": {
            "color": "white",
            "width": 3
           },
           "mode": "lines",
           "opacity": 1,
           "showlegend": false,
           "type": "scatter",
           "x": [
            0,
            0,
            10,
            10,
            0
           ],
           "y": [
            0,
            53.5,
            53.5,
            0,
            0
           ]
          },
          {
           "fill": "toself",
           "fillcolor": "#0B2265",
           "hoverinfo": "skip",
           "line": {
            "color": "white",
            "width": 3
           },
           "mode": "lines",
           "opacity": 1,
           "showlegend": false,
           "type": "scatter",
           "x": [
            110,
            110,
            120,
            120,
            110
           ],
           "y": [
            0,
            53.5,
            53.5,
            0,
            0
           ]
          },
          {
           "hoverinfo": "text",
           "hovertext": [
            "nflId:42365.0<br>displayName:Bud Dupree<br>Player Speed:0.33 yd/s",
            "nflId:43353.0<br>displayName:Kevin Byard<br>Player Speed:0.29 yd/s",
            "nflId:44869.0<br>displayName:Zach Cunningham<br>Player Speed:0.04 yd/s",
            "nflId:46457.0<br>displayName:Olasunkanmi Adeniyi<br>Player Speed:0.4 yd/s",
            "nflId:47802.0<br>displayName:Jeffery Simmons<br>Player Speed:0.01 yd/s",
            "nflId:47899.0<br>displayName:Amani Hooker<br>Player Speed:0.24 yd/s",
            "nflId:47915.0<br>displayName:Ugochukwu Amadi<br>Player Speed:1.33 yd/s",
            "nflId:47971.0<br>displayName:David Long<br>Player Speed:0.1 yd/s",
            "nflId:52469.0<br>displayName:Kristian Fulton<br>Player Speed:0.4 yd/s",
            "nflId:53073.0<br>displayName:Teair Tart<br>Player Speed:0.39 yd/s",
            "nflId:54500.0<br>displayName:Roger McCreary<br>Player Speed:0.32 yd/s"
           ],
           "marker": {
            "color": "#4B92DB",
            "line": {
             "color": "#0C2340",
             "width": 2
            },
            "size": 10
           },
           "mode": "markers",
           "name": "TEN",
           "type": "scatter",
           "x": [
            51.4,
            41.42,
            46.89,
            51.27,
            50.98,
            40.52,
            49.69,
            45.41,
            47,
            51.23,
            44.43
           ],
           "y": [
            23.4,
            35.16,
            33.19,
            35.44,
            26.92,
            21.91,
            21.08,
            27.46,
            10.9,
            31.09,
            40.56
           ]
          },
          {
           "hoverinfo": "text",
           "hovertext": [
            "nflId:42471.0<br>displayName:Jon Feliciano<br>Player Speed:0.0 yd/s",
            "nflId:42477.0<br>displayName:Mark Glowinski<br>Player Speed:0.0 yd/s",
            "nflId:44908.0<br>displayName:Kenny Golladay<br>Player Speed:0.01 yd/s",
            "nflId:46071.0<br>displayName:Saquon Barkley<br>Player Speed:0.0 yd/s",
            "nflId:46309.0<br>displayName:Richie James<br>Player Speed:0.0 yd/s",
            "nflId:47789.0<br>displayName:Daniel Jones<br>Player Speed:0.19 yd/s",
            "nflId:48489.0<br>displayName:David Sills<br>Player Speed:0.0 yd/s",
            "nflId:52412.0<br>displayName:Andrew Thomas<br>Player Speed:0.02 yd/s",
            "nflId:54472.0<br>displayName:Evan Neal<br>Player Speed:0.0 yd/s",
            "nflId:54532.0<br>displayName:Joshua Ezeudu<br>Player Speed:0.0 yd/s",
            "nflId:54577.0<br>displayName:Daniel Bellinger<br>Player Speed:0.0 yd/s"
           ],
           "marker": {
            "color": "#0B2265",
            "line": {
             "color": "#A71930",
             "width": 2
            },
            "size": 10
           },
           "mode": "markers",
           "name": "NYG",
           "type": "scatter",
           "x": [
            52.45,
            52.93,
            52.49,
            56.92,
            53.29,
            56.72,
            52.9,
            53.1,
            53.06,
            52.9,
            53.88
           ],
           "y": [
            29.6,
            31.35,
            10.55,
            27.52,
            20.46,
            29.76,
            38.88,
            26.64,
            32.77,
            28.26,
            35.62
           ]
          },
          {
           "hoverinfo": "none",
           "marker": {
            "color": "#CBB67C",
            "line": {
             "color": "#663831",
             "width": 2
            },
            "size": 10
           },
           "mode": "markers",
           "name": "football",
           "type": "scatter",
           "x": [
            52.0299987792969
           ],
           "y": [
            29.7399997711182
           ]
          }
         ],
         "name": "23"
        },
        {
         "data": [
          {
           "hoverinfo": "none",
           "mode": "text",
           "showlegend": false,
           "text": [
            "10",
            "20",
            "30",
            "40",
            "50",
            "40",
            "30",
            "20",
            "10"
           ],
           "textfont": {
            "color": "#ffffff",
            "family": "Courier New, monospace",
            "size": 30
           },
           "type": "scatter",
           "x": [
            20,
            30,
            40,
            50,
            60,
            70,
            80,
            90,
            100
           ],
           "y": [
            5,
            5,
            5,
            5,
            5,
            5,
            5,
            5,
            5
           ]
          },
          {
           "hoverinfo": "none",
           "mode": "text",
           "showlegend": false,
           "text": [
            "10",
            "20",
            "30",
            "40",
            "50",
            "40",
            "30",
            "20",
            "10"
           ],
           "textfont": {
            "color": "#ffffff",
            "family": "Courier New, monospace",
            "size": 30
           },
           "type": "scatter",
           "x": [
            20,
            30,
            40,
            50,
            60,
            70,
            80,
            90,
            100
           ],
           "y": [
            48.5,
            48.5,
            48.5,
            48.5,
            48.5,
            48.5,
            48.5,
            48.5,
            48.5
           ]
          },
          {
           "hoverinfo": "none",
           "line": {
            "color": "blue",
            "dash": "dash"
           },
           "showlegend": false,
           "type": "scatter",
           "x": [
            52,
            52
           ],
           "y": [
            0,
            53.5
           ]
          },
          {
           "hoverinfo": "none",
           "line": {
            "color": "yellow",
            "dash": "dash"
           },
           "showlegend": false,
           "type": "scatter",
           "x": [
            44,
            44
           ],
           "y": [
            0,
            53.5
           ]
          },
          {
           "fill": "toself",
           "fillcolor": "#4B92DB",
           "hoverinfo": "skip",
           "line": {
            "color": "white",
            "width": 3
           },
           "mode": "lines",
           "opacity": 1,
           "showlegend": false,
           "type": "scatter",
           "x": [
            0,
            0,
            10,
            10,
            0
           ],
           "y": [
            0,
            53.5,
            53.5,
            0,
            0
           ]
          },
          {
           "fill": "toself",
           "fillcolor": "#0B2265",
           "hoverinfo": "skip",
           "line": {
            "color": "white",
            "width": 3
           },
           "mode": "lines",
           "opacity": 1,
           "showlegend": false,
           "type": "scatter",
           "x": [
            110,
            110,
            120,
            120,
            110
           ],
           "y": [
            0,
            53.5,
            53.5,
            0,
            0
           ]
          },
          {
           "hoverinfo": "text",
           "hovertext": [
            "nflId:42365.0<br>displayName:Bud Dupree<br>Player Speed:0.19 yd/s",
            "nflId:43353.0<br>displayName:Kevin Byard<br>Player Speed:0.28 yd/s",
            "nflId:44869.0<br>displayName:Zach Cunningham<br>Player Speed:0.05 yd/s",
            "nflId:46457.0<br>displayName:Olasunkanmi Adeniyi<br>Player Speed:0.36 yd/s",
            "nflId:47802.0<br>displayName:Jeffery Simmons<br>Player Speed:0.01 yd/s",
            "nflId:47899.0<br>displayName:Amani Hooker<br>Player Speed:0.28 yd/s",
            "nflId:47915.0<br>displayName:Ugochukwu Amadi<br>Player Speed:1.35 yd/s",
            "nflId:47971.0<br>displayName:David Long<br>Player Speed:0.14 yd/s",
            "nflId:52469.0<br>displayName:Kristian Fulton<br>Player Speed:0.31 yd/s",
            "nflId:53073.0<br>displayName:Teair Tart<br>Player Speed:0.41 yd/s",
            "nflId:54500.0<br>displayName:Roger McCreary<br>Player Speed:0.29 yd/s"
           ],
           "marker": {
            "color": "#4B92DB",
            "line": {
             "color": "#0C2340",
             "width": 2
            },
            "size": 10
           },
           "mode": "markers",
           "name": "TEN",
           "type": "scatter",
           "x": [
            51.38,
            41.39,
            46.89,
            51.31,
            50.98,
            40.54,
            49.81,
            45.43,
            46.97,
            51.27,
            44.44
           ],
           "y": [
            23.39,
            35.16,
            33.2,
            35.43,
            26.93,
            21.91,
            21.13,
            27.46,
            10.9,
            31.11,
            40.53
           ]
          },
          {
           "hoverinfo": "text",
           "hovertext": [
            "nflId:42471.0<br>displayName:Jon Feliciano<br>Player Speed:0.0 yd/s",
            "nflId:42477.0<br>displayName:Mark Glowinski<br>Player Speed:0.0 yd/s",
            "nflId:44908.0<br>displayName:Kenny Golladay<br>Player Speed:0.01 yd/s",
            "nflId:46071.0<br>displayName:Saquon Barkley<br>Player Speed:0.0 yd/s",
            "nflId:46309.0<br>displayName:Richie James<br>Player Speed:0.0 yd/s",
            "nflId:47789.0<br>displayName:Daniel Jones<br>Player Speed:0.25 yd/s",
            "nflId:48489.0<br>displayName:David Sills<br>Player Speed:0.0 yd/s",
            "nflId:52412.0<br>displayName:Andrew Thomas<br>Player Speed:0.02 yd/s",
            "nflId:54472.0<br>displayName:Evan Neal<br>Player Speed:0.0 yd/s",
            "nflId:54532.0<br>displayName:Joshua Ezeudu<br>Player Speed:0.0 yd/s",
            "nflId:54577.0<br>displayName:Daniel Bellinger<br>Player Speed:0.0 yd/s"
           ],
           "marker": {
            "color": "#0B2265",
            "line": {
             "color": "#A71930",
             "width": 2
            },
            "size": 10
           },
           "mode": "markers",
           "name": "NYG",
           "type": "scatter",
           "x": [
            52.45,
            52.93,
            52.49,
            56.92,
            53.29,
            56.74,
            52.9,
            53.1,
            53.06,
            52.9,
            53.88
           ],
           "y": [
            29.6,
            31.35,
            10.55,
            27.52,
            20.46,
            29.76,
            38.88,
            26.64,
            32.76,
            28.26,
            35.63
           ]
          },
          {
           "hoverinfo": "none",
           "marker": {
            "color": "#CBB67C",
            "line": {
             "color": "#663831",
             "width": 2
            },
            "size": 10
           },
           "mode": "markers",
           "name": "football",
           "type": "scatter",
           "x": [
            52.0299987792969
           ],
           "y": [
            29.7399997711182
           ]
          }
         ],
         "name": "24"
        },
        {
         "data": [
          {
           "hoverinfo": "none",
           "mode": "text",
           "showlegend": false,
           "text": [
            "10",
            "20",
            "30",
            "40",
            "50",
            "40",
            "30",
            "20",
            "10"
           ],
           "textfont": {
            "color": "#ffffff",
            "family": "Courier New, monospace",
            "size": 30
           },
           "type": "scatter",
           "x": [
            20,
            30,
            40,
            50,
            60,
            70,
            80,
            90,
            100
           ],
           "y": [
            5,
            5,
            5,
            5,
            5,
            5,
            5,
            5,
            5
           ]
          },
          {
           "hoverinfo": "none",
           "mode": "text",
           "showlegend": false,
           "text": [
            "10",
            "20",
            "30",
            "40",
            "50",
            "40",
            "30",
            "20",
            "10"
           ],
           "textfont": {
            "color": "#ffffff",
            "family": "Courier New, monospace",
            "size": 30
           },
           "type": "scatter",
           "x": [
            20,
            30,
            40,
            50,
            60,
            70,
            80,
            90,
            100
           ],
           "y": [
            48.5,
            48.5,
            48.5,
            48.5,
            48.5,
            48.5,
            48.5,
            48.5,
            48.5
           ]
          },
          {
           "hoverinfo": "none",
           "line": {
            "color": "blue",
            "dash": "dash"
           },
           "showlegend": false,
           "type": "scatter",
           "x": [
            52,
            52
           ],
           "y": [
            0,
            53.5
           ]
          },
          {
           "hoverinfo": "none",
           "line": {
            "color": "yellow",
            "dash": "dash"
           },
           "showlegend": false,
           "type": "scatter",
           "x": [
            44,
            44
           ],
           "y": [
            0,
            53.5
           ]
          },
          {
           "fill": "toself",
           "fillcolor": "#4B92DB",
           "hoverinfo": "skip",
           "line": {
            "color": "white",
            "width": 3
           },
           "mode": "lines",
           "opacity": 1,
           "showlegend": false,
           "type": "scatter",
           "x": [
            0,
            0,
            10,
            10,
            0
           ],
           "y": [
            0,
            53.5,
            53.5,
            0,
            0
           ]
          },
          {
           "fill": "toself",
           "fillcolor": "#0B2265",
           "hoverinfo": "skip",
           "line": {
            "color": "white",
            "width": 3
           },
           "mode": "lines",
           "opacity": 1,
           "showlegend": false,
           "type": "scatter",
           "x": [
            110,
            110,
            120,
            120,
            110
           ],
           "y": [
            0,
            53.5,
            53.5,
            0,
            0
           ]
          },
          {
           "hoverinfo": "text",
           "hovertext": [
            "nflId:42365.0<br>displayName:Bud Dupree<br>Player Speed:0.1 yd/s",
            "nflId:43353.0<br>displayName:Kevin Byard<br>Player Speed:0.28 yd/s",
            "nflId:44869.0<br>displayName:Zach Cunningham<br>Player Speed:0.06 yd/s",
            "nflId:46457.0<br>displayName:Olasunkanmi Adeniyi<br>Player Speed:0.31 yd/s",
            "nflId:47802.0<br>displayName:Jeffery Simmons<br>Player Speed:0.01 yd/s",
            "nflId:47899.0<br>displayName:Amani Hooker<br>Player Speed:0.33 yd/s",
            "nflId:47915.0<br>displayName:Ugochukwu Amadi<br>Player Speed:1.33 yd/s",
            "nflId:47971.0<br>displayName:David Long<br>Player Speed:0.19 yd/s",
            "nflId:52469.0<br>displayName:Kristian Fulton<br>Player Speed:0.21 yd/s",
            "nflId:53073.0<br>displayName:Teair Tart<br>Player Speed:0.45 yd/s",
            "nflId:54500.0<br>displayName:Roger McCreary<br>Player Speed:0.28 yd/s"
           ],
           "marker": {
            "color": "#4B92DB",
            "line": {
             "color": "#0C2340",
             "width": 2
            },
            "size": 10
           },
           "mode": "markers",
           "name": "TEN",
           "type": "scatter",
           "x": [
            51.37,
            41.35,
            46.89,
            51.34,
            51,
            40.58,
            49.93,
            45.44,
            46.94,
            51.3,
            44.45
           ],
           "y": [
            23.39,
            35.18,
            33.21,
            35.43,
            26.91,
            21.91,
            21.18,
            27.47,
            10.9,
            31.14,
            40.52
           ]
          },
          {
           "hoverinfo": "text",
           "hovertext": [
            "nflId:42471.0<br>displayName:Jon Feliciano<br>Player Speed:0.0 yd/s",
            "nflId:42477.0<br>displayName:Mark Glowinski<br>Player Speed:0.0 yd/s",
            "nflId:44908.0<br>displayName:Kenny Golladay<br>Player Speed:0.0 yd/s",
            "nflId:46071.0<br>displayName:Saquon Barkley<br>Player Speed:0.0 yd/s",
            "nflId:46309.0<br>displayName:Richie James<br>Player Speed:0.0 yd/s",
            "nflId:47789.0<br>displayName:Daniel Jones<br>Player Speed:0.28 yd/s",
            "nflId:48489.0<br>displayName:David Sills<br>Player Speed:0.0 yd/s",
            "nflId:52412.0<br>displayName:Andrew Thomas<br>Player Speed:0.02 yd/s",
            "nflId:54472.0<br>displayName:Evan Neal<br>Player Speed:0.0 yd/s",
            "nflId:54532.0<br>displayName:Joshua Ezeudu<br>Player Speed:0.0 yd/s",
            "nflId:54577.0<br>displayName:Daniel Bellinger<br>Player Speed:0.0 yd/s"
           ],
           "marker": {
            "color": "#0B2265",
            "line": {
             "color": "#A71930",
             "width": 2
            },
            "size": 10
           },
           "mode": "markers",
           "name": "NYG",
           "type": "scatter",
           "x": [
            52.45,
            52.92,
            52.49,
            56.92,
            53.29,
            56.77,
            52.9,
            53.1,
            53.06,
            52.89,
            53.88
           ],
           "y": [
            29.6,
            31.35,
            10.54,
            27.52,
            20.46,
            29.75,
            38.88,
            26.63,
            32.76,
            28.26,
            35.63
           ]
          },
          {
           "hoverinfo": "none",
           "marker": {
            "color": "#CBB67C",
            "line": {
             "color": "#663831",
             "width": 2
            },
            "size": 10
           },
           "mode": "markers",
           "name": "football",
           "type": "scatter",
           "x": [
            52.0299987792969
           ],
           "y": [
            29.7399997711182
           ]
          }
         ],
         "name": "25"
        },
        {
         "data": [
          {
           "hoverinfo": "none",
           "mode": "text",
           "showlegend": false,
           "text": [
            "10",
            "20",
            "30",
            "40",
            "50",
            "40",
            "30",
            "20",
            "10"
           ],
           "textfont": {
            "color": "#ffffff",
            "family": "Courier New, monospace",
            "size": 30
           },
           "type": "scatter",
           "x": [
            20,
            30,
            40,
            50,
            60,
            70,
            80,
            90,
            100
           ],
           "y": [
            5,
            5,
            5,
            5,
            5,
            5,
            5,
            5,
            5
           ]
          },
          {
           "hoverinfo": "none",
           "mode": "text",
           "showlegend": false,
           "text": [
            "10",
            "20",
            "30",
            "40",
            "50",
            "40",
            "30",
            "20",
            "10"
           ],
           "textfont": {
            "color": "#ffffff",
            "family": "Courier New, monospace",
            "size": 30
           },
           "type": "scatter",
           "x": [
            20,
            30,
            40,
            50,
            60,
            70,
            80,
            90,
            100
           ],
           "y": [
            48.5,
            48.5,
            48.5,
            48.5,
            48.5,
            48.5,
            48.5,
            48.5,
            48.5
           ]
          },
          {
           "hoverinfo": "none",
           "line": {
            "color": "blue",
            "dash": "dash"
           },
           "showlegend": false,
           "type": "scatter",
           "x": [
            52,
            52
           ],
           "y": [
            0,
            53.5
           ]
          },
          {
           "hoverinfo": "none",
           "line": {
            "color": "yellow",
            "dash": "dash"
           },
           "showlegend": false,
           "type": "scatter",
           "x": [
            44,
            44
           ],
           "y": [
            0,
            53.5
           ]
          },
          {
           "fill": "toself",
           "fillcolor": "#4B92DB",
           "hoverinfo": "skip",
           "line": {
            "color": "white",
            "width": 3
           },
           "mode": "lines",
           "opacity": 1,
           "showlegend": false,
           "type": "scatter",
           "x": [
            0,
            0,
            10,
            10,
            0
           ],
           "y": [
            0,
            53.5,
            53.5,
            0,
            0
           ]
          },
          {
           "fill": "toself",
           "fillcolor": "#0B2265",
           "hoverinfo": "skip",
           "line": {
            "color": "white",
            "width": 3
           },
           "mode": "lines",
           "opacity": 1,
           "showlegend": false,
           "type": "scatter",
           "x": [
            110,
            110,
            120,
            120,
            110
           ],
           "y": [
            0,
            53.5,
            53.5,
            0,
            0
           ]
          },
          {
           "hoverinfo": "text",
           "hovertext": [
            "nflId:42365.0<br>displayName:Bud Dupree<br>Player Speed:0.02 yd/s",
            "nflId:43353.0<br>displayName:Kevin Byard<br>Player Speed:0.26 yd/s",
            "nflId:44869.0<br>displayName:Zach Cunningham<br>Player Speed:0.06 yd/s",
            "nflId:46457.0<br>displayName:Olasunkanmi Adeniyi<br>Player Speed:0.24 yd/s",
            "nflId:47802.0<br>displayName:Jeffery Simmons<br>Player Speed:0.01 yd/s",
            "nflId:47899.0<br>displayName:Amani Hooker<br>Player Speed:0.36 yd/s",
            "nflId:47915.0<br>displayName:Ugochukwu Amadi<br>Player Speed:1.26 yd/s",
            "nflId:47971.0<br>displayName:David Long<br>Player Speed:0.24 yd/s",
            "nflId:52469.0<br>displayName:Kristian Fulton<br>Player Speed:0.14 yd/s",
            "nflId:53073.0<br>displayName:Teair Tart<br>Player Speed:0.4 yd/s",
            "nflId:54500.0<br>displayName:Roger McCreary<br>Player Speed:0.28 yd/s"
           ],
           "marker": {
            "color": "#4B92DB",
            "line": {
             "color": "#0C2340",
             "width": 2
            },
            "size": 10
           },
           "mode": "markers",
           "name": "TEN",
           "type": "scatter",
           "x": [
            51.37,
            41.31,
            46.89,
            51.37,
            51,
            40.61,
            50.05,
            45.47,
            46.93,
            51.33,
            44.48
           ],
           "y": [
            23.39,
            35.19,
            33.22,
            35.42,
            26.92,
            21.92,
            21.23,
            27.48,
            10.89,
            31.16,
            40.5
           ]
          },
          {
           "hoverinfo": "text",
           "hovertext": [
            "nflId:42471.0<br>displayName:Jon Feliciano<br>Player Speed:0.0 yd/s",
            "nflId:42477.0<br>displayName:Mark Glowinski<br>Player Speed:0.0 yd/s",
            "nflId:44908.0<br>displayName:Kenny Golladay<br>Player Speed:0.0 yd/s",
            "nflId:46071.0<br>displayName:Saquon Barkley<br>Player Speed:0.0 yd/s",
            "nflId:46309.0<br>displayName:Richie James<br>Player Speed:0.0 yd/s",
            "nflId:47789.0<br>displayName:Daniel Jones<br>Player Speed:0.24 yd/s",
            "nflId:48489.0<br>displayName:David Sills<br>Player Speed:0.0 yd/s",
            "nflId:52412.0<br>displayName:Andrew Thomas<br>Player Speed:0.01 yd/s",
            "nflId:54472.0<br>displayName:Evan Neal<br>Player Speed:0.0 yd/s",
            "nflId:54532.0<br>displayName:Joshua Ezeudu<br>Player Speed:0.0 yd/s",
            "nflId:54577.0<br>displayName:Daniel Bellinger<br>Player Speed:0.0 yd/s"
           ],
           "marker": {
            "color": "#0B2265",
            "line": {
             "color": "#A71930",
             "width": 2
            },
            "size": 10
           },
           "mode": "markers",
           "name": "NYG",
           "type": "scatter",
           "x": [
            52.45,
            52.92,
            52.49,
            56.92,
            53.28,
            56.79,
            52.9,
            53.1,
            53.05,
            52.89,
            53.88
           ],
           "y": [
            29.6,
            31.35,
            10.54,
            27.52,
            20.46,
            29.75,
            38.87,
            26.64,
            32.76,
            28.26,
            35.63
           ]
          },
          {
           "hoverinfo": "none",
           "marker": {
            "color": "#CBB67C",
            "line": {
             "color": "#663831",
             "width": 2
            },
            "size": 10
           },
           "mode": "markers",
           "name": "football",
           "type": "scatter",
           "x": [
            52.0299987792969
           ],
           "y": [
            29.7399997711182
           ]
          }
         ],
         "name": "26"
        },
        {
         "data": [
          {
           "hoverinfo": "none",
           "mode": "text",
           "showlegend": false,
           "text": [
            "10",
            "20",
            "30",
            "40",
            "50",
            "40",
            "30",
            "20",
            "10"
           ],
           "textfont": {
            "color": "#ffffff",
            "family": "Courier New, monospace",
            "size": 30
           },
           "type": "scatter",
           "x": [
            20,
            30,
            40,
            50,
            60,
            70,
            80,
            90,
            100
           ],
           "y": [
            5,
            5,
            5,
            5,
            5,
            5,
            5,
            5,
            5
           ]
          },
          {
           "hoverinfo": "none",
           "mode": "text",
           "showlegend": false,
           "text": [
            "10",
            "20",
            "30",
            "40",
            "50",
            "40",
            "30",
            "20",
            "10"
           ],
           "textfont": {
            "color": "#ffffff",
            "family": "Courier New, monospace",
            "size": 30
           },
           "type": "scatter",
           "x": [
            20,
            30,
            40,
            50,
            60,
            70,
            80,
            90,
            100
           ],
           "y": [
            48.5,
            48.5,
            48.5,
            48.5,
            48.5,
            48.5,
            48.5,
            48.5,
            48.5
           ]
          },
          {
           "hoverinfo": "none",
           "line": {
            "color": "blue",
            "dash": "dash"
           },
           "showlegend": false,
           "type": "scatter",
           "x": [
            52,
            52
           ],
           "y": [
            0,
            53.5
           ]
          },
          {
           "hoverinfo": "none",
           "line": {
            "color": "yellow",
            "dash": "dash"
           },
           "showlegend": false,
           "type": "scatter",
           "x": [
            44,
            44
           ],
           "y": [
            0,
            53.5
           ]
          },
          {
           "fill": "toself",
           "fillcolor": "#4B92DB",
           "hoverinfo": "skip",
           "line": {
            "color": "white",
            "width": 3
           },
           "mode": "lines",
           "opacity": 1,
           "showlegend": false,
           "type": "scatter",
           "x": [
            0,
            0,
            10,
            10,
            0
           ],
           "y": [
            0,
            53.5,
            53.5,
            0,
            0
           ]
          },
          {
           "fill": "toself",
           "fillcolor": "#0B2265",
           "hoverinfo": "skip",
           "line": {
            "color": "white",
            "width": 3
           },
           "mode": "lines",
           "opacity": 1,
           "showlegend": false,
           "type": "scatter",
           "x": [
            110,
            110,
            120,
            120,
            110
           ],
           "y": [
            0,
            53.5,
            53.5,
            0,
            0
           ]
          },
          {
           "hoverinfo": "text",
           "hovertext": [
            "nflId:42365.0<br>displayName:Bud Dupree<br>Player Speed:0.13 yd/s",
            "nflId:43353.0<br>displayName:Kevin Byard<br>Player Speed:0.26 yd/s",
            "nflId:44869.0<br>displayName:Zach Cunningham<br>Player Speed:0.06 yd/s",
            "nflId:46457.0<br>displayName:Olasunkanmi Adeniyi<br>Player Speed:0.23 yd/s",
            "nflId:47802.0<br>displayName:Jeffery Simmons<br>Player Speed:0.01 yd/s",
            "nflId:47899.0<br>displayName:Amani Hooker<br>Player Speed:0.38 yd/s",
            "nflId:47915.0<br>displayName:Ugochukwu Amadi<br>Player Speed:1.17 yd/s",
            "nflId:47971.0<br>displayName:David Long<br>Player Speed:0.3 yd/s",
            "nflId:52469.0<br>displayName:Kristian Fulton<br>Player Speed:0.2 yd/s",
            "nflId:53073.0<br>displayName:Teair Tart<br>Player Speed:0.35 yd/s",
            "nflId:54500.0<br>displayName:Roger McCreary<br>Player Speed:0.32 yd/s"
           ],
           "marker": {
            "color": "#4B92DB",
            "line": {
             "color": "#0C2340",
             "width": 2
            },
            "size": 10
           },
           "mode": "markers",
           "name": "TEN",
           "type": "scatter",
           "x": [
            51.38,
            41.27,
            46.88,
            51.38,
            51,
            40.65,
            50.16,
            45.5,
            46.92,
            51.36,
            44.51
           ],
           "y": [
            23.39,
            35.2,
            33.22,
            35.4,
            26.91,
            21.93,
            21.28,
            27.49,
            10.88,
            31.17,
            40.49
           ]
          },
          {
           "hoverinfo": "text",
           "hovertext": [
            "nflId:42471.0<br>displayName:Jon Feliciano<br>Player Speed:0.0 yd/s",
            "nflId:42477.0<br>displayName:Mark Glowinski<br>Player Speed:0.0 yd/s",
            "nflId:44908.0<br>displayName:Kenny Golladay<br>Player Speed:0.0 yd/s",
            "nflId:46071.0<br>displayName:Saquon Barkley<br>Player Speed:0.0 yd/s",
            "nflId:46309.0<br>displayName:Richie James<br>Player Speed:0.0 yd/s",
            "nflId:47789.0<br>displayName:Daniel Jones<br>Player Speed:0.2 yd/s",
            "nflId:48489.0<br>displayName:David Sills<br>Player Speed:0.0 yd/s",
            "nflId:52412.0<br>displayName:Andrew Thomas<br>Player Speed:0.01 yd/s",
            "nflId:54472.0<br>displayName:Evan Neal<br>Player Speed:0.0 yd/s",
            "nflId:54532.0<br>displayName:Joshua Ezeudu<br>Player Speed:0.0 yd/s",
            "nflId:54577.0<br>displayName:Daniel Bellinger<br>Player Speed:0.0 yd/s"
           ],
           "marker": {
            "color": "#0B2265",
            "line": {
             "color": "#A71930",
             "width": 2
            },
            "size": 10
           },
           "mode": "markers",
           "name": "NYG",
           "type": "scatter",
           "x": [
            52.45,
            52.92,
            52.49,
            56.92,
            53.29,
            56.8,
            52.9,
            53.1,
            53.05,
            52.9,
            53.88
           ],
           "y": [
            29.61,
            31.35,
            10.54,
            27.52,
            20.45,
            29.75,
            38.88,
            26.63,
            32.76,
            28.26,
            35.63
           ]
          },
          {
           "hoverinfo": "none",
           "marker": {
            "color": "#CBB67C",
            "line": {
             "color": "#663831",
             "width": 2
            },
            "size": 10
           },
           "mode": "markers",
           "name": "football",
           "type": "scatter",
           "x": [
            52.0299987792969
           ],
           "y": [
            29.7399997711182
           ]
          }
         ],
         "name": "27"
        },
        {
         "data": [
          {
           "hoverinfo": "none",
           "mode": "text",
           "showlegend": false,
           "text": [
            "10",
            "20",
            "30",
            "40",
            "50",
            "40",
            "30",
            "20",
            "10"
           ],
           "textfont": {
            "color": "#ffffff",
            "family": "Courier New, monospace",
            "size": 30
           },
           "type": "scatter",
           "x": [
            20,
            30,
            40,
            50,
            60,
            70,
            80,
            90,
            100
           ],
           "y": [
            5,
            5,
            5,
            5,
            5,
            5,
            5,
            5,
            5
           ]
          },
          {
           "hoverinfo": "none",
           "mode": "text",
           "showlegend": false,
           "text": [
            "10",
            "20",
            "30",
            "40",
            "50",
            "40",
            "30",
            "20",
            "10"
           ],
           "textfont": {
            "color": "#ffffff",
            "family": "Courier New, monospace",
            "size": 30
           },
           "type": "scatter",
           "x": [
            20,
            30,
            40,
            50,
            60,
            70,
            80,
            90,
            100
           ],
           "y": [
            48.5,
            48.5,
            48.5,
            48.5,
            48.5,
            48.5,
            48.5,
            48.5,
            48.5
           ]
          },
          {
           "hoverinfo": "none",
           "line": {
            "color": "blue",
            "dash": "dash"
           },
           "showlegend": false,
           "type": "scatter",
           "x": [
            52,
            52
           ],
           "y": [
            0,
            53.5
           ]
          },
          {
           "hoverinfo": "none",
           "line": {
            "color": "yellow",
            "dash": "dash"
           },
           "showlegend": false,
           "type": "scatter",
           "x": [
            44,
            44
           ],
           "y": [
            0,
            53.5
           ]
          },
          {
           "fill": "toself",
           "fillcolor": "#4B92DB",
           "hoverinfo": "skip",
           "line": {
            "color": "white",
            "width": 3
           },
           "mode": "lines",
           "opacity": 1,
           "showlegend": false,
           "type": "scatter",
           "x": [
            0,
            0,
            10,
            10,
            0
           ],
           "y": [
            0,
            53.5,
            53.5,
            0,
            0
           ]
          },
          {
           "fill": "toself",
           "fillcolor": "#0B2265",
           "hoverinfo": "skip",
           "line": {
            "color": "white",
            "width": 3
           },
           "mode": "lines",
           "opacity": 1,
           "showlegend": false,
           "type": "scatter",
           "x": [
            110,
            110,
            120,
            120,
            110
           ],
           "y": [
            0,
            53.5,
            53.5,
            0,
            0
           ]
          },
          {
           "hoverinfo": "text",
           "hovertext": [
            "nflId:42365.0<br>displayName:Bud Dupree<br>Player Speed:0.23 yd/s",
            "nflId:43353.0<br>displayName:Kevin Byard<br>Player Speed:0.24 yd/s",
            "nflId:44869.0<br>displayName:Zach Cunningham<br>Player Speed:0.06 yd/s",
            "nflId:46457.0<br>displayName:Olasunkanmi Adeniyi<br>Player Speed:0.28 yd/s",
            "nflId:47802.0<br>displayName:Jeffery Simmons<br>Player Speed:0.01 yd/s",
            "nflId:47899.0<br>displayName:Amani Hooker<br>Player Speed:0.41 yd/s",
            "nflId:47915.0<br>displayName:Ugochukwu Amadi<br>Player Speed:1.07 yd/s",
            "nflId:47971.0<br>displayName:David Long<br>Player Speed:0.35 yd/s",
            "nflId:52469.0<br>displayName:Kristian Fulton<br>Player Speed:0.23 yd/s",
            "nflId:53073.0<br>displayName:Teair Tart<br>Player Speed:0.28 yd/s",
            "nflId:54500.0<br>displayName:Roger McCreary<br>Player Speed:0.37 yd/s"
           ],
           "marker": {
            "color": "#4B92DB",
            "line": {
             "color": "#0C2340",
             "width": 2
            },
            "size": 10
           },
           "mode": "markers",
           "name": "TEN",
           "type": "scatter",
           "x": [
            51.39,
            41.25,
            46.87,
            51.39,
            51,
            40.69,
            50.27,
            45.54,
            46.91,
            51.38,
            44.54
           ],
           "y": [
            23.4,
            35.22,
            33.23,
            35.38,
            26.9,
            21.95,
            21.31,
            27.5,
            10.86,
            31.18,
            40.5
           ]
          },
          {
           "hoverinfo": "text",
           "hovertext": [
            "nflId:42471.0<br>displayName:Jon Feliciano<br>Player Speed:0.0 yd/s",
            "nflId:42477.0<br>displayName:Mark Glowinski<br>Player Speed:0.0 yd/s",
            "nflId:44908.0<br>displayName:Kenny Golladay<br>Player Speed:0.0 yd/s",
            "nflId:46071.0<br>displayName:Saquon Barkley<br>Player Speed:0.0 yd/s",
            "nflId:46309.0<br>displayName:Richie James<br>Player Speed:0.0 yd/s",
            "nflId:47789.0<br>displayName:Daniel Jones<br>Player Speed:0.14 yd/s",
            "nflId:48489.0<br>displayName:David Sills<br>Player Speed:0.0 yd/s",
            "nflId:52412.0<br>displayName:Andrew Thomas<br>Player Speed:0.01 yd/s",
            "nflId:54472.0<br>displayName:Evan Neal<br>Player Speed:0.0 yd/s",
            "nflId:54532.0<br>displayName:Joshua Ezeudu<br>Player Speed:0.0 yd/s",
            "nflId:54577.0<br>displayName:Daniel Bellinger<br>Player Speed:0.0 yd/s"
           ],
           "marker": {
            "color": "#0B2265",
            "line": {
             "color": "#A71930",
             "width": 2
            },
            "size": 10
           },
           "mode": "markers",
           "name": "NYG",
           "type": "scatter",
           "x": [
            52.45,
            52.92,
            52.49,
            56.92,
            53.29,
            56.81,
            52.9,
            53.1,
            53.05,
            52.9,
            53.88
           ],
           "y": [
            29.61,
            31.35,
            10.54,
            27.53,
            20.45,
            29.76,
            38.88,
            26.62,
            32.75,
            28.26,
            35.63
           ]
          },
          {
           "hoverinfo": "none",
           "marker": {
            "color": "#CBB67C",
            "line": {
             "color": "#663831",
             "width": 2
            },
            "size": 10
           },
           "mode": "markers",
           "name": "football",
           "type": "scatter",
           "x": [
            52.0299987792969
           ],
           "y": [
            29.7399997711182
           ]
          }
         ],
         "name": "28"
        },
        {
         "data": [
          {
           "hoverinfo": "none",
           "mode": "text",
           "showlegend": false,
           "text": [
            "10",
            "20",
            "30",
            "40",
            "50",
            "40",
            "30",
            "20",
            "10"
           ],
           "textfont": {
            "color": "#ffffff",
            "family": "Courier New, monospace",
            "size": 30
           },
           "type": "scatter",
           "x": [
            20,
            30,
            40,
            50,
            60,
            70,
            80,
            90,
            100
           ],
           "y": [
            5,
            5,
            5,
            5,
            5,
            5,
            5,
            5,
            5
           ]
          },
          {
           "hoverinfo": "none",
           "mode": "text",
           "showlegend": false,
           "text": [
            "10",
            "20",
            "30",
            "40",
            "50",
            "40",
            "30",
            "20",
            "10"
           ],
           "textfont": {
            "color": "#ffffff",
            "family": "Courier New, monospace",
            "size": 30
           },
           "type": "scatter",
           "x": [
            20,
            30,
            40,
            50,
            60,
            70,
            80,
            90,
            100
           ],
           "y": [
            48.5,
            48.5,
            48.5,
            48.5,
            48.5,
            48.5,
            48.5,
            48.5,
            48.5
           ]
          },
          {
           "hoverinfo": "none",
           "line": {
            "color": "blue",
            "dash": "dash"
           },
           "showlegend": false,
           "type": "scatter",
           "x": [
            52,
            52
           ],
           "y": [
            0,
            53.5
           ]
          },
          {
           "hoverinfo": "none",
           "line": {
            "color": "yellow",
            "dash": "dash"
           },
           "showlegend": false,
           "type": "scatter",
           "x": [
            44,
            44
           ],
           "y": [
            0,
            53.5
           ]
          },
          {
           "fill": "toself",
           "fillcolor": "#4B92DB",
           "hoverinfo": "skip",
           "line": {
            "color": "white",
            "width": 3
           },
           "mode": "lines",
           "opacity": 1,
           "showlegend": false,
           "type": "scatter",
           "x": [
            0,
            0,
            10,
            10,
            0
           ],
           "y": [
            0,
            53.5,
            53.5,
            0,
            0
           ]
          },
          {
           "fill": "toself",
           "fillcolor": "#0B2265",
           "hoverinfo": "skip",
           "line": {
            "color": "white",
            "width": 3
           },
           "mode": "lines",
           "opacity": 1,
           "showlegend": false,
           "type": "scatter",
           "x": [
            110,
            110,
            120,
            120,
            110
           ],
           "y": [
            0,
            53.5,
            53.5,
            0,
            0
           ]
          },
          {
           "hoverinfo": "text",
           "hovertext": [
            "nflId:42365.0<br>displayName:Bud Dupree<br>Player Speed:0.32 yd/s",
            "nflId:43353.0<br>displayName:Kevin Byard<br>Player Speed:0.23 yd/s",
            "nflId:44869.0<br>displayName:Zach Cunningham<br>Player Speed:0.06 yd/s",
            "nflId:46457.0<br>displayName:Olasunkanmi Adeniyi<br>Player Speed:0.34 yd/s",
            "nflId:47802.0<br>displayName:Jeffery Simmons<br>Player Speed:0.01 yd/s",
            "nflId:47899.0<br>displayName:Amani Hooker<br>Player Speed:0.42 yd/s",
            "nflId:47915.0<br>displayName:Ugochukwu Amadi<br>Player Speed:0.98 yd/s",
            "nflId:47971.0<br>displayName:David Long<br>Player Speed:0.36 yd/s",
            "nflId:52469.0<br>displayName:Kristian Fulton<br>Player Speed:0.27 yd/s",
            "nflId:53073.0<br>displayName:Teair Tart<br>Player Speed:0.24 yd/s",
            "nflId:54500.0<br>displayName:Roger McCreary<br>Player Speed:0.41 yd/s"
           ],
           "marker": {
            "color": "#4B92DB",
            "line": {
             "color": "#0C2340",
             "width": 2
            },
            "size": 10
           },
           "mode": "markers",
           "name": "TEN",
           "type": "scatter",
           "x": [
            51.42,
            41.21,
            46.86,
            51.39,
            51.01,
            40.73,
            50.36,
            45.58,
            46.9,
            51.4,
            44.58
           ],
           "y": [
            23.41,
            35.23,
            33.24,
            35.35,
            26.89,
            21.96,
            21.35,
            27.51,
            10.83,
            31.18,
            40.5
           ]
          },
          {
           "hoverinfo": "text",
           "hovertext": [
            "nflId:42471.0<br>displayName:Jon Feliciano<br>Player Speed:0.0 yd/s",
            "nflId:42477.0<br>displayName:Mark Glowinski<br>Player Speed:0.0 yd/s",
            "nflId:44908.0<br>displayName:Kenny Golladay<br>Player Speed:0.0 yd/s",
            "nflId:46071.0<br>displayName:Saquon Barkley<br>Player Speed:0.0 yd/s",
            "nflId:46309.0<br>displayName:Richie James<br>Player Speed:0.0 yd/s",
            "nflId:47789.0<br>displayName:Daniel Jones<br>Player Speed:0.1 yd/s",
            "nflId:48489.0<br>displayName:David Sills<br>Player Speed:0.0 yd/s",
            "nflId:52412.0<br>displayName:Andrew Thomas<br>Player Speed:0.01 yd/s",
            "nflId:54472.0<br>displayName:Evan Neal<br>Player Speed:0.0 yd/s",
            "nflId:54532.0<br>displayName:Joshua Ezeudu<br>Player Speed:0.0 yd/s",
            "nflId:54577.0<br>displayName:Daniel Bellinger<br>Player Speed:0.0 yd/s"
           ],
           "marker": {
            "color": "#0B2265",
            "line": {
             "color": "#A71930",
             "width": 2
            },
            "size": 10
           },
           "mode": "markers",
           "name": "NYG",
           "type": "scatter",
           "x": [
            52.44,
            52.92,
            52.48,
            56.92,
            53.29,
            56.81,
            52.9,
            53.1,
            53.05,
            52.9,
            53.88
           ],
           "y": [
            29.61,
            31.35,
            10.53,
            27.52,
            20.45,
            29.77,
            38.88,
            26.62,
            32.75,
            28.27,
            35.63
           ]
          },
          {
           "hoverinfo": "none",
           "marker": {
            "color": "#CBB67C",
            "line": {
             "color": "#663831",
             "width": 2
            },
            "size": 10
           },
           "mode": "markers",
           "name": "football",
           "type": "scatter",
           "x": [
            52.0299987792969
           ],
           "y": [
            29.7399997711182
           ]
          }
         ],
         "name": "29"
        },
        {
         "data": [
          {
           "hoverinfo": "none",
           "mode": "text",
           "showlegend": false,
           "text": [
            "10",
            "20",
            "30",
            "40",
            "50",
            "40",
            "30",
            "20",
            "10"
           ],
           "textfont": {
            "color": "#ffffff",
            "family": "Courier New, monospace",
            "size": 30
           },
           "type": "scatter",
           "x": [
            20,
            30,
            40,
            50,
            60,
            70,
            80,
            90,
            100
           ],
           "y": [
            5,
            5,
            5,
            5,
            5,
            5,
            5,
            5,
            5
           ]
          },
          {
           "hoverinfo": "none",
           "mode": "text",
           "showlegend": false,
           "text": [
            "10",
            "20",
            "30",
            "40",
            "50",
            "40",
            "30",
            "20",
            "10"
           ],
           "textfont": {
            "color": "#ffffff",
            "family": "Courier New, monospace",
            "size": 30
           },
           "type": "scatter",
           "x": [
            20,
            30,
            40,
            50,
            60,
            70,
            80,
            90,
            100
           ],
           "y": [
            48.5,
            48.5,
            48.5,
            48.5,
            48.5,
            48.5,
            48.5,
            48.5,
            48.5
           ]
          },
          {
           "hoverinfo": "none",
           "line": {
            "color": "blue",
            "dash": "dash"
           },
           "showlegend": false,
           "type": "scatter",
           "x": [
            52,
            52
           ],
           "y": [
            0,
            53.5
           ]
          },
          {
           "hoverinfo": "none",
           "line": {
            "color": "yellow",
            "dash": "dash"
           },
           "showlegend": false,
           "type": "scatter",
           "x": [
            44,
            44
           ],
           "y": [
            0,
            53.5
           ]
          },
          {
           "fill": "toself",
           "fillcolor": "#4B92DB",
           "hoverinfo": "skip",
           "line": {
            "color": "white",
            "width": 3
           },
           "mode": "lines",
           "opacity": 1,
           "showlegend": false,
           "type": "scatter",
           "x": [
            0,
            0,
            10,
            10,
            0
           ],
           "y": [
            0,
            53.5,
            53.5,
            0,
            0
           ]
          },
          {
           "fill": "toself",
           "fillcolor": "#0B2265",
           "hoverinfo": "skip",
           "line": {
            "color": "white",
            "width": 3
           },
           "mode": "lines",
           "opacity": 1,
           "showlegend": false,
           "type": "scatter",
           "x": [
            110,
            110,
            120,
            120,
            110
           ],
           "y": [
            0,
            53.5,
            53.5,
            0,
            0
           ]
          },
          {
           "hoverinfo": "text",
           "hovertext": [
            "nflId:42365.0<br>displayName:Bud Dupree<br>Player Speed:0.38 yd/s",
            "nflId:43353.0<br>displayName:Kevin Byard<br>Player Speed:0.25 yd/s",
            "nflId:44869.0<br>displayName:Zach Cunningham<br>Player Speed:0.05 yd/s",
            "nflId:46457.0<br>displayName:Olasunkanmi Adeniyi<br>Player Speed:0.4 yd/s",
            "nflId:47802.0<br>displayName:Jeffery Simmons<br>Player Speed:0.0 yd/s",
            "nflId:47899.0<br>displayName:Amani Hooker<br>Player Speed:0.42 yd/s",
            "nflId:47915.0<br>displayName:Ugochukwu Amadi<br>Player Speed:0.92 yd/s",
            "nflId:47971.0<br>displayName:David Long<br>Player Speed:0.37 yd/s",
            "nflId:52469.0<br>displayName:Kristian Fulton<br>Player Speed:0.23 yd/s",
            "nflId:53073.0<br>displayName:Teair Tart<br>Player Speed:0.17 yd/s",
            "nflId:54500.0<br>displayName:Roger McCreary<br>Player Speed:0.41 yd/s"
           ],
           "marker": {
            "color": "#4B92DB",
            "line": {
             "color": "#0C2340",
             "width": 2
            },
            "size": 10
           },
           "mode": "markers",
           "name": "TEN",
           "type": "scatter",
           "x": [
            51.45,
            41.19,
            46.86,
            51.38,
            51.01,
            40.77,
            50.45,
            45.63,
            46.88,
            51.4,
            44.62
           ],
           "y": [
            23.42,
            35.23,
            33.24,
            35.31,
            26.89,
            21.96,
            21.38,
            27.5,
            10.82,
            31.17,
            40.51
           ]
          },
          {
           "hoverinfo": "text",
           "hovertext": [
            "nflId:42471.0<br>displayName:Jon Feliciano<br>Player Speed:0.0 yd/s",
            "nflId:42477.0<br>displayName:Mark Glowinski<br>Player Speed:0.0 yd/s",
            "nflId:44908.0<br>displayName:Kenny Golladay<br>Player Speed:0.0 yd/s",
            "nflId:46071.0<br>displayName:Saquon Barkley<br>Player Speed:0.0 yd/s",
            "nflId:46309.0<br>displayName:Richie James<br>Player Speed:0.0 yd/s",
            "nflId:47789.0<br>displayName:Daniel Jones<br>Player Speed:0.09 yd/s",
            "nflId:48489.0<br>displayName:David Sills<br>Player Speed:0.0 yd/s",
            "nflId:52412.0<br>displayName:Andrew Thomas<br>Player Speed:0.01 yd/s",
            "nflId:54472.0<br>displayName:Evan Neal<br>Player Speed:0.0 yd/s",
            "nflId:54532.0<br>displayName:Joshua Ezeudu<br>Player Speed:0.0 yd/s",
            "nflId:54577.0<br>displayName:Daniel Bellinger<br>Player Speed:0.0 yd/s"
           ],
           "marker": {
            "color": "#0B2265",
            "line": {
             "color": "#A71930",
             "width": 2
            },
            "size": 10
           },
           "mode": "markers",
           "name": "NYG",
           "type": "scatter",
           "x": [
            52.44,
            52.92,
            52.48,
            56.92,
            53.29,
            56.81,
            52.9,
            53.11,
            53.05,
            52.9,
            53.88
           ],
           "y": [
            29.61,
            31.35,
            10.53,
            27.52,
            20.45,
            29.78,
            38.88,
            26.62,
            32.76,
            28.27,
            35.63
           ]
          },
          {
           "hoverinfo": "none",
           "marker": {
            "color": "#CBB67C",
            "line": {
             "color": "#663831",
             "width": 2
            },
            "size": 10
           },
           "mode": "markers",
           "name": "football",
           "type": "scatter",
           "x": [
            52.0200004577637
           ],
           "y": [
            29.7399997711182
           ]
          }
         ],
         "name": "30"
        },
        {
         "data": [
          {
           "hoverinfo": "none",
           "mode": "text",
           "showlegend": false,
           "text": [
            "10",
            "20",
            "30",
            "40",
            "50",
            "40",
            "30",
            "20",
            "10"
           ],
           "textfont": {
            "color": "#ffffff",
            "family": "Courier New, monospace",
            "size": 30
           },
           "type": "scatter",
           "x": [
            20,
            30,
            40,
            50,
            60,
            70,
            80,
            90,
            100
           ],
           "y": [
            5,
            5,
            5,
            5,
            5,
            5,
            5,
            5,
            5
           ]
          },
          {
           "hoverinfo": "none",
           "mode": "text",
           "showlegend": false,
           "text": [
            "10",
            "20",
            "30",
            "40",
            "50",
            "40",
            "30",
            "20",
            "10"
           ],
           "textfont": {
            "color": "#ffffff",
            "family": "Courier New, monospace",
            "size": 30
           },
           "type": "scatter",
           "x": [
            20,
            30,
            40,
            50,
            60,
            70,
            80,
            90,
            100
           ],
           "y": [
            48.5,
            48.5,
            48.5,
            48.5,
            48.5,
            48.5,
            48.5,
            48.5,
            48.5
           ]
          },
          {
           "hoverinfo": "none",
           "line": {
            "color": "blue",
            "dash": "dash"
           },
           "showlegend": false,
           "type": "scatter",
           "x": [
            52,
            52
           ],
           "y": [
            0,
            53.5
           ]
          },
          {
           "hoverinfo": "none",
           "line": {
            "color": "yellow",
            "dash": "dash"
           },
           "showlegend": false,
           "type": "scatter",
           "x": [
            44,
            44
           ],
           "y": [
            0,
            53.5
           ]
          },
          {
           "fill": "toself",
           "fillcolor": "#4B92DB",
           "hoverinfo": "skip",
           "line": {
            "color": "white",
            "width": 3
           },
           "mode": "lines",
           "opacity": 1,
           "showlegend": false,
           "type": "scatter",
           "x": [
            0,
            0,
            10,
            10,
            0
           ],
           "y": [
            0,
            53.5,
            53.5,
            0,
            0
           ]
          },
          {
           "fill": "toself",
           "fillcolor": "#0B2265",
           "hoverinfo": "skip",
           "line": {
            "color": "white",
            "width": 3
           },
           "mode": "lines",
           "opacity": 1,
           "showlegend": false,
           "type": "scatter",
           "x": [
            110,
            110,
            120,
            120,
            110
           ],
           "y": [
            0,
            53.5,
            53.5,
            0,
            0
           ]
          },
          {
           "hoverinfo": "text",
           "hovertext": [
            "nflId:42365.0<br>displayName:Bud Dupree<br>Player Speed:0.37 yd/s",
            "nflId:43353.0<br>displayName:Kevin Byard<br>Player Speed:0.29 yd/s",
            "nflId:44869.0<br>displayName:Zach Cunningham<br>Player Speed:0.05 yd/s",
            "nflId:46457.0<br>displayName:Olasunkanmi Adeniyi<br>Player Speed:0.43 yd/s",
            "nflId:47802.0<br>displayName:Jeffery Simmons<br>Player Speed:0.0 yd/s",
            "nflId:47899.0<br>displayName:Amani Hooker<br>Player Speed:0.43 yd/s",
            "nflId:47915.0<br>displayName:Ugochukwu Amadi<br>Player Speed:0.88 yd/s",
            "nflId:47971.0<br>displayName:David Long<br>Player Speed:0.41 yd/s",
            "nflId:52469.0<br>displayName:Kristian Fulton<br>Player Speed:0.35 yd/s",
            "nflId:53073.0<br>displayName:Teair Tart<br>Player Speed:0.15 yd/s",
            "nflId:54500.0<br>displayName:Roger McCreary<br>Player Speed:0.39 yd/s"
           ],
           "marker": {
            "color": "#4B92DB",
            "line": {
             "color": "#0C2340",
             "width": 2
            },
            "size": 10
           },
           "mode": "markers",
           "name": "TEN",
           "type": "scatter",
           "x": [
            51.49,
            41.16,
            46.84,
            51.37,
            51.01,
            40.81,
            50.54,
            45.69,
            46.85,
            51.42,
            44.65
           ],
           "y": [
            23.41,
            35.25,
            33.23,
            35.28,
            26.89,
            21.98,
            21.42,
            27.5,
            10.82,
            31.17,
            40.53
           ]
          },
          {
           "hoverinfo": "text",
           "hovertext": [
            "nflId:42471.0<br>displayName:Jon Feliciano<br>Player Speed:0.0 yd/s",
            "nflId:42477.0<br>displayName:Mark Glowinski<br>Player Speed:0.0 yd/s",
            "nflId:44908.0<br>displayName:Kenny Golladay<br>Player Speed:0.0 yd/s",
            "nflId:46071.0<br>displayName:Saquon Barkley<br>Player Speed:0.0 yd/s",
            "nflId:46309.0<br>displayName:Richie James<br>Player Speed:0.0 yd/s",
            "nflId:47789.0<br>displayName:Daniel Jones<br>Player Speed:0.1 yd/s",
            "nflId:48489.0<br>displayName:David Sills<br>Player Speed:0.0 yd/s",
            "nflId:52412.0<br>displayName:Andrew Thomas<br>Player Speed:0.01 yd/s",
            "nflId:54472.0<br>displayName:Evan Neal<br>Player Speed:0.0 yd/s",
            "nflId:54532.0<br>displayName:Joshua Ezeudu<br>Player Speed:0.0 yd/s",
            "nflId:54577.0<br>displayName:Daniel Bellinger<br>Player Speed:0.0 yd/s"
           ],
           "marker": {
            "color": "#0B2265",
            "line": {
             "color": "#A71930",
             "width": 2
            },
            "size": 10
           },
           "mode": "markers",
           "name": "NYG",
           "type": "scatter",
           "x": [
            52.44,
            52.92,
            52.48,
            56.92,
            53.29,
            56.81,
            52.89,
            53.11,
            53.05,
            52.9,
            53.87
           ],
           "y": [
            29.61,
            31.35,
            10.53,
            27.52,
            20.45,
            29.79,
            38.88,
            26.62,
            32.76,
            28.27,
            35.63
           ]
          },
          {
           "hoverinfo": "none",
           "marker": {
            "color": "#CBB67C",
            "line": {
             "color": "#663831",
             "width": 2
            },
            "size": 10
           },
           "mode": "markers",
           "name": "football",
           "type": "scatter",
           "x": [
            52.0200004577637
           ],
           "y": [
            29.7399997711182
           ]
          }
         ],
         "name": "31"
        },
        {
         "data": [
          {
           "hoverinfo": "none",
           "mode": "text",
           "showlegend": false,
           "text": [
            "10",
            "20",
            "30",
            "40",
            "50",
            "40",
            "30",
            "20",
            "10"
           ],
           "textfont": {
            "color": "#ffffff",
            "family": "Courier New, monospace",
            "size": 30
           },
           "type": "scatter",
           "x": [
            20,
            30,
            40,
            50,
            60,
            70,
            80,
            90,
            100
           ],
           "y": [
            5,
            5,
            5,
            5,
            5,
            5,
            5,
            5,
            5
           ]
          },
          {
           "hoverinfo": "none",
           "mode": "text",
           "showlegend": false,
           "text": [
            "10",
            "20",
            "30",
            "40",
            "50",
            "40",
            "30",
            "20",
            "10"
           ],
           "textfont": {
            "color": "#ffffff",
            "family": "Courier New, monospace",
            "size": 30
           },
           "type": "scatter",
           "x": [
            20,
            30,
            40,
            50,
            60,
            70,
            80,
            90,
            100
           ],
           "y": [
            48.5,
            48.5,
            48.5,
            48.5,
            48.5,
            48.5,
            48.5,
            48.5,
            48.5
           ]
          },
          {
           "hoverinfo": "none",
           "line": {
            "color": "blue",
            "dash": "dash"
           },
           "showlegend": false,
           "type": "scatter",
           "x": [
            52,
            52
           ],
           "y": [
            0,
            53.5
           ]
          },
          {
           "hoverinfo": "none",
           "line": {
            "color": "yellow",
            "dash": "dash"
           },
           "showlegend": false,
           "type": "scatter",
           "x": [
            44,
            44
           ],
           "y": [
            0,
            53.5
           ]
          },
          {
           "fill": "toself",
           "fillcolor": "#4B92DB",
           "hoverinfo": "skip",
           "line": {
            "color": "white",
            "width": 3
           },
           "mode": "lines",
           "opacity": 1,
           "showlegend": false,
           "type": "scatter",
           "x": [
            0,
            0,
            10,
            10,
            0
           ],
           "y": [
            0,
            53.5,
            53.5,
            0,
            0
           ]
          },
          {
           "fill": "toself",
           "fillcolor": "#0B2265",
           "hoverinfo": "skip",
           "line": {
            "color": "white",
            "width": 3
           },
           "mode": "lines",
           "opacity": 1,
           "showlegend": false,
           "type": "scatter",
           "x": [
            110,
            110,
            120,
            120,
            110
           ],
           "y": [
            0,
            53.5,
            53.5,
            0,
            0
           ]
          },
          {
           "hoverinfo": "text",
           "hovertext": [
            "nflId:42365.0<br>displayName:Bud Dupree<br>Player Speed:0.3 yd/s",
            "nflId:43353.0<br>displayName:Kevin Byard<br>Player Speed:0.32 yd/s",
            "nflId:44869.0<br>displayName:Zach Cunningham<br>Player Speed:0.05 yd/s",
            "nflId:46457.0<br>displayName:Olasunkanmi Adeniyi<br>Player Speed:0.46 yd/s",
            "nflId:47802.0<br>displayName:Jeffery Simmons<br>Player Speed:0.0 yd/s",
            "nflId:47899.0<br>displayName:Amani Hooker<br>Player Speed:0.42 yd/s",
            "nflId:47915.0<br>displayName:Ugochukwu Amadi<br>Player Speed:0.85 yd/s",
            "nflId:47971.0<br>displayName:David Long<br>Player Speed:0.41 yd/s",
            "nflId:52469.0<br>displayName:Kristian Fulton<br>Player Speed:0.43 yd/s",
            "nflId:53073.0<br>displayName:Teair Tart<br>Player Speed:0.12 yd/s",
            "nflId:54500.0<br>displayName:Roger McCreary<br>Player Speed:0.36 yd/s"
           ],
           "marker": {
            "color": "#4B92DB",
            "line": {
             "color": "#0C2340",
             "width": 2
            },
            "size": 10
           },
           "mode": "markers",
           "name": "TEN",
           "type": "scatter",
           "x": [
            51.51,
            41.13,
            46.83,
            51.36,
            51.01,
            40.85,
            50.61,
            45.74,
            46.81,
            51.43,
            44.69
           ],
           "y": [
            23.42,
            35.25,
            33.22,
            35.23,
            26.89,
            21.99,
            21.46,
            27.52,
            10.82,
            31.17,
            40.54
           ]
          },
          {
           "hoverinfo": "text",
           "hovertext": [
            "nflId:42471.0<br>displayName:Jon Feliciano<br>Player Speed:0.0 yd/s",
            "nflId:42477.0<br>displayName:Mark Glowinski<br>Player Speed:0.01 yd/s",
            "nflId:44908.0<br>displayName:Kenny Golladay<br>Player Speed:0.0 yd/s",
            "nflId:46071.0<br>displayName:Saquon Barkley<br>Player Speed:0.0 yd/s",
            "nflId:46309.0<br>displayName:Richie James<br>Player Speed:0.0 yd/s",
            "nflId:47789.0<br>displayName:Daniel Jones<br>Player Speed:0.09 yd/s",
            "nflId:48489.0<br>displayName:David Sills<br>Player Speed:0.0 yd/s",
            "nflId:52412.0<br>displayName:Andrew Thomas<br>Player Speed:0.01 yd/s",
            "nflId:54472.0<br>displayName:Evan Neal<br>Player Speed:0.0 yd/s",
            "nflId:54532.0<br>displayName:Joshua Ezeudu<br>Player Speed:0.0 yd/s",
            "nflId:54577.0<br>displayName:Daniel Bellinger<br>Player Speed:0.0 yd/s"
           ],
           "marker": {
            "color": "#0B2265",
            "line": {
             "color": "#A71930",
             "width": 2
            },
            "size": 10
           },
           "mode": "markers",
           "name": "NYG",
           "type": "scatter",
           "x": [
            52.44,
            52.92,
            52.48,
            56.92,
            53.29,
            56.81,
            52.89,
            53.12,
            53.05,
            52.9,
            53.87
           ],
           "y": [
            29.61,
            31.35,
            10.53,
            27.52,
            20.44,
            29.8,
            38.88,
            26.63,
            32.75,
            28.27,
            35.63
           ]
          },
          {
           "hoverinfo": "none",
           "marker": {
            "color": "#CBB67C",
            "line": {
             "color": "#663831",
             "width": 2
            },
            "size": 10
           },
           "mode": "markers",
           "name": "football",
           "type": "scatter",
           "x": [
            52.0200004577637
           ],
           "y": [
            29.7399997711182
           ]
          }
         ],
         "name": "32"
        },
        {
         "data": [
          {
           "hoverinfo": "none",
           "mode": "text",
           "showlegend": false,
           "text": [
            "10",
            "20",
            "30",
            "40",
            "50",
            "40",
            "30",
            "20",
            "10"
           ],
           "textfont": {
            "color": "#ffffff",
            "family": "Courier New, monospace",
            "size": 30
           },
           "type": "scatter",
           "x": [
            20,
            30,
            40,
            50,
            60,
            70,
            80,
            90,
            100
           ],
           "y": [
            5,
            5,
            5,
            5,
            5,
            5,
            5,
            5,
            5
           ]
          },
          {
           "hoverinfo": "none",
           "mode": "text",
           "showlegend": false,
           "text": [
            "10",
            "20",
            "30",
            "40",
            "50",
            "40",
            "30",
            "20",
            "10"
           ],
           "textfont": {
            "color": "#ffffff",
            "family": "Courier New, monospace",
            "size": 30
           },
           "type": "scatter",
           "x": [
            20,
            30,
            40,
            50,
            60,
            70,
            80,
            90,
            100
           ],
           "y": [
            48.5,
            48.5,
            48.5,
            48.5,
            48.5,
            48.5,
            48.5,
            48.5,
            48.5
           ]
          },
          {
           "hoverinfo": "none",
           "line": {
            "color": "blue",
            "dash": "dash"
           },
           "showlegend": false,
           "type": "scatter",
           "x": [
            52,
            52
           ],
           "y": [
            0,
            53.5
           ]
          },
          {
           "hoverinfo": "none",
           "line": {
            "color": "yellow",
            "dash": "dash"
           },
           "showlegend": false,
           "type": "scatter",
           "x": [
            44,
            44
           ],
           "y": [
            0,
            53.5
           ]
          },
          {
           "fill": "toself",
           "fillcolor": "#4B92DB",
           "hoverinfo": "skip",
           "line": {
            "color": "white",
            "width": 3
           },
           "mode": "lines",
           "opacity": 1,
           "showlegend": false,
           "type": "scatter",
           "x": [
            0,
            0,
            10,
            10,
            0
           ],
           "y": [
            0,
            53.5,
            53.5,
            0,
            0
           ]
          },
          {
           "fill": "toself",
           "fillcolor": "#0B2265",
           "hoverinfo": "skip",
           "line": {
            "color": "white",
            "width": 3
           },
           "mode": "lines",
           "opacity": 1,
           "showlegend": false,
           "type": "scatter",
           "x": [
            110,
            110,
            120,
            120,
            110
           ],
           "y": [
            0,
            53.5,
            53.5,
            0,
            0
           ]
          },
          {
           "hoverinfo": "text",
           "hovertext": [
            "nflId:42365.0<br>displayName:Bud Dupree<br>Player Speed:0.17 yd/s",
            "nflId:43353.0<br>displayName:Kevin Byard<br>Player Speed:0.33 yd/s",
            "nflId:44869.0<br>displayName:Zach Cunningham<br>Player Speed:0.05 yd/s",
            "nflId:46457.0<br>displayName:Olasunkanmi Adeniyi<br>Player Speed:0.46 yd/s",
            "nflId:47802.0<br>displayName:Jeffery Simmons<br>Player Speed:0.0 yd/s",
            "nflId:47899.0<br>displayName:Amani Hooker<br>Player Speed:0.44 yd/s",
            "nflId:47915.0<br>displayName:Ugochukwu Amadi<br>Player Speed:0.88 yd/s",
            "nflId:47971.0<br>displayName:David Long<br>Player Speed:0.4 yd/s",
            "nflId:52469.0<br>displayName:Kristian Fulton<br>Player Speed:0.51 yd/s",
            "nflId:53073.0<br>displayName:Teair Tart<br>Player Speed:0.1 yd/s",
            "nflId:54500.0<br>displayName:Roger McCreary<br>Player Speed:0.29 yd/s"
           ],
           "marker": {
            "color": "#4B92DB",
            "line": {
             "color": "#0C2340",
             "width": 2
            },
            "size": 10
           },
           "mode": "markers",
           "name": "TEN",
           "type": "scatter",
           "x": [
            51.5,
            41.1,
            46.82,
            51.35,
            51.01,
            40.89,
            50.69,
            45.79,
            46.77,
            51.44,
            44.72
           ],
           "y": [
            23.42,
            35.26,
            33.21,
            35.19,
            26.89,
            22,
            21.51,
            27.54,
            10.82,
            31.17,
            40.55
           ]
          },
          {
           "hoverinfo": "text",
           "hovertext": [
            "nflId:42471.0<br>displayName:Jon Feliciano<br>Player Speed:0.0 yd/s",
            "nflId:42477.0<br>displayName:Mark Glowinski<br>Player Speed:0.02 yd/s",
            "nflId:44908.0<br>displayName:Kenny Golladay<br>Player Speed:0.0 yd/s",
            "nflId:46071.0<br>displayName:Saquon Barkley<br>Player Speed:0.0 yd/s",
            "nflId:46309.0<br>displayName:Richie James<br>Player Speed:0.0 yd/s",
            "nflId:47789.0<br>displayName:Daniel Jones<br>Player Speed:0.08 yd/s",
            "nflId:48489.0<br>displayName:David Sills<br>Player Speed:0.0 yd/s",
            "nflId:52412.0<br>displayName:Andrew Thomas<br>Player Speed:0.01 yd/s",
            "nflId:54472.0<br>displayName:Evan Neal<br>Player Speed:0.0 yd/s",
            "nflId:54532.0<br>displayName:Joshua Ezeudu<br>Player Speed:0.0 yd/s",
            "nflId:54577.0<br>displayName:Daniel Bellinger<br>Player Speed:0.0 yd/s"
           ],
           "marker": {
            "color": "#0B2265",
            "line": {
             "color": "#A71930",
             "width": 2
            },
            "size": 10
           },
           "mode": "markers",
           "name": "NYG",
           "type": "scatter",
           "x": [
            52.44,
            52.92,
            52.48,
            56.92,
            53.29,
            56.82,
            52.89,
            53.12,
            53.04,
            52.9,
            53.87
           ],
           "y": [
            29.61,
            31.35,
            10.53,
            27.52,
            20.44,
            29.8,
            38.89,
            26.63,
            32.75,
            28.27,
            35.63
           ]
          },
          {
           "hoverinfo": "none",
           "marker": {
            "color": "#CBB67C",
            "line": {
             "color": "#663831",
             "width": 2
            },
            "size": 10
           },
           "mode": "markers",
           "name": "football",
           "type": "scatter",
           "x": [
            52.0200004577637
           ],
           "y": [
            29.7399997711182
           ]
          }
         ],
         "name": "33"
        },
        {
         "data": [
          {
           "hoverinfo": "none",
           "mode": "text",
           "showlegend": false,
           "text": [
            "10",
            "20",
            "30",
            "40",
            "50",
            "40",
            "30",
            "20",
            "10"
           ],
           "textfont": {
            "color": "#ffffff",
            "family": "Courier New, monospace",
            "size": 30
           },
           "type": "scatter",
           "x": [
            20,
            30,
            40,
            50,
            60,
            70,
            80,
            90,
            100
           ],
           "y": [
            5,
            5,
            5,
            5,
            5,
            5,
            5,
            5,
            5
           ]
          },
          {
           "hoverinfo": "none",
           "mode": "text",
           "showlegend": false,
           "text": [
            "10",
            "20",
            "30",
            "40",
            "50",
            "40",
            "30",
            "20",
            "10"
           ],
           "textfont": {
            "color": "#ffffff",
            "family": "Courier New, monospace",
            "size": 30
           },
           "type": "scatter",
           "x": [
            20,
            30,
            40,
            50,
            60,
            70,
            80,
            90,
            100
           ],
           "y": [
            48.5,
            48.5,
            48.5,
            48.5,
            48.5,
            48.5,
            48.5,
            48.5,
            48.5
           ]
          },
          {
           "hoverinfo": "none",
           "line": {
            "color": "blue",
            "dash": "dash"
           },
           "showlegend": false,
           "type": "scatter",
           "x": [
            52,
            52
           ],
           "y": [
            0,
            53.5
           ]
          },
          {
           "hoverinfo": "none",
           "line": {
            "color": "yellow",
            "dash": "dash"
           },
           "showlegend": false,
           "type": "scatter",
           "x": [
            44,
            44
           ],
           "y": [
            0,
            53.5
           ]
          },
          {
           "fill": "toself",
           "fillcolor": "#4B92DB",
           "hoverinfo": "skip",
           "line": {
            "color": "white",
            "width": 3
           },
           "mode": "lines",
           "opacity": 1,
           "showlegend": false,
           "type": "scatter",
           "x": [
            0,
            0,
            10,
            10,
            0
           ],
           "y": [
            0,
            53.5,
            53.5,
            0,
            0
           ]
          },
          {
           "fill": "toself",
           "fillcolor": "#0B2265",
           "hoverinfo": "skip",
           "line": {
            "color": "white",
            "width": 3
           },
           "mode": "lines",
           "opacity": 1,
           "showlegend": false,
           "type": "scatter",
           "x": [
            110,
            110,
            120,
            120,
            110
           ],
           "y": [
            0,
            53.5,
            53.5,
            0,
            0
           ]
          },
          {
           "hoverinfo": "text",
           "hovertext": [
            "nflId:42365.0<br>displayName:Bud Dupree<br>Player Speed:0.14 yd/s",
            "nflId:43353.0<br>displayName:Kevin Byard<br>Player Speed:0.33 yd/s",
            "nflId:44869.0<br>displayName:Zach Cunningham<br>Player Speed:0.05 yd/s",
            "nflId:46457.0<br>displayName:Olasunkanmi Adeniyi<br>Player Speed:0.43 yd/s",
            "nflId:47802.0<br>displayName:Jeffery Simmons<br>Player Speed:0.0 yd/s",
            "nflId:47899.0<br>displayName:Amani Hooker<br>Player Speed:0.46 yd/s",
            "nflId:47915.0<br>displayName:Ugochukwu Amadi<br>Player Speed:0.95 yd/s",
            "nflId:47971.0<br>displayName:David Long<br>Player Speed:0.41 yd/s",
            "nflId:52469.0<br>displayName:Kristian Fulton<br>Player Speed:0.66 yd/s",
            "nflId:53073.0<br>displayName:Teair Tart<br>Player Speed:0.08 yd/s",
            "nflId:54500.0<br>displayName:Roger McCreary<br>Player Speed:0.24 yd/s"
           ],
           "marker": {
            "color": "#4B92DB",
            "line": {
             "color": "#0C2340",
             "width": 2
            },
            "size": 10
           },
           "mode": "markers",
           "name": "TEN",
           "type": "scatter",
           "x": [
            51.51,
            41.07,
            46.8,
            51.33,
            51.01,
            40.94,
            50.76,
            45.84,
            46.71,
            51.44,
            44.74
           ],
           "y": [
            23.42,
            35.26,
            33.2,
            35.15,
            26.89,
            22.01,
            21.57,
            27.57,
            10.83,
            31.18,
            40.56
           ]
          },
          {
           "hoverinfo": "text",
           "hovertext": [
            "nflId:42471.0<br>displayName:Jon Feliciano<br>Player Speed:0.0 yd/s",
            "nflId:42477.0<br>displayName:Mark Glowinski<br>Player Speed:0.01 yd/s",
            "nflId:44908.0<br>displayName:Kenny Golladay<br>Player Speed:0.0 yd/s",
            "nflId:46071.0<br>displayName:Saquon Barkley<br>Player Speed:0.0 yd/s",
            "nflId:46309.0<br>displayName:Richie James<br>Player Speed:0.0 yd/s",
            "nflId:47789.0<br>displayName:Daniel Jones<br>Player Speed:0.06 yd/s",
            "nflId:48489.0<br>displayName:David Sills<br>Player Speed:0.0 yd/s",
            "nflId:52412.0<br>displayName:Andrew Thomas<br>Player Speed:0.0 yd/s",
            "nflId:54472.0<br>displayName:Evan Neal<br>Player Speed:0.0 yd/s",
            "nflId:54532.0<br>displayName:Joshua Ezeudu<br>Player Speed:0.0 yd/s",
            "nflId:54577.0<br>displayName:Daniel Bellinger<br>Player Speed:0.0 yd/s"
           ],
           "marker": {
            "color": "#0B2265",
            "line": {
             "color": "#A71930",
             "width": 2
            },
            "size": 10
           },
           "mode": "markers",
           "name": "NYG",
           "type": "scatter",
           "x": [
            52.44,
            52.92,
            52.47,
            56.92,
            53.29,
            56.81,
            52.89,
            53.11,
            53.04,
            52.9,
            53.87
           ],
           "y": [
            29.62,
            31.35,
            10.52,
            27.52,
            20.44,
            29.8,
            38.89,
            26.62,
            32.75,
            28.27,
            35.63
           ]
          },
          {
           "hoverinfo": "none",
           "marker": {
            "color": "#CBB67C",
            "line": {
             "color": "#663831",
             "width": 2
            },
            "size": 10
           },
           "mode": "markers",
           "name": "football",
           "type": "scatter",
           "x": [
            52.0200004577637
           ],
           "y": [
            29.7399997711182
           ]
          }
         ],
         "name": "34"
        },
        {
         "data": [
          {
           "hoverinfo": "none",
           "mode": "text",
           "showlegend": false,
           "text": [
            "10",
            "20",
            "30",
            "40",
            "50",
            "40",
            "30",
            "20",
            "10"
           ],
           "textfont": {
            "color": "#ffffff",
            "family": "Courier New, monospace",
            "size": 30
           },
           "type": "scatter",
           "x": [
            20,
            30,
            40,
            50,
            60,
            70,
            80,
            90,
            100
           ],
           "y": [
            5,
            5,
            5,
            5,
            5,
            5,
            5,
            5,
            5
           ]
          },
          {
           "hoverinfo": "none",
           "mode": "text",
           "showlegend": false,
           "text": [
            "10",
            "20",
            "30",
            "40",
            "50",
            "40",
            "30",
            "20",
            "10"
           ],
           "textfont": {
            "color": "#ffffff",
            "family": "Courier New, monospace",
            "size": 30
           },
           "type": "scatter",
           "x": [
            20,
            30,
            40,
            50,
            60,
            70,
            80,
            90,
            100
           ],
           "y": [
            48.5,
            48.5,
            48.5,
            48.5,
            48.5,
            48.5,
            48.5,
            48.5,
            48.5
           ]
          },
          {
           "hoverinfo": "none",
           "line": {
            "color": "blue",
            "dash": "dash"
           },
           "showlegend": false,
           "type": "scatter",
           "x": [
            52,
            52
           ],
           "y": [
            0,
            53.5
           ]
          },
          {
           "hoverinfo": "none",
           "line": {
            "color": "yellow",
            "dash": "dash"
           },
           "showlegend": false,
           "type": "scatter",
           "x": [
            44,
            44
           ],
           "y": [
            0,
            53.5
           ]
          },
          {
           "fill": "toself",
           "fillcolor": "#4B92DB",
           "hoverinfo": "skip",
           "line": {
            "color": "white",
            "width": 3
           },
           "mode": "lines",
           "opacity": 1,
           "showlegend": false,
           "type": "scatter",
           "x": [
            0,
            0,
            10,
            10,
            0
           ],
           "y": [
            0,
            53.5,
            53.5,
            0,
            0
           ]
          },
          {
           "fill": "toself",
           "fillcolor": "#0B2265",
           "hoverinfo": "skip",
           "line": {
            "color": "white",
            "width": 3
           },
           "mode": "lines",
           "opacity": 1,
           "showlegend": false,
           "type": "scatter",
           "x": [
            110,
            110,
            120,
            120,
            110
           ],
           "y": [
            0,
            53.5,
            53.5,
            0,
            0
           ]
          },
          {
           "hoverinfo": "text",
           "hovertext": [
            "nflId:42365.0<br>displayName:Bud Dupree<br>Player Speed:0.15 yd/s",
            "nflId:43353.0<br>displayName:Kevin Byard<br>Player Speed:0.34 yd/s",
            "nflId:44869.0<br>displayName:Zach Cunningham<br>Player Speed:0.06 yd/s",
            "nflId:46457.0<br>displayName:Olasunkanmi Adeniyi<br>Player Speed:0.19 yd/s",
            "nflId:47802.0<br>displayName:Jeffery Simmons<br>Player Speed:0.0 yd/s",
            "nflId:47899.0<br>displayName:Amani Hooker<br>Player Speed:0.52 yd/s",
            "nflId:47915.0<br>displayName:Ugochukwu Amadi<br>Player Speed:1.01 yd/s",
            "nflId:47971.0<br>displayName:David Long<br>Player Speed:0.41 yd/s",
            "nflId:52469.0<br>displayName:Kristian Fulton<br>Player Speed:0.76 yd/s",
            "nflId:53073.0<br>displayName:Teair Tart<br>Player Speed:0.07 yd/s",
            "nflId:54500.0<br>displayName:Roger McCreary<br>Player Speed:0.18 yd/s"
           ],
           "marker": {
            "color": "#4B92DB",
            "line": {
             "color": "#0C2340",
             "width": 2
            },
            "size": 10
           },
           "mode": "markers",
           "name": "TEN",
           "type": "scatter",
           "x": [
            51.52,
            41.04,
            46.78,
            51.33,
            51.01,
            41,
            50.84,
            45.89,
            46.64,
            51.45,
            44.76
           ],
           "y": [
            23.44,
            35.26,
            33.19,
            35.13,
            26.89,
            22.01,
            21.64,
            27.6,
            10.85,
            31.17,
            40.57
           ]
          },
          {
           "hoverinfo": "text",
           "hovertext": [
            "nflId:42471.0<br>displayName:Jon Feliciano<br>Player Speed:0.0 yd/s",
            "nflId:42477.0<br>displayName:Mark Glowinski<br>Player Speed:0.01 yd/s",
            "nflId:44908.0<br>displayName:Kenny Golladay<br>Player Speed:0.0 yd/s",
            "nflId:46071.0<br>displayName:Saquon Barkley<br>Player Speed:0.0 yd/s",
            "nflId:46309.0<br>displayName:Richie James<br>Player Speed:0.0 yd/s",
            "nflId:47789.0<br>displayName:Daniel Jones<br>Player Speed:0.04 yd/s",
            "nflId:48489.0<br>displayName:David Sills<br>Player Speed:0.0 yd/s",
            "nflId:52412.0<br>displayName:Andrew Thomas<br>Player Speed:0.0 yd/s",
            "nflId:54472.0<br>displayName:Evan Neal<br>Player Speed:0.0 yd/s",
            "nflId:54532.0<br>displayName:Joshua Ezeudu<br>Player Speed:0.0 yd/s",
            "nflId:54577.0<br>displayName:Daniel Bellinger<br>Player Speed:0.0 yd/s"
           ],
           "marker": {
            "color": "#0B2265",
            "line": {
             "color": "#A71930",
             "width": 2
            },
            "size": 10
           },
           "mode": "markers",
           "name": "NYG",
           "type": "scatter",
           "x": [
            52.44,
            52.92,
            52.47,
            56.92,
            53.29,
            56.8,
            52.89,
            53.11,
            53.04,
            52.9,
            53.87
           ],
           "y": [
            29.62,
            31.36,
            10.52,
            27.52,
            20.44,
            29.79,
            38.89,
            26.62,
            32.75,
            28.27,
            35.63
           ]
          },
          {
           "hoverinfo": "none",
           "marker": {
            "color": "#CBB67C",
            "line": {
             "color": "#663831",
             "width": 2
            },
            "size": 10
           },
           "mode": "markers",
           "name": "football",
           "type": "scatter",
           "x": [
            52.0200004577637
           ],
           "y": [
            29.7399997711182
           ]
          }
         ],
         "name": "35"
        },
        {
         "data": [
          {
           "hoverinfo": "none",
           "mode": "text",
           "showlegend": false,
           "text": [
            "10",
            "20",
            "30",
            "40",
            "50",
            "40",
            "30",
            "20",
            "10"
           ],
           "textfont": {
            "color": "#ffffff",
            "family": "Courier New, monospace",
            "size": 30
           },
           "type": "scatter",
           "x": [
            20,
            30,
            40,
            50,
            60,
            70,
            80,
            90,
            100
           ],
           "y": [
            5,
            5,
            5,
            5,
            5,
            5,
            5,
            5,
            5
           ]
          },
          {
           "hoverinfo": "none",
           "mode": "text",
           "showlegend": false,
           "text": [
            "10",
            "20",
            "30",
            "40",
            "50",
            "40",
            "30",
            "20",
            "10"
           ],
           "textfont": {
            "color": "#ffffff",
            "family": "Courier New, monospace",
            "size": 30
           },
           "type": "scatter",
           "x": [
            20,
            30,
            40,
            50,
            60,
            70,
            80,
            90,
            100
           ],
           "y": [
            48.5,
            48.5,
            48.5,
            48.5,
            48.5,
            48.5,
            48.5,
            48.5,
            48.5
           ]
          },
          {
           "hoverinfo": "none",
           "line": {
            "color": "blue",
            "dash": "dash"
           },
           "showlegend": false,
           "type": "scatter",
           "x": [
            52,
            52
           ],
           "y": [
            0,
            53.5
           ]
          },
          {
           "hoverinfo": "none",
           "line": {
            "color": "yellow",
            "dash": "dash"
           },
           "showlegend": false,
           "type": "scatter",
           "x": [
            44,
            44
           ],
           "y": [
            0,
            53.5
           ]
          },
          {
           "fill": "toself",
           "fillcolor": "#4B92DB",
           "hoverinfo": "skip",
           "line": {
            "color": "white",
            "width": 3
           },
           "mode": "lines",
           "opacity": 1,
           "showlegend": false,
           "type": "scatter",
           "x": [
            0,
            0,
            10,
            10,
            0
           ],
           "y": [
            0,
            53.5,
            53.5,
            0,
            0
           ]
          },
          {
           "fill": "toself",
           "fillcolor": "#0B2265",
           "hoverinfo": "skip",
           "line": {
            "color": "white",
            "width": 3
           },
           "mode": "lines",
           "opacity": 1,
           "showlegend": false,
           "type": "scatter",
           "x": [
            110,
            110,
            120,
            120,
            110
           ],
           "y": [
            0,
            53.5,
            53.5,
            0,
            0
           ]
          },
          {
           "hoverinfo": "text",
           "hovertext": [
            "nflId:42365.0<br>displayName:Bud Dupree<br>Player Speed:0.15 yd/s",
            "nflId:43353.0<br>displayName:Kevin Byard<br>Player Speed:0.31 yd/s",
            "nflId:44869.0<br>displayName:Zach Cunningham<br>Player Speed:0.06 yd/s",
            "nflId:46457.0<br>displayName:Olasunkanmi Adeniyi<br>Player Speed:0.07 yd/s",
            "nflId:47802.0<br>displayName:Jeffery Simmons<br>Player Speed:0.0 yd/s",
            "nflId:47899.0<br>displayName:Amani Hooker<br>Player Speed:0.55 yd/s",
            "nflId:47915.0<br>displayName:Ugochukwu Amadi<br>Player Speed:1.03 yd/s",
            "nflId:47971.0<br>displayName:David Long<br>Player Speed:0.43 yd/s",
            "nflId:52469.0<br>displayName:Kristian Fulton<br>Player Speed:0.86 yd/s",
            "nflId:53073.0<br>displayName:Teair Tart<br>Player Speed:0.06 yd/s",
            "nflId:54500.0<br>displayName:Roger McCreary<br>Player Speed:0.11 yd/s"
           ],
           "marker": {
            "color": "#4B92DB",
            "line": {
             "color": "#0C2340",
             "width": 2
            },
            "size": 10
           },
           "mode": "markers",
           "name": "TEN",
           "type": "scatter",
           "x": [
            51.54,
            41.01,
            46.76,
            51.33,
            51.01,
            41.06,
            50.9,
            45.93,
            46.56,
            51.45,
            44.76
           ],
           "y": [
            23.46,
            35.26,
            33.18,
            35.12,
            26.89,
            22.01,
            21.71,
            27.61,
            10.87,
            31.17,
            40.58
           ]
          },
          {
           "hoverinfo": "text",
           "hovertext": [
            "nflId:42471.0<br>displayName:Jon Feliciano<br>Player Speed:0.0 yd/s",
            "nflId:42477.0<br>displayName:Mark Glowinski<br>Player Speed:0.02 yd/s",
            "nflId:44908.0<br>displayName:Kenny Golladay<br>Player Speed:0.0 yd/s",
            "nflId:46071.0<br>displayName:Saquon Barkley<br>Player Speed:0.0 yd/s",
            "nflId:46309.0<br>displayName:Richie James<br>Player Speed:0.0 yd/s",
            "nflId:47789.0<br>displayName:Daniel Jones<br>Player Speed:0.06 yd/s",
            "nflId:48489.0<br>displayName:David Sills<br>Player Speed:0.0 yd/s",
            "nflId:52412.0<br>displayName:Andrew Thomas<br>Player Speed:0.0 yd/s",
            "nflId:54472.0<br>displayName:Evan Neal<br>Player Speed:0.0 yd/s",
            "nflId:54532.0<br>displayName:Joshua Ezeudu<br>Player Speed:0.0 yd/s",
            "nflId:54577.0<br>displayName:Daniel Bellinger<br>Player Speed:0.0 yd/s"
           ],
           "marker": {
            "color": "#0B2265",
            "line": {
             "color": "#A71930",
             "width": 2
            },
            "size": 10
           },
           "mode": "markers",
           "name": "NYG",
           "type": "scatter",
           "x": [
            52.44,
            52.93,
            52.47,
            56.92,
            53.29,
            56.79,
            52.88,
            53.12,
            53.04,
            52.9,
            53.87
           ],
           "y": [
            29.62,
            31.35,
            10.53,
            27.52,
            20.44,
            29.81,
            38.89,
            26.62,
            32.75,
            28.27,
            35.63
           ]
          },
          {
           "hoverinfo": "none",
           "marker": {
            "color": "#CBB67C",
            "line": {
             "color": "#663831",
             "width": 2
            },
            "size": 10
           },
           "mode": "markers",
           "name": "football",
           "type": "scatter",
           "x": [
            52.0200004577637
           ],
           "y": [
            29.7399997711182
           ]
          }
         ],
         "name": "36"
        },
        {
         "data": [
          {
           "hoverinfo": "none",
           "mode": "text",
           "showlegend": false,
           "text": [
            "10",
            "20",
            "30",
            "40",
            "50",
            "40",
            "30",
            "20",
            "10"
           ],
           "textfont": {
            "color": "#ffffff",
            "family": "Courier New, monospace",
            "size": 30
           },
           "type": "scatter",
           "x": [
            20,
            30,
            40,
            50,
            60,
            70,
            80,
            90,
            100
           ],
           "y": [
            5,
            5,
            5,
            5,
            5,
            5,
            5,
            5,
            5
           ]
          },
          {
           "hoverinfo": "none",
           "mode": "text",
           "showlegend": false,
           "text": [
            "10",
            "20",
            "30",
            "40",
            "50",
            "40",
            "30",
            "20",
            "10"
           ],
           "textfont": {
            "color": "#ffffff",
            "family": "Courier New, monospace",
            "size": 30
           },
           "type": "scatter",
           "x": [
            20,
            30,
            40,
            50,
            60,
            70,
            80,
            90,
            100
           ],
           "y": [
            48.5,
            48.5,
            48.5,
            48.5,
            48.5,
            48.5,
            48.5,
            48.5,
            48.5
           ]
          },
          {
           "hoverinfo": "none",
           "line": {
            "color": "blue",
            "dash": "dash"
           },
           "showlegend": false,
           "type": "scatter",
           "x": [
            52,
            52
           ],
           "y": [
            0,
            53.5
           ]
          },
          {
           "hoverinfo": "none",
           "line": {
            "color": "yellow",
            "dash": "dash"
           },
           "showlegend": false,
           "type": "scatter",
           "x": [
            44,
            44
           ],
           "y": [
            0,
            53.5
           ]
          },
          {
           "fill": "toself",
           "fillcolor": "#4B92DB",
           "hoverinfo": "skip",
           "line": {
            "color": "white",
            "width": 3
           },
           "mode": "lines",
           "opacity": 1,
           "showlegend": false,
           "type": "scatter",
           "x": [
            0,
            0,
            10,
            10,
            0
           ],
           "y": [
            0,
            53.5,
            53.5,
            0,
            0
           ]
          },
          {
           "fill": "toself",
           "fillcolor": "#0B2265",
           "hoverinfo": "skip",
           "line": {
            "color": "white",
            "width": 3
           },
           "mode": "lines",
           "opacity": 1,
           "showlegend": false,
           "type": "scatter",
           "x": [
            110,
            110,
            120,
            120,
            110
           ],
           "y": [
            0,
            53.5,
            53.5,
            0,
            0
           ]
          },
          {
           "hoverinfo": "text",
           "hovertext": [
            "nflId:42365.0<br>displayName:Bud Dupree<br>Player Speed:0.12 yd/s",
            "nflId:43353.0<br>displayName:Kevin Byard<br>Player Speed:0.3 yd/s",
            "nflId:44869.0<br>displayName:Zach Cunningham<br>Player Speed:0.06 yd/s",
            "nflId:46457.0<br>displayName:Olasunkanmi Adeniyi<br>Player Speed:0.12 yd/s",
            "nflId:47802.0<br>displayName:Jeffery Simmons<br>Player Speed:0.0 yd/s",
            "nflId:47899.0<br>displayName:Amani Hooker<br>Player Speed:0.6 yd/s",
            "nflId:47915.0<br>displayName:Ugochukwu Amadi<br>Player Speed:1.07 yd/s",
            "nflId:47971.0<br>displayName:David Long<br>Player Speed:0.48 yd/s",
            "nflId:52469.0<br>displayName:Kristian Fulton<br>Player Speed:0.92 yd/s",
            "nflId:53073.0<br>displayName:Teair Tart<br>Player Speed:0.06 yd/s",
            "nflId:54500.0<br>displayName:Roger McCreary<br>Player Speed:0.09 yd/s"
           ],
           "marker": {
            "color": "#4B92DB",
            "line": {
             "color": "#0C2340",
             "width": 2
            },
            "size": 10
           },
           "mode": "markers",
           "name": "TEN",
           "type": "scatter",
           "x": [
            51.53,
            40.98,
            46.73,
            51.33,
            51.02,
            41.13,
            50.97,
            45.97,
            46.47,
            51.46,
            44.76
           ],
           "y": [
            23.47,
            35.25,
            33.17,
            35.12,
            26.88,
            21.99,
            21.79,
            27.63,
            10.89,
            31.17,
            40.59
           ]
          },
          {
           "hoverinfo": "text",
           "hovertext": [
            "nflId:42471.0<br>displayName:Jon Feliciano<br>Player Speed:0.0 yd/s",
            "nflId:42477.0<br>displayName:Mark Glowinski<br>Player Speed:0.03 yd/s",
            "nflId:44908.0<br>displayName:Kenny Golladay<br>Player Speed:0.0 yd/s",
            "nflId:46071.0<br>displayName:Saquon Barkley<br>Player Speed:0.0 yd/s",
            "nflId:46309.0<br>displayName:Richie James<br>Player Speed:0.0 yd/s",
            "nflId:47789.0<br>displayName:Daniel Jones<br>Player Speed:0.07 yd/s",
            "nflId:48489.0<br>displayName:David Sills<br>Player Speed:0.0 yd/s",
            "nflId:52412.0<br>displayName:Andrew Thomas<br>Player Speed:0.0 yd/s",
            "nflId:54472.0<br>displayName:Evan Neal<br>Player Speed:0.0 yd/s",
            "nflId:54532.0<br>displayName:Joshua Ezeudu<br>Player Speed:0.0 yd/s",
            "nflId:54577.0<br>displayName:Daniel Bellinger<br>Player Speed:0.0 yd/s"
           ],
           "marker": {
            "color": "#0B2265",
            "line": {
             "color": "#A71930",
             "width": 2
            },
            "size": 10
           },
           "mode": "markers",
           "name": "NYG",
           "type": "scatter",
           "x": [
            52.45,
            52.93,
            52.47,
            56.92,
            53.29,
            56.77,
            52.88,
            53.12,
            53.04,
            52.9,
            53.87
           ],
           "y": [
            29.62,
            31.35,
            10.53,
            27.52,
            20.44,
            29.82,
            38.89,
            26.62,
            32.75,
            28.27,
            35.63
           ]
          },
          {
           "hoverinfo": "none",
           "marker": {
            "color": "#CBB67C",
            "line": {
             "color": "#663831",
             "width": 2
            },
            "size": 10
           },
           "mode": "markers",
           "name": "football",
           "type": "scatter",
           "x": [
            52.0200004577637
           ],
           "y": [
            29.7399997711182
           ]
          }
         ],
         "name": "37"
        },
        {
         "data": [
          {
           "hoverinfo": "none",
           "mode": "text",
           "showlegend": false,
           "text": [
            "10",
            "20",
            "30",
            "40",
            "50",
            "40",
            "30",
            "20",
            "10"
           ],
           "textfont": {
            "color": "#ffffff",
            "family": "Courier New, monospace",
            "size": 30
           },
           "type": "scatter",
           "x": [
            20,
            30,
            40,
            50,
            60,
            70,
            80,
            90,
            100
           ],
           "y": [
            5,
            5,
            5,
            5,
            5,
            5,
            5,
            5,
            5
           ]
          },
          {
           "hoverinfo": "none",
           "mode": "text",
           "showlegend": false,
           "text": [
            "10",
            "20",
            "30",
            "40",
            "50",
            "40",
            "30",
            "20",
            "10"
           ],
           "textfont": {
            "color": "#ffffff",
            "family": "Courier New, monospace",
            "size": 30
           },
           "type": "scatter",
           "x": [
            20,
            30,
            40,
            50,
            60,
            70,
            80,
            90,
            100
           ],
           "y": [
            48.5,
            48.5,
            48.5,
            48.5,
            48.5,
            48.5,
            48.5,
            48.5,
            48.5
           ]
          },
          {
           "hoverinfo": "none",
           "line": {
            "color": "blue",
            "dash": "dash"
           },
           "showlegend": false,
           "type": "scatter",
           "x": [
            52,
            52
           ],
           "y": [
            0,
            53.5
           ]
          },
          {
           "hoverinfo": "none",
           "line": {
            "color": "yellow",
            "dash": "dash"
           },
           "showlegend": false,
           "type": "scatter",
           "x": [
            44,
            44
           ],
           "y": [
            0,
            53.5
           ]
          },
          {
           "fill": "toself",
           "fillcolor": "#4B92DB",
           "hoverinfo": "skip",
           "line": {
            "color": "white",
            "width": 3
           },
           "mode": "lines",
           "opacity": 1,
           "showlegend": false,
           "type": "scatter",
           "x": [
            0,
            0,
            10,
            10,
            0
           ],
           "y": [
            0,
            53.5,
            53.5,
            0,
            0
           ]
          },
          {
           "fill": "toself",
           "fillcolor": "#0B2265",
           "hoverinfo": "skip",
           "line": {
            "color": "white",
            "width": 3
           },
           "mode": "lines",
           "opacity": 1,
           "showlegend": false,
           "type": "scatter",
           "x": [
            110,
            110,
            120,
            120,
            110
           ],
           "y": [
            0,
            53.5,
            53.5,
            0,
            0
           ]
          },
          {
           "hoverinfo": "text",
           "hovertext": [
            "nflId:42365.0<br>displayName:Bud Dupree<br>Player Speed:0.1 yd/s",
            "nflId:43353.0<br>displayName:Kevin Byard<br>Player Speed:0.31 yd/s",
            "nflId:44869.0<br>displayName:Zach Cunningham<br>Player Speed:0.06 yd/s",
            "nflId:46457.0<br>displayName:Olasunkanmi Adeniyi<br>Player Speed:0.31 yd/s",
            "nflId:47802.0<br>displayName:Jeffery Simmons<br>Player Speed:0.0 yd/s",
            "nflId:47899.0<br>displayName:Amani Hooker<br>Player Speed:0.68 yd/s",
            "nflId:47915.0<br>displayName:Ugochukwu Amadi<br>Player Speed:1.1 yd/s",
            "nflId:47971.0<br>displayName:David Long<br>Player Speed:0.52 yd/s",
            "nflId:52469.0<br>displayName:Kristian Fulton<br>Player Speed:0.94 yd/s",
            "nflId:53073.0<br>displayName:Teair Tart<br>Player Speed:0.07 yd/s",
            "nflId:54500.0<br>displayName:Roger McCreary<br>Player Speed:0.12 yd/s"
           ],
           "marker": {
            "color": "#4B92DB",
            "line": {
             "color": "#0C2340",
             "width": 2
            },
            "size": 10
           },
           "mode": "markers",
           "name": "TEN",
           "type": "scatter",
           "x": [
            51.54,
            40.95,
            46.72,
            51.35,
            51.02,
            41.21,
            51.04,
            46.01,
            46.38,
            51.48,
            44.76
           ],
           "y": [
            23.47,
            35.23,
            33.17,
            35.13,
            26.88,
            21.97,
            21.88,
            27.66,
            10.9,
            31.14,
            40.6
           ]
          },
          {
           "hoverinfo": "text",
           "hovertext": [
            "nflId:42471.0<br>displayName:Jon Feliciano<br>Player Speed:0.05 yd/s",
            "nflId:42477.0<br>displayName:Mark Glowinski<br>Player Speed:0.04 yd/s",
            "nflId:44908.0<br>displayName:Kenny Golladay<br>Player Speed:0.0 yd/s",
            "nflId:46071.0<br>displayName:Saquon Barkley<br>Player Speed:0.0 yd/s",
            "nflId:46309.0<br>displayName:Richie James<br>Player Speed:0.0 yd/s",
            "nflId:47789.0<br>displayName:Daniel Jones<br>Player Speed:0.09 yd/s",
            "nflId:48489.0<br>displayName:David Sills<br>Player Speed:0.0 yd/s",
            "nflId:52412.0<br>displayName:Andrew Thomas<br>Player Speed:0.0 yd/s",
            "nflId:54472.0<br>displayName:Evan Neal<br>Player Speed:0.0 yd/s",
            "nflId:54532.0<br>displayName:Joshua Ezeudu<br>Player Speed:0.0 yd/s",
            "nflId:54577.0<br>displayName:Daniel Bellinger<br>Player Speed:0.0 yd/s"
           ],
           "marker": {
            "color": "#0B2265",
            "line": {
             "color": "#A71930",
             "width": 2
            },
            "size": 10
           },
           "mode": "markers",
           "name": "NYG",
           "type": "scatter",
           "x": [
            52.45,
            52.94,
            52.47,
            56.92,
            53.29,
            56.72,
            52.88,
            53.12,
            53.05,
            52.9,
            53.87
           ],
           "y": [
            29.62,
            31.35,
            10.53,
            27.52,
            20.44,
            29.82,
            38.89,
            26.62,
            32.76,
            28.27,
            35.63
           ]
          },
          {
           "hoverinfo": "none",
           "marker": {
            "color": "#CBB67C",
            "line": {
             "color": "#663831",
             "width": 2
            },
            "size": 10
           },
           "mode": "markers",
           "name": "football",
           "type": "scatter",
           "x": [
            52.0200004577637
           ],
           "y": [
            29.7399997711182
           ]
          }
         ],
         "name": "38"
        },
        {
         "data": [
          {
           "hoverinfo": "none",
           "mode": "text",
           "showlegend": false,
           "text": [
            "10",
            "20",
            "30",
            "40",
            "50",
            "40",
            "30",
            "20",
            "10"
           ],
           "textfont": {
            "color": "#ffffff",
            "family": "Courier New, monospace",
            "size": 30
           },
           "type": "scatter",
           "x": [
            20,
            30,
            40,
            50,
            60,
            70,
            80,
            90,
            100
           ],
           "y": [
            5,
            5,
            5,
            5,
            5,
            5,
            5,
            5,
            5
           ]
          },
          {
           "hoverinfo": "none",
           "mode": "text",
           "showlegend": false,
           "text": [
            "10",
            "20",
            "30",
            "40",
            "50",
            "40",
            "30",
            "20",
            "10"
           ],
           "textfont": {
            "color": "#ffffff",
            "family": "Courier New, monospace",
            "size": 30
           },
           "type": "scatter",
           "x": [
            20,
            30,
            40,
            50,
            60,
            70,
            80,
            90,
            100
           ],
           "y": [
            48.5,
            48.5,
            48.5,
            48.5,
            48.5,
            48.5,
            48.5,
            48.5,
            48.5
           ]
          },
          {
           "hoverinfo": "none",
           "line": {
            "color": "blue",
            "dash": "dash"
           },
           "showlegend": false,
           "type": "scatter",
           "x": [
            52,
            52
           ],
           "y": [
            0,
            53.5
           ]
          },
          {
           "hoverinfo": "none",
           "line": {
            "color": "yellow",
            "dash": "dash"
           },
           "showlegend": false,
           "type": "scatter",
           "x": [
            44,
            44
           ],
           "y": [
            0,
            53.5
           ]
          },
          {
           "fill": "toself",
           "fillcolor": "#4B92DB",
           "hoverinfo": "skip",
           "line": {
            "color": "white",
            "width": 3
           },
           "mode": "lines",
           "opacity": 1,
           "showlegend": false,
           "type": "scatter",
           "x": [
            0,
            0,
            10,
            10,
            0
           ],
           "y": [
            0,
            53.5,
            53.5,
            0,
            0
           ]
          },
          {
           "fill": "toself",
           "fillcolor": "#0B2265",
           "hoverinfo": "skip",
           "line": {
            "color": "white",
            "width": 3
           },
           "mode": "lines",
           "opacity": 1,
           "showlegend": false,
           "type": "scatter",
           "x": [
            110,
            110,
            120,
            120,
            110
           ],
           "y": [
            0,
            53.5,
            53.5,
            0,
            0
           ]
          },
          {
           "hoverinfo": "text",
           "hovertext": [
            "nflId:42365.0<br>displayName:Bud Dupree<br>Player Speed:0.08 yd/s",
            "nflId:43353.0<br>displayName:Kevin Byard<br>Player Speed:0.34 yd/s",
            "nflId:44869.0<br>displayName:Zach Cunningham<br>Player Speed:0.06 yd/s",
            "nflId:46457.0<br>displayName:Olasunkanmi Adeniyi<br>Player Speed:0.43 yd/s",
            "nflId:47802.0<br>displayName:Jeffery Simmons<br>Player Speed:0.01 yd/s",
            "nflId:47899.0<br>displayName:Amani Hooker<br>Player Speed:0.77 yd/s",
            "nflId:47915.0<br>displayName:Ugochukwu Amadi<br>Player Speed:1.14 yd/s",
            "nflId:47971.0<br>displayName:David Long<br>Player Speed:0.55 yd/s",
            "nflId:52469.0<br>displayName:Kristian Fulton<br>Player Speed:0.96 yd/s",
            "nflId:53073.0<br>displayName:Teair Tart<br>Player Speed:0.06 yd/s",
            "nflId:54500.0<br>displayName:Roger McCreary<br>Player Speed:0.13 yd/s"
           ],
           "marker": {
            "color": "#4B92DB",
            "line": {
             "color": "#0C2340",
             "width": 2
            },
            "size": 10
           },
           "mode": "markers",
           "name": "TEN",
           "type": "scatter",
           "x": [
            51.55,
            40.92,
            46.7,
            51.37,
            51.03,
            41.28,
            51.11,
            46.05,
            46.29,
            51.48,
            44.75
           ],
           "y": [
            23.46,
            35.21,
            33.18,
            35.15,
            26.87,
            21.94,
            21.97,
            27.69,
            10.91,
            31.15,
            40.61
           ]
          },
          {
           "hoverinfo": "text",
           "hovertext": [
            "nflId:42471.0<br>displayName:Jon Feliciano<br>Player Speed:0.19 yd/s",
            "nflId:42477.0<br>displayName:Mark Glowinski<br>Player Speed:0.04 yd/s",
            "nflId:44908.0<br>displayName:Kenny Golladay<br>Player Speed:0.0 yd/s",
            "nflId:46071.0<br>displayName:Saquon Barkley<br>Player Speed:0.0 yd/s",
            "nflId:46309.0<br>displayName:Richie James<br>Player Speed:0.0 yd/s",
            "nflId:47789.0<br>displayName:Daniel Jones<br>Player Speed:0.09 yd/s",
            "nflId:48489.0<br>displayName:David Sills<br>Player Speed:0.0 yd/s",
            "nflId:52412.0<br>displayName:Andrew Thomas<br>Player Speed:0.0 yd/s",
            "nflId:54472.0<br>displayName:Evan Neal<br>Player Speed:0.03 yd/s",
            "nflId:54532.0<br>displayName:Joshua Ezeudu<br>Player Speed:0.0 yd/s",
            "nflId:54577.0<br>displayName:Daniel Bellinger<br>Player Speed:0.0 yd/s"
           ],
           "marker": {
            "color": "#0B2265",
            "line": {
             "color": "#A71930",
             "width": 2
            },
            "size": 10
           },
           "mode": "markers",
           "name": "NYG",
           "type": "scatter",
           "x": [
            52.47,
            52.95,
            52.47,
            56.92,
            53.29,
            56.71,
            52.88,
            53.12,
            53.06,
            52.9,
            53.87
           ],
           "y": [
            29.62,
            31.35,
            10.53,
            27.52,
            20.44,
            29.83,
            38.89,
            26.63,
            32.76,
            28.27,
            35.63
           ]
          },
          {
           "hoverinfo": "none",
           "marker": {
            "color": "#CBB67C",
            "line": {
             "color": "#663831",
             "width": 2
            },
            "size": 10
           },
           "mode": "markers",
           "name": "football",
           "type": "scatter",
           "x": [
            52.0200004577637
           ],
           "y": [
            29.7399997711182
           ]
          }
         ],
         "name": "39"
        },
        {
         "data": [
          {
           "hoverinfo": "none",
           "mode": "text",
           "showlegend": false,
           "text": [
            "10",
            "20",
            "30",
            "40",
            "50",
            "40",
            "30",
            "20",
            "10"
           ],
           "textfont": {
            "color": "#ffffff",
            "family": "Courier New, monospace",
            "size": 30
           },
           "type": "scatter",
           "x": [
            20,
            30,
            40,
            50,
            60,
            70,
            80,
            90,
            100
           ],
           "y": [
            5,
            5,
            5,
            5,
            5,
            5,
            5,
            5,
            5
           ]
          },
          {
           "hoverinfo": "none",
           "mode": "text",
           "showlegend": false,
           "text": [
            "10",
            "20",
            "30",
            "40",
            "50",
            "40",
            "30",
            "20",
            "10"
           ],
           "textfont": {
            "color": "#ffffff",
            "family": "Courier New, monospace",
            "size": 30
           },
           "type": "scatter",
           "x": [
            20,
            30,
            40,
            50,
            60,
            70,
            80,
            90,
            100
           ],
           "y": [
            48.5,
            48.5,
            48.5,
            48.5,
            48.5,
            48.5,
            48.5,
            48.5,
            48.5
           ]
          },
          {
           "hoverinfo": "none",
           "line": {
            "color": "blue",
            "dash": "dash"
           },
           "showlegend": false,
           "type": "scatter",
           "x": [
            52,
            52
           ],
           "y": [
            0,
            53.5
           ]
          },
          {
           "hoverinfo": "none",
           "line": {
            "color": "yellow",
            "dash": "dash"
           },
           "showlegend": false,
           "type": "scatter",
           "x": [
            44,
            44
           ],
           "y": [
            0,
            53.5
           ]
          },
          {
           "fill": "toself",
           "fillcolor": "#4B92DB",
           "hoverinfo": "skip",
           "line": {
            "color": "white",
            "width": 3
           },
           "mode": "lines",
           "opacity": 1,
           "showlegend": false,
           "type": "scatter",
           "x": [
            0,
            0,
            10,
            10,
            0
           ],
           "y": [
            0,
            53.5,
            53.5,
            0,
            0
           ]
          },
          {
           "fill": "toself",
           "fillcolor": "#0B2265",
           "hoverinfo": "skip",
           "line": {
            "color": "white",
            "width": 3
           },
           "mode": "lines",
           "opacity": 1,
           "showlegend": false,
           "type": "scatter",
           "x": [
            110,
            110,
            120,
            120,
            110
           ],
           "y": [
            0,
            53.5,
            53.5,
            0,
            0
           ]
          },
          {
           "hoverinfo": "text",
           "hovertext": [
            "nflId:42365.0<br>displayName:Bud Dupree<br>Player Speed:0.08 yd/s",
            "nflId:43353.0<br>displayName:Kevin Byard<br>Player Speed:0.32 yd/s",
            "nflId:44869.0<br>displayName:Zach Cunningham<br>Player Speed:0.05 yd/s",
            "nflId:46457.0<br>displayName:Olasunkanmi Adeniyi<br>Player Speed:0.61 yd/s",
            "nflId:47802.0<br>displayName:Jeffery Simmons<br>Player Speed:0.08 yd/s",
            "nflId:47899.0<br>displayName:Amani Hooker<br>Player Speed:0.91 yd/s",
            "nflId:47915.0<br>displayName:Ugochukwu Amadi<br>Player Speed:1.15 yd/s",
            "nflId:47971.0<br>displayName:David Long<br>Player Speed:0.55 yd/s",
            "nflId:52469.0<br>displayName:Kristian Fulton<br>Player Speed:1.0 yd/s",
            "nflId:53073.0<br>displayName:Teair Tart<br>Player Speed:0.07 yd/s",
            "nflId:54500.0<br>displayName:Roger McCreary<br>Player Speed:0.18 yd/s"
           ],
           "marker": {
            "color": "#4B92DB",
            "line": {
             "color": "#0C2340",
             "width": 2
            },
            "size": 10
           },
           "mode": "markers",
           "name": "TEN",
           "type": "scatter",
           "x": [
            51.57,
            40.89,
            46.69,
            51.41,
            51.05,
            41.36,
            51.18,
            46.09,
            46.19,
            51.5,
            44.74
           ],
           "y": [
            23.46,
            35.2,
            33.19,
            35.18,
            26.86,
            21.91,
            22.06,
            27.73,
            10.93,
            31.15,
            40.61
           ]
          },
          {
           "hoverinfo": "text",
           "hovertext": [
            "nflId:42471.0<br>displayName:Jon Feliciano<br>Player Speed:0.44 yd/s",
            "nflId:42477.0<br>displayName:Mark Glowinski<br>Player Speed:0.06 yd/s",
            "nflId:44908.0<br>displayName:Kenny Golladay<br>Player Speed:0.0 yd/s",
            "nflId:46071.0<br>displayName:Saquon Barkley<br>Player Speed:0.0 yd/s",
            "nflId:46309.0<br>displayName:Richie James<br>Player Speed:0.0 yd/s",
            "nflId:47789.0<br>displayName:Daniel Jones<br>Player Speed:0.08 yd/s",
            "nflId:48489.0<br>displayName:David Sills<br>Player Speed:0.0 yd/s",
            "nflId:52412.0<br>displayName:Andrew Thomas<br>Player Speed:0.01 yd/s",
            "nflId:54472.0<br>displayName:Evan Neal<br>Player Speed:0.13 yd/s",
            "nflId:54532.0<br>displayName:Joshua Ezeudu<br>Player Speed:0.0 yd/s",
            "nflId:54577.0<br>displayName:Daniel Bellinger<br>Player Speed:0.0 yd/s"
           ],
           "marker": {
            "color": "#0B2265",
            "line": {
             "color": "#A71930",
             "width": 2
            },
            "size": 10
           },
           "mode": "markers",
           "name": "NYG",
           "type": "scatter",
           "x": [
            52.51,
            52.96,
            52.47,
            56.92,
            53.29,
            56.69,
            52.88,
            53.14,
            53.07,
            52.9,
            53.87
           ],
           "y": [
            29.62,
            31.34,
            10.53,
            27.52,
            20.44,
            29.83,
            38.89,
            26.62,
            32.77,
            28.26,
            35.63
           ]
          },
          {
           "hoverinfo": "none",
           "marker": {
            "color": "#CBB67C",
            "line": {
             "color": "#663831",
             "width": 2
            },
            "size": 10
           },
           "mode": "markers",
           "name": "football",
           "type": "scatter",
           "x": [
            52.0200004577637
           ],
           "y": [
            29.7399997711182
           ]
          }
         ],
         "name": "40"
        },
        {
         "data": [
          {
           "hoverinfo": "none",
           "mode": "text",
           "showlegend": false,
           "text": [
            "10",
            "20",
            "30",
            "40",
            "50",
            "40",
            "30",
            "20",
            "10"
           ],
           "textfont": {
            "color": "#ffffff",
            "family": "Courier New, monospace",
            "size": 30
           },
           "type": "scatter",
           "x": [
            20,
            30,
            40,
            50,
            60,
            70,
            80,
            90,
            100
           ],
           "y": [
            5,
            5,
            5,
            5,
            5,
            5,
            5,
            5,
            5
           ]
          },
          {
           "hoverinfo": "none",
           "mode": "text",
           "showlegend": false,
           "text": [
            "10",
            "20",
            "30",
            "40",
            "50",
            "40",
            "30",
            "20",
            "10"
           ],
           "textfont": {
            "color": "#ffffff",
            "family": "Courier New, monospace",
            "size": 30
           },
           "type": "scatter",
           "x": [
            20,
            30,
            40,
            50,
            60,
            70,
            80,
            90,
            100
           ],
           "y": [
            48.5,
            48.5,
            48.5,
            48.5,
            48.5,
            48.5,
            48.5,
            48.5,
            48.5
           ]
          },
          {
           "hoverinfo": "none",
           "line": {
            "color": "blue",
            "dash": "dash"
           },
           "showlegend": false,
           "type": "scatter",
           "x": [
            52,
            52
           ],
           "y": [
            0,
            53.5
           ]
          },
          {
           "hoverinfo": "none",
           "line": {
            "color": "yellow",
            "dash": "dash"
           },
           "showlegend": false,
           "type": "scatter",
           "x": [
            44,
            44
           ],
           "y": [
            0,
            53.5
           ]
          },
          {
           "fill": "toself",
           "fillcolor": "#4B92DB",
           "hoverinfo": "skip",
           "line": {
            "color": "white",
            "width": 3
           },
           "mode": "lines",
           "opacity": 1,
           "showlegend": false,
           "type": "scatter",
           "x": [
            0,
            0,
            10,
            10,
            0
           ],
           "y": [
            0,
            53.5,
            53.5,
            0,
            0
           ]
          },
          {
           "fill": "toself",
           "fillcolor": "#0B2265",
           "hoverinfo": "skip",
           "line": {
            "color": "white",
            "width": 3
           },
           "mode": "lines",
           "opacity": 1,
           "showlegend": false,
           "type": "scatter",
           "x": [
            110,
            110,
            120,
            120,
            110
           ],
           "y": [
            0,
            53.5,
            53.5,
            0,
            0
           ]
          },
          {
           "hoverinfo": "text",
           "hovertext": [
            "nflId:42365.0<br>displayName:Bud Dupree<br>Player Speed:0.12 yd/s",
            "nflId:43353.0<br>displayName:Kevin Byard<br>Player Speed:0.3 yd/s",
            "nflId:44869.0<br>displayName:Zach Cunningham<br>Player Speed:0.05 yd/s",
            "nflId:46457.0<br>displayName:Olasunkanmi Adeniyi<br>Player Speed:0.85 yd/s",
            "nflId:47802.0<br>displayName:Jeffery Simmons<br>Player Speed:0.32 yd/s",
            "nflId:47899.0<br>displayName:Amani Hooker<br>Player Speed:1.06 yd/s",
            "nflId:47915.0<br>displayName:Ugochukwu Amadi<br>Player Speed:1.1 yd/s",
            "nflId:47971.0<br>displayName:David Long<br>Player Speed:0.53 yd/s",
            "nflId:52469.0<br>displayName:Kristian Fulton<br>Player Speed:1.08 yd/s",
            "nflId:53073.0<br>displayName:Teair Tart<br>Player Speed:0.13 yd/s",
            "nflId:54500.0<br>displayName:Roger McCreary<br>Player Speed:0.22 yd/s"
           ],
           "marker": {
            "color": "#4B92DB",
            "line": {
             "color": "#0C2340",
             "width": 2
            },
            "size": 10
           },
           "mode": "markers",
           "name": "TEN",
           "type": "scatter",
           "x": [
            51.59,
            40.86,
            46.68,
            51.47,
            51.09,
            41.45,
            51.24,
            46.13,
            46.08,
            51.52,
            44.71
           ],
           "y": [
            23.47,
            35.19,
            33.21,
            35.2,
            26.84,
            21.86,
            22.15,
            27.78,
            10.94,
            31.16,
            40.62
           ]
          },
          {
           "hoverinfo": "text",
           "hovertext": [
            "nflId:42471.0<br>displayName:Jon Feliciano<br>Player Speed:0.74 yd/s",
            "nflId:42477.0<br>displayName:Mark Glowinski<br>Player Speed:0.08 yd/s",
            "nflId:44908.0<br>displayName:Kenny Golladay<br>Player Speed:0.02 yd/s",
            "nflId:46071.0<br>displayName:Saquon Barkley<br>Player Speed:0.0 yd/s",
            "nflId:46309.0<br>displayName:Richie James<br>Player Speed:0.0 yd/s",
            "nflId:47789.0<br>displayName:Daniel Jones<br>Player Speed:0.08 yd/s",
            "nflId:48489.0<br>displayName:David Sills<br>Player Speed:0.0 yd/s",
            "nflId:52412.0<br>displayName:Andrew Thomas<br>Player Speed:0.1 yd/s",
            "nflId:54472.0<br>displayName:Evan Neal<br>Player Speed:0.36 yd/s",
            "nflId:54532.0<br>displayName:Joshua Ezeudu<br>Player Speed:0.06 yd/s",
            "nflId:54577.0<br>displayName:Daniel Bellinger<br>Player Speed:0.0 yd/s"
           ],
           "marker": {
            "color": "#0B2265",
            "line": {
             "color": "#A71930",
             "width": 2
            },
            "size": 10
           },
           "mode": "markers",
           "name": "NYG",
           "type": "scatter",
           "x": [
            52.58,
            52.96,
            52.47,
            56.92,
            53.29,
            56.69,
            52.87,
            53.15,
            53.1,
            52.91,
            53.86
           ],
           "y": [
            29.61,
            31.33,
            10.54,
            27.52,
            20.44,
            29.84,
            38.89,
            26.62,
            32.79,
            28.26,
            35.64
           ]
          },
          {
           "hoverinfo": "none",
           "marker": {
            "color": "#CBB67C",
            "line": {
             "color": "#663831",
             "width": 2
            },
            "size": 10
           },
           "mode": "markers",
           "name": "football",
           "type": "scatter",
           "x": [
            52.0200004577637
           ],
           "y": [
            29.7399997711182
           ]
          }
         ],
         "name": "41"
        },
        {
         "data": [
          {
           "hoverinfo": "none",
           "mode": "text",
           "showlegend": false,
           "text": [
            "10",
            "20",
            "30",
            "40",
            "50",
            "40",
            "30",
            "20",
            "10"
           ],
           "textfont": {
            "color": "#ffffff",
            "family": "Courier New, monospace",
            "size": 30
           },
           "type": "scatter",
           "x": [
            20,
            30,
            40,
            50,
            60,
            70,
            80,
            90,
            100
           ],
           "y": [
            5,
            5,
            5,
            5,
            5,
            5,
            5,
            5,
            5
           ]
          },
          {
           "hoverinfo": "none",
           "mode": "text",
           "showlegend": false,
           "text": [
            "10",
            "20",
            "30",
            "40",
            "50",
            "40",
            "30",
            "20",
            "10"
           ],
           "textfont": {
            "color": "#ffffff",
            "family": "Courier New, monospace",
            "size": 30
           },
           "type": "scatter",
           "x": [
            20,
            30,
            40,
            50,
            60,
            70,
            80,
            90,
            100
           ],
           "y": [
            48.5,
            48.5,
            48.5,
            48.5,
            48.5,
            48.5,
            48.5,
            48.5,
            48.5
           ]
          },
          {
           "hoverinfo": "none",
           "line": {
            "color": "blue",
            "dash": "dash"
           },
           "showlegend": false,
           "type": "scatter",
           "x": [
            52,
            52
           ],
           "y": [
            0,
            53.5
           ]
          },
          {
           "hoverinfo": "none",
           "line": {
            "color": "yellow",
            "dash": "dash"
           },
           "showlegend": false,
           "type": "scatter",
           "x": [
            44,
            44
           ],
           "y": [
            0,
            53.5
           ]
          },
          {
           "fill": "toself",
           "fillcolor": "#4B92DB",
           "hoverinfo": "skip",
           "line": {
            "color": "white",
            "width": 3
           },
           "mode": "lines",
           "opacity": 1,
           "showlegend": false,
           "type": "scatter",
           "x": [
            0,
            0,
            10,
            10,
            0
           ],
           "y": [
            0,
            53.5,
            53.5,
            0,
            0
           ]
          },
          {
           "fill": "toself",
           "fillcolor": "#0B2265",
           "hoverinfo": "skip",
           "line": {
            "color": "white",
            "width": 3
           },
           "mode": "lines",
           "opacity": 1,
           "showlegend": false,
           "type": "scatter",
           "x": [
            110,
            110,
            120,
            120,
            110
           ],
           "y": [
            0,
            53.5,
            53.5,
            0,
            0
           ]
          },
          {
           "hoverinfo": "text",
           "hovertext": [
            "nflId:42365.0<br>displayName:Bud Dupree<br>Player Speed:0.42 yd/s",
            "nflId:43353.0<br>displayName:Kevin Byard<br>Player Speed:0.3 yd/s",
            "nflId:44869.0<br>displayName:Zach Cunningham<br>Player Speed:0.05 yd/s",
            "nflId:46457.0<br>displayName:Olasunkanmi Adeniyi<br>Player Speed:1.14 yd/s",
            "nflId:47802.0<br>displayName:Jeffery Simmons<br>Player Speed:0.66 yd/s",
            "nflId:47899.0<br>displayName:Amani Hooker<br>Player Speed:1.15 yd/s",
            "nflId:47915.0<br>displayName:Ugochukwu Amadi<br>Player Speed:0.72 yd/s",
            "nflId:47971.0<br>displayName:David Long<br>Player Speed:0.47 yd/s",
            "nflId:52469.0<br>displayName:Kristian Fulton<br>Player Speed:1.2 yd/s",
            "nflId:53073.0<br>displayName:Teair Tart<br>Player Speed:0.36 yd/s",
            "nflId:54500.0<br>displayName:Roger McCreary<br>Player Speed:0.3 yd/s"
           ],
           "marker": {
            "color": "#4B92DB",
            "line": {
             "color": "#0C2340",
             "width": 2
            },
            "size": 10
           },
           "mode": "markers",
           "name": "TEN",
           "type": "scatter",
           "x": [
            51.64,
            40.83,
            46.67,
            51.57,
            51.14,
            41.54,
            51.29,
            46.16,
            45.97,
            51.55,
            44.68
           ],
           "y": [
            23.45,
            35.17,
            33.22,
            35.22,
            26.83,
            21.8,
            22.23,
            27.82,
            10.95,
            31.18,
            40.61
           ]
          },
          {
           "hoverinfo": "text",
           "hovertext": [
            "nflId:42471.0<br>displayName:Jon Feliciano<br>Player Speed:1.01 yd/s",
            "nflId:42477.0<br>displayName:Mark Glowinski<br>Player Speed:0.12 yd/s",
            "nflId:44908.0<br>displayName:Kenny Golladay<br>Player Speed:0.15 yd/s",
            "nflId:46071.0<br>displayName:Saquon Barkley<br>Player Speed:0.0 yd/s",
            "nflId:46309.0<br>displayName:Richie James<br>Player Speed:0.0 yd/s",
            "nflId:47789.0<br>displayName:Daniel Jones<br>Player Speed:0.06 yd/s",
            "nflId:48489.0<br>displayName:David Sills<br>Player Speed:0.04 yd/s",
            "nflId:52412.0<br>displayName:Andrew Thomas<br>Player Speed:0.27 yd/s",
            "nflId:54472.0<br>displayName:Evan Neal<br>Player Speed:0.66 yd/s",
            "nflId:54532.0<br>displayName:Joshua Ezeudu<br>Player Speed:0.2 yd/s",
            "nflId:54577.0<br>displayName:Daniel Bellinger<br>Player Speed:0.0 yd/s"
           ],
           "marker": {
            "color": "#0B2265",
            "line": {
             "color": "#A71930",
             "width": 2
            },
            "size": 10
           },
           "mode": "markers",
           "name": "NYG",
           "type": "scatter",
           "x": [
            52.68,
            52.97,
            52.46,
            56.92,
            53.28,
            56.7,
            52.86,
            53.17,
            53.15,
            52.91,
            53.86
           ],
           "y": [
            29.59,
            31.32,
            10.54,
            27.52,
            20.44,
            29.85,
            38.89,
            26.61,
            32.82,
            28.24,
            35.64
           ]
          },
          {
           "hoverinfo": "none",
           "marker": {
            "color": "#CBB67C",
            "line": {
             "color": "#663831",
             "width": 2
            },
            "size": 10
           },
           "mode": "markers",
           "name": "football",
           "type": "scatter",
           "x": [
            53.2599983215332
           ],
           "y": [
            29.9400005340576
           ]
          }
         ],
         "name": "42"
        },
        {
         "data": [
          {
           "hoverinfo": "none",
           "mode": "text",
           "showlegend": false,
           "text": [
            "10",
            "20",
            "30",
            "40",
            "50",
            "40",
            "30",
            "20",
            "10"
           ],
           "textfont": {
            "color": "#ffffff",
            "family": "Courier New, monospace",
            "size": 30
           },
           "type": "scatter",
           "x": [
            20,
            30,
            40,
            50,
            60,
            70,
            80,
            90,
            100
           ],
           "y": [
            5,
            5,
            5,
            5,
            5,
            5,
            5,
            5,
            5
           ]
          },
          {
           "hoverinfo": "none",
           "mode": "text",
           "showlegend": false,
           "text": [
            "10",
            "20",
            "30",
            "40",
            "50",
            "40",
            "30",
            "20",
            "10"
           ],
           "textfont": {
            "color": "#ffffff",
            "family": "Courier New, monospace",
            "size": 30
           },
           "type": "scatter",
           "x": [
            20,
            30,
            40,
            50,
            60,
            70,
            80,
            90,
            100
           ],
           "y": [
            48.5,
            48.5,
            48.5,
            48.5,
            48.5,
            48.5,
            48.5,
            48.5,
            48.5
           ]
          },
          {
           "hoverinfo": "none",
           "line": {
            "color": "blue",
            "dash": "dash"
           },
           "showlegend": false,
           "type": "scatter",
           "x": [
            52,
            52
           ],
           "y": [
            0,
            53.5
           ]
          },
          {
           "hoverinfo": "none",
           "line": {
            "color": "yellow",
            "dash": "dash"
           },
           "showlegend": false,
           "type": "scatter",
           "x": [
            44,
            44
           ],
           "y": [
            0,
            53.5
           ]
          },
          {
           "fill": "toself",
           "fillcolor": "#4B92DB",
           "hoverinfo": "skip",
           "line": {
            "color": "white",
            "width": 3
           },
           "mode": "lines",
           "opacity": 1,
           "showlegend": false,
           "type": "scatter",
           "x": [
            0,
            0,
            10,
            10,
            0
           ],
           "y": [
            0,
            53.5,
            53.5,
            0,
            0
           ]
          },
          {
           "fill": "toself",
           "fillcolor": "#0B2265",
           "hoverinfo": "skip",
           "line": {
            "color": "white",
            "width": 3
           },
           "mode": "lines",
           "opacity": 1,
           "showlegend": false,
           "type": "scatter",
           "x": [
            110,
            110,
            120,
            120,
            110
           ],
           "y": [
            0,
            53.5,
            53.5,
            0,
            0
           ]
          },
          {
           "hoverinfo": "text",
           "hovertext": [
            "nflId:42365.0<br>displayName:Bud Dupree<br>Player Speed:0.76 yd/s",
            "nflId:43353.0<br>displayName:Kevin Byard<br>Player Speed:0.31 yd/s",
            "nflId:44869.0<br>displayName:Zach Cunningham<br>Player Speed:0.04 yd/s",
            "nflId:46457.0<br>displayName:Olasunkanmi Adeniyi<br>Player Speed:1.57 yd/s",
            "nflId:47802.0<br>displayName:Jeffery Simmons<br>Player Speed:1.01 yd/s",
            "nflId:47899.0<br>displayName:Amani Hooker<br>Player Speed:1.2 yd/s",
            "nflId:47915.0<br>displayName:Ugochukwu Amadi<br>Player Speed:0.46 yd/s",
            "nflId:47971.0<br>displayName:David Long<br>Player Speed:0.4 yd/s",
            "nflId:52469.0<br>displayName:Kristian Fulton<br>Player Speed:1.29 yd/s",
            "nflId:53073.0<br>displayName:Teair Tart<br>Player Speed:0.67 yd/s",
            "nflId:54500.0<br>displayName:Roger McCreary<br>Player Speed:0.36 yd/s"
           ],
           "marker": {
            "color": "#4B92DB",
            "line": {
             "color": "#0C2340",
             "width": 2
            },
            "size": 10
           },
           "mode": "markers",
           "name": "TEN",
           "type": "scatter",
           "x": [
            51.71,
            40.79,
            46.65,
            51.7,
            51.23,
            41.63,
            51.32,
            46.18,
            45.84,
            51.59,
            44.64
           ],
           "y": [
            23.45,
            35.14,
            33.23,
            35.22,
            26.8,
            21.72,
            22.28,
            27.85,
            10.96,
            31.22,
            40.61
           ]
          },
          {
           "hoverinfo": "text",
           "hovertext": [
            "nflId:42471.0<br>displayName:Jon Feliciano<br>Player Speed:1.26 yd/s",
            "nflId:42477.0<br>displayName:Mark Glowinski<br>Player Speed:0.13 yd/s",
            "nflId:44908.0<br>displayName:Kenny Golladay<br>Player Speed:0.39 yd/s",
            "nflId:46071.0<br>displayName:Saquon Barkley<br>Player Speed:0.0 yd/s",
            "nflId:46309.0<br>displayName:Richie James<br>Player Speed:0.04 yd/s",
            "nflId:47789.0<br>displayName:Daniel Jones<br>Player Speed:0.05 yd/s",
            "nflId:48489.0<br>displayName:David Sills<br>Player Speed:0.28 yd/s",
            "nflId:52412.0<br>displayName:Andrew Thomas<br>Player Speed:0.57 yd/s",
            "nflId:54472.0<br>displayName:Evan Neal<br>Player Speed:1.05 yd/s",
            "nflId:54532.0<br>displayName:Joshua Ezeudu<br>Player Speed:0.43 yd/s",
            "nflId:54577.0<br>displayName:Daniel Bellinger<br>Player Speed:0.02 yd/s"
           ],
           "marker": {
            "color": "#0B2265",
            "line": {
             "color": "#A71930",
             "width": 2
            },
            "size": 10
           },
           "mode": "markers",
           "name": "NYG",
           "type": "scatter",
           "x": [
            52.81,
            52.98,
            52.43,
            56.92,
            53.28,
            56.72,
            52.84,
            53.22,
            53.23,
            52.93,
            53.86
           ],
           "y": [
            29.57,
            31.32,
            10.56,
            27.52,
            20.44,
            29.84,
            38.89,
            26.58,
            32.87,
            28.2,
            35.64
           ]
          },
          {
           "hoverinfo": "none",
           "marker": {
            "color": "#CBB67C",
            "line": {
             "color": "#663831",
             "width": 2
            },
            "size": 10
           },
           "mode": "markers",
           "name": "football",
           "type": "scatter",
           "x": [
            53.9799995422363
           ],
           "y": [
            29.9300003051758
           ]
          }
         ],
         "name": "43"
        },
        {
         "data": [
          {
           "hoverinfo": "none",
           "mode": "text",
           "showlegend": false,
           "text": [
            "10",
            "20",
            "30",
            "40",
            "50",
            "40",
            "30",
            "20",
            "10"
           ],
           "textfont": {
            "color": "#ffffff",
            "family": "Courier New, monospace",
            "size": 30
           },
           "type": "scatter",
           "x": [
            20,
            30,
            40,
            50,
            60,
            70,
            80,
            90,
            100
           ],
           "y": [
            5,
            5,
            5,
            5,
            5,
            5,
            5,
            5,
            5
           ]
          },
          {
           "hoverinfo": "none",
           "mode": "text",
           "showlegend": false,
           "text": [
            "10",
            "20",
            "30",
            "40",
            "50",
            "40",
            "30",
            "20",
            "10"
           ],
           "textfont": {
            "color": "#ffffff",
            "family": "Courier New, monospace",
            "size": 30
           },
           "type": "scatter",
           "x": [
            20,
            30,
            40,
            50,
            60,
            70,
            80,
            90,
            100
           ],
           "y": [
            48.5,
            48.5,
            48.5,
            48.5,
            48.5,
            48.5,
            48.5,
            48.5,
            48.5
           ]
          },
          {
           "hoverinfo": "none",
           "line": {
            "color": "blue",
            "dash": "dash"
           },
           "showlegend": false,
           "type": "scatter",
           "x": [
            52,
            52
           ],
           "y": [
            0,
            53.5
           ]
          },
          {
           "hoverinfo": "none",
           "line": {
            "color": "yellow",
            "dash": "dash"
           },
           "showlegend": false,
           "type": "scatter",
           "x": [
            44,
            44
           ],
           "y": [
            0,
            53.5
           ]
          },
          {
           "fill": "toself",
           "fillcolor": "#4B92DB",
           "hoverinfo": "skip",
           "line": {
            "color": "white",
            "width": 3
           },
           "mode": "lines",
           "opacity": 1,
           "showlegend": false,
           "type": "scatter",
           "x": [
            0,
            0,
            10,
            10,
            0
           ],
           "y": [
            0,
            53.5,
            53.5,
            0,
            0
           ]
          },
          {
           "fill": "toself",
           "fillcolor": "#0B2265",
           "hoverinfo": "skip",
           "line": {
            "color": "white",
            "width": 3
           },
           "mode": "lines",
           "opacity": 1,
           "showlegend": false,
           "type": "scatter",
           "x": [
            110,
            110,
            120,
            120,
            110
           ],
           "y": [
            0,
            53.5,
            53.5,
            0,
            0
           ]
          },
          {
           "hoverinfo": "text",
           "hovertext": [
            "nflId:42365.0<br>displayName:Bud Dupree<br>Player Speed:1.21 yd/s",
            "nflId:43353.0<br>displayName:Kevin Byard<br>Player Speed:0.31 yd/s",
            "nflId:44869.0<br>displayName:Zach Cunningham<br>Player Speed:0.05 yd/s",
            "nflId:46457.0<br>displayName:Olasunkanmi Adeniyi<br>Player Speed:1.93 yd/s",
            "nflId:47802.0<br>displayName:Jeffery Simmons<br>Player Speed:1.44 yd/s",
            "nflId:47899.0<br>displayName:Amani Hooker<br>Player Speed:1.23 yd/s",
            "nflId:47915.0<br>displayName:Ugochukwu Amadi<br>Player Speed:0.12 yd/s",
            "nflId:47971.0<br>displayName:David Long<br>Player Speed:0.34 yd/s",
            "nflId:52469.0<br>displayName:Kristian Fulton<br>Player Speed:1.4 yd/s",
            "nflId:53073.0<br>displayName:Teair Tart<br>Player Speed:1.04 yd/s",
            "nflId:54500.0<br>displayName:Roger McCreary<br>Player Speed:0.38 yd/s"
           ],
           "marker": {
            "color": "#4B92DB",
            "line": {
             "color": "#0C2340",
             "width": 2
            },
            "size": 10
           },
           "mode": "markers",
           "name": "TEN",
           "type": "scatter",
           "x": [
            51.81,
            40.74,
            46.65,
            51.87,
            51.37,
            41.71,
            51.32,
            46.21,
            45.71,
            51.66,
            44.6
           ],
           "y": [
            23.45,
            35.14,
            33.24,
            35.21,
            26.77,
            21.63,
            22.31,
            27.88,
            10.98,
            31.28,
            40.62
           ]
          },
          {
           "hoverinfo": "text",
           "hovertext": [
            "nflId:42471.0<br>displayName:Jon Feliciano<br>Player Speed:1.52 yd/s",
            "nflId:42477.0<br>displayName:Mark Glowinski<br>Player Speed:0.13 yd/s",
            "nflId:44908.0<br>displayName:Kenny Golladay<br>Player Speed:0.81 yd/s",
            "nflId:46071.0<br>displayName:Saquon Barkley<br>Player Speed:0.0 yd/s",
            "nflId:46309.0<br>displayName:Richie James<br>Player Speed:0.25 yd/s",
            "nflId:47789.0<br>displayName:Daniel Jones<br>Player Speed:0.01 yd/s",
            "nflId:48489.0<br>displayName:David Sills<br>Player Speed:0.61 yd/s",
            "nflId:52412.0<br>displayName:Andrew Thomas<br>Player Speed:1.02 yd/s",
            "nflId:54472.0<br>displayName:Evan Neal<br>Player Speed:1.43 yd/s",
            "nflId:54532.0<br>displayName:Joshua Ezeudu<br>Player Speed:0.68 yd/s",
            "nflId:54577.0<br>displayName:Daniel Bellinger<br>Player Speed:0.15 yd/s"
           ],
           "marker": {
            "color": "#0B2265",
            "line": {
             "color": "#A71930",
             "width": 2
            },
            "size": 10
           },
           "mode": "markers",
           "name": "NYG",
           "type": "scatter",
           "x": [
            52.97,
            52.99,
            52.36,
            56.92,
            53.26,
            56.72,
            52.8,
            53.31,
            53.35,
            52.95,
            53.86
           ],
           "y": [
            29.53,
            31.32,
            10.58,
            27.52,
            20.45,
            29.84,
            38.89,
            26.53,
            32.94,
            28.14,
            35.66
           ]
          },
          {
           "hoverinfo": "none",
           "marker": {
            "color": "#CBB67C",
            "line": {
             "color": "#663831",
             "width": 2
            },
            "size": 10
           },
           "mode": "markers",
           "name": "football",
           "type": "scatter",
           "x": [
            54.689998626709
           ],
           "y": [
            29.9300003051758
           ]
          }
         ],
         "name": "44"
        },
        {
         "data": [
          {
           "hoverinfo": "none",
           "mode": "text",
           "showlegend": false,
           "text": [
            "10",
            "20",
            "30",
            "40",
            "50",
            "40",
            "30",
            "20",
            "10"
           ],
           "textfont": {
            "color": "#ffffff",
            "family": "Courier New, monospace",
            "size": 30
           },
           "type": "scatter",
           "x": [
            20,
            30,
            40,
            50,
            60,
            70,
            80,
            90,
            100
           ],
           "y": [
            5,
            5,
            5,
            5,
            5,
            5,
            5,
            5,
            5
           ]
          },
          {
           "hoverinfo": "none",
           "mode": "text",
           "showlegend": false,
           "text": [
            "10",
            "20",
            "30",
            "40",
            "50",
            "40",
            "30",
            "20",
            "10"
           ],
           "textfont": {
            "color": "#ffffff",
            "family": "Courier New, monospace",
            "size": 30
           },
           "type": "scatter",
           "x": [
            20,
            30,
            40,
            50,
            60,
            70,
            80,
            90,
            100
           ],
           "y": [
            48.5,
            48.5,
            48.5,
            48.5,
            48.5,
            48.5,
            48.5,
            48.5,
            48.5
           ]
          },
          {
           "hoverinfo": "none",
           "line": {
            "color": "blue",
            "dash": "dash"
           },
           "showlegend": false,
           "type": "scatter",
           "x": [
            52,
            52
           ],
           "y": [
            0,
            53.5
           ]
          },
          {
           "hoverinfo": "none",
           "line": {
            "color": "yellow",
            "dash": "dash"
           },
           "showlegend": false,
           "type": "scatter",
           "x": [
            44,
            44
           ],
           "y": [
            0,
            53.5
           ]
          },
          {
           "fill": "toself",
           "fillcolor": "#4B92DB",
           "hoverinfo": "skip",
           "line": {
            "color": "white",
            "width": 3
           },
           "mode": "lines",
           "opacity": 1,
           "showlegend": false,
           "type": "scatter",
           "x": [
            0,
            0,
            10,
            10,
            0
           ],
           "y": [
            0,
            53.5,
            53.5,
            0,
            0
           ]
          },
          {
           "fill": "toself",
           "fillcolor": "#0B2265",
           "hoverinfo": "skip",
           "line": {
            "color": "white",
            "width": 3
           },
           "mode": "lines",
           "opacity": 1,
           "showlegend": false,
           "type": "scatter",
           "x": [
            110,
            110,
            120,
            120,
            110
           ],
           "y": [
            0,
            53.5,
            53.5,
            0,
            0
           ]
          },
          {
           "hoverinfo": "text",
           "hovertext": [
            "nflId:42365.0<br>displayName:Bud Dupree<br>Player Speed:1.75 yd/s",
            "nflId:43353.0<br>displayName:Kevin Byard<br>Player Speed:0.3 yd/s",
            "nflId:44869.0<br>displayName:Zach Cunningham<br>Player Speed:0.16 yd/s",
            "nflId:46457.0<br>displayName:Olasunkanmi Adeniyi<br>Player Speed:2.3 yd/s",
            "nflId:47802.0<br>displayName:Jeffery Simmons<br>Player Speed:1.88 yd/s",
            "nflId:47899.0<br>displayName:Amani Hooker<br>Player Speed:1.15 yd/s",
            "nflId:47915.0<br>displayName:Ugochukwu Amadi<br>Player Speed:0.47 yd/s",
            "nflId:47971.0<br>displayName:David Long<br>Player Speed:0.21 yd/s",
            "nflId:52469.0<br>displayName:Kristian Fulton<br>Player Speed:1.51 yd/s",
            "nflId:53073.0<br>displayName:Teair Tart<br>Player Speed:1.38 yd/s",
            "nflId:54500.0<br>displayName:Roger McCreary<br>Player Speed:0.41 yd/s"
           ],
           "marker": {
            "color": "#4B92DB",
            "line": {
             "color": "#0C2340",
             "width": 2
            },
            "size": 10
           },
           "mode": "markers",
           "name": "TEN",
           "type": "scatter",
           "x": [
            51.97,
            40.71,
            46.63,
            52.08,
            51.56,
            41.75,
            51.29,
            46.23,
            45.57,
            51.75,
            44.56
           ],
           "y": [
            23.45,
            35.12,
            33.26,
            35.19,
            26.74,
            21.53,
            22.29,
            27.87,
            10.99,
            31.37,
            40.64
           ]
          },
          {
           "hoverinfo": "text",
           "hovertext": [
            "nflId:42471.0<br>displayName:Jon Feliciano<br>Player Speed:1.79 yd/s",
            "nflId:42477.0<br>displayName:Mark Glowinski<br>Player Speed:0.25 yd/s",
            "nflId:44908.0<br>displayName:Kenny Golladay<br>Player Speed:1.22 yd/s",
            "nflId:46071.0<br>displayName:Saquon Barkley<br>Player Speed:0.0 yd/s",
            "nflId:46309.0<br>displayName:Richie James<br>Player Speed:0.61 yd/s",
            "nflId:47789.0<br>displayName:Daniel Jones<br>Player Speed:0.15 yd/s",
            "nflId:48489.0<br>displayName:David Sills<br>Player Speed:1.15 yd/s",
            "nflId:52412.0<br>displayName:Andrew Thomas<br>Player Speed:1.46 yd/s",
            "nflId:54472.0<br>displayName:Evan Neal<br>Player Speed:1.77 yd/s",
            "nflId:54532.0<br>displayName:Joshua Ezeudu<br>Player Speed:0.93 yd/s",
            "nflId:54577.0<br>displayName:Daniel Bellinger<br>Player Speed:0.53 yd/s"
           ],
           "marker": {
            "color": "#0B2265",
            "line": {
             "color": "#A71930",
             "width": 2
            },
            "size": 10
           },
           "mode": "markers",
           "name": "NYG",
           "type": "scatter",
           "x": [
            53.16,
            53.02,
            52.25,
            56.93,
            53.21,
            56.74,
            52.69,
            53.44,
            53.49,
            52.98,
            53.84
           ],
           "y": [
            29.48,
            31.34,
            10.62,
            27.53,
            20.46,
            29.83,
            38.89,
            26.46,
            33.03,
            28.05,
            35.69
           ]
          },
          {
           "hoverinfo": "none",
           "marker": {
            "color": "#CBB67C",
            "line": {
             "color": "#663831",
             "width": 2
            },
            "size": 10
           },
           "mode": "markers",
           "name": "football",
           "type": "scatter",
           "x": [
            55.3400001525879
           ],
           "y": [
            29.9099998474121
           ]
          }
         ],
         "name": "45"
        },
        {
         "data": [
          {
           "hoverinfo": "none",
           "mode": "text",
           "showlegend": false,
           "text": [
            "10",
            "20",
            "30",
            "40",
            "50",
            "40",
            "30",
            "20",
            "10"
           ],
           "textfont": {
            "color": "#ffffff",
            "family": "Courier New, monospace",
            "size": 30
           },
           "type": "scatter",
           "x": [
            20,
            30,
            40,
            50,
            60,
            70,
            80,
            90,
            100
           ],
           "y": [
            5,
            5,
            5,
            5,
            5,
            5,
            5,
            5,
            5
           ]
          },
          {
           "hoverinfo": "none",
           "mode": "text",
           "showlegend": false,
           "text": [
            "10",
            "20",
            "30",
            "40",
            "50",
            "40",
            "30",
            "20",
            "10"
           ],
           "textfont": {
            "color": "#ffffff",
            "family": "Courier New, monospace",
            "size": 30
           },
           "type": "scatter",
           "x": [
            20,
            30,
            40,
            50,
            60,
            70,
            80,
            90,
            100
           ],
           "y": [
            48.5,
            48.5,
            48.5,
            48.5,
            48.5,
            48.5,
            48.5,
            48.5,
            48.5
           ]
          },
          {
           "hoverinfo": "none",
           "line": {
            "color": "blue",
            "dash": "dash"
           },
           "showlegend": false,
           "type": "scatter",
           "x": [
            52,
            52
           ],
           "y": [
            0,
            53.5
           ]
          },
          {
           "hoverinfo": "none",
           "line": {
            "color": "yellow",
            "dash": "dash"
           },
           "showlegend": false,
           "type": "scatter",
           "x": [
            44,
            44
           ],
           "y": [
            0,
            53.5
           ]
          },
          {
           "fill": "toself",
           "fillcolor": "#4B92DB",
           "hoverinfo": "skip",
           "line": {
            "color": "white",
            "width": 3
           },
           "mode": "lines",
           "opacity": 1,
           "showlegend": false,
           "type": "scatter",
           "x": [
            0,
            0,
            10,
            10,
            0
           ],
           "y": [
            0,
            53.5,
            53.5,
            0,
            0
           ]
          },
          {
           "fill": "toself",
           "fillcolor": "#0B2265",
           "hoverinfo": "skip",
           "line": {
            "color": "white",
            "width": 3
           },
           "mode": "lines",
           "opacity": 1,
           "showlegend": false,
           "type": "scatter",
           "x": [
            110,
            110,
            120,
            120,
            110
           ],
           "y": [
            0,
            53.5,
            53.5,
            0,
            0
           ]
          },
          {
           "hoverinfo": "text",
           "hovertext": [
            "nflId:42365.0<br>displayName:Bud Dupree<br>Player Speed:2.22 yd/s",
            "nflId:43353.0<br>displayName:Kevin Byard<br>Player Speed:0.3 yd/s",
            "nflId:44869.0<br>displayName:Zach Cunningham<br>Player Speed:0.32 yd/s",
            "nflId:46457.0<br>displayName:Olasunkanmi Adeniyi<br>Player Speed:2.71 yd/s",
            "nflId:47802.0<br>displayName:Jeffery Simmons<br>Player Speed:2.36 yd/s",
            "nflId:47899.0<br>displayName:Amani Hooker<br>Player Speed:1.15 yd/s",
            "nflId:47915.0<br>displayName:Ugochukwu Amadi<br>Player Speed:1.01 yd/s",
            "nflId:47971.0<br>displayName:David Long<br>Player Speed:0.36 yd/s",
            "nflId:52469.0<br>displayName:Kristian Fulton<br>Player Speed:1.63 yd/s",
            "nflId:53073.0<br>displayName:Teair Tart<br>Player Speed:1.74 yd/s",
            "nflId:54500.0<br>displayName:Roger McCreary<br>Player Speed:0.49 yd/s"
           ],
           "marker": {
            "color": "#4B92DB",
            "line": {
             "color": "#0C2340",
             "width": 2
            },
            "size": 10
           },
           "mode": "markers",
           "name": "TEN",
           "type": "scatter",
           "x": [
            52.17,
            40.66,
            46.62,
            52.33,
            51.81,
            41.78,
            51.23,
            46.24,
            45.41,
            51.87,
            44.51
           ],
           "y": [
            23.45,
            35.11,
            33.29,
            35.15,
            26.69,
            21.42,
            22.24,
            27.84,
            11.01,
            31.48,
            40.7
           ]
          },
          {
           "hoverinfo": "text",
           "hovertext": [
            "nflId:42471.0<br>displayName:Jon Feliciano<br>Player Speed:2.0 yd/s",
            "nflId:42477.0<br>displayName:Mark Glowinski<br>Player Speed:0.38 yd/s",
            "nflId:44908.0<br>displayName:Kenny Golladay<br>Player Speed:1.73 yd/s",
            "nflId:46071.0<br>displayName:Saquon Barkley<br>Player Speed:0.01 yd/s",
            "nflId:46309.0<br>displayName:Richie James<br>Player Speed:0.99 yd/s",
            "nflId:47789.0<br>displayName:Daniel Jones<br>Player Speed:0.42 yd/s",
            "nflId:48489.0<br>displayName:David Sills<br>Player Speed:1.77 yd/s",
            "nflId:52412.0<br>displayName:Andrew Thomas<br>Player Speed:1.85 yd/s",
            "nflId:54472.0<br>displayName:Evan Neal<br>Player Speed:2.02 yd/s",
            "nflId:54532.0<br>displayName:Joshua Ezeudu<br>Player Speed:1.2 yd/s",
            "nflId:54577.0<br>displayName:Daniel Bellinger<br>Player Speed:1.16 yd/s"
           ],
           "marker": {
            "color": "#0B2265",
            "line": {
             "color": "#A71930",
             "width": 2
            },
            "size": 10
           },
           "mode": "markers",
           "name": "NYG",
           "type": "scatter",
           "x": [
            53.36,
            53.05,
            52.09,
            56.93,
            53.13,
            56.77,
            52.53,
            53.6,
            53.66,
            53.04,
            53.81
           ],
           "y": [
            29.41,
            31.36,
            10.65,
            27.53,
            20.48,
            29.82,
            38.91,
            26.37,
            33.14,
            27.93,
            35.78
           ]
          },
          {
           "hoverinfo": "none",
           "marker": {
            "color": "#CBB67C",
            "line": {
             "color": "#663831",
             "width": 2
            },
            "size": 10
           },
           "mode": "markers",
           "name": "football",
           "type": "scatter",
           "x": [
            55.9199981689453
           ],
           "y": [
            29.8899993896484
           ]
          }
         ],
         "name": "46"
        },
        {
         "data": [
          {
           "hoverinfo": "none",
           "mode": "text",
           "showlegend": false,
           "text": [
            "10",
            "20",
            "30",
            "40",
            "50",
            "40",
            "30",
            "20",
            "10"
           ],
           "textfont": {
            "color": "#ffffff",
            "family": "Courier New, monospace",
            "size": 30
           },
           "type": "scatter",
           "x": [
            20,
            30,
            40,
            50,
            60,
            70,
            80,
            90,
            100
           ],
           "y": [
            5,
            5,
            5,
            5,
            5,
            5,
            5,
            5,
            5
           ]
          },
          {
           "hoverinfo": "none",
           "mode": "text",
           "showlegend": false,
           "text": [
            "10",
            "20",
            "30",
            "40",
            "50",
            "40",
            "30",
            "20",
            "10"
           ],
           "textfont": {
            "color": "#ffffff",
            "family": "Courier New, monospace",
            "size": 30
           },
           "type": "scatter",
           "x": [
            20,
            30,
            40,
            50,
            60,
            70,
            80,
            90,
            100
           ],
           "y": [
            48.5,
            48.5,
            48.5,
            48.5,
            48.5,
            48.5,
            48.5,
            48.5,
            48.5
           ]
          },
          {
           "hoverinfo": "none",
           "line": {
            "color": "blue",
            "dash": "dash"
           },
           "showlegend": false,
           "type": "scatter",
           "x": [
            52,
            52
           ],
           "y": [
            0,
            53.5
           ]
          },
          {
           "hoverinfo": "none",
           "line": {
            "color": "yellow",
            "dash": "dash"
           },
           "showlegend": false,
           "type": "scatter",
           "x": [
            44,
            44
           ],
           "y": [
            0,
            53.5
           ]
          },
          {
           "fill": "toself",
           "fillcolor": "#4B92DB",
           "hoverinfo": "skip",
           "line": {
            "color": "white",
            "width": 3
           },
           "mode": "lines",
           "opacity": 1,
           "showlegend": false,
           "type": "scatter",
           "x": [
            0,
            0,
            10,
            10,
            0
           ],
           "y": [
            0,
            53.5,
            53.5,
            0,
            0
           ]
          },
          {
           "fill": "toself",
           "fillcolor": "#0B2265",
           "hoverinfo": "skip",
           "line": {
            "color": "white",
            "width": 3
           },
           "mode": "lines",
           "opacity": 1,
           "showlegend": false,
           "type": "scatter",
           "x": [
            110,
            110,
            120,
            120,
            110
           ],
           "y": [
            0,
            53.5,
            53.5,
            0,
            0
           ]
          },
          {
           "hoverinfo": "text",
           "hovertext": [
            "nflId:42365.0<br>displayName:Bud Dupree<br>Player Speed:2.61 yd/s",
            "nflId:43353.0<br>displayName:Kevin Byard<br>Player Speed:0.29 yd/s",
            "nflId:44869.0<br>displayName:Zach Cunningham<br>Player Speed:0.63 yd/s",
            "nflId:46457.0<br>displayName:Olasunkanmi Adeniyi<br>Player Speed:3.23 yd/s",
            "nflId:47802.0<br>displayName:Jeffery Simmons<br>Player Speed:2.74 yd/s",
            "nflId:47899.0<br>displayName:Amani Hooker<br>Player Speed:1.22 yd/s",
            "nflId:47915.0<br>displayName:Ugochukwu Amadi<br>Player Speed:1.46 yd/s",
            "nflId:47971.0<br>displayName:David Long<br>Player Speed:0.58 yd/s",
            "nflId:52469.0<br>displayName:Kristian Fulton<br>Player Speed:1.72 yd/s",
            "nflId:53073.0<br>displayName:Teair Tart<br>Player Speed:2.02 yd/s",
            "nflId:54500.0<br>displayName:Roger McCreary<br>Player Speed:0.62 yd/s"
           ],
           "marker": {
            "color": "#4B92DB",
            "line": {
             "color": "#0C2340",
             "width": 2
            },
            "size": 10
           },
           "mode": "markers",
           "name": "TEN",
           "type": "scatter",
           "x": [
            52.41,
            40.62,
            46.61,
            52.62,
            52.09,
            41.77,
            51.14,
            46.25,
            45.24,
            52.02,
            44.47
           ],
           "y": [
            23.45,
            35.09,
            33.35,
            35.1,
            26.62,
            21.3,
            22.16,
            27.8,
            11.03,
            31.62,
            40.76
           ]
          },
          {
           "hoverinfo": "text",
           "hovertext": [
            "nflId:42471.0<br>displayName:Jon Feliciano<br>Player Speed:2.17 yd/s",
            "nflId:42477.0<br>displayName:Mark Glowinski<br>Player Speed:0.63 yd/s",
            "nflId:44908.0<br>displayName:Kenny Golladay<br>Player Speed:2.07 yd/s",
            "nflId:46071.0<br>displayName:Saquon Barkley<br>Player Speed:0.13 yd/s",
            "nflId:46309.0<br>displayName:Richie James<br>Player Speed:1.49 yd/s",
            "nflId:47789.0<br>displayName:Daniel Jones<br>Player Speed:0.85 yd/s",
            "nflId:48489.0<br>displayName:David Sills<br>Player Speed:2.47 yd/s",
            "nflId:52412.0<br>displayName:Andrew Thomas<br>Player Speed:2.19 yd/s",
            "nflId:54472.0<br>displayName:Evan Neal<br>Player Speed:2.22 yd/s",
            "nflId:54532.0<br>displayName:Joshua Ezeudu<br>Player Speed:1.46 yd/s",
            "nflId:54577.0<br>displayName:Daniel Bellinger<br>Player Speed:1.78 yd/s"
           ],
           "marker": {
            "color": "#0B2265",
            "line": {
             "color": "#A71930",
             "width": 2
            },
            "size": 10
           },
           "mode": "markers",
           "name": "NYG",
           "type": "scatter",
           "x": [
            53.57,
            53.12,
            51.9,
            56.94,
            53,
            56.84,
            52.28,
            53.79,
            53.86,
            53.12,
            53.77
           ],
           "y": [
            29.33,
            31.4,
            10.7,
            27.53,
            20.51,
            29.8,
            38.94,
            26.26,
            33.26,
            27.79,
            35.93
           ]
          },
          {
           "hoverinfo": "none",
           "marker": {
            "color": "#CBB67C",
            "line": {
             "color": "#663831",
             "width": 2
            },
            "size": 10
           },
           "mode": "markers",
           "name": "football",
           "type": "scatter",
           "x": [
            56.4300003051758
           ],
           "y": [
            29.8600006103516
           ]
          }
         ],
         "name": "47"
        },
        {
         "data": [
          {
           "hoverinfo": "none",
           "mode": "text",
           "showlegend": false,
           "text": [
            "10",
            "20",
            "30",
            "40",
            "50",
            "40",
            "30",
            "20",
            "10"
           ],
           "textfont": {
            "color": "#ffffff",
            "family": "Courier New, monospace",
            "size": 30
           },
           "type": "scatter",
           "x": [
            20,
            30,
            40,
            50,
            60,
            70,
            80,
            90,
            100
           ],
           "y": [
            5,
            5,
            5,
            5,
            5,
            5,
            5,
            5,
            5
           ]
          },
          {
           "hoverinfo": "none",
           "mode": "text",
           "showlegend": false,
           "text": [
            "10",
            "20",
            "30",
            "40",
            "50",
            "40",
            "30",
            "20",
            "10"
           ],
           "textfont": {
            "color": "#ffffff",
            "family": "Courier New, monospace",
            "size": 30
           },
           "type": "scatter",
           "x": [
            20,
            30,
            40,
            50,
            60,
            70,
            80,
            90,
            100
           ],
           "y": [
            48.5,
            48.5,
            48.5,
            48.5,
            48.5,
            48.5,
            48.5,
            48.5,
            48.5
           ]
          },
          {
           "hoverinfo": "none",
           "line": {
            "color": "blue",
            "dash": "dash"
           },
           "showlegend": false,
           "type": "scatter",
           "x": [
            52,
            52
           ],
           "y": [
            0,
            53.5
           ]
          },
          {
           "hoverinfo": "none",
           "line": {
            "color": "yellow",
            "dash": "dash"
           },
           "showlegend": false,
           "type": "scatter",
           "x": [
            44,
            44
           ],
           "y": [
            0,
            53.5
           ]
          },
          {
           "fill": "toself",
           "fillcolor": "#4B92DB",
           "hoverinfo": "skip",
           "line": {
            "color": "white",
            "width": 3
           },
           "mode": "lines",
           "opacity": 1,
           "showlegend": false,
           "type": "scatter",
           "x": [
            0,
            0,
            10,
            10,
            0
           ],
           "y": [
            0,
            53.5,
            53.5,
            0,
            0
           ]
          },
          {
           "fill": "toself",
           "fillcolor": "#0B2265",
           "hoverinfo": "skip",
           "line": {
            "color": "white",
            "width": 3
           },
           "mode": "lines",
           "opacity": 1,
           "showlegend": false,
           "type": "scatter",
           "x": [
            110,
            110,
            120,
            120,
            110
           ],
           "y": [
            0,
            53.5,
            53.5,
            0,
            0
           ]
          },
          {
           "hoverinfo": "text",
           "hovertext": [
            "nflId:42365.0<br>displayName:Bud Dupree<br>Player Speed:2.94 yd/s",
            "nflId:43353.0<br>displayName:Kevin Byard<br>Player Speed:0.33 yd/s",
            "nflId:44869.0<br>displayName:Zach Cunningham<br>Player Speed:0.91 yd/s",
            "nflId:46457.0<br>displayName:Olasunkanmi Adeniyi<br>Player Speed:3.59 yd/s",
            "nflId:47802.0<br>displayName:Jeffery Simmons<br>Player Speed:3.03 yd/s",
            "nflId:47899.0<br>displayName:Amani Hooker<br>Player Speed:1.43 yd/s",
            "nflId:47915.0<br>displayName:Ugochukwu Amadi<br>Player Speed:1.9 yd/s",
            "nflId:47971.0<br>displayName:David Long<br>Player Speed:0.78 yd/s",
            "nflId:52469.0<br>displayName:Kristian Fulton<br>Player Speed:1.83 yd/s",
            "nflId:53073.0<br>displayName:Teair Tart<br>Player Speed:2.21 yd/s",
            "nflId:54500.0<br>displayName:Roger McCreary<br>Player Speed:0.79 yd/s"
           ],
           "marker": {
            "color": "#4B92DB",
            "line": {
             "color": "#0C2340",
             "width": 2
            },
            "size": 10
           },
           "mode": "markers",
           "name": "TEN",
           "type": "scatter",
           "x": [
            52.68,
            40.56,
            46.58,
            52.96,
            52.39,
            41.71,
            51.02,
            46.24,
            45.07,
            52.19,
            44.42
           ],
           "y": [
            23.47,
            35.11,
            33.43,
            35.05,
            26.55,
            21.18,
            22.05,
            27.73,
            11.04,
            31.76,
            40.82
           ]
          },
          {
           "hoverinfo": "text",
           "hovertext": [
            "nflId:42471.0<br>displayName:Jon Feliciano<br>Player Speed:2.28 yd/s",
            "nflId:42477.0<br>displayName:Mark Glowinski<br>Player Speed:1.07 yd/s",
            "nflId:44908.0<br>displayName:Kenny Golladay<br>Player Speed:2.7 yd/s",
            "nflId:46071.0<br>displayName:Saquon Barkley<br>Player Speed:0.3 yd/s",
            "nflId:46309.0<br>displayName:Richie James<br>Player Speed:2.0 yd/s",
            "nflId:47789.0<br>displayName:Daniel Jones<br>Player Speed:1.27 yd/s",
            "nflId:48489.0<br>displayName:David Sills<br>Player Speed:3.12 yd/s",
            "nflId:52412.0<br>displayName:Andrew Thomas<br>Player Speed:2.55 yd/s",
            "nflId:54472.0<br>displayName:Evan Neal<br>Player Speed:2.4 yd/s",
            "nflId:54532.0<br>displayName:Joshua Ezeudu<br>Player Speed:1.68 yd/s",
            "nflId:54577.0<br>displayName:Daniel Bellinger<br>Player Speed:2.36 yd/s"
           ],
           "marker": {
            "color": "#0B2265",
            "line": {
             "color": "#A71930",
             "width": 2
            },
            "size": 10
           },
           "mode": "markers",
           "name": "NYG",
           "type": "scatter",
           "x": [
            53.78,
            53.23,
            51.62,
            56.96,
            52.82,
            56.95,
            51.98,
            54.01,
            54.07,
            53.22,
            53.71
           ],
           "y": [
            29.24,
            31.47,
            10.75,
            27.52,
            20.55,
            29.77,
            38.98,
            26.13,
            33.38,
            27.64,
            36.14
           ]
          },
          {
           "hoverinfo": "none",
           "marker": {
            "color": "#CBB67C",
            "line": {
             "color": "#663831",
             "width": 2
            },
            "size": 10
           },
           "mode": "markers",
           "name": "football",
           "type": "scatter",
           "x": [
            56.8600006103516
           ],
           "y": [
            29.8199996948242
           ]
          }
         ],
         "name": "48"
        },
        {
         "data": [
          {
           "hoverinfo": "none",
           "mode": "text",
           "showlegend": false,
           "text": [
            "10",
            "20",
            "30",
            "40",
            "50",
            "40",
            "30",
            "20",
            "10"
           ],
           "textfont": {
            "color": "#ffffff",
            "family": "Courier New, monospace",
            "size": 30
           },
           "type": "scatter",
           "x": [
            20,
            30,
            40,
            50,
            60,
            70,
            80,
            90,
            100
           ],
           "y": [
            5,
            5,
            5,
            5,
            5,
            5,
            5,
            5,
            5
           ]
          },
          {
           "hoverinfo": "none",
           "mode": "text",
           "showlegend": false,
           "text": [
            "10",
            "20",
            "30",
            "40",
            "50",
            "40",
            "30",
            "20",
            "10"
           ],
           "textfont": {
            "color": "#ffffff",
            "family": "Courier New, monospace",
            "size": 30
           },
           "type": "scatter",
           "x": [
            20,
            30,
            40,
            50,
            60,
            70,
            80,
            90,
            100
           ],
           "y": [
            48.5,
            48.5,
            48.5,
            48.5,
            48.5,
            48.5,
            48.5,
            48.5,
            48.5
           ]
          },
          {
           "hoverinfo": "none",
           "line": {
            "color": "blue",
            "dash": "dash"
           },
           "showlegend": false,
           "type": "scatter",
           "x": [
            52,
            52
           ],
           "y": [
            0,
            53.5
           ]
          },
          {
           "hoverinfo": "none",
           "line": {
            "color": "yellow",
            "dash": "dash"
           },
           "showlegend": false,
           "type": "scatter",
           "x": [
            44,
            44
           ],
           "y": [
            0,
            53.5
           ]
          },
          {
           "fill": "toself",
           "fillcolor": "#4B92DB",
           "hoverinfo": "skip",
           "line": {
            "color": "white",
            "width": 3
           },
           "mode": "lines",
           "opacity": 1,
           "showlegend": false,
           "type": "scatter",
           "x": [
            0,
            0,
            10,
            10,
            0
           ],
           "y": [
            0,
            53.5,
            53.5,
            0,
            0
           ]
          },
          {
           "fill": "toself",
           "fillcolor": "#0B2265",
           "hoverinfo": "skip",
           "line": {
            "color": "white",
            "width": 3
           },
           "mode": "lines",
           "opacity": 1,
           "showlegend": false,
           "type": "scatter",
           "x": [
            110,
            110,
            120,
            120,
            110
           ],
           "y": [
            0,
            53.5,
            53.5,
            0,
            0
           ]
          },
          {
           "hoverinfo": "text",
           "hovertext": [
            "nflId:42365.0<br>displayName:Bud Dupree<br>Player Speed:3.15 yd/s",
            "nflId:43353.0<br>displayName:Kevin Byard<br>Player Speed:0.42 yd/s",
            "nflId:44869.0<br>displayName:Zach Cunningham<br>Player Speed:1.19 yd/s",
            "nflId:46457.0<br>displayName:Olasunkanmi Adeniyi<br>Player Speed:4.04 yd/s",
            "nflId:47802.0<br>displayName:Jeffery Simmons<br>Player Speed:3.38 yd/s",
            "nflId:47899.0<br>displayName:Amani Hooker<br>Player Speed:1.72 yd/s",
            "nflId:47915.0<br>displayName:Ugochukwu Amadi<br>Player Speed:2.28 yd/s",
            "nflId:47971.0<br>displayName:David Long<br>Player Speed:0.96 yd/s",
            "nflId:52469.0<br>displayName:Kristian Fulton<br>Player Speed:1.95 yd/s",
            "nflId:53073.0<br>displayName:Teair Tart<br>Player Speed:2.37 yd/s",
            "nflId:54500.0<br>displayName:Roger McCreary<br>Player Speed:1.03 yd/s"
           ],
           "marker": {
            "color": "#4B92DB",
            "line": {
             "color": "#0C2340",
             "width": 2
            },
            "size": 10
           },
           "mode": "markers",
           "name": "TEN",
           "type": "scatter",
           "x": [
            52.99,
            40.52,
            46.55,
            53.34,
            52.74,
            41.62,
            50.86,
            46.24,
            44.88,
            52.39,
            44.37
           ],
           "y": [
            23.49,
            35.12,
            33.53,
            35.01,
            26.47,
            21.05,
            21.92,
            27.64,
            11.06,
            31.9,
            40.91
           ]
          },
          {
           "hoverinfo": "text",
           "hovertext": [
            "nflId:42471.0<br>displayName:Jon Feliciano<br>Player Speed:2.38 yd/s",
            "nflId:42477.0<br>displayName:Mark Glowinski<br>Player Speed:1.29 yd/s",
            "nflId:44908.0<br>displayName:Kenny Golladay<br>Player Speed:3.29 yd/s",
            "nflId:46071.0<br>displayName:Saquon Barkley<br>Player Speed:0.58 yd/s",
            "nflId:46309.0<br>displayName:Richie James<br>Player Speed:2.47 yd/s",
            "nflId:47789.0<br>displayName:Daniel Jones<br>Player Speed:1.67 yd/s",
            "nflId:48489.0<br>displayName:David Sills<br>Player Speed:3.77 yd/s",
            "nflId:52412.0<br>displayName:Andrew Thomas<br>Player Speed:2.78 yd/s",
            "nflId:54472.0<br>displayName:Evan Neal<br>Player Speed:2.58 yd/s",
            "nflId:54532.0<br>displayName:Joshua Ezeudu<br>Player Speed:1.96 yd/s",
            "nflId:54577.0<br>displayName:Daniel Bellinger<br>Player Speed:2.96 yd/s"
           ],
           "marker": {
            "color": "#0B2265",
            "line": {
             "color": "#A71930",
             "width": 2
            },
            "size": 10
           },
           "mode": "markers",
           "name": "NYG",
           "type": "scatter",
           "x": [
            54,
            53.34,
            51.29,
            57.01,
            52.6,
            57.1,
            51.61,
            54.26,
            54.31,
            53.36,
            53.62
           ],
           "y": [
            29.14,
            31.53,
            10.81,
            27.51,
            20.62,
            29.73,
            39.03,
            25.99,
            33.51,
            27.47,
            36.41
           ]
          },
          {
           "hoverinfo": "none",
           "marker": {
            "color": "#CBB67C",
            "line": {
             "color": "#663831",
             "width": 2
            },
            "size": 10
           },
           "mode": "markers",
           "name": "football",
           "type": "scatter",
           "x": [
            57.2400016784668
           ],
           "y": [
            29.7800006866455
           ]
          }
         ],
         "name": "49"
        },
        {
         "data": [
          {
           "hoverinfo": "none",
           "mode": "text",
           "showlegend": false,
           "text": [
            "10",
            "20",
            "30",
            "40",
            "50",
            "40",
            "30",
            "20",
            "10"
           ],
           "textfont": {
            "color": "#ffffff",
            "family": "Courier New, monospace",
            "size": 30
           },
           "type": "scatter",
           "x": [
            20,
            30,
            40,
            50,
            60,
            70,
            80,
            90,
            100
           ],
           "y": [
            5,
            5,
            5,
            5,
            5,
            5,
            5,
            5,
            5
           ]
          },
          {
           "hoverinfo": "none",
           "mode": "text",
           "showlegend": false,
           "text": [
            "10",
            "20",
            "30",
            "40",
            "50",
            "40",
            "30",
            "20",
            "10"
           ],
           "textfont": {
            "color": "#ffffff",
            "family": "Courier New, monospace",
            "size": 30
           },
           "type": "scatter",
           "x": [
            20,
            30,
            40,
            50,
            60,
            70,
            80,
            90,
            100
           ],
           "y": [
            48.5,
            48.5,
            48.5,
            48.5,
            48.5,
            48.5,
            48.5,
            48.5,
            48.5
           ]
          },
          {
           "hoverinfo": "none",
           "line": {
            "color": "blue",
            "dash": "dash"
           },
           "showlegend": false,
           "type": "scatter",
           "x": [
            52,
            52
           ],
           "y": [
            0,
            53.5
           ]
          },
          {
           "hoverinfo": "none",
           "line": {
            "color": "yellow",
            "dash": "dash"
           },
           "showlegend": false,
           "type": "scatter",
           "x": [
            44,
            44
           ],
           "y": [
            0,
            53.5
           ]
          },
          {
           "fill": "toself",
           "fillcolor": "#4B92DB",
           "hoverinfo": "skip",
           "line": {
            "color": "white",
            "width": 3
           },
           "mode": "lines",
           "opacity": 1,
           "showlegend": false,
           "type": "scatter",
           "x": [
            0,
            0,
            10,
            10,
            0
           ],
           "y": [
            0,
            53.5,
            53.5,
            0,
            0
           ]
          },
          {
           "fill": "toself",
           "fillcolor": "#0B2265",
           "hoverinfo": "skip",
           "line": {
            "color": "white",
            "width": 3
           },
           "mode": "lines",
           "opacity": 1,
           "showlegend": false,
           "type": "scatter",
           "x": [
            110,
            110,
            120,
            120,
            110
           ],
           "y": [
            0,
            53.5,
            53.5,
            0,
            0
           ]
          },
          {
           "hoverinfo": "text",
           "hovertext": [
            "nflId:42365.0<br>displayName:Bud Dupree<br>Player Speed:3.21 yd/s",
            "nflId:43353.0<br>displayName:Kevin Byard<br>Player Speed:0.69 yd/s",
            "nflId:44869.0<br>displayName:Zach Cunningham<br>Player Speed:1.51 yd/s",
            "nflId:46457.0<br>displayName:Olasunkanmi Adeniyi<br>Player Speed:4.38 yd/s",
            "nflId:47802.0<br>displayName:Jeffery Simmons<br>Player Speed:3.61 yd/s",
            "nflId:47899.0<br>displayName:Amani Hooker<br>Player Speed:2.03 yd/s",
            "nflId:47915.0<br>displayName:Ugochukwu Amadi<br>Player Speed:2.56 yd/s",
            "nflId:47971.0<br>displayName:David Long<br>Player Speed:1.13 yd/s",
            "nflId:52469.0<br>displayName:Kristian Fulton<br>Player Speed:2.15 yd/s",
            "nflId:53073.0<br>displayName:Teair Tart<br>Player Speed:2.4 yd/s",
            "nflId:54500.0<br>displayName:Roger McCreary<br>Player Speed:1.41 yd/s"
           ],
           "marker": {
            "color": "#4B92DB",
            "line": {
             "color": "#0C2340",
             "width": 2
            },
            "size": 10
           },
           "mode": "markers",
           "name": "TEN",
           "type": "scatter",
           "x": [
            53.3,
            40.45,
            46.5,
            53.76,
            53.1,
            41.49,
            50.66,
            46.22,
            44.67,
            52.6,
            44.32
           ],
           "y": [
            23.54,
            35.15,
            33.67,
            34.97,
            26.4,
            20.91,
            21.77,
            27.54,
            11.08,
            32.03,
            41.03
           ]
          },
          {
           "hoverinfo": "text",
           "hovertext": [
            "nflId:42471.0<br>displayName:Jon Feliciano<br>Player Speed:2.47 yd/s",
            "nflId:42477.0<br>displayName:Mark Glowinski<br>Player Speed:1.52 yd/s",
            "nflId:44908.0<br>displayName:Kenny Golladay<br>Player Speed:3.76 yd/s",
            "nflId:46071.0<br>displayName:Saquon Barkley<br>Player Speed:0.9 yd/s",
            "nflId:46309.0<br>displayName:Richie James<br>Player Speed:2.88 yd/s",
            "nflId:47789.0<br>displayName:Daniel Jones<br>Player Speed:2.02 yd/s",
            "nflId:48489.0<br>displayName:David Sills<br>Player Speed:4.32 yd/s",
            "nflId:52412.0<br>displayName:Andrew Thomas<br>Player Speed:2.93 yd/s",
            "nflId:54472.0<br>displayName:Evan Neal<br>Player Speed:2.76 yd/s",
            "nflId:54532.0<br>displayName:Joshua Ezeudu<br>Player Speed:2.16 yd/s",
            "nflId:54577.0<br>displayName:Daniel Bellinger<br>Player Speed:3.64 yd/s"
           ],
           "marker": {
            "color": "#0B2265",
            "line": {
             "color": "#A71930",
             "width": 2
            },
            "size": 10
           },
           "mode": "markers",
           "name": "NYG",
           "type": "scatter",
           "x": [
            54.22,
            53.46,
            50.92,
            57.09,
            52.35,
            57.29,
            51.2,
            54.51,
            54.57,
            53.51,
            53.51
           ],
           "y": [
            29.02,
            31.62,
            10.87,
            27.48,
            20.71,
            29.7,
            39.09,
            25.85,
            33.63,
            27.3,
            36.76
           ]
          },
          {
           "hoverinfo": "none",
           "marker": {
            "color": "#CBB67C",
            "line": {
             "color": "#663831",
             "width": 2
            },
            "size": 10
           },
           "mode": "markers",
           "name": "football",
           "type": "scatter",
           "x": [
            57.5699996948242
           ],
           "y": [
            29.7299995422363
           ]
          }
         ],
         "name": "50"
        },
        {
         "data": [
          {
           "hoverinfo": "none",
           "mode": "text",
           "showlegend": false,
           "text": [
            "10",
            "20",
            "30",
            "40",
            "50",
            "40",
            "30",
            "20",
            "10"
           ],
           "textfont": {
            "color": "#ffffff",
            "family": "Courier New, monospace",
            "size": 30
           },
           "type": "scatter",
           "x": [
            20,
            30,
            40,
            50,
            60,
            70,
            80,
            90,
            100
           ],
           "y": [
            5,
            5,
            5,
            5,
            5,
            5,
            5,
            5,
            5
           ]
          },
          {
           "hoverinfo": "none",
           "mode": "text",
           "showlegend": false,
           "text": [
            "10",
            "20",
            "30",
            "40",
            "50",
            "40",
            "30",
            "20",
            "10"
           ],
           "textfont": {
            "color": "#ffffff",
            "family": "Courier New, monospace",
            "size": 30
           },
           "type": "scatter",
           "x": [
            20,
            30,
            40,
            50,
            60,
            70,
            80,
            90,
            100
           ],
           "y": [
            48.5,
            48.5,
            48.5,
            48.5,
            48.5,
            48.5,
            48.5,
            48.5,
            48.5
           ]
          },
          {
           "hoverinfo": "none",
           "line": {
            "color": "blue",
            "dash": "dash"
           },
           "showlegend": false,
           "type": "scatter",
           "x": [
            52,
            52
           ],
           "y": [
            0,
            53.5
           ]
          },
          {
           "hoverinfo": "none",
           "line": {
            "color": "yellow",
            "dash": "dash"
           },
           "showlegend": false,
           "type": "scatter",
           "x": [
            44,
            44
           ],
           "y": [
            0,
            53.5
           ]
          },
          {
           "fill": "toself",
           "fillcolor": "#4B92DB",
           "hoverinfo": "skip",
           "line": {
            "color": "white",
            "width": 3
           },
           "mode": "lines",
           "opacity": 1,
           "showlegend": false,
           "type": "scatter",
           "x": [
            0,
            0,
            10,
            10,
            0
           ],
           "y": [
            0,
            53.5,
            53.5,
            0,
            0
           ]
          },
          {
           "fill": "toself",
           "fillcolor": "#0B2265",
           "hoverinfo": "skip",
           "line": {
            "color": "white",
            "width": 3
           },
           "mode": "lines",
           "opacity": 1,
           "showlegend": false,
           "type": "scatter",
           "x": [
            110,
            110,
            120,
            120,
            110
           ],
           "y": [
            0,
            53.5,
            53.5,
            0,
            0
           ]
          },
          {
           "hoverinfo": "text",
           "hovertext": [
            "nflId:42365.0<br>displayName:Bud Dupree<br>Player Speed:3.07 yd/s",
            "nflId:43353.0<br>displayName:Kevin Byard<br>Player Speed:1.02 yd/s",
            "nflId:44869.0<br>displayName:Zach Cunningham<br>Player Speed:1.82 yd/s",
            "nflId:46457.0<br>displayName:Olasunkanmi Adeniyi<br>Player Speed:4.64 yd/s",
            "nflId:47802.0<br>displayName:Jeffery Simmons<br>Player Speed:3.81 yd/s",
            "nflId:47899.0<br>displayName:Amani Hooker<br>Player Speed:2.38 yd/s",
            "nflId:47915.0<br>displayName:Ugochukwu Amadi<br>Player Speed:2.79 yd/s",
            "nflId:47971.0<br>displayName:David Long<br>Player Speed:1.23 yd/s",
            "nflId:52469.0<br>displayName:Kristian Fulton<br>Player Speed:2.3 yd/s",
            "nflId:53073.0<br>displayName:Teair Tart<br>Player Speed:2.34 yd/s",
            "nflId:54500.0<br>displayName:Roger McCreary<br>Player Speed:1.71 yd/s"
           ],
           "marker": {
            "color": "#4B92DB",
            "line": {
             "color": "#0C2340",
             "width": 2
            },
            "size": 10
           },
           "mode": "markers",
           "name": "TEN",
           "type": "scatter",
           "x": [
            53.59,
            40.38,
            46.45,
            54.21,
            53.49,
            41.31,
            50.44,
            46.21,
            44.45,
            52.8,
            44.26
           ],
           "y": [
            23.62,
            35.2,
            33.84,
            34.95,
            26.33,
            20.78,
            21.63,
            27.42,
            11.1,
            32.15,
            41.18
           ]
          },
          {
           "hoverinfo": "text",
           "hovertext": [
            "nflId:42471.0<br>displayName:Jon Feliciano<br>Player Speed:2.58 yd/s",
            "nflId:42477.0<br>displayName:Mark Glowinski<br>Player Speed:1.7 yd/s",
            "nflId:44908.0<br>displayName:Kenny Golladay<br>Player Speed:4.23 yd/s",
            "nflId:46071.0<br>displayName:Saquon Barkley<br>Player Speed:1.35 yd/s",
            "nflId:46309.0<br>displayName:Richie James<br>Player Speed:3.28 yd/s",
            "nflId:47789.0<br>displayName:Daniel Jones<br>Player Speed:2.27 yd/s",
            "nflId:48489.0<br>displayName:David Sills<br>Player Speed:4.83 yd/s",
            "nflId:52412.0<br>displayName:Andrew Thomas<br>Player Speed:2.93 yd/s",
            "nflId:54472.0<br>displayName:Evan Neal<br>Player Speed:2.84 yd/s",
            "nflId:54532.0<br>displayName:Joshua Ezeudu<br>Player Speed:2.35 yd/s",
            "nflId:54577.0<br>displayName:Daniel Bellinger<br>Player Speed:4.11 yd/s"
           ],
           "marker": {
            "color": "#0B2265",
            "line": {
             "color": "#A71930",
             "width": 2
            },
            "size": 10
           },
           "mode": "markers",
           "name": "NYG",
           "type": "scatter",
           "x": [
            54.45,
            53.6,
            50.52,
            57.22,
            52.06,
            57.5,
            50.74,
            54.77,
            54.84,
            53.69,
            53.38
           ],
           "y": [
            28.89,
            31.71,
            10.93,
            27.41,
            20.83,
            29.67,
            39.16,
            25.71,
            33.75,
            27.13,
            37.13
           ]
          },
          {
           "hoverinfo": "none",
           "marker": {
            "color": "#CBB67C",
            "line": {
             "color": "#663831",
             "width": 2
            },
            "size": 10
           },
           "mode": "markers",
           "name": "football",
           "type": "scatter",
           "x": [
            57.8499984741211
           ],
           "y": [
            29.6900005340576
           ]
          }
         ],
         "name": "51"
        },
        {
         "data": [
          {
           "hoverinfo": "none",
           "mode": "text",
           "showlegend": false,
           "text": [
            "10",
            "20",
            "30",
            "40",
            "50",
            "40",
            "30",
            "20",
            "10"
           ],
           "textfont": {
            "color": "#ffffff",
            "family": "Courier New, monospace",
            "size": 30
           },
           "type": "scatter",
           "x": [
            20,
            30,
            40,
            50,
            60,
            70,
            80,
            90,
            100
           ],
           "y": [
            5,
            5,
            5,
            5,
            5,
            5,
            5,
            5,
            5
           ]
          },
          {
           "hoverinfo": "none",
           "mode": "text",
           "showlegend": false,
           "text": [
            "10",
            "20",
            "30",
            "40",
            "50",
            "40",
            "30",
            "20",
            "10"
           ],
           "textfont": {
            "color": "#ffffff",
            "family": "Courier New, monospace",
            "size": 30
           },
           "type": "scatter",
           "x": [
            20,
            30,
            40,
            50,
            60,
            70,
            80,
            90,
            100
           ],
           "y": [
            48.5,
            48.5,
            48.5,
            48.5,
            48.5,
            48.5,
            48.5,
            48.5,
            48.5
           ]
          },
          {
           "hoverinfo": "none",
           "line": {
            "color": "blue",
            "dash": "dash"
           },
           "showlegend": false,
           "type": "scatter",
           "x": [
            52,
            52
           ],
           "y": [
            0,
            53.5
           ]
          },
          {
           "hoverinfo": "none",
           "line": {
            "color": "yellow",
            "dash": "dash"
           },
           "showlegend": false,
           "type": "scatter",
           "x": [
            44,
            44
           ],
           "y": [
            0,
            53.5
           ]
          },
          {
           "fill": "toself",
           "fillcolor": "#4B92DB",
           "hoverinfo": "skip",
           "line": {
            "color": "white",
            "width": 3
           },
           "mode": "lines",
           "opacity": 1,
           "showlegend": false,
           "type": "scatter",
           "x": [
            0,
            0,
            10,
            10,
            0
           ],
           "y": [
            0,
            53.5,
            53.5,
            0,
            0
           ]
          },
          {
           "fill": "toself",
           "fillcolor": "#0B2265",
           "hoverinfo": "skip",
           "line": {
            "color": "white",
            "width": 3
           },
           "mode": "lines",
           "opacity": 1,
           "showlegend": false,
           "type": "scatter",
           "x": [
            110,
            110,
            120,
            120,
            110
           ],
           "y": [
            0,
            53.5,
            53.5,
            0,
            0
           ]
          },
          {
           "hoverinfo": "text",
           "hovertext": [
            "nflId:42365.0<br>displayName:Bud Dupree<br>Player Speed:2.91 yd/s",
            "nflId:43353.0<br>displayName:Kevin Byard<br>Player Speed:1.44 yd/s",
            "nflId:44869.0<br>displayName:Zach Cunningham<br>Player Speed:2.1 yd/s",
            "nflId:46457.0<br>displayName:Olasunkanmi Adeniyi<br>Player Speed:4.91 yd/s",
            "nflId:47802.0<br>displayName:Jeffery Simmons<br>Player Speed:3.92 yd/s",
            "nflId:47899.0<br>displayName:Amani Hooker<br>Player Speed:2.71 yd/s",
            "nflId:47915.0<br>displayName:Ugochukwu Amadi<br>Player Speed:3.01 yd/s",
            "nflId:47971.0<br>displayName:David Long<br>Player Speed:1.49 yd/s",
            "nflId:52469.0<br>displayName:Kristian Fulton<br>Player Speed:2.46 yd/s",
            "nflId:53073.0<br>displayName:Teair Tart<br>Player Speed:2.15 yd/s",
            "nflId:54500.0<br>displayName:Roger McCreary<br>Player Speed:2.03 yd/s"
           ],
           "marker": {
            "color": "#4B92DB",
            "line": {
             "color": "#0C2340",
             "width": 2
            },
            "size": 10
           },
           "mode": "markers",
           "name": "TEN",
           "type": "scatter",
           "x": [
            53.86,
            40.28,
            46.38,
            54.68,
            53.88,
            41.08,
            50.18,
            46.2,
            44.22,
            52.99,
            44.21
           ],
           "y": [
            23.73,
            35.28,
            34.03,
            34.96,
            26.28,
            20.66,
            21.48,
            27.29,
            11.12,
            32.23,
            41.36
           ]
          },
          {
           "hoverinfo": "text",
           "hovertext": [
            "nflId:42471.0<br>displayName:Jon Feliciano<br>Player Speed:2.61 yd/s",
            "nflId:42477.0<br>displayName:Mark Glowinski<br>Player Speed:1.75 yd/s",
            "nflId:44908.0<br>displayName:Kenny Golladay<br>Player Speed:4.67 yd/s",
            "nflId:46071.0<br>displayName:Saquon Barkley<br>Player Speed:1.72 yd/s",
            "nflId:46309.0<br>displayName:Richie James<br>Player Speed:3.63 yd/s",
            "nflId:47789.0<br>displayName:Daniel Jones<br>Player Speed:2.47 yd/s",
            "nflId:48489.0<br>displayName:David Sills<br>Player Speed:5.26 yd/s",
            "nflId:52412.0<br>displayName:Andrew Thomas<br>Player Speed:2.8 yd/s",
            "nflId:54472.0<br>displayName:Evan Neal<br>Player Speed:2.92 yd/s",
            "nflId:54532.0<br>displayName:Joshua Ezeudu<br>Player Speed:2.47 yd/s",
            "nflId:54577.0<br>displayName:Daniel Bellinger<br>Player Speed:4.5 yd/s"
           ],
           "marker": {
            "color": "#0B2265",
            "line": {
             "color": "#A71930",
             "width": 2
            },
            "size": 10
           },
           "mode": "markers",
           "name": "NYG",
           "type": "scatter",
           "x": [
            54.67,
            53.74,
            50.07,
            57.36,
            51.74,
            57.73,
            50.24,
            55.02,
            55.12,
            53.88,
            53.25
           ],
           "y": [
            28.74,
            31.79,
            10.99,
            27.34,
            20.98,
            29.65,
            39.23,
            25.61,
            33.86,
            26.96,
            37.54
           ]
          },
          {
           "hoverinfo": "none",
           "marker": {
            "color": "#CBB67C",
            "line": {
             "color": "#663831",
             "width": 2
            },
            "size": 10
           },
           "mode": "markers",
           "name": "football",
           "type": "scatter",
           "x": [
            58.0900001525879
           ],
           "y": [
            29.6599998474121
           ]
          }
         ],
         "name": "52"
        },
        {
         "data": [
          {
           "hoverinfo": "none",
           "mode": "text",
           "showlegend": false,
           "text": [
            "10",
            "20",
            "30",
            "40",
            "50",
            "40",
            "30",
            "20",
            "10"
           ],
           "textfont": {
            "color": "#ffffff",
            "family": "Courier New, monospace",
            "size": 30
           },
           "type": "scatter",
           "x": [
            20,
            30,
            40,
            50,
            60,
            70,
            80,
            90,
            100
           ],
           "y": [
            5,
            5,
            5,
            5,
            5,
            5,
            5,
            5,
            5
           ]
          },
          {
           "hoverinfo": "none",
           "mode": "text",
           "showlegend": false,
           "text": [
            "10",
            "20",
            "30",
            "40",
            "50",
            "40",
            "30",
            "20",
            "10"
           ],
           "textfont": {
            "color": "#ffffff",
            "family": "Courier New, monospace",
            "size": 30
           },
           "type": "scatter",
           "x": [
            20,
            30,
            40,
            50,
            60,
            70,
            80,
            90,
            100
           ],
           "y": [
            48.5,
            48.5,
            48.5,
            48.5,
            48.5,
            48.5,
            48.5,
            48.5,
            48.5
           ]
          },
          {
           "hoverinfo": "none",
           "line": {
            "color": "blue",
            "dash": "dash"
           },
           "showlegend": false,
           "type": "scatter",
           "x": [
            52,
            52
           ],
           "y": [
            0,
            53.5
           ]
          },
          {
           "hoverinfo": "none",
           "line": {
            "color": "yellow",
            "dash": "dash"
           },
           "showlegend": false,
           "type": "scatter",
           "x": [
            44,
            44
           ],
           "y": [
            0,
            53.5
           ]
          },
          {
           "fill": "toself",
           "fillcolor": "#4B92DB",
           "hoverinfo": "skip",
           "line": {
            "color": "white",
            "width": 3
           },
           "mode": "lines",
           "opacity": 1,
           "showlegend": false,
           "type": "scatter",
           "x": [
            0,
            0,
            10,
            10,
            0
           ],
           "y": [
            0,
            53.5,
            53.5,
            0,
            0
           ]
          },
          {
           "fill": "toself",
           "fillcolor": "#0B2265",
           "hoverinfo": "skip",
           "line": {
            "color": "white",
            "width": 3
           },
           "mode": "lines",
           "opacity": 1,
           "showlegend": false,
           "type": "scatter",
           "x": [
            110,
            110,
            120,
            120,
            110
           ],
           "y": [
            0,
            53.5,
            53.5,
            0,
            0
           ]
          },
          {
           "hoverinfo": "text",
           "hovertext": [
            "nflId:42365.0<br>displayName:Bud Dupree<br>Player Speed:2.77 yd/s",
            "nflId:43353.0<br>displayName:Kevin Byard<br>Player Speed:1.85 yd/s",
            "nflId:44869.0<br>displayName:Zach Cunningham<br>Player Speed:2.32 yd/s",
            "nflId:46457.0<br>displayName:Olasunkanmi Adeniyi<br>Player Speed:5.16 yd/s",
            "nflId:47802.0<br>displayName:Jeffery Simmons<br>Player Speed:4.01 yd/s",
            "nflId:47899.0<br>displayName:Amani Hooker<br>Player Speed:2.98 yd/s",
            "nflId:47915.0<br>displayName:Ugochukwu Amadi<br>Player Speed:3.15 yd/s",
            "nflId:47971.0<br>displayName:David Long<br>Player Speed:1.71 yd/s",
            "nflId:52469.0<br>displayName:Kristian Fulton<br>Player Speed:2.74 yd/s",
            "nflId:53073.0<br>displayName:Teair Tart<br>Player Speed:2.02 yd/s",
            "nflId:54500.0<br>displayName:Roger McCreary<br>Player Speed:2.36 yd/s"
           ],
           "marker": {
            "color": "#4B92DB",
            "line": {
             "color": "#0C2340",
             "width": 2
            },
            "size": 10
           },
           "mode": "markers",
           "name": "TEN",
           "type": "scatter",
           "x": [
            54.1,
            40.16,
            46.3,
            55.19,
            54.3,
            40.82,
            49.91,
            46.19,
            43.96,
            53.19,
            44.16
           ],
           "y": [
            23.88,
            35.41,
            34.23,
            34.98,
            26.27,
            20.56,
            21.34,
            27.13,
            11.15,
            32.3,
            41.58
           ]
          },
          {
           "hoverinfo": "text",
           "hovertext": [
            "nflId:42471.0<br>displayName:Jon Feliciano<br>Player Speed:2.62 yd/s",
            "nflId:42477.0<br>displayName:Mark Glowinski<br>Player Speed:1.75 yd/s",
            "nflId:44908.0<br>displayName:Kenny Golladay<br>Player Speed:5.09 yd/s",
            "nflId:46071.0<br>displayName:Saquon Barkley<br>Player Speed:2.17 yd/s",
            "nflId:46309.0<br>displayName:Richie James<br>Player Speed:3.98 yd/s",
            "nflId:47789.0<br>displayName:Daniel Jones<br>Player Speed:2.6 yd/s",
            "nflId:48489.0<br>displayName:David Sills<br>Player Speed:5.67 yd/s",
            "nflId:52412.0<br>displayName:Andrew Thomas<br>Player Speed:2.64 yd/s",
            "nflId:54472.0<br>displayName:Evan Neal<br>Player Speed:2.96 yd/s",
            "nflId:54532.0<br>displayName:Joshua Ezeudu<br>Player Speed:2.56 yd/s",
            "nflId:54577.0<br>displayName:Daniel Bellinger<br>Player Speed:4.86 yd/s"
           ],
           "marker": {
            "color": "#0B2265",
            "line": {
             "color": "#A71930",
             "width": 2
            },
            "size": 10
           },
           "mode": "markers",
           "name": "NYG",
           "type": "scatter",
           "x": [
            54.89,
            53.9,
            49.58,
            57.54,
            51.41,
            57.98,
            49.69,
            55.28,
            55.4,
            54.09,
            53.1
           ],
           "y": [
            28.59,
            31.87,
            11.05,
            27.24,
            21.17,
            29.62,
            39.32,
            25.52,
            33.95,
            26.8,
            37.99
           ]
          },
          {
           "hoverinfo": "none",
           "marker": {
            "color": "#CBB67C",
            "line": {
             "color": "#663831",
             "width": 2
            },
            "size": 10
           },
           "mode": "markers",
           "name": "football",
           "type": "scatter",
           "x": [
            58.3199996948242
           ],
           "y": [
            29.6299991607666
           ]
          }
         ],
         "name": "53"
        },
        {
         "data": [
          {
           "hoverinfo": "none",
           "mode": "text",
           "showlegend": false,
           "text": [
            "10",
            "20",
            "30",
            "40",
            "50",
            "40",
            "30",
            "20",
            "10"
           ],
           "textfont": {
            "color": "#ffffff",
            "family": "Courier New, monospace",
            "size": 30
           },
           "type": "scatter",
           "x": [
            20,
            30,
            40,
            50,
            60,
            70,
            80,
            90,
            100
           ],
           "y": [
            5,
            5,
            5,
            5,
            5,
            5,
            5,
            5,
            5
           ]
          },
          {
           "hoverinfo": "none",
           "mode": "text",
           "showlegend": false,
           "text": [
            "10",
            "20",
            "30",
            "40",
            "50",
            "40",
            "30",
            "20",
            "10"
           ],
           "textfont": {
            "color": "#ffffff",
            "family": "Courier New, monospace",
            "size": 30
           },
           "type": "scatter",
           "x": [
            20,
            30,
            40,
            50,
            60,
            70,
            80,
            90,
            100
           ],
           "y": [
            48.5,
            48.5,
            48.5,
            48.5,
            48.5,
            48.5,
            48.5,
            48.5,
            48.5
           ]
          },
          {
           "hoverinfo": "none",
           "line": {
            "color": "blue",
            "dash": "dash"
           },
           "showlegend": false,
           "type": "scatter",
           "x": [
            52,
            52
           ],
           "y": [
            0,
            53.5
           ]
          },
          {
           "hoverinfo": "none",
           "line": {
            "color": "yellow",
            "dash": "dash"
           },
           "showlegend": false,
           "type": "scatter",
           "x": [
            44,
            44
           ],
           "y": [
            0,
            53.5
           ]
          },
          {
           "fill": "toself",
           "fillcolor": "#4B92DB",
           "hoverinfo": "skip",
           "line": {
            "color": "white",
            "width": 3
           },
           "mode": "lines",
           "opacity": 1,
           "showlegend": false,
           "type": "scatter",
           "x": [
            0,
            0,
            10,
            10,
            0
           ],
           "y": [
            0,
            53.5,
            53.5,
            0,
            0
           ]
          },
          {
           "fill": "toself",
           "fillcolor": "#0B2265",
           "hoverinfo": "skip",
           "line": {
            "color": "white",
            "width": 3
           },
           "mode": "lines",
           "opacity": 1,
           "showlegend": false,
           "type": "scatter",
           "x": [
            110,
            110,
            120,
            120,
            110
           ],
           "y": [
            0,
            53.5,
            53.5,
            0,
            0
           ]
          },
          {
           "hoverinfo": "text",
           "hovertext": [
            "nflId:42365.0<br>displayName:Bud Dupree<br>Player Speed:2.65 yd/s",
            "nflId:43353.0<br>displayName:Kevin Byard<br>Player Speed:2.22 yd/s",
            "nflId:44869.0<br>displayName:Zach Cunningham<br>Player Speed:2.54 yd/s",
            "nflId:46457.0<br>displayName:Olasunkanmi Adeniyi<br>Player Speed:5.34 yd/s",
            "nflId:47802.0<br>displayName:Jeffery Simmons<br>Player Speed:4.0 yd/s",
            "nflId:47899.0<br>displayName:Amani Hooker<br>Player Speed:3.17 yd/s",
            "nflId:47915.0<br>displayName:Ugochukwu Amadi<br>Player Speed:3.29 yd/s",
            "nflId:47971.0<br>displayName:David Long<br>Player Speed:1.86 yd/s",
            "nflId:52469.0<br>displayName:Kristian Fulton<br>Player Speed:2.94 yd/s",
            "nflId:53073.0<br>displayName:Teair Tart<br>Player Speed:1.87 yd/s",
            "nflId:54500.0<br>displayName:Roger McCreary<br>Player Speed:2.67 yd/s"
           ],
           "marker": {
            "color": "#4B92DB",
            "line": {
             "color": "#0C2340",
             "width": 2
            },
            "size": 10
           },
           "mode": "markers",
           "name": "TEN",
           "type": "scatter",
           "x": [
            54.3,
            40.04,
            46.21,
            55.72,
            54.7,
            40.53,
            49.61,
            46.18,
            43.68,
            53.38,
            44.11
           ],
           "y": [
            24.05,
            35.58,
            34.46,
            35.02,
            26.27,
            20.47,
            21.2,
            26.95,
            11.18,
            32.33,
            41.83
           ]
          },
          {
           "hoverinfo": "text",
           "hovertext": [
            "nflId:42471.0<br>displayName:Jon Feliciano<br>Player Speed:2.62 yd/s",
            "nflId:42477.0<br>displayName:Mark Glowinski<br>Player Speed:1.73 yd/s",
            "nflId:44908.0<br>displayName:Kenny Golladay<br>Player Speed:5.52 yd/s",
            "nflId:46071.0<br>displayName:Saquon Barkley<br>Player Speed:2.64 yd/s",
            "nflId:46309.0<br>displayName:Richie James<br>Player Speed:4.29 yd/s",
            "nflId:47789.0<br>displayName:Daniel Jones<br>Player Speed:2.62 yd/s",
            "nflId:48489.0<br>displayName:David Sills<br>Player Speed:6.05 yd/s",
            "nflId:52412.0<br>displayName:Andrew Thomas<br>Player Speed:2.43 yd/s",
            "nflId:54472.0<br>displayName:Evan Neal<br>Player Speed:3.13 yd/s",
            "nflId:54532.0<br>displayName:Joshua Ezeudu<br>Player Speed:2.66 yd/s",
            "nflId:54577.0<br>displayName:Daniel Bellinger<br>Player Speed:5.16 yd/s"
           ],
           "marker": {
            "color": "#0B2265",
            "line": {
             "color": "#A71930",
             "width": 2
            },
            "size": 10
           },
           "mode": "markers",
           "name": "NYG",
           "type": "scatter",
           "x": [
            55.1,
            54.06,
            49.05,
            57.74,
            51.07,
            58.24,
            49.11,
            55.52,
            55.72,
            54.34,
            52.94
           ],
           "y": [
            28.43,
            31.93,
            11.11,
            27.09,
            21.4,
            29.62,
            39.41,
            25.47,
            34.01,
            26.67,
            38.47
           ]
          },
          {
           "hoverinfo": "none",
           "marker": {
            "color": "#CBB67C",
            "line": {
             "color": "#663831",
             "width": 2
            },
            "size": 10
           },
           "mode": "markers",
           "name": "football",
           "type": "scatter",
           "x": [
            58.5099983215332
           ],
           "y": [
            29.6000003814697
           ]
          }
         ],
         "name": "54"
        },
        {
         "data": [
          {
           "hoverinfo": "none",
           "mode": "text",
           "showlegend": false,
           "text": [
            "10",
            "20",
            "30",
            "40",
            "50",
            "40",
            "30",
            "20",
            "10"
           ],
           "textfont": {
            "color": "#ffffff",
            "family": "Courier New, monospace",
            "size": 30
           },
           "type": "scatter",
           "x": [
            20,
            30,
            40,
            50,
            60,
            70,
            80,
            90,
            100
           ],
           "y": [
            5,
            5,
            5,
            5,
            5,
            5,
            5,
            5,
            5
           ]
          },
          {
           "hoverinfo": "none",
           "mode": "text",
           "showlegend": false,
           "text": [
            "10",
            "20",
            "30",
            "40",
            "50",
            "40",
            "30",
            "20",
            "10"
           ],
           "textfont": {
            "color": "#ffffff",
            "family": "Courier New, monospace",
            "size": 30
           },
           "type": "scatter",
           "x": [
            20,
            30,
            40,
            50,
            60,
            70,
            80,
            90,
            100
           ],
           "y": [
            48.5,
            48.5,
            48.5,
            48.5,
            48.5,
            48.5,
            48.5,
            48.5,
            48.5
           ]
          },
          {
           "hoverinfo": "none",
           "line": {
            "color": "blue",
            "dash": "dash"
           },
           "showlegend": false,
           "type": "scatter",
           "x": [
            52,
            52
           ],
           "y": [
            0,
            53.5
           ]
          },
          {
           "hoverinfo": "none",
           "line": {
            "color": "yellow",
            "dash": "dash"
           },
           "showlegend": false,
           "type": "scatter",
           "x": [
            44,
            44
           ],
           "y": [
            0,
            53.5
           ]
          },
          {
           "fill": "toself",
           "fillcolor": "#4B92DB",
           "hoverinfo": "skip",
           "line": {
            "color": "white",
            "width": 3
           },
           "mode": "lines",
           "opacity": 1,
           "showlegend": false,
           "type": "scatter",
           "x": [
            0,
            0,
            10,
            10,
            0
           ],
           "y": [
            0,
            53.5,
            53.5,
            0,
            0
           ]
          },
          {
           "fill": "toself",
           "fillcolor": "#0B2265",
           "hoverinfo": "skip",
           "line": {
            "color": "white",
            "width": 3
           },
           "mode": "lines",
           "opacity": 1,
           "showlegend": false,
           "type": "scatter",
           "x": [
            110,
            110,
            120,
            120,
            110
           ],
           "y": [
            0,
            53.5,
            53.5,
            0,
            0
           ]
          },
          {
           "hoverinfo": "text",
           "hovertext": [
            "nflId:42365.0<br>displayName:Bud Dupree<br>Player Speed:2.68 yd/s",
            "nflId:43353.0<br>displayName:Kevin Byard<br>Player Speed:2.62 yd/s",
            "nflId:44869.0<br>displayName:Zach Cunningham<br>Player Speed:2.75 yd/s",
            "nflId:46457.0<br>displayName:Olasunkanmi Adeniyi<br>Player Speed:5.43 yd/s",
            "nflId:47802.0<br>displayName:Jeffery Simmons<br>Player Speed:4.06 yd/s",
            "nflId:47899.0<br>displayName:Amani Hooker<br>Player Speed:3.31 yd/s",
            "nflId:47915.0<br>displayName:Ugochukwu Amadi<br>Player Speed:3.39 yd/s",
            "nflId:47971.0<br>displayName:David Long<br>Player Speed:2.0 yd/s",
            "nflId:52469.0<br>displayName:Kristian Fulton<br>Player Speed:3.17 yd/s",
            "nflId:53073.0<br>displayName:Teair Tart<br>Player Speed:1.75 yd/s",
            "nflId:54500.0<br>displayName:Roger McCreary<br>Player Speed:2.87 yd/s"
           ],
           "marker": {
            "color": "#4B92DB",
            "line": {
             "color": "#0C2340",
             "width": 2
            },
            "size": 10
           },
           "mode": "markers",
           "name": "TEN",
           "type": "scatter",
           "x": [
            54.45,
            39.89,
            46.1,
            56.25,
            55.13,
            40.21,
            49.3,
            46.18,
            43.38,
            53.56,
            44.07
           ],
           "y": [
            24.27,
            35.78,
            34.71,
            35.06,
            26.31,
            20.41,
            21.08,
            26.76,
            11.21,
            32.34,
            42.11
           ]
          },
          {
           "hoverinfo": "text",
           "hovertext": [
            "nflId:42471.0<br>displayName:Jon Feliciano<br>Player Speed:2.76 yd/s",
            "nflId:42477.0<br>displayName:Mark Glowinski<br>Player Speed:1.65 yd/s",
            "nflId:44908.0<br>displayName:Kenny Golladay<br>Player Speed:5.87 yd/s",
            "nflId:46071.0<br>displayName:Saquon Barkley<br>Player Speed:3.09 yd/s",
            "nflId:46309.0<br>displayName:Richie James<br>Player Speed:4.58 yd/s",
            "nflId:47789.0<br>displayName:Daniel Jones<br>Player Speed:2.39 yd/s",
            "nflId:48489.0<br>displayName:David Sills<br>Player Speed:6.36 yd/s",
            "nflId:52412.0<br>displayName:Andrew Thomas<br>Player Speed:2.23 yd/s",
            "nflId:54472.0<br>displayName:Evan Neal<br>Player Speed:3.23 yd/s",
            "nflId:54532.0<br>displayName:Joshua Ezeudu<br>Player Speed:2.67 yd/s",
            "nflId:54577.0<br>displayName:Daniel Bellinger<br>Player Speed:5.37 yd/s"
           ],
           "marker": {
            "color": "#0B2265",
            "line": {
             "color": "#A71930",
             "width": 2
            },
            "size": 10
           },
           "mode": "markers",
           "name": "NYG",
           "type": "scatter",
           "x": [
            55.34,
            54.23,
            48.48,
            57.97,
            50.72,
            58.49,
            48.49,
            55.75,
            56.04,
            54.59,
            52.78
           ],
           "y": [
            28.26,
            31.96,
            11.18,
            26.91,
            21.68,
            29.62,
            39.5,
            25.47,
            34.05,
            26.57,
            38.97
           ]
          },
          {
           "hoverinfo": "none",
           "marker": {
            "color": "#CBB67C",
            "line": {
             "color": "#663831",
             "width": 2
            },
            "size": 10
           },
           "mode": "markers",
           "name": "football",
           "type": "scatter",
           "x": [
            58.6800003051758
           ],
           "y": [
            29.5799999237061
           ]
          }
         ],
         "name": "55"
        },
        {
         "data": [
          {
           "hoverinfo": "none",
           "mode": "text",
           "showlegend": false,
           "text": [
            "10",
            "20",
            "30",
            "40",
            "50",
            "40",
            "30",
            "20",
            "10"
           ],
           "textfont": {
            "color": "#ffffff",
            "family": "Courier New, monospace",
            "size": 30
           },
           "type": "scatter",
           "x": [
            20,
            30,
            40,
            50,
            60,
            70,
            80,
            90,
            100
           ],
           "y": [
            5,
            5,
            5,
            5,
            5,
            5,
            5,
            5,
            5
           ]
          },
          {
           "hoverinfo": "none",
           "mode": "text",
           "showlegend": false,
           "text": [
            "10",
            "20",
            "30",
            "40",
            "50",
            "40",
            "30",
            "20",
            "10"
           ],
           "textfont": {
            "color": "#ffffff",
            "family": "Courier New, monospace",
            "size": 30
           },
           "type": "scatter",
           "x": [
            20,
            30,
            40,
            50,
            60,
            70,
            80,
            90,
            100
           ],
           "y": [
            48.5,
            48.5,
            48.5,
            48.5,
            48.5,
            48.5,
            48.5,
            48.5,
            48.5
           ]
          },
          {
           "hoverinfo": "none",
           "line": {
            "color": "blue",
            "dash": "dash"
           },
           "showlegend": false,
           "type": "scatter",
           "x": [
            52,
            52
           ],
           "y": [
            0,
            53.5
           ]
          },
          {
           "hoverinfo": "none",
           "line": {
            "color": "yellow",
            "dash": "dash"
           },
           "showlegend": false,
           "type": "scatter",
           "x": [
            44,
            44
           ],
           "y": [
            0,
            53.5
           ]
          },
          {
           "fill": "toself",
           "fillcolor": "#4B92DB",
           "hoverinfo": "skip",
           "line": {
            "color": "white",
            "width": 3
           },
           "mode": "lines",
           "opacity": 1,
           "showlegend": false,
           "type": "scatter",
           "x": [
            0,
            0,
            10,
            10,
            0
           ],
           "y": [
            0,
            53.5,
            53.5,
            0,
            0
           ]
          },
          {
           "fill": "toself",
           "fillcolor": "#0B2265",
           "hoverinfo": "skip",
           "line": {
            "color": "white",
            "width": 3
           },
           "mode": "lines",
           "opacity": 1,
           "showlegend": false,
           "type": "scatter",
           "x": [
            110,
            110,
            120,
            120,
            110
           ],
           "y": [
            0,
            53.5,
            53.5,
            0,
            0
           ]
          },
          {
           "hoverinfo": "text",
           "hovertext": [
            "nflId:42365.0<br>displayName:Bud Dupree<br>Player Speed:2.84 yd/s",
            "nflId:43353.0<br>displayName:Kevin Byard<br>Player Speed:2.91 yd/s",
            "nflId:44869.0<br>displayName:Zach Cunningham<br>Player Speed:2.87 yd/s",
            "nflId:46457.0<br>displayName:Olasunkanmi Adeniyi<br>Player Speed:5.48 yd/s",
            "nflId:47802.0<br>displayName:Jeffery Simmons<br>Player Speed:4.05 yd/s",
            "nflId:47899.0<br>displayName:Amani Hooker<br>Player Speed:3.34 yd/s",
            "nflId:47915.0<br>displayName:Ugochukwu Amadi<br>Player Speed:3.42 yd/s",
            "nflId:47971.0<br>displayName:David Long<br>Player Speed:2.15 yd/s",
            "nflId:52469.0<br>displayName:Kristian Fulton<br>Player Speed:3.41 yd/s",
            "nflId:53073.0<br>displayName:Teair Tart<br>Player Speed:1.64 yd/s",
            "nflId:54500.0<br>displayName:Roger McCreary<br>Player Speed:3.05 yd/s"
           ],
           "marker": {
            "color": "#4B92DB",
            "line": {
             "color": "#0C2340",
             "width": 2
            },
            "size": 10
           },
           "mode": "markers",
           "name": "TEN",
           "type": "scatter",
           "x": [
            54.57,
            39.72,
            45.98,
            56.79,
            55.54,
            39.88,
            48.99,
            46.2,
            43.05,
            53.73,
            44.02
           ],
           "y": [
            24.52,
            36,
            34.96,
            35.12,
            26.39,
            20.39,
            20.96,
            26.55,
            11.26,
            32.31,
            42.4
           ]
          },
          {
           "hoverinfo": "text",
           "hovertext": [
            "nflId:42471.0<br>displayName:Jon Feliciano<br>Player Speed:2.83 yd/s",
            "nflId:42477.0<br>displayName:Mark Glowinski<br>Player Speed:1.55 yd/s",
            "nflId:44908.0<br>displayName:Kenny Golladay<br>Player Speed:6.18 yd/s",
            "nflId:46071.0<br>displayName:Saquon Barkley<br>Player Speed:3.41 yd/s",
            "nflId:46309.0<br>displayName:Richie James<br>Player Speed:4.87 yd/s",
            "nflId:47789.0<br>displayName:Daniel Jones<br>Player Speed:2.13 yd/s",
            "nflId:48489.0<br>displayName:David Sills<br>Player Speed:6.66 yd/s",
            "nflId:52412.0<br>displayName:Andrew Thomas<br>Player Speed:2.09 yd/s",
            "nflId:54472.0<br>displayName:Evan Neal<br>Player Speed:3.31 yd/s",
            "nflId:54532.0<br>displayName:Joshua Ezeudu<br>Player Speed:2.67 yd/s",
            "nflId:54577.0<br>displayName:Daniel Bellinger<br>Player Speed:5.52 yd/s"
           ],
           "marker": {
            "color": "#0B2265",
            "line": {
             "color": "#A71930",
             "width": 2
            },
            "size": 10
           },
           "mode": "markers",
           "name": "NYG",
           "type": "scatter",
           "x": [
            55.58,
            54.38,
            47.88,
            58.22,
            50.38,
            58.71,
            47.84,
            55.97,
            56.38,
            54.85,
            52.61
           ],
           "y": [
            28.1,
            31.96,
            11.23,
            26.7,
            22.01,
            29.64,
            39.58,
            25.48,
            34.07,
            26.49,
            39.48
           ]
          },
          {
           "hoverinfo": "none",
           "marker": {
            "color": "#CBB67C",
            "line": {
             "color": "#663831",
             "width": 2
            },
            "size": 10
           },
           "mode": "markers",
           "name": "football",
           "type": "scatter",
           "x": [
            58.8300018310547
           ],
           "y": [
            29.5699996948242
           ]
          }
         ],
         "name": "56"
        },
        {
         "data": [
          {
           "hoverinfo": "none",
           "mode": "text",
           "showlegend": false,
           "text": [
            "10",
            "20",
            "30",
            "40",
            "50",
            "40",
            "30",
            "20",
            "10"
           ],
           "textfont": {
            "color": "#ffffff",
            "family": "Courier New, monospace",
            "size": 30
           },
           "type": "scatter",
           "x": [
            20,
            30,
            40,
            50,
            60,
            70,
            80,
            90,
            100
           ],
           "y": [
            5,
            5,
            5,
            5,
            5,
            5,
            5,
            5,
            5
           ]
          },
          {
           "hoverinfo": "none",
           "mode": "text",
           "showlegend": false,
           "text": [
            "10",
            "20",
            "30",
            "40",
            "50",
            "40",
            "30",
            "20",
            "10"
           ],
           "textfont": {
            "color": "#ffffff",
            "family": "Courier New, monospace",
            "size": 30
           },
           "type": "scatter",
           "x": [
            20,
            30,
            40,
            50,
            60,
            70,
            80,
            90,
            100
           ],
           "y": [
            48.5,
            48.5,
            48.5,
            48.5,
            48.5,
            48.5,
            48.5,
            48.5,
            48.5
           ]
          },
          {
           "hoverinfo": "none",
           "line": {
            "color": "blue",
            "dash": "dash"
           },
           "showlegend": false,
           "type": "scatter",
           "x": [
            52,
            52
           ],
           "y": [
            0,
            53.5
           ]
          },
          {
           "hoverinfo": "none",
           "line": {
            "color": "yellow",
            "dash": "dash"
           },
           "showlegend": false,
           "type": "scatter",
           "x": [
            44,
            44
           ],
           "y": [
            0,
            53.5
           ]
          },
          {
           "fill": "toself",
           "fillcolor": "#4B92DB",
           "hoverinfo": "skip",
           "line": {
            "color": "white",
            "width": 3
           },
           "mode": "lines",
           "opacity": 1,
           "showlegend": false,
           "type": "scatter",
           "x": [
            0,
            0,
            10,
            10,
            0
           ],
           "y": [
            0,
            53.5,
            53.5,
            0,
            0
           ]
          },
          {
           "fill": "toself",
           "fillcolor": "#0B2265",
           "hoverinfo": "skip",
           "line": {
            "color": "white",
            "width": 3
           },
           "mode": "lines",
           "opacity": 1,
           "showlegend": false,
           "type": "scatter",
           "x": [
            110,
            110,
            120,
            120,
            110
           ],
           "y": [
            0,
            53.5,
            53.5,
            0,
            0
           ]
          },
          {
           "hoverinfo": "text",
           "hovertext": [
            "nflId:42365.0<br>displayName:Bud Dupree<br>Player Speed:3.06 yd/s",
            "nflId:43353.0<br>displayName:Kevin Byard<br>Player Speed:3.18 yd/s",
            "nflId:44869.0<br>displayName:Zach Cunningham<br>Player Speed:2.96 yd/s",
            "nflId:46457.0<br>displayName:Olasunkanmi Adeniyi<br>Player Speed:5.48 yd/s",
            "nflId:47802.0<br>displayName:Jeffery Simmons<br>Player Speed:4.15 yd/s",
            "nflId:47899.0<br>displayName:Amani Hooker<br>Player Speed:3.37 yd/s",
            "nflId:47915.0<br>displayName:Ugochukwu Amadi<br>Player Speed:3.35 yd/s",
            "nflId:47971.0<br>displayName:David Long<br>Player Speed:2.28 yd/s",
            "nflId:52469.0<br>displayName:Kristian Fulton<br>Player Speed:3.73 yd/s",
            "nflId:53073.0<br>displayName:Teair Tart<br>Player Speed:1.56 yd/s",
            "nflId:54500.0<br>displayName:Roger McCreary<br>Player Speed:3.18 yd/s"
           ],
           "marker": {
            "color": "#4B92DB",
            "line": {
             "color": "#0C2340",
             "width": 2
            },
            "size": 10
           },
           "mode": "markers",
           "name": "TEN",
           "type": "scatter",
           "x": [
            54.67,
            39.53,
            45.85,
            57.34,
            55.95,
            39.54,
            48.68,
            46.23,
            42.7,
            53.88,
            43.98
           ],
           "y": [
            24.81,
            36.25,
            35.22,
            35.18,
            26.53,
            20.41,
            20.82,
            26.32,
            11.31,
            32.26,
            42.71
           ]
          },
          {
           "hoverinfo": "text",
           "hovertext": [
            "nflId:42471.0<br>displayName:Jon Feliciano<br>Player Speed:2.86 yd/s",
            "nflId:42477.0<br>displayName:Mark Glowinski<br>Player Speed:1.48 yd/s",
            "nflId:44908.0<br>displayName:Kenny Golladay<br>Player Speed:6.46 yd/s",
            "nflId:46071.0<br>displayName:Saquon Barkley<br>Player Speed:3.79 yd/s",
            "nflId:46309.0<br>displayName:Richie James<br>Player Speed:5.15 yd/s",
            "nflId:47789.0<br>displayName:Daniel Jones<br>Player Speed:1.78 yd/s",
            "nflId:48489.0<br>displayName:David Sills<br>Player Speed:6.92 yd/s",
            "nflId:52412.0<br>displayName:Andrew Thomas<br>Player Speed:2.09 yd/s",
            "nflId:54472.0<br>displayName:Evan Neal<br>Player Speed:3.34 yd/s",
            "nflId:54532.0<br>displayName:Joshua Ezeudu<br>Player Speed:2.65 yd/s",
            "nflId:54577.0<br>displayName:Daniel Bellinger<br>Player Speed:5.72 yd/s"
           ],
           "marker": {
            "color": "#0B2265",
            "line": {
             "color": "#A71930",
             "width": 2
            },
            "size": 10
           },
           "mode": "markers",
           "name": "NYG",
           "type": "scatter",
           "x": [
            55.83,
            54.53,
            47.25,
            58.48,
            50.05,
            58.89,
            47.16,
            56.18,
            56.72,
            55.11,
            52.44
           ],
           "y": [
            27.94,
            31.95,
            11.28,
            26.45,
            22.39,
            29.67,
            39.67,
            25.55,
            34.08,
            26.44,
            40.02
           ]
          },
          {
           "hoverinfo": "none",
           "marker": {
            "color": "#CBB67C",
            "line": {
             "color": "#663831",
             "width": 2
            },
            "size": 10
           },
           "mode": "markers",
           "name": "football",
           "type": "scatter",
           "x": [
            58.9700012207031
           ],
           "y": [
            29.5599994659424
           ]
          }
         ],
         "name": "57"
        },
        {
         "data": [
          {
           "hoverinfo": "none",
           "mode": "text",
           "showlegend": false,
           "text": [
            "10",
            "20",
            "30",
            "40",
            "50",
            "40",
            "30",
            "20",
            "10"
           ],
           "textfont": {
            "color": "#ffffff",
            "family": "Courier New, monospace",
            "size": 30
           },
           "type": "scatter",
           "x": [
            20,
            30,
            40,
            50,
            60,
            70,
            80,
            90,
            100
           ],
           "y": [
            5,
            5,
            5,
            5,
            5,
            5,
            5,
            5,
            5
           ]
          },
          {
           "hoverinfo": "none",
           "mode": "text",
           "showlegend": false,
           "text": [
            "10",
            "20",
            "30",
            "40",
            "50",
            "40",
            "30",
            "20",
            "10"
           ],
           "textfont": {
            "color": "#ffffff",
            "family": "Courier New, monospace",
            "size": 30
           },
           "type": "scatter",
           "x": [
            20,
            30,
            40,
            50,
            60,
            70,
            80,
            90,
            100
           ],
           "y": [
            48.5,
            48.5,
            48.5,
            48.5,
            48.5,
            48.5,
            48.5,
            48.5,
            48.5
           ]
          },
          {
           "hoverinfo": "none",
           "line": {
            "color": "blue",
            "dash": "dash"
           },
           "showlegend": false,
           "type": "scatter",
           "x": [
            52,
            52
           ],
           "y": [
            0,
            53.5
           ]
          },
          {
           "hoverinfo": "none",
           "line": {
            "color": "yellow",
            "dash": "dash"
           },
           "showlegend": false,
           "type": "scatter",
           "x": [
            44,
            44
           ],
           "y": [
            0,
            53.5
           ]
          },
          {
           "fill": "toself",
           "fillcolor": "#4B92DB",
           "hoverinfo": "skip",
           "line": {
            "color": "white",
            "width": 3
           },
           "mode": "lines",
           "opacity": 1,
           "showlegend": false,
           "type": "scatter",
           "x": [
            0,
            0,
            10,
            10,
            0
           ],
           "y": [
            0,
            53.5,
            53.5,
            0,
            0
           ]
          },
          {
           "fill": "toself",
           "fillcolor": "#0B2265",
           "hoverinfo": "skip",
           "line": {
            "color": "white",
            "width": 3
           },
           "mode": "lines",
           "opacity": 1,
           "showlegend": false,
           "type": "scatter",
           "x": [
            110,
            110,
            120,
            120,
            110
           ],
           "y": [
            0,
            53.5,
            53.5,
            0,
            0
           ]
          },
          {
           "hoverinfo": "text",
           "hovertext": [
            "nflId:42365.0<br>displayName:Bud Dupree<br>Player Speed:3.32 yd/s",
            "nflId:43353.0<br>displayName:Kevin Byard<br>Player Speed:3.45 yd/s",
            "nflId:44869.0<br>displayName:Zach Cunningham<br>Player Speed:3.09 yd/s",
            "nflId:46457.0<br>displayName:Olasunkanmi Adeniyi<br>Player Speed:5.49 yd/s",
            "nflId:47802.0<br>displayName:Jeffery Simmons<br>Player Speed:4.22 yd/s",
            "nflId:47899.0<br>displayName:Amani Hooker<br>Player Speed:3.38 yd/s",
            "nflId:47915.0<br>displayName:Ugochukwu Amadi<br>Player Speed:3.2 yd/s",
            "nflId:47971.0<br>displayName:David Long<br>Player Speed:2.24 yd/s",
            "nflId:52469.0<br>displayName:Kristian Fulton<br>Player Speed:4.04 yd/s",
            "nflId:53073.0<br>displayName:Teair Tart<br>Player Speed:1.44 yd/s",
            "nflId:54500.0<br>displayName:Roger McCreary<br>Player Speed:3.24 yd/s"
           ],
           "marker": {
            "color": "#4B92DB",
            "line": {
             "color": "#0C2340",
             "width": 2
            },
            "size": 10
           },
           "mode": "markers",
           "name": "TEN",
           "type": "scatter",
           "x": [
            54.73,
            39.31,
            45.71,
            57.89,
            56.34,
            39.21,
            48.39,
            46.27,
            42.32,
            54.02,
            43.93
           ],
           "y": [
            25.12,
            36.5,
            35.49,
            35.26,
            26.71,
            20.48,
            20.67,
            26.11,
            11.37,
            32.21,
            43.02
           ]
          },
          {
           "hoverinfo": "text",
           "hovertext": [
            "nflId:42471.0<br>displayName:Jon Feliciano<br>Player Speed:2.92 yd/s",
            "nflId:42477.0<br>displayName:Mark Glowinski<br>Player Speed:1.43 yd/s",
            "nflId:44908.0<br>displayName:Kenny Golladay<br>Player Speed:6.7 yd/s",
            "nflId:46071.0<br>displayName:Saquon Barkley<br>Player Speed:4.18 yd/s",
            "nflId:46309.0<br>displayName:Richie James<br>Player Speed:5.41 yd/s",
            "nflId:47789.0<br>displayName:Daniel Jones<br>Player Speed:1.37 yd/s",
            "nflId:48489.0<br>displayName:David Sills<br>Player Speed:7.19 yd/s",
            "nflId:52412.0<br>displayName:Andrew Thomas<br>Player Speed:2.13 yd/s",
            "nflId:54472.0<br>displayName:Evan Neal<br>Player Speed:3.44 yd/s",
            "nflId:54532.0<br>displayName:Joshua Ezeudu<br>Player Speed:2.59 yd/s",
            "nflId:54577.0<br>displayName:Daniel Bellinger<br>Player Speed:5.93 yd/s"
           ],
           "marker": {
            "color": "#0B2265",
            "line": {
             "color": "#A71930",
             "width": 2
            },
            "size": 10
           },
           "mode": "markers",
           "name": "NYG",
           "type": "scatter",
           "x": [
            56.09,
            54.67,
            46.58,
            58.75,
            49.73,
            59.03,
            46.45,
            56.39,
            57.07,
            55.37,
            52.27
           ],
           "y": [
            27.8,
            31.9,
            11.32,
            26.14,
            22.81,
            29.73,
            39.74,
            25.64,
            34.07,
            26.44,
            40.59
           ]
          },
          {
           "hoverinfo": "none",
           "marker": {
            "color": "#CBB67C",
            "line": {
             "color": "#663831",
             "width": 2
            },
            "size": 10
           },
           "mode": "markers",
           "name": "football",
           "type": "scatter",
           "x": [
            59.0999984741211
           ],
           "y": [
            29.5499992370605
           ]
          }
         ],
         "name": "58"
        },
        {
         "data": [
          {
           "hoverinfo": "none",
           "mode": "text",
           "showlegend": false,
           "text": [
            "10",
            "20",
            "30",
            "40",
            "50",
            "40",
            "30",
            "20",
            "10"
           ],
           "textfont": {
            "color": "#ffffff",
            "family": "Courier New, monospace",
            "size": 30
           },
           "type": "scatter",
           "x": [
            20,
            30,
            40,
            50,
            60,
            70,
            80,
            90,
            100
           ],
           "y": [
            5,
            5,
            5,
            5,
            5,
            5,
            5,
            5,
            5
           ]
          },
          {
           "hoverinfo": "none",
           "mode": "text",
           "showlegend": false,
           "text": [
            "10",
            "20",
            "30",
            "40",
            "50",
            "40",
            "30",
            "20",
            "10"
           ],
           "textfont": {
            "color": "#ffffff",
            "family": "Courier New, monospace",
            "size": 30
           },
           "type": "scatter",
           "x": [
            20,
            30,
            40,
            50,
            60,
            70,
            80,
            90,
            100
           ],
           "y": [
            48.5,
            48.5,
            48.5,
            48.5,
            48.5,
            48.5,
            48.5,
            48.5,
            48.5
           ]
          },
          {
           "hoverinfo": "none",
           "line": {
            "color": "blue",
            "dash": "dash"
           },
           "showlegend": false,
           "type": "scatter",
           "x": [
            52,
            52
           ],
           "y": [
            0,
            53.5
           ]
          },
          {
           "hoverinfo": "none",
           "line": {
            "color": "yellow",
            "dash": "dash"
           },
           "showlegend": false,
           "type": "scatter",
           "x": [
            44,
            44
           ],
           "y": [
            0,
            53.5
           ]
          },
          {
           "fill": "toself",
           "fillcolor": "#4B92DB",
           "hoverinfo": "skip",
           "line": {
            "color": "white",
            "width": 3
           },
           "mode": "lines",
           "opacity": 1,
           "showlegend": false,
           "type": "scatter",
           "x": [
            0,
            0,
            10,
            10,
            0
           ],
           "y": [
            0,
            53.5,
            53.5,
            0,
            0
           ]
          },
          {
           "fill": "toself",
           "fillcolor": "#0B2265",
           "hoverinfo": "skip",
           "line": {
            "color": "white",
            "width": 3
           },
           "mode": "lines",
           "opacity": 1,
           "showlegend": false,
           "type": "scatter",
           "x": [
            110,
            110,
            120,
            120,
            110
           ],
           "y": [
            0,
            53.5,
            53.5,
            0,
            0
           ]
          },
          {
           "hoverinfo": "text",
           "hovertext": [
            "nflId:42365.0<br>displayName:Bud Dupree<br>Player Speed:3.64 yd/s",
            "nflId:43353.0<br>displayName:Kevin Byard<br>Player Speed:3.73 yd/s",
            "nflId:44869.0<br>displayName:Zach Cunningham<br>Player Speed:3.15 yd/s",
            "nflId:46457.0<br>displayName:Olasunkanmi Adeniyi<br>Player Speed:5.48 yd/s",
            "nflId:47802.0<br>displayName:Jeffery Simmons<br>Player Speed:4.28 yd/s",
            "nflId:47899.0<br>displayName:Amani Hooker<br>Player Speed:3.37 yd/s",
            "nflId:47915.0<br>displayName:Ugochukwu Amadi<br>Player Speed:2.97 yd/s",
            "nflId:47971.0<br>displayName:David Long<br>Player Speed:2.04 yd/s",
            "nflId:52469.0<br>displayName:Kristian Fulton<br>Player Speed:4.2 yd/s",
            "nflId:53073.0<br>displayName:Teair Tart<br>Player Speed:1.32 yd/s",
            "nflId:54500.0<br>displayName:Roger McCreary<br>Player Speed:3.24 yd/s"
           ],
           "marker": {
            "color": "#4B92DB",
            "line": {
             "color": "#0C2340",
             "width": 2
            },
            "size": 10
           },
           "mode": "markers",
           "name": "TEN",
           "type": "scatter",
           "x": [
            54.78,
            39.06,
            45.57,
            58.44,
            56.73,
            38.89,
            48.13,
            46.32,
            41.91,
            54.13,
            43.9
           ],
           "y": [
            25.47,
            36.77,
            35.77,
            35.33,
            26.91,
            20.59,
            20.5,
            25.91,
            11.43,
            32.15,
            43.34
           ]
          },
          {
           "hoverinfo": "text",
           "hovertext": [
            "nflId:42471.0<br>displayName:Jon Feliciano<br>Player Speed:3.01 yd/s",
            "nflId:42477.0<br>displayName:Mark Glowinski<br>Player Speed:1.48 yd/s",
            "nflId:44908.0<br>displayName:Kenny Golladay<br>Player Speed:6.84 yd/s",
            "nflId:46071.0<br>displayName:Saquon Barkley<br>Player Speed:4.56 yd/s",
            "nflId:46309.0<br>displayName:Richie James<br>Player Speed:5.67 yd/s",
            "nflId:47789.0<br>displayName:Daniel Jones<br>Player Speed:1.1 yd/s",
            "nflId:48489.0<br>displayName:David Sills<br>Player Speed:7.39 yd/s",
            "nflId:52412.0<br>displayName:Andrew Thomas<br>Player Speed:2.29 yd/s",
            "nflId:54472.0<br>displayName:Evan Neal<br>Player Speed:3.49 yd/s",
            "nflId:54532.0<br>displayName:Joshua Ezeudu<br>Player Speed:2.53 yd/s",
            "nflId:54577.0<br>displayName:Daniel Bellinger<br>Player Speed:6.03 yd/s"
           ],
           "marker": {
            "color": "#0B2265",
            "line": {
             "color": "#A71930",
             "width": 2
            },
            "size": 10
           },
           "mode": "markers",
           "name": "NYG",
           "type": "scatter",
           "x": [
            56.38,
            54.8,
            45.9,
            59.02,
            49.43,
            59.13,
            45.72,
            56.6,
            57.43,
            55.62,
            52.11
           ],
           "y": [
            27.69,
            31.82,
            11.37,
            25.79,
            23.29,
            29.8,
            39.81,
            25.79,
            34.04,
            26.47,
            41.17
           ]
          },
          {
           "hoverinfo": "none",
           "marker": {
            "color": "#CBB67C",
            "line": {
             "color": "#663831",
             "width": 2
            },
            "size": 10
           },
           "mode": "markers",
           "name": "football",
           "type": "scatter",
           "x": [
            59.2000007629395
           ],
           "y": [
            29.5499992370605
           ]
          }
         ],
         "name": "59"
        },
        {
         "data": [
          {
           "hoverinfo": "none",
           "mode": "text",
           "showlegend": false,
           "text": [
            "10",
            "20",
            "30",
            "40",
            "50",
            "40",
            "30",
            "20",
            "10"
           ],
           "textfont": {
            "color": "#ffffff",
            "family": "Courier New, monospace",
            "size": 30
           },
           "type": "scatter",
           "x": [
            20,
            30,
            40,
            50,
            60,
            70,
            80,
            90,
            100
           ],
           "y": [
            5,
            5,
            5,
            5,
            5,
            5,
            5,
            5,
            5
           ]
          },
          {
           "hoverinfo": "none",
           "mode": "text",
           "showlegend": false,
           "text": [
            "10",
            "20",
            "30",
            "40",
            "50",
            "40",
            "30",
            "20",
            "10"
           ],
           "textfont": {
            "color": "#ffffff",
            "family": "Courier New, monospace",
            "size": 30
           },
           "type": "scatter",
           "x": [
            20,
            30,
            40,
            50,
            60,
            70,
            80,
            90,
            100
           ],
           "y": [
            48.5,
            48.5,
            48.5,
            48.5,
            48.5,
            48.5,
            48.5,
            48.5,
            48.5
           ]
          },
          {
           "hoverinfo": "none",
           "line": {
            "color": "blue",
            "dash": "dash"
           },
           "showlegend": false,
           "type": "scatter",
           "x": [
            52,
            52
           ],
           "y": [
            0,
            53.5
           ]
          },
          {
           "hoverinfo": "none",
           "line": {
            "color": "yellow",
            "dash": "dash"
           },
           "showlegend": false,
           "type": "scatter",
           "x": [
            44,
            44
           ],
           "y": [
            0,
            53.5
           ]
          },
          {
           "fill": "toself",
           "fillcolor": "#4B92DB",
           "hoverinfo": "skip",
           "line": {
            "color": "white",
            "width": 3
           },
           "mode": "lines",
           "opacity": 1,
           "showlegend": false,
           "type": "scatter",
           "x": [
            0,
            0,
            10,
            10,
            0
           ],
           "y": [
            0,
            53.5,
            53.5,
            0,
            0
           ]
          },
          {
           "fill": "toself",
           "fillcolor": "#0B2265",
           "hoverinfo": "skip",
           "line": {
            "color": "white",
            "width": 3
           },
           "mode": "lines",
           "opacity": 1,
           "showlegend": false,
           "type": "scatter",
           "x": [
            110,
            110,
            120,
            120,
            110
           ],
           "y": [
            0,
            53.5,
            53.5,
            0,
            0
           ]
          },
          {
           "hoverinfo": "text",
           "hovertext": [
            "nflId:42365.0<br>displayName:Bud Dupree<br>Player Speed:3.96 yd/s",
            "nflId:43353.0<br>displayName:Kevin Byard<br>Player Speed:3.97 yd/s",
            "nflId:44869.0<br>displayName:Zach Cunningham<br>Player Speed:3.19 yd/s",
            "nflId:46457.0<br>displayName:Olasunkanmi Adeniyi<br>Player Speed:5.32 yd/s",
            "nflId:47802.0<br>displayName:Jeffery Simmons<br>Player Speed:4.35 yd/s",
            "nflId:47899.0<br>displayName:Amani Hooker<br>Player Speed:3.41 yd/s",
            "nflId:47915.0<br>displayName:Ugochukwu Amadi<br>Player Speed:2.77 yd/s",
            "nflId:47971.0<br>displayName:David Long<br>Player Speed:1.83 yd/s",
            "nflId:52469.0<br>displayName:Kristian Fulton<br>Player Speed:4.42 yd/s",
            "nflId:53073.0<br>displayName:Teair Tart<br>Player Speed:1.19 yd/s",
            "nflId:54500.0<br>displayName:Roger McCreary<br>Player Speed:3.21 yd/s"
           ],
           "marker": {
            "color": "#4B92DB",
            "line": {
             "color": "#0C2340",
             "width": 2
            },
            "size": 10
           },
           "mode": "markers",
           "name": "TEN",
           "type": "scatter",
           "x": [
            54.83,
            38.78,
            45.42,
            58.97,
            57.09,
            38.59,
            47.92,
            46.38,
            41.49,
            54.24,
            43.87
           ],
           "y": [
            25.85,
            37.03,
            36.06,
            35.39,
            27.17,
            20.74,
            20.31,
            25.73,
            11.51,
            32.1,
            43.67
           ]
          },
          {
           "hoverinfo": "text",
           "hovertext": [
            "nflId:42471.0<br>displayName:Jon Feliciano<br>Player Speed:3.0 yd/s",
            "nflId:42477.0<br>displayName:Mark Glowinski<br>Player Speed:1.45 yd/s",
            "nflId:44908.0<br>displayName:Kenny Golladay<br>Player Speed:6.98 yd/s",
            "nflId:46071.0<br>displayName:Saquon Barkley<br>Player Speed:4.91 yd/s",
            "nflId:46309.0<br>displayName:Richie James<br>Player Speed:5.87 yd/s",
            "nflId:47789.0<br>displayName:Daniel Jones<br>Player Speed:1.0 yd/s",
            "nflId:48489.0<br>displayName:David Sills<br>Player Speed:7.49 yd/s",
            "nflId:52412.0<br>displayName:Andrew Thomas<br>Player Speed:2.33 yd/s",
            "nflId:54472.0<br>displayName:Evan Neal<br>Player Speed:3.51 yd/s",
            "nflId:54532.0<br>displayName:Joshua Ezeudu<br>Player Speed:2.46 yd/s",
            "nflId:54577.0<br>displayName:Daniel Bellinger<br>Player Speed:6.06 yd/s"
           ],
           "marker": {
            "color": "#0B2265",
            "line": {
             "color": "#A71930",
             "width": 2
            },
            "size": 10
           },
           "mode": "markers",
           "name": "NYG",
           "type": "scatter",
           "x": [
            56.66,
            54.92,
            45.21,
            59.3,
            49.15,
            59.19,
            44.98,
            56.77,
            57.79,
            55.86,
            51.96
           ],
           "y": [
            27.58,
            31.74,
            11.42,
            25.4,
            23.8,
            29.88,
            39.87,
            25.95,
            34.01,
            26.54,
            41.76
           ]
          },
          {
           "hoverinfo": "none",
           "marker": {
            "color": "#CBB67C",
            "line": {
             "color": "#663831",
             "width": 2
            },
            "size": 10
           },
           "mode": "markers",
           "name": "football",
           "type": "scatter",
           "x": [
            59.2999992370605
           ],
           "y": [
            29.5499992370605
           ]
          }
         ],
         "name": "60"
        },
        {
         "data": [
          {
           "hoverinfo": "none",
           "mode": "text",
           "showlegend": false,
           "text": [
            "10",
            "20",
            "30",
            "40",
            "50",
            "40",
            "30",
            "20",
            "10"
           ],
           "textfont": {
            "color": "#ffffff",
            "family": "Courier New, monospace",
            "size": 30
           },
           "type": "scatter",
           "x": [
            20,
            30,
            40,
            50,
            60,
            70,
            80,
            90,
            100
           ],
           "y": [
            5,
            5,
            5,
            5,
            5,
            5,
            5,
            5,
            5
           ]
          },
          {
           "hoverinfo": "none",
           "mode": "text",
           "showlegend": false,
           "text": [
            "10",
            "20",
            "30",
            "40",
            "50",
            "40",
            "30",
            "20",
            "10"
           ],
           "textfont": {
            "color": "#ffffff",
            "family": "Courier New, monospace",
            "size": 30
           },
           "type": "scatter",
           "x": [
            20,
            30,
            40,
            50,
            60,
            70,
            80,
            90,
            100
           ],
           "y": [
            48.5,
            48.5,
            48.5,
            48.5,
            48.5,
            48.5,
            48.5,
            48.5,
            48.5
           ]
          },
          {
           "hoverinfo": "none",
           "line": {
            "color": "blue",
            "dash": "dash"
           },
           "showlegend": false,
           "type": "scatter",
           "x": [
            52,
            52
           ],
           "y": [
            0,
            53.5
           ]
          },
          {
           "hoverinfo": "none",
           "line": {
            "color": "yellow",
            "dash": "dash"
           },
           "showlegend": false,
           "type": "scatter",
           "x": [
            44,
            44
           ],
           "y": [
            0,
            53.5
           ]
          },
          {
           "fill": "toself",
           "fillcolor": "#4B92DB",
           "hoverinfo": "skip",
           "line": {
            "color": "white",
            "width": 3
           },
           "mode": "lines",
           "opacity": 1,
           "showlegend": false,
           "type": "scatter",
           "x": [
            0,
            0,
            10,
            10,
            0
           ],
           "y": [
            0,
            53.5,
            53.5,
            0,
            0
           ]
          },
          {
           "fill": "toself",
           "fillcolor": "#0B2265",
           "hoverinfo": "skip",
           "line": {
            "color": "white",
            "width": 3
           },
           "mode": "lines",
           "opacity": 1,
           "showlegend": false,
           "type": "scatter",
           "x": [
            110,
            110,
            120,
            120,
            110
           ],
           "y": [
            0,
            53.5,
            53.5,
            0,
            0
           ]
          },
          {
           "hoverinfo": "text",
           "hovertext": [
            "nflId:42365.0<br>displayName:Bud Dupree<br>Player Speed:4.17 yd/s",
            "nflId:43353.0<br>displayName:Kevin Byard<br>Player Speed:4.18 yd/s",
            "nflId:44869.0<br>displayName:Zach Cunningham<br>Player Speed:3.09 yd/s",
            "nflId:46457.0<br>displayName:Olasunkanmi Adeniyi<br>Player Speed:5.06 yd/s",
            "nflId:47802.0<br>displayName:Jeffery Simmons<br>Player Speed:4.62 yd/s",
            "nflId:47899.0<br>displayName:Amani Hooker<br>Player Speed:3.52 yd/s",
            "nflId:47915.0<br>displayName:Ugochukwu Amadi<br>Player Speed:2.6 yd/s",
            "nflId:47971.0<br>displayName:David Long<br>Player Speed:1.54 yd/s",
            "nflId:52469.0<br>displayName:Kristian Fulton<br>Player Speed:4.69 yd/s",
            "nflId:53073.0<br>displayName:Teair Tart<br>Player Speed:1.06 yd/s",
            "nflId:54500.0<br>displayName:Roger McCreary<br>Player Speed:3.13 yd/s"
           ],
           "marker": {
            "color": "#4B92DB",
            "line": {
             "color": "#0C2340",
             "width": 2
            },
            "size": 10
           },
           "mode": "markers",
           "name": "TEN",
           "type": "scatter",
           "x": [
            54.87,
            38.47,
            45.28,
            59.47,
            57.42,
            38.3,
            47.76,
            46.44,
            41.03,
            54.34,
            43.85
           ],
           "y": [
            26.25,
            37.3,
            36.33,
            35.46,
            27.52,
            20.94,
            20.1,
            25.57,
            11.59,
            32.04,
            43.98
           ]
          },
          {
           "hoverinfo": "text",
           "hovertext": [
            "nflId:42471.0<br>displayName:Jon Feliciano<br>Player Speed:3.0 yd/s",
            "nflId:42477.0<br>displayName:Mark Glowinski<br>Player Speed:1.39 yd/s",
            "nflId:44908.0<br>displayName:Kenny Golladay<br>Player Speed:7.1 yd/s",
            "nflId:46071.0<br>displayName:Saquon Barkley<br>Player Speed:5.17 yd/s",
            "nflId:46309.0<br>displayName:Richie James<br>Player Speed:6.05 yd/s",
            "nflId:47789.0<br>displayName:Daniel Jones<br>Player Speed:0.99 yd/s",
            "nflId:48489.0<br>displayName:David Sills<br>Player Speed:7.74 yd/s",
            "nflId:52412.0<br>displayName:Andrew Thomas<br>Player Speed:2.36 yd/s",
            "nflId:54472.0<br>displayName:Evan Neal<br>Player Speed:3.54 yd/s",
            "nflId:54532.0<br>displayName:Joshua Ezeudu<br>Player Speed:2.41 yd/s",
            "nflId:54577.0<br>displayName:Daniel Bellinger<br>Player Speed:6.05 yd/s"
           ],
           "marker": {
            "color": "#0B2265",
            "line": {
             "color": "#A71930",
             "width": 2
            },
            "size": 10
           },
           "mode": "markers",
           "name": "NYG",
           "type": "scatter",
           "x": [
            56.95,
            55.03,
            44.5,
            59.57,
            48.9,
            59.21,
            44.21,
            56.93,
            58.15,
            56.08,
            51.82
           ],
           "y": [
            27.5,
            31.65,
            11.48,
            24.98,
            24.34,
            29.98,
            39.92,
            26.12,
            33.98,
            26.63,
            42.35
           ]
          },
          {
           "hoverinfo": "none",
           "marker": {
            "color": "#CBB67C",
            "line": {
             "color": "#663831",
             "width": 2
            },
            "size": 10
           },
           "mode": "markers",
           "name": "football",
           "type": "scatter",
           "x": [
            59.2299995422363
           ],
           "y": [
            29.9300003051758
           ]
          }
         ],
         "name": "61"
        },
        {
         "data": [
          {
           "hoverinfo": "none",
           "mode": "text",
           "showlegend": false,
           "text": [
            "10",
            "20",
            "30",
            "40",
            "50",
            "40",
            "30",
            "20",
            "10"
           ],
           "textfont": {
            "color": "#ffffff",
            "family": "Courier New, monospace",
            "size": 30
           },
           "type": "scatter",
           "x": [
            20,
            30,
            40,
            50,
            60,
            70,
            80,
            90,
            100
           ],
           "y": [
            5,
            5,
            5,
            5,
            5,
            5,
            5,
            5,
            5
           ]
          },
          {
           "hoverinfo": "none",
           "mode": "text",
           "showlegend": false,
           "text": [
            "10",
            "20",
            "30",
            "40",
            "50",
            "40",
            "30",
            "20",
            "10"
           ],
           "textfont": {
            "color": "#ffffff",
            "family": "Courier New, monospace",
            "size": 30
           },
           "type": "scatter",
           "x": [
            20,
            30,
            40,
            50,
            60,
            70,
            80,
            90,
            100
           ],
           "y": [
            48.5,
            48.5,
            48.5,
            48.5,
            48.5,
            48.5,
            48.5,
            48.5,
            48.5
           ]
          },
          {
           "hoverinfo": "none",
           "line": {
            "color": "blue",
            "dash": "dash"
           },
           "showlegend": false,
           "type": "scatter",
           "x": [
            52,
            52
           ],
           "y": [
            0,
            53.5
           ]
          },
          {
           "hoverinfo": "none",
           "line": {
            "color": "yellow",
            "dash": "dash"
           },
           "showlegend": false,
           "type": "scatter",
           "x": [
            44,
            44
           ],
           "y": [
            0,
            53.5
           ]
          },
          {
           "fill": "toself",
           "fillcolor": "#4B92DB",
           "hoverinfo": "skip",
           "line": {
            "color": "white",
            "width": 3
           },
           "mode": "lines",
           "opacity": 1,
           "showlegend": false,
           "type": "scatter",
           "x": [
            0,
            0,
            10,
            10,
            0
           ],
           "y": [
            0,
            53.5,
            53.5,
            0,
            0
           ]
          },
          {
           "fill": "toself",
           "fillcolor": "#0B2265",
           "hoverinfo": "skip",
           "line": {
            "color": "white",
            "width": 3
           },
           "mode": "lines",
           "opacity": 1,
           "showlegend": false,
           "type": "scatter",
           "x": [
            110,
            110,
            120,
            120,
            110
           ],
           "y": [
            0,
            53.5,
            53.5,
            0,
            0
           ]
          },
          {
           "hoverinfo": "text",
           "hovertext": [
            "nflId:42365.0<br>displayName:Bud Dupree<br>Player Speed:4.41 yd/s",
            "nflId:43353.0<br>displayName:Kevin Byard<br>Player Speed:4.44 yd/s",
            "nflId:44869.0<br>displayName:Zach Cunningham<br>Player Speed:2.77 yd/s",
            "nflId:46457.0<br>displayName:Olasunkanmi Adeniyi<br>Player Speed:4.85 yd/s",
            "nflId:47802.0<br>displayName:Jeffery Simmons<br>Player Speed:4.75 yd/s",
            "nflId:47899.0<br>displayName:Amani Hooker<br>Player Speed:3.62 yd/s",
            "nflId:47915.0<br>displayName:Ugochukwu Amadi<br>Player Speed:2.53 yd/s",
            "nflId:47971.0<br>displayName:David Long<br>Player Speed:1.08 yd/s",
            "nflId:52469.0<br>displayName:Kristian Fulton<br>Player Speed:4.79 yd/s",
            "nflId:53073.0<br>displayName:Teair Tart<br>Player Speed:0.91 yd/s",
            "nflId:54500.0<br>displayName:Roger McCreary<br>Player Speed:3.03 yd/s"
           ],
           "marker": {
            "color": "#4B92DB",
            "line": {
             "color": "#0C2340",
             "width": 2
            },
            "size": 10
           },
           "mode": "markers",
           "name": "TEN",
           "type": "scatter",
           "x": [
            54.93,
            38.12,
            45.17,
            59.97,
            57.73,
            38.03,
            47.66,
            46.5,
            40.57,
            54.42,
            43.83
           ],
           "y": [
            26.68,
            37.56,
            36.58,
            35.52,
            27.9,
            21.18,
            19.87,
            25.46,
            11.67,
            32,
            44.29
           ]
          },
          {
           "hoverinfo": "text",
           "hovertext": [
            "nflId:42471.0<br>displayName:Jon Feliciano<br>Player Speed:3.02 yd/s",
            "nflId:42477.0<br>displayName:Mark Glowinski<br>Player Speed:1.23 yd/s",
            "nflId:44908.0<br>displayName:Kenny Golladay<br>Player Speed:7.15 yd/s",
            "nflId:46071.0<br>displayName:Saquon Barkley<br>Player Speed:5.3 yd/s",
            "nflId:46309.0<br>displayName:Richie James<br>Player Speed:6.18 yd/s",
            "nflId:47789.0<br>displayName:Daniel Jones<br>Player Speed:1.32 yd/s",
            "nflId:48489.0<br>displayName:David Sills<br>Player Speed:7.89 yd/s",
            "nflId:52412.0<br>displayName:Andrew Thomas<br>Player Speed:2.36 yd/s",
            "nflId:54472.0<br>displayName:Evan Neal<br>Player Speed:3.55 yd/s",
            "nflId:54532.0<br>displayName:Joshua Ezeudu<br>Player Speed:2.35 yd/s",
            "nflId:54577.0<br>displayName:Daniel Bellinger<br>Player Speed:6.01 yd/s"
           ],
           "marker": {
            "color": "#0B2265",
            "line": {
             "color": "#A71930",
             "width": 2
            },
            "size": 10
           },
           "mode": "markers",
           "name": "NYG",
           "type": "scatter",
           "x": [
            57.26,
            55.11,
            43.79,
            59.82,
            48.66,
            59.18,
            43.43,
            57.08,
            58.52,
            56.28,
            51.69
           ],
           "y": [
            27.46,
            31.57,
            11.55,
            24.52,
            24.9,
            30.1,
            39.98,
            26.31,
            33.97,
            26.75,
            42.94
           ]
          },
          {
           "hoverinfo": "none",
           "marker": {
            "color": "#CBB67C",
            "line": {
             "color": "#663831",
             "width": 2
            },
            "size": 10
           },
           "mode": "markers",
           "name": "football",
           "type": "scatter",
           "x": [
            59.310001373291
           ],
           "y": [
            30.1200008392334
           ]
          }
         ],
         "name": "62"
        },
        {
         "data": [
          {
           "hoverinfo": "none",
           "mode": "text",
           "showlegend": false,
           "text": [
            "10",
            "20",
            "30",
            "40",
            "50",
            "40",
            "30",
            "20",
            "10"
           ],
           "textfont": {
            "color": "#ffffff",
            "family": "Courier New, monospace",
            "size": 30
           },
           "type": "scatter",
           "x": [
            20,
            30,
            40,
            50,
            60,
            70,
            80,
            90,
            100
           ],
           "y": [
            5,
            5,
            5,
            5,
            5,
            5,
            5,
            5,
            5
           ]
          },
          {
           "hoverinfo": "none",
           "mode": "text",
           "showlegend": false,
           "text": [
            "10",
            "20",
            "30",
            "40",
            "50",
            "40",
            "30",
            "20",
            "10"
           ],
           "textfont": {
            "color": "#ffffff",
            "family": "Courier New, monospace",
            "size": 30
           },
           "type": "scatter",
           "x": [
            20,
            30,
            40,
            50,
            60,
            70,
            80,
            90,
            100
           ],
           "y": [
            48.5,
            48.5,
            48.5,
            48.5,
            48.5,
            48.5,
            48.5,
            48.5,
            48.5
           ]
          },
          {
           "hoverinfo": "none",
           "line": {
            "color": "blue",
            "dash": "dash"
           },
           "showlegend": false,
           "type": "scatter",
           "x": [
            52,
            52
           ],
           "y": [
            0,
            53.5
           ]
          },
          {
           "hoverinfo": "none",
           "line": {
            "color": "yellow",
            "dash": "dash"
           },
           "showlegend": false,
           "type": "scatter",
           "x": [
            44,
            44
           ],
           "y": [
            0,
            53.5
           ]
          },
          {
           "fill": "toself",
           "fillcolor": "#4B92DB",
           "hoverinfo": "skip",
           "line": {
            "color": "white",
            "width": 3
           },
           "mode": "lines",
           "opacity": 1,
           "showlegend": false,
           "type": "scatter",
           "x": [
            0,
            0,
            10,
            10,
            0
           ],
           "y": [
            0,
            53.5,
            53.5,
            0,
            0
           ]
          },
          {
           "fill": "toself",
           "fillcolor": "#0B2265",
           "hoverinfo": "skip",
           "line": {
            "color": "white",
            "width": 3
           },
           "mode": "lines",
           "opacity": 1,
           "showlegend": false,
           "type": "scatter",
           "x": [
            110,
            110,
            120,
            120,
            110
           ],
           "y": [
            0,
            53.5,
            53.5,
            0,
            0
           ]
          },
          {
           "hoverinfo": "text",
           "hovertext": [
            "nflId:42365.0<br>displayName:Bud Dupree<br>Player Speed:4.72 yd/s",
            "nflId:43353.0<br>displayName:Kevin Byard<br>Player Speed:4.69 yd/s",
            "nflId:44869.0<br>displayName:Zach Cunningham<br>Player Speed:2.42 yd/s",
            "nflId:46457.0<br>displayName:Olasunkanmi Adeniyi<br>Player Speed:4.19 yd/s",
            "nflId:47802.0<br>displayName:Jeffery Simmons<br>Player Speed:4.86 yd/s",
            "nflId:47899.0<br>displayName:Amani Hooker<br>Player Speed:3.75 yd/s",
            "nflId:47915.0<br>displayName:Ugochukwu Amadi<br>Player Speed:2.63 yd/s",
            "nflId:47971.0<br>displayName:David Long<br>Player Speed:0.66 yd/s",
            "nflId:52469.0<br>displayName:Kristian Fulton<br>Player Speed:4.89 yd/s",
            "nflId:53073.0<br>displayName:Teair Tart<br>Player Speed:0.72 yd/s",
            "nflId:54500.0<br>displayName:Roger McCreary<br>Player Speed:2.98 yd/s"
           ],
           "marker": {
            "color": "#4B92DB",
            "line": {
             "color": "#0C2340",
             "width": 2
            },
            "size": 10
           },
           "mode": "markers",
           "name": "TEN",
           "type": "scatter",
           "x": [
            55.02,
            37.74,
            45.07,
            60.37,
            58,
            37.78,
            47.61,
            46.56,
            40.1,
            54.5,
            43.82
           ],
           "y": [
            27.14,
            37.82,
            36.8,
            35.57,
            28.32,
            21.46,
            19.62,
            25.4,
            11.78,
            32.01,
            44.59
           ]
          },
          {
           "hoverinfo": "text",
           "hovertext": [
            "nflId:42471.0<br>displayName:Jon Feliciano<br>Player Speed:2.99 yd/s",
            "nflId:42477.0<br>displayName:Mark Glowinski<br>Player Speed:1.03 yd/s",
            "nflId:44908.0<br>displayName:Kenny Golladay<br>Player Speed:7.13 yd/s",
            "nflId:46071.0<br>displayName:Saquon Barkley<br>Player Speed:5.4 yd/s",
            "nflId:46309.0<br>displayName:Richie James<br>Player Speed:6.29 yd/s",
            "nflId:47789.0<br>displayName:Daniel Jones<br>Player Speed:1.62 yd/s",
            "nflId:48489.0<br>displayName:David Sills<br>Player Speed:7.92 yd/s",
            "nflId:52412.0<br>displayName:Andrew Thomas<br>Player Speed:2.31 yd/s",
            "nflId:54472.0<br>displayName:Evan Neal<br>Player Speed:3.52 yd/s",
            "nflId:54532.0<br>displayName:Joshua Ezeudu<br>Player Speed:2.29 yd/s",
            "nflId:54577.0<br>displayName:Daniel Bellinger<br>Player Speed:5.95 yd/s"
           ],
           "marker": {
            "color": "#0B2265",
            "line": {
             "color": "#A71930",
             "width": 2
            },
            "size": 10
           },
           "mode": "markers",
           "name": "NYG",
           "type": "scatter",
           "x": [
            57.56,
            55.19,
            43.08,
            60.05,
            48.44,
            59.12,
            42.64,
            57.2,
            58.88,
            56.46,
            51.57
           ],
           "y": [
            27.43,
            31.5,
            11.63,
            24.03,
            25.49,
            30.25,
            40.03,
            26.5,
            33.97,
            26.9,
            43.52
           ]
          },
          {
           "hoverinfo": "none",
           "marker": {
            "color": "#CBB67C",
            "line": {
             "color": "#663831",
             "width": 2
            },
            "size": 10
           },
           "mode": "markers",
           "name": "football",
           "type": "scatter",
           "x": [
            59.3899993896484
           ],
           "y": [
            30.2399997711182
           ]
          }
         ],
         "name": "63"
        },
        {
         "data": [
          {
           "hoverinfo": "none",
           "mode": "text",
           "showlegend": false,
           "text": [
            "10",
            "20",
            "30",
            "40",
            "50",
            "40",
            "30",
            "20",
            "10"
           ],
           "textfont": {
            "color": "#ffffff",
            "family": "Courier New, monospace",
            "size": 30
           },
           "type": "scatter",
           "x": [
            20,
            30,
            40,
            50,
            60,
            70,
            80,
            90,
            100
           ],
           "y": [
            5,
            5,
            5,
            5,
            5,
            5,
            5,
            5,
            5
           ]
          },
          {
           "hoverinfo": "none",
           "mode": "text",
           "showlegend": false,
           "text": [
            "10",
            "20",
            "30",
            "40",
            "50",
            "40",
            "30",
            "20",
            "10"
           ],
           "textfont": {
            "color": "#ffffff",
            "family": "Courier New, monospace",
            "size": 30
           },
           "type": "scatter",
           "x": [
            20,
            30,
            40,
            50,
            60,
            70,
            80,
            90,
            100
           ],
           "y": [
            48.5,
            48.5,
            48.5,
            48.5,
            48.5,
            48.5,
            48.5,
            48.5,
            48.5
           ]
          },
          {
           "hoverinfo": "none",
           "line": {
            "color": "blue",
            "dash": "dash"
           },
           "showlegend": false,
           "type": "scatter",
           "x": [
            52,
            52
           ],
           "y": [
            0,
            53.5
           ]
          },
          {
           "hoverinfo": "none",
           "line": {
            "color": "yellow",
            "dash": "dash"
           },
           "showlegend": false,
           "type": "scatter",
           "x": [
            44,
            44
           ],
           "y": [
            0,
            53.5
           ]
          },
          {
           "fill": "toself",
           "fillcolor": "#4B92DB",
           "hoverinfo": "skip",
           "line": {
            "color": "white",
            "width": 3
           },
           "mode": "lines",
           "opacity": 1,
           "showlegend": false,
           "type": "scatter",
           "x": [
            0,
            0,
            10,
            10,
            0
           ],
           "y": [
            0,
            53.5,
            53.5,
            0,
            0
           ]
          },
          {
           "fill": "toself",
           "fillcolor": "#0B2265",
           "hoverinfo": "skip",
           "line": {
            "color": "white",
            "width": 3
           },
           "mode": "lines",
           "opacity": 1,
           "showlegend": false,
           "type": "scatter",
           "x": [
            110,
            110,
            120,
            120,
            110
           ],
           "y": [
            0,
            53.5,
            53.5,
            0,
            0
           ]
          },
          {
           "hoverinfo": "text",
           "hovertext": [
            "nflId:42365.0<br>displayName:Bud Dupree<br>Player Speed:4.99 yd/s",
            "nflId:43353.0<br>displayName:Kevin Byard<br>Player Speed:4.85 yd/s",
            "nflId:44869.0<br>displayName:Zach Cunningham<br>Player Speed:1.93 yd/s",
            "nflId:46457.0<br>displayName:Olasunkanmi Adeniyi<br>Player Speed:3.65 yd/s",
            "nflId:47802.0<br>displayName:Jeffery Simmons<br>Player Speed:4.94 yd/s",
            "nflId:47899.0<br>displayName:Amani Hooker<br>Player Speed:3.94 yd/s",
            "nflId:47915.0<br>displayName:Ugochukwu Amadi<br>Player Speed:2.77 yd/s",
            "nflId:47971.0<br>displayName:David Long<br>Player Speed:0.48 yd/s",
            "nflId:52469.0<br>displayName:Kristian Fulton<br>Player Speed:4.91 yd/s",
            "nflId:53073.0<br>displayName:Teair Tart<br>Player Speed:0.62 yd/s",
            "nflId:54500.0<br>displayName:Roger McCreary<br>Player Speed:2.89 yd/s"
           ],
           "marker": {
            "color": "#4B92DB",
            "line": {
             "color": "#0C2340",
             "width": 2
            },
            "size": 10
           },
           "mode": "markers",
           "name": "TEN",
           "type": "scatter",
           "x": [
            55.14,
            37.33,
            45,
            60.76,
            58.22,
            37.55,
            47.61,
            46.6,
            39.62,
            54.56,
            43.8
           ],
           "y": [
            27.61,
            38.07,
            36.98,
            35.62,
            28.77,
            21.77,
            19.35,
            25.41,
            11.89,
            32.02,
            44.88
           ]
          },
          {
           "hoverinfo": "text",
           "hovertext": [
            "nflId:42471.0<br>displayName:Jon Feliciano<br>Player Speed:2.95 yd/s",
            "nflId:42477.0<br>displayName:Mark Glowinski<br>Player Speed:0.85 yd/s",
            "nflId:44908.0<br>displayName:Kenny Golladay<br>Player Speed:7.09 yd/s",
            "nflId:46071.0<br>displayName:Saquon Barkley<br>Player Speed:5.47 yd/s",
            "nflId:46309.0<br>displayName:Richie James<br>Player Speed:6.28 yd/s",
            "nflId:47789.0<br>displayName:Daniel Jones<br>Player Speed:1.93 yd/s",
            "nflId:48489.0<br>displayName:David Sills<br>Player Speed:7.92 yd/s",
            "nflId:52412.0<br>displayName:Andrew Thomas<br>Player Speed:2.2 yd/s",
            "nflId:54472.0<br>displayName:Evan Neal<br>Player Speed:3.49 yd/s",
            "nflId:54532.0<br>displayName:Joshua Ezeudu<br>Player Speed:2.18 yd/s",
            "nflId:54577.0<br>displayName:Daniel Bellinger<br>Player Speed:5.84 yd/s"
           ],
           "marker": {
            "color": "#0B2265",
            "line": {
             "color": "#A71930",
             "width": 2
            },
            "size": 10
           },
           "mode": "markers",
           "name": "NYG",
           "type": "scatter",
           "x": [
            57.87,
            55.26,
            42.38,
            60.26,
            48.23,
            59.05,
            41.85,
            57.32,
            59.24,
            56.62,
            51.46
           ],
           "y": [
            27.42,
            31.44,
            11.76,
            23.53,
            26.08,
            30.42,
            40.1,
            26.69,
            33.99,
            27.06,
            44.1
           ]
          },
          {
           "hoverinfo": "none",
           "marker": {
            "color": "#CBB67C",
            "line": {
             "color": "#663831",
             "width": 2
            },
            "size": 10
           },
           "mode": "markers",
           "name": "football",
           "type": "scatter",
           "x": [
            59.4599990844727
           ],
           "y": [
            30.3400001525879
           ]
          }
         ],
         "name": "64"
        },
        {
         "data": [
          {
           "hoverinfo": "none",
           "mode": "text",
           "showlegend": false,
           "text": [
            "10",
            "20",
            "30",
            "40",
            "50",
            "40",
            "30",
            "20",
            "10"
           ],
           "textfont": {
            "color": "#ffffff",
            "family": "Courier New, monospace",
            "size": 30
           },
           "type": "scatter",
           "x": [
            20,
            30,
            40,
            50,
            60,
            70,
            80,
            90,
            100
           ],
           "y": [
            5,
            5,
            5,
            5,
            5,
            5,
            5,
            5,
            5
           ]
          },
          {
           "hoverinfo": "none",
           "mode": "text",
           "showlegend": false,
           "text": [
            "10",
            "20",
            "30",
            "40",
            "50",
            "40",
            "30",
            "20",
            "10"
           ],
           "textfont": {
            "color": "#ffffff",
            "family": "Courier New, monospace",
            "size": 30
           },
           "type": "scatter",
           "x": [
            20,
            30,
            40,
            50,
            60,
            70,
            80,
            90,
            100
           ],
           "y": [
            48.5,
            48.5,
            48.5,
            48.5,
            48.5,
            48.5,
            48.5,
            48.5,
            48.5
           ]
          },
          {
           "hoverinfo": "none",
           "line": {
            "color": "blue",
            "dash": "dash"
           },
           "showlegend": false,
           "type": "scatter",
           "x": [
            52,
            52
           ],
           "y": [
            0,
            53.5
           ]
          },
          {
           "hoverinfo": "none",
           "line": {
            "color": "yellow",
            "dash": "dash"
           },
           "showlegend": false,
           "type": "scatter",
           "x": [
            44,
            44
           ],
           "y": [
            0,
            53.5
           ]
          },
          {
           "fill": "toself",
           "fillcolor": "#4B92DB",
           "hoverinfo": "skip",
           "line": {
            "color": "white",
            "width": 3
           },
           "mode": "lines",
           "opacity": 1,
           "showlegend": false,
           "type": "scatter",
           "x": [
            0,
            0,
            10,
            10,
            0
           ],
           "y": [
            0,
            53.5,
            53.5,
            0,
            0
           ]
          },
          {
           "fill": "toself",
           "fillcolor": "#0B2265",
           "hoverinfo": "skip",
           "line": {
            "color": "white",
            "width": 3
           },
           "mode": "lines",
           "opacity": 1,
           "showlegend": false,
           "type": "scatter",
           "x": [
            110,
            110,
            120,
            120,
            110
           ],
           "y": [
            0,
            53.5,
            53.5,
            0,
            0
           ]
          },
          {
           "hoverinfo": "text",
           "hovertext": [
            "nflId:42365.0<br>displayName:Bud Dupree<br>Player Speed:5.25 yd/s",
            "nflId:43353.0<br>displayName:Kevin Byard<br>Player Speed:5.0 yd/s",
            "nflId:44869.0<br>displayName:Zach Cunningham<br>Player Speed:1.5 yd/s",
            "nflId:46457.0<br>displayName:Olasunkanmi Adeniyi<br>Player Speed:3.04 yd/s",
            "nflId:47802.0<br>displayName:Jeffery Simmons<br>Player Speed:4.94 yd/s",
            "nflId:47899.0<br>displayName:Amani Hooker<br>Player Speed:4.07 yd/s",
            "nflId:47915.0<br>displayName:Ugochukwu Amadi<br>Player Speed:2.98 yd/s",
            "nflId:47971.0<br>displayName:David Long<br>Player Speed:0.89 yd/s",
            "nflId:52469.0<br>displayName:Kristian Fulton<br>Player Speed:4.87 yd/s",
            "nflId:53073.0<br>displayName:Teair Tart<br>Player Speed:0.61 yd/s",
            "nflId:54500.0<br>displayName:Roger McCreary<br>Player Speed:2.82 yd/s"
           ],
           "marker": {
            "color": "#4B92DB",
            "line": {
             "color": "#0C2340",
             "width": 2
            },
            "size": 10
           },
           "mode": "markers",
           "name": "TEN",
           "type": "scatter",
           "x": [
            55.29,
            36.9,
            44.95,
            61.08,
            58.43,
            37.34,
            47.68,
            46.63,
            39.16,
            54.62,
            43.74
           ],
           "y": [
            28.1,
            38.31,
            37.14,
            35.66,
            29.22,
            22.11,
            19.07,
            25.47,
            12.05,
            32.04,
            45.16
           ]
          },
          {
           "hoverinfo": "text",
           "hovertext": [
            "nflId:42471.0<br>displayName:Jon Feliciano<br>Player Speed:2.92 yd/s",
            "nflId:42477.0<br>displayName:Mark Glowinski<br>Player Speed:0.6 yd/s",
            "nflId:44908.0<br>displayName:Kenny Golladay<br>Player Speed:7.01 yd/s",
            "nflId:46071.0<br>displayName:Saquon Barkley<br>Player Speed:5.49 yd/s",
            "nflId:46309.0<br>displayName:Richie James<br>Player Speed:6.31 yd/s",
            "nflId:47789.0<br>displayName:Daniel Jones<br>Player Speed:2.17 yd/s",
            "nflId:48489.0<br>displayName:David Sills<br>Player Speed:7.85 yd/s",
            "nflId:52412.0<br>displayName:Andrew Thomas<br>Player Speed:2.06 yd/s",
            "nflId:54472.0<br>displayName:Evan Neal<br>Player Speed:3.42 yd/s",
            "nflId:54532.0<br>displayName:Joshua Ezeudu<br>Player Speed:2.08 yd/s",
            "nflId:54577.0<br>displayName:Daniel Bellinger<br>Player Speed:5.65 yd/s"
           ],
           "marker": {
            "color": "#0B2265",
            "line": {
             "color": "#A71930",
             "width": 2
            },
            "size": 10
           },
           "mode": "markers",
           "name": "NYG",
           "type": "scatter",
           "x": [
            58.17,
            55.31,
            41.69,
            60.44,
            48.02,
            58.97,
            41.07,
            57.42,
            59.59,
            56.74,
            51.35
           ],
           "y": [
            27.44,
            31.4,
            11.91,
            23.02,
            26.67,
            30.61,
            40.18,
            26.88,
            34.03,
            27.23,
            44.67
           ]
          },
          {
           "hoverinfo": "none",
           "marker": {
            "color": "#CBB67C",
            "line": {
             "color": "#663831",
             "width": 2
            },
            "size": 10
           },
           "mode": "markers",
           "name": "football",
           "type": "scatter",
           "x": [
            59.5200004577637
           ],
           "y": [
            30.4400005340576
           ]
          }
         ],
         "name": "65"
        },
        {
         "data": [
          {
           "hoverinfo": "none",
           "mode": "text",
           "showlegend": false,
           "text": [
            "10",
            "20",
            "30",
            "40",
            "50",
            "40",
            "30",
            "20",
            "10"
           ],
           "textfont": {
            "color": "#ffffff",
            "family": "Courier New, monospace",
            "size": 30
           },
           "type": "scatter",
           "x": [
            20,
            30,
            40,
            50,
            60,
            70,
            80,
            90,
            100
           ],
           "y": [
            5,
            5,
            5,
            5,
            5,
            5,
            5,
            5,
            5
           ]
          },
          {
           "hoverinfo": "none",
           "mode": "text",
           "showlegend": false,
           "text": [
            "10",
            "20",
            "30",
            "40",
            "50",
            "40",
            "30",
            "20",
            "10"
           ],
           "textfont": {
            "color": "#ffffff",
            "family": "Courier New, monospace",
            "size": 30
           },
           "type": "scatter",
           "x": [
            20,
            30,
            40,
            50,
            60,
            70,
            80,
            90,
            100
           ],
           "y": [
            48.5,
            48.5,
            48.5,
            48.5,
            48.5,
            48.5,
            48.5,
            48.5,
            48.5
           ]
          },
          {
           "hoverinfo": "none",
           "line": {
            "color": "blue",
            "dash": "dash"
           },
           "showlegend": false,
           "type": "scatter",
           "x": [
            52,
            52
           ],
           "y": [
            0,
            53.5
           ]
          },
          {
           "hoverinfo": "none",
           "line": {
            "color": "yellow",
            "dash": "dash"
           },
           "showlegend": false,
           "type": "scatter",
           "x": [
            44,
            44
           ],
           "y": [
            0,
            53.5
           ]
          },
          {
           "fill": "toself",
           "fillcolor": "#4B92DB",
           "hoverinfo": "skip",
           "line": {
            "color": "white",
            "width": 3
           },
           "mode": "lines",
           "opacity": 1,
           "showlegend": false,
           "type": "scatter",
           "x": [
            0,
            0,
            10,
            10,
            0
           ],
           "y": [
            0,
            53.5,
            53.5,
            0,
            0
           ]
          },
          {
           "fill": "toself",
           "fillcolor": "#0B2265",
           "hoverinfo": "skip",
           "line": {
            "color": "white",
            "width": 3
           },
           "mode": "lines",
           "opacity": 1,
           "showlegend": false,
           "type": "scatter",
           "x": [
            110,
            110,
            120,
            120,
            110
           ],
           "y": [
            0,
            53.5,
            53.5,
            0,
            0
           ]
          },
          {
           "hoverinfo": "text",
           "hovertext": [
            "nflId:42365.0<br>displayName:Bud Dupree<br>Player Speed:5.42 yd/s",
            "nflId:43353.0<br>displayName:Kevin Byard<br>Player Speed:5.28 yd/s",
            "nflId:44869.0<br>displayName:Zach Cunningham<br>Player Speed:0.9 yd/s",
            "nflId:46457.0<br>displayName:Olasunkanmi Adeniyi<br>Player Speed:2.53 yd/s",
            "nflId:47802.0<br>displayName:Jeffery Simmons<br>Player Speed:4.89 yd/s",
            "nflId:47899.0<br>displayName:Amani Hooker<br>Player Speed:4.19 yd/s",
            "nflId:47915.0<br>displayName:Ugochukwu Amadi<br>Player Speed:3.18 yd/s",
            "nflId:47971.0<br>displayName:David Long<br>Player Speed:1.42 yd/s",
            "nflId:52469.0<br>displayName:Kristian Fulton<br>Player Speed:4.75 yd/s",
            "nflId:53073.0<br>displayName:Teair Tart<br>Player Speed:0.7 yd/s",
            "nflId:54500.0<br>displayName:Roger McCreary<br>Player Speed:2.78 yd/s"
           ],
           "marker": {
            "color": "#4B92DB",
            "line": {
             "color": "#0C2340",
             "width": 2
            },
            "size": 10
           },
           "mode": "markers",
           "name": "TEN",
           "type": "scatter",
           "x": [
            55.48,
            36.44,
            44.94,
            61.36,
            58.62,
            37.13,
            47.79,
            46.66,
            38.72,
            54.66,
            43.66
           ],
           "y": [
            28.6,
            38.57,
            37.23,
            35.71,
            29.68,
            22.47,
            18.78,
            25.59,
            12.25,
            32.1,
            45.43
           ]
          },
          {
           "hoverinfo": "text",
           "hovertext": [
            "nflId:42471.0<br>displayName:Jon Feliciano<br>Player Speed:2.86 yd/s",
            "nflId:42477.0<br>displayName:Mark Glowinski<br>Player Speed:0.43 yd/s",
            "nflId:44908.0<br>displayName:Kenny Golladay<br>Player Speed:6.97 yd/s",
            "nflId:46071.0<br>displayName:Saquon Barkley<br>Player Speed:5.48 yd/s",
            "nflId:46309.0<br>displayName:Richie James<br>Player Speed:6.25 yd/s",
            "nflId:47789.0<br>displayName:Daniel Jones<br>Player Speed:2.31 yd/s",
            "nflId:48489.0<br>displayName:David Sills<br>Player Speed:7.72 yd/s",
            "nflId:52412.0<br>displayName:Andrew Thomas<br>Player Speed:1.94 yd/s",
            "nflId:54472.0<br>displayName:Evan Neal<br>Player Speed:3.3 yd/s",
            "nflId:54532.0<br>displayName:Joshua Ezeudu<br>Player Speed:1.99 yd/s",
            "nflId:54577.0<br>displayName:Daniel Bellinger<br>Player Speed:5.41 yd/s"
           ],
           "marker": {
            "color": "#0B2265",
            "line": {
             "color": "#A71930",
             "width": 2
            },
            "size": 10
           },
           "mode": "markers",
           "name": "NYG",
           "type": "scatter",
           "x": [
            58.46,
            55.36,
            41.01,
            60.6,
            47.81,
            58.88,
            40.3,
            57.52,
            59.92,
            56.84,
            51.26
           ],
           "y": [
            27.47,
            31.41,
            12.11,
            22.49,
            27.27,
            30.82,
            40.29,
            27.06,
            34.1,
            27.41,
            45.21
           ]
          },
          {
           "hoverinfo": "none",
           "marker": {
            "color": "#CBB67C",
            "line": {
             "color": "#663831",
             "width": 2
            },
            "size": 10
           },
           "mode": "markers",
           "name": "football",
           "type": "scatter",
           "x": [
            59.6199989318848
           ],
           "y": [
            30.5699996948242
           ]
          }
         ],
         "name": "66"
        },
        {
         "data": [
          {
           "hoverinfo": "none",
           "mode": "text",
           "showlegend": false,
           "text": [
            "10",
            "20",
            "30",
            "40",
            "50",
            "40",
            "30",
            "20",
            "10"
           ],
           "textfont": {
            "color": "#ffffff",
            "family": "Courier New, monospace",
            "size": 30
           },
           "type": "scatter",
           "x": [
            20,
            30,
            40,
            50,
            60,
            70,
            80,
            90,
            100
           ],
           "y": [
            5,
            5,
            5,
            5,
            5,
            5,
            5,
            5,
            5
           ]
          },
          {
           "hoverinfo": "none",
           "mode": "text",
           "showlegend": false,
           "text": [
            "10",
            "20",
            "30",
            "40",
            "50",
            "40",
            "30",
            "20",
            "10"
           ],
           "textfont": {
            "color": "#ffffff",
            "family": "Courier New, monospace",
            "size": 30
           },
           "type": "scatter",
           "x": [
            20,
            30,
            40,
            50,
            60,
            70,
            80,
            90,
            100
           ],
           "y": [
            48.5,
            48.5,
            48.5,
            48.5,
            48.5,
            48.5,
            48.5,
            48.5,
            48.5
           ]
          },
          {
           "hoverinfo": "none",
           "line": {
            "color": "blue",
            "dash": "dash"
           },
           "showlegend": false,
           "type": "scatter",
           "x": [
            52,
            52
           ],
           "y": [
            0,
            53.5
           ]
          },
          {
           "hoverinfo": "none",
           "line": {
            "color": "yellow",
            "dash": "dash"
           },
           "showlegend": false,
           "type": "scatter",
           "x": [
            44,
            44
           ],
           "y": [
            0,
            53.5
           ]
          },
          {
           "fill": "toself",
           "fillcolor": "#4B92DB",
           "hoverinfo": "skip",
           "line": {
            "color": "white",
            "width": 3
           },
           "mode": "lines",
           "opacity": 1,
           "showlegend": false,
           "type": "scatter",
           "x": [
            0,
            0,
            10,
            10,
            0
           ],
           "y": [
            0,
            53.5,
            53.5,
            0,
            0
           ]
          },
          {
           "fill": "toself",
           "fillcolor": "#0B2265",
           "hoverinfo": "skip",
           "line": {
            "color": "white",
            "width": 3
           },
           "mode": "lines",
           "opacity": 1,
           "showlegend": false,
           "type": "scatter",
           "x": [
            110,
            110,
            120,
            120,
            110
           ],
           "y": [
            0,
            53.5,
            53.5,
            0,
            0
           ]
          },
          {
           "hoverinfo": "text",
           "hovertext": [
            "nflId:42365.0<br>displayName:Bud Dupree<br>Player Speed:5.59 yd/s",
            "nflId:43353.0<br>displayName:Kevin Byard<br>Player Speed:5.5 yd/s",
            "nflId:44869.0<br>displayName:Zach Cunningham<br>Player Speed:0.49 yd/s",
            "nflId:46457.0<br>displayName:Olasunkanmi Adeniyi<br>Player Speed:1.73 yd/s",
            "nflId:47802.0<br>displayName:Jeffery Simmons<br>Player Speed:4.71 yd/s",
            "nflId:47899.0<br>displayName:Amani Hooker<br>Player Speed:4.3 yd/s",
            "nflId:47915.0<br>displayName:Ugochukwu Amadi<br>Player Speed:3.24 yd/s",
            "nflId:47971.0<br>displayName:David Long<br>Player Speed:1.89 yd/s",
            "nflId:52469.0<br>displayName:Kristian Fulton<br>Player Speed:4.72 yd/s",
            "nflId:53073.0<br>displayName:Teair Tart<br>Player Speed:0.89 yd/s",
            "nflId:54500.0<br>displayName:Roger McCreary<br>Player Speed:2.84 yd/s"
           ],
           "marker": {
            "color": "#4B92DB",
            "line": {
             "color": "#0C2340",
             "width": 2
            },
            "size": 10
           },
           "mode": "markers",
           "name": "TEN",
           "type": "scatter",
           "x": [
            55.69,
            35.96,
            44.96,
            61.56,
            58.77,
            36.95,
            47.92,
            46.66,
            38.31,
            54.71,
            43.55
           ],
           "y": [
            29.11,
            38.83,
            37.29,
            35.76,
            30.14,
            22.85,
            18.49,
            25.76,
            12.49,
            32.17,
            45.69
           ]
          },
          {
           "hoverinfo": "text",
           "hovertext": [
            "nflId:42471.0<br>displayName:Jon Feliciano<br>Player Speed:2.83 yd/s",
            "nflId:42477.0<br>displayName:Mark Glowinski<br>Player Speed:0.54 yd/s",
            "nflId:44908.0<br>displayName:Kenny Golladay<br>Player Speed:6.91 yd/s",
            "nflId:46071.0<br>displayName:Saquon Barkley<br>Player Speed:5.45 yd/s",
            "nflId:46309.0<br>displayName:Richie James<br>Player Speed:6.14 yd/s",
            "nflId:47789.0<br>displayName:Daniel Jones<br>Player Speed:2.41 yd/s",
            "nflId:48489.0<br>displayName:David Sills<br>Player Speed:7.54 yd/s",
            "nflId:52412.0<br>displayName:Andrew Thomas<br>Player Speed:1.9 yd/s",
            "nflId:54472.0<br>displayName:Evan Neal<br>Player Speed:3.18 yd/s",
            "nflId:54532.0<br>displayName:Joshua Ezeudu<br>Player Speed:1.93 yd/s",
            "nflId:54577.0<br>displayName:Daniel Bellinger<br>Player Speed:5.15 yd/s"
           ],
           "marker": {
            "color": "#0B2265",
            "line": {
             "color": "#A71930",
             "width": 2
            },
            "size": 10
           },
           "mode": "markers",
           "name": "NYG",
           "type": "scatter",
           "x": [
            58.76,
            55.4,
            40.37,
            60.72,
            47.61,
            58.82,
            39.55,
            57.61,
            60.24,
            56.9,
            51.17
           ],
           "y": [
            27.53,
            31.44,
            12.38,
            21.96,
            27.85,
            31.04,
            40.45,
            27.24,
            34.18,
            27.59,
            45.73
           ]
          },
          {
           "hoverinfo": "none",
           "marker": {
            "color": "#CBB67C",
            "line": {
             "color": "#663831",
             "width": 2
            },
            "size": 10
           },
           "mode": "markers",
           "name": "football",
           "type": "scatter",
           "x": [
            59.7999992370605
           ],
           "y": [
            30.7199993133545
           ]
          }
         ],
         "name": "67"
        },
        {
         "data": [
          {
           "hoverinfo": "none",
           "mode": "text",
           "showlegend": false,
           "text": [
            "10",
            "20",
            "30",
            "40",
            "50",
            "40",
            "30",
            "20",
            "10"
           ],
           "textfont": {
            "color": "#ffffff",
            "family": "Courier New, monospace",
            "size": 30
           },
           "type": "scatter",
           "x": [
            20,
            30,
            40,
            50,
            60,
            70,
            80,
            90,
            100
           ],
           "y": [
            5,
            5,
            5,
            5,
            5,
            5,
            5,
            5,
            5
           ]
          },
          {
           "hoverinfo": "none",
           "mode": "text",
           "showlegend": false,
           "text": [
            "10",
            "20",
            "30",
            "40",
            "50",
            "40",
            "30",
            "20",
            "10"
           ],
           "textfont": {
            "color": "#ffffff",
            "family": "Courier New, monospace",
            "size": 30
           },
           "type": "scatter",
           "x": [
            20,
            30,
            40,
            50,
            60,
            70,
            80,
            90,
            100
           ],
           "y": [
            48.5,
            48.5,
            48.5,
            48.5,
            48.5,
            48.5,
            48.5,
            48.5,
            48.5
           ]
          },
          {
           "hoverinfo": "none",
           "line": {
            "color": "blue",
            "dash": "dash"
           },
           "showlegend": false,
           "type": "scatter",
           "x": [
            52,
            52
           ],
           "y": [
            0,
            53.5
           ]
          },
          {
           "hoverinfo": "none",
           "line": {
            "color": "yellow",
            "dash": "dash"
           },
           "showlegend": false,
           "type": "scatter",
           "x": [
            44,
            44
           ],
           "y": [
            0,
            53.5
           ]
          },
          {
           "fill": "toself",
           "fillcolor": "#4B92DB",
           "hoverinfo": "skip",
           "line": {
            "color": "white",
            "width": 3
           },
           "mode": "lines",
           "opacity": 1,
           "showlegend": false,
           "type": "scatter",
           "x": [
            0,
            0,
            10,
            10,
            0
           ],
           "y": [
            0,
            53.5,
            53.5,
            0,
            0
           ]
          },
          {
           "fill": "toself",
           "fillcolor": "#0B2265",
           "hoverinfo": "skip",
           "line": {
            "color": "white",
            "width": 3
           },
           "mode": "lines",
           "opacity": 1,
           "showlegend": false,
           "type": "scatter",
           "x": [
            110,
            110,
            120,
            120,
            110
           ],
           "y": [
            0,
            53.5,
            53.5,
            0,
            0
           ]
          },
          {
           "hoverinfo": "text",
           "hovertext": [
            "nflId:42365.0<br>displayName:Bud Dupree<br>Player Speed:5.69 yd/s",
            "nflId:43353.0<br>displayName:Kevin Byard<br>Player Speed:5.67 yd/s",
            "nflId:44869.0<br>displayName:Zach Cunningham<br>Player Speed:0.66 yd/s",
            "nflId:46457.0<br>displayName:Olasunkanmi Adeniyi<br>Player Speed:1.08 yd/s",
            "nflId:47802.0<br>displayName:Jeffery Simmons<br>Player Speed:4.45 yd/s",
            "nflId:47899.0<br>displayName:Amani Hooker<br>Player Speed:4.39 yd/s",
            "nflId:47915.0<br>displayName:Ugochukwu Amadi<br>Player Speed:3.26 yd/s",
            "nflId:47971.0<br>displayName:David Long<br>Player Speed:2.38 yd/s",
            "nflId:52469.0<br>displayName:Kristian Fulton<br>Player Speed:4.84 yd/s",
            "nflId:53073.0<br>displayName:Teair Tart<br>Player Speed:1.1 yd/s",
            "nflId:54500.0<br>displayName:Roger McCreary<br>Player Speed:2.94 yd/s"
           ],
           "marker": {
            "color": "#4B92DB",
            "line": {
             "color": "#0C2340",
             "width": 2
            },
            "size": 10
           },
           "mode": "markers",
           "name": "TEN",
           "type": "scatter",
           "x": [
            55.93,
            35.47,
            45.01,
            61.7,
            58.9,
            36.77,
            48.09,
            46.66,
            37.93,
            54.75,
            43.4
           ],
           "y": [
            29.62,
            39.11,
            37.3,
            35.81,
            30.57,
            23.25,
            18.21,
            25.99,
            12.78,
            32.28,
            45.93
           ]
          },
          {
           "hoverinfo": "text",
           "hovertext": [
            "nflId:42471.0<br>displayName:Jon Feliciano<br>Player Speed:2.86 yd/s",
            "nflId:42477.0<br>displayName:Mark Glowinski<br>Player Speed:0.75 yd/s",
            "nflId:44908.0<br>displayName:Kenny Golladay<br>Player Speed:6.81 yd/s",
            "nflId:46071.0<br>displayName:Saquon Barkley<br>Player Speed:5.36 yd/s",
            "nflId:46309.0<br>displayName:Richie James<br>Player Speed:5.93 yd/s",
            "nflId:47789.0<br>displayName:Daniel Jones<br>Player Speed:2.47 yd/s",
            "nflId:48489.0<br>displayName:David Sills<br>Player Speed:7.34 yd/s",
            "nflId:52412.0<br>displayName:Andrew Thomas<br>Player Speed:1.95 yd/s",
            "nflId:54472.0<br>displayName:Evan Neal<br>Player Speed:2.98 yd/s",
            "nflId:54532.0<br>displayName:Joshua Ezeudu<br>Player Speed:1.86 yd/s",
            "nflId:54577.0<br>displayName:Daniel Bellinger<br>Player Speed:4.91 yd/s"
           ],
           "marker": {
            "color": "#0B2265",
            "line": {
             "color": "#A71930",
             "width": 2
            },
            "size": 10
           },
           "mode": "markers",
           "name": "NYG",
           "type": "scatter",
           "x": [
            59.05,
            55.44,
            39.77,
            60.81,
            47.42,
            58.77,
            38.84,
            57.71,
            60.52,
            56.94,
            51.09
           ],
           "y": [
            27.65,
            31.5,
            12.71,
            21.43,
            28.42,
            31.28,
            40.66,
            27.41,
            34.28,
            27.78,
            46.23
           ]
          },
          {
           "hoverinfo": "none",
           "marker": {
            "color": "#CBB67C",
            "line": {
             "color": "#663831",
             "width": 2
            },
            "size": 10
           },
           "mode": "markers",
           "name": "football",
           "type": "scatter",
           "x": [
            60.0699996948242
           ],
           "y": [
            30.8899993896484
           ]
          }
         ],
         "name": "68"
        },
        {
         "data": [
          {
           "hoverinfo": "none",
           "mode": "text",
           "showlegend": false,
           "text": [
            "10",
            "20",
            "30",
            "40",
            "50",
            "40",
            "30",
            "20",
            "10"
           ],
           "textfont": {
            "color": "#ffffff",
            "family": "Courier New, monospace",
            "size": 30
           },
           "type": "scatter",
           "x": [
            20,
            30,
            40,
            50,
            60,
            70,
            80,
            90,
            100
           ],
           "y": [
            5,
            5,
            5,
            5,
            5,
            5,
            5,
            5,
            5
           ]
          },
          {
           "hoverinfo": "none",
           "mode": "text",
           "showlegend": false,
           "text": [
            "10",
            "20",
            "30",
            "40",
            "50",
            "40",
            "30",
            "20",
            "10"
           ],
           "textfont": {
            "color": "#ffffff",
            "family": "Courier New, monospace",
            "size": 30
           },
           "type": "scatter",
           "x": [
            20,
            30,
            40,
            50,
            60,
            70,
            80,
            90,
            100
           ],
           "y": [
            48.5,
            48.5,
            48.5,
            48.5,
            48.5,
            48.5,
            48.5,
            48.5,
            48.5
           ]
          },
          {
           "hoverinfo": "none",
           "line": {
            "color": "blue",
            "dash": "dash"
           },
           "showlegend": false,
           "type": "scatter",
           "x": [
            52,
            52
           ],
           "y": [
            0,
            53.5
           ]
          },
          {
           "hoverinfo": "none",
           "line": {
            "color": "yellow",
            "dash": "dash"
           },
           "showlegend": false,
           "type": "scatter",
           "x": [
            44,
            44
           ],
           "y": [
            0,
            53.5
           ]
          },
          {
           "fill": "toself",
           "fillcolor": "#4B92DB",
           "hoverinfo": "skip",
           "line": {
            "color": "white",
            "width": 3
           },
           "mode": "lines",
           "opacity": 1,
           "showlegend": false,
           "type": "scatter",
           "x": [
            0,
            0,
            10,
            10,
            0
           ],
           "y": [
            0,
            53.5,
            53.5,
            0,
            0
           ]
          },
          {
           "fill": "toself",
           "fillcolor": "#0B2265",
           "hoverinfo": "skip",
           "line": {
            "color": "white",
            "width": 3
           },
           "mode": "lines",
           "opacity": 1,
           "showlegend": false,
           "type": "scatter",
           "x": [
            110,
            110,
            120,
            120,
            110
           ],
           "y": [
            0,
            53.5,
            53.5,
            0,
            0
           ]
          },
          {
           "hoverinfo": "text",
           "hovertext": [
            "nflId:42365.0<br>displayName:Bud Dupree<br>Player Speed:5.74 yd/s",
            "nflId:43353.0<br>displayName:Kevin Byard<br>Player Speed:5.84 yd/s",
            "nflId:44869.0<br>displayName:Zach Cunningham<br>Player Speed:1.03 yd/s",
            "nflId:46457.0<br>displayName:Olasunkanmi Adeniyi<br>Player Speed:0.47 yd/s",
            "nflId:47802.0<br>displayName:Jeffery Simmons<br>Player Speed:4.11 yd/s",
            "nflId:47899.0<br>displayName:Amani Hooker<br>Player Speed:4.42 yd/s",
            "nflId:47915.0<br>displayName:Ugochukwu Amadi<br>Player Speed:3.13 yd/s",
            "nflId:47971.0<br>displayName:David Long<br>Player Speed:2.77 yd/s",
            "nflId:52469.0<br>displayName:Kristian Fulton<br>Player Speed:4.98 yd/s",
            "nflId:53073.0<br>displayName:Teair Tart<br>Player Speed:1.19 yd/s",
            "nflId:54500.0<br>displayName:Roger McCreary<br>Player Speed:3.18 yd/s"
           ],
           "marker": {
            "color": "#4B92DB",
            "line": {
             "color": "#0C2340",
             "width": 2
            },
            "size": 10
           },
           "mode": "markers",
           "name": "TEN",
           "type": "scatter",
           "x": [
            56.19,
            34.98,
            45.09,
            61.77,
            59.03,
            36.6,
            48.26,
            46.64,
            37.58,
            54.78,
            43.21
           ],
           "y": [
            30.13,
            39.42,
            37.27,
            35.85,
            30.97,
            23.66,
            17.95,
            26.25,
            13.12,
            32.39,
            46.19
           ]
          },
          {
           "hoverinfo": "text",
           "hovertext": [
            "nflId:42471.0<br>displayName:Jon Feliciano<br>Player Speed:2.84 yd/s",
            "nflId:42477.0<br>displayName:Mark Glowinski<br>Player Speed:1.01 yd/s",
            "nflId:44908.0<br>displayName:Kenny Golladay<br>Player Speed:6.72 yd/s",
            "nflId:46071.0<br>displayName:Saquon Barkley<br>Player Speed:5.31 yd/s",
            "nflId:46309.0<br>displayName:Richie James<br>Player Speed:5.72 yd/s",
            "nflId:47789.0<br>displayName:Daniel Jones<br>Player Speed:2.5 yd/s",
            "nflId:48489.0<br>displayName:David Sills<br>Player Speed:7.14 yd/s",
            "nflId:52412.0<br>displayName:Andrew Thomas<br>Player Speed:1.88 yd/s",
            "nflId:54472.0<br>displayName:Evan Neal<br>Player Speed:2.7 yd/s",
            "nflId:54532.0<br>displayName:Joshua Ezeudu<br>Player Speed:1.84 yd/s",
            "nflId:54577.0<br>displayName:Daniel Bellinger<br>Player Speed:4.61 yd/s"
           ],
           "marker": {
            "color": "#0B2265",
            "line": {
             "color": "#A71930",
             "width": 2
            },
            "size": 10
           },
           "mode": "markers",
           "name": "NYG",
           "type": "scatter",
           "x": [
            59.33,
            55.47,
            39.21,
            60.88,
            47.22,
            58.78,
            38.18,
            57.81,
            60.77,
            56.96,
            51.02
           ],
           "y": [
            27.77,
            31.6,
            13.07,
            20.89,
            28.97,
            31.53,
            40.94,
            27.58,
            34.41,
            27.97,
            46.7
           ]
          },
          {
           "hoverinfo": "none",
           "marker": {
            "color": "#CBB67C",
            "line": {
             "color": "#663831",
             "width": 2
            },
            "size": 10
           },
           "mode": "markers",
           "name": "football",
           "type": "scatter",
           "x": [
            60.439998626709
           ],
           "y": [
            31.0499992370605
           ]
          }
         ],
         "name": "69"
        },
        {
         "data": [
          {
           "hoverinfo": "none",
           "mode": "text",
           "showlegend": false,
           "text": [
            "10",
            "20",
            "30",
            "40",
            "50",
            "40",
            "30",
            "20",
            "10"
           ],
           "textfont": {
            "color": "#ffffff",
            "family": "Courier New, monospace",
            "size": 30
           },
           "type": "scatter",
           "x": [
            20,
            30,
            40,
            50,
            60,
            70,
            80,
            90,
            100
           ],
           "y": [
            5,
            5,
            5,
            5,
            5,
            5,
            5,
            5,
            5
           ]
          },
          {
           "hoverinfo": "none",
           "mode": "text",
           "showlegend": false,
           "text": [
            "10",
            "20",
            "30",
            "40",
            "50",
            "40",
            "30",
            "20",
            "10"
           ],
           "textfont": {
            "color": "#ffffff",
            "family": "Courier New, monospace",
            "size": 30
           },
           "type": "scatter",
           "x": [
            20,
            30,
            40,
            50,
            60,
            70,
            80,
            90,
            100
           ],
           "y": [
            48.5,
            48.5,
            48.5,
            48.5,
            48.5,
            48.5,
            48.5,
            48.5,
            48.5
           ]
          },
          {
           "hoverinfo": "none",
           "line": {
            "color": "blue",
            "dash": "dash"
           },
           "showlegend": false,
           "type": "scatter",
           "x": [
            52,
            52
           ],
           "y": [
            0,
            53.5
           ]
          },
          {
           "hoverinfo": "none",
           "line": {
            "color": "yellow",
            "dash": "dash"
           },
           "showlegend": false,
           "type": "scatter",
           "x": [
            44,
            44
           ],
           "y": [
            0,
            53.5
           ]
          },
          {
           "fill": "toself",
           "fillcolor": "#4B92DB",
           "hoverinfo": "skip",
           "line": {
            "color": "white",
            "width": 3
           },
           "mode": "lines",
           "opacity": 1,
           "showlegend": false,
           "type": "scatter",
           "x": [
            0,
            0,
            10,
            10,
            0
           ],
           "y": [
            0,
            53.5,
            53.5,
            0,
            0
           ]
          },
          {
           "fill": "toself",
           "fillcolor": "#0B2265",
           "hoverinfo": "skip",
           "line": {
            "color": "white",
            "width": 3
           },
           "mode": "lines",
           "opacity": 1,
           "showlegend": false,
           "type": "scatter",
           "x": [
            110,
            110,
            120,
            120,
            110
           ],
           "y": [
            0,
            53.5,
            53.5,
            0,
            0
           ]
          },
          {
           "hoverinfo": "text",
           "hovertext": [
            "nflId:42365.0<br>displayName:Bud Dupree<br>Player Speed:5.7 yd/s",
            "nflId:43353.0<br>displayName:Kevin Byard<br>Player Speed:5.98 yd/s",
            "nflId:44869.0<br>displayName:Zach Cunningham<br>Player Speed:1.35 yd/s",
            "nflId:46457.0<br>displayName:Olasunkanmi Adeniyi<br>Player Speed:0.51 yd/s",
            "nflId:47802.0<br>displayName:Jeffery Simmons<br>Player Speed:3.71 yd/s",
            "nflId:47899.0<br>displayName:Amani Hooker<br>Player Speed:4.44 yd/s",
            "nflId:47915.0<br>displayName:Ugochukwu Amadi<br>Player Speed:2.88 yd/s",
            "nflId:47971.0<br>displayName:David Long<br>Player Speed:3.07 yd/s",
            "nflId:52469.0<br>displayName:Kristian Fulton<br>Player Speed:5.1 yd/s",
            "nflId:53073.0<br>displayName:Teair Tart<br>Player Speed:1.3 yd/s",
            "nflId:54500.0<br>displayName:Roger McCreary<br>Player Speed:3.34 yd/s"
           ],
           "marker": {
            "color": "#4B92DB",
            "line": {
             "color": "#0C2340",
             "width": 2
            },
            "size": 10
           },
           "mode": "markers",
           "name": "TEN",
           "type": "scatter",
           "x": [
            56.47,
            34.49,
            45.19,
            61.76,
            59.16,
            36.44,
            48.42,
            46.6,
            37.27,
            54.81,
            43
           ],
           "y": [
            30.63,
            39.76,
            37.21,
            35.89,
            31.32,
            24.07,
            17.71,
            26.54,
            13.52,
            32.52,
            46.44
           ]
          },
          {
           "hoverinfo": "text",
           "hovertext": [
            "nflId:42471.0<br>displayName:Jon Feliciano<br>Player Speed:2.42 yd/s",
            "nflId:42477.0<br>displayName:Mark Glowinski<br>Player Speed:1.27 yd/s",
            "nflId:44908.0<br>displayName:Kenny Golladay<br>Player Speed:6.67 yd/s",
            "nflId:46071.0<br>displayName:Saquon Barkley<br>Player Speed:5.15 yd/s",
            "nflId:46309.0<br>displayName:Richie James<br>Player Speed:5.55 yd/s",
            "nflId:47789.0<br>displayName:Daniel Jones<br>Player Speed:2.49 yd/s",
            "nflId:48489.0<br>displayName:David Sills<br>Player Speed:6.95 yd/s",
            "nflId:52412.0<br>displayName:Andrew Thomas<br>Player Speed:1.98 yd/s",
            "nflId:54472.0<br>displayName:Evan Neal<br>Player Speed:2.43 yd/s",
            "nflId:54532.0<br>displayName:Joshua Ezeudu<br>Player Speed:1.86 yd/s",
            "nflId:54577.0<br>displayName:Daniel Bellinger<br>Player Speed:4.29 yd/s"
           ],
           "marker": {
            "color": "#0B2265",
            "line": {
             "color": "#A71930",
             "width": 2
            },
            "size": 10
           },
           "mode": "markers",
           "name": "NYG",
           "type": "scatter",
           "x": [
            59.53,
            55.49,
            38.69,
            60.92,
            47.02,
            58.82,
            37.56,
            57.93,
            60.97,
            56.97,
            50.96
           ],
           "y": [
            27.78,
            31.72,
            13.5,
            20.38,
            29.5,
            31.77,
            41.27,
            27.75,
            34.55,
            28.16,
            47.14
           ]
          },
          {
           "hoverinfo": "none",
           "marker": {
            "color": "#CBB67C",
            "line": {
             "color": "#663831",
             "width": 2
            },
            "size": 10
           },
           "mode": "markers",
           "name": "football",
           "type": "scatter",
           "x": [
            60.8600006103516
           ],
           "y": [
            31.2199993133545
           ]
          }
         ],
         "name": "70"
        },
        {
         "data": [
          {
           "hoverinfo": "none",
           "mode": "text",
           "showlegend": false,
           "text": [
            "10",
            "20",
            "30",
            "40",
            "50",
            "40",
            "30",
            "20",
            "10"
           ],
           "textfont": {
            "color": "#ffffff",
            "family": "Courier New, monospace",
            "size": 30
           },
           "type": "scatter",
           "x": [
            20,
            30,
            40,
            50,
            60,
            70,
            80,
            90,
            100
           ],
           "y": [
            5,
            5,
            5,
            5,
            5,
            5,
            5,
            5,
            5
           ]
          },
          {
           "hoverinfo": "none",
           "mode": "text",
           "showlegend": false,
           "text": [
            "10",
            "20",
            "30",
            "40",
            "50",
            "40",
            "30",
            "20",
            "10"
           ],
           "textfont": {
            "color": "#ffffff",
            "family": "Courier New, monospace",
            "size": 30
           },
           "type": "scatter",
           "x": [
            20,
            30,
            40,
            50,
            60,
            70,
            80,
            90,
            100
           ],
           "y": [
            48.5,
            48.5,
            48.5,
            48.5,
            48.5,
            48.5,
            48.5,
            48.5,
            48.5
           ]
          },
          {
           "hoverinfo": "none",
           "line": {
            "color": "blue",
            "dash": "dash"
           },
           "showlegend": false,
           "type": "scatter",
           "x": [
            52,
            52
           ],
           "y": [
            0,
            53.5
           ]
          },
          {
           "hoverinfo": "none",
           "line": {
            "color": "yellow",
            "dash": "dash"
           },
           "showlegend": false,
           "type": "scatter",
           "x": [
            44,
            44
           ],
           "y": [
            0,
            53.5
           ]
          },
          {
           "fill": "toself",
           "fillcolor": "#4B92DB",
           "hoverinfo": "skip",
           "line": {
            "color": "white",
            "width": 3
           },
           "mode": "lines",
           "opacity": 1,
           "showlegend": false,
           "type": "scatter",
           "x": [
            0,
            0,
            10,
            10,
            0
           ],
           "y": [
            0,
            53.5,
            53.5,
            0,
            0
           ]
          },
          {
           "fill": "toself",
           "fillcolor": "#0B2265",
           "hoverinfo": "skip",
           "line": {
            "color": "white",
            "width": 3
           },
           "mode": "lines",
           "opacity": 1,
           "showlegend": false,
           "type": "scatter",
           "x": [
            110,
            110,
            120,
            120,
            110
           ],
           "y": [
            0,
            53.5,
            53.5,
            0,
            0
           ]
          },
          {
           "hoverinfo": "text",
           "hovertext": [
            "nflId:42365.0<br>displayName:Bud Dupree<br>Player Speed:5.64 yd/s",
            "nflId:43353.0<br>displayName:Kevin Byard<br>Player Speed:6.13 yd/s",
            "nflId:44869.0<br>displayName:Zach Cunningham<br>Player Speed:1.58 yd/s",
            "nflId:46457.0<br>displayName:Olasunkanmi Adeniyi<br>Player Speed:1.12 yd/s",
            "nflId:47802.0<br>displayName:Jeffery Simmons<br>Player Speed:3.31 yd/s",
            "nflId:47899.0<br>displayName:Amani Hooker<br>Player Speed:4.36 yd/s",
            "nflId:47915.0<br>displayName:Ugochukwu Amadi<br>Player Speed:2.56 yd/s",
            "nflId:47971.0<br>displayName:David Long<br>Player Speed:3.24 yd/s",
            "nflId:52469.0<br>displayName:Kristian Fulton<br>Player Speed:5.21 yd/s",
            "nflId:53073.0<br>displayName:Teair Tart<br>Player Speed:1.3 yd/s",
            "nflId:54500.0<br>displayName:Roger McCreary<br>Player Speed:3.48 yd/s"
           ],
           "marker": {
            "color": "#4B92DB",
            "line": {
             "color": "#0C2340",
             "width": 2
            },
            "size": 10
           },
           "mode": "markers",
           "name": "TEN",
           "type": "scatter",
           "x": [
            56.75,
            34.01,
            45.31,
            61.7,
            59.28,
            36.3,
            48.58,
            46.56,
            37.01,
            54.83,
            42.76
           ],
           "y": [
            31.12,
            40.14,
            37.13,
            35.92,
            31.64,
            24.48,
            17.5,
            26.85,
            13.96,
            32.64,
            46.69
           ]
          },
          {
           "hoverinfo": "text",
           "hovertext": [
            "nflId:42471.0<br>displayName:Jon Feliciano<br>Player Speed:1.97 yd/s",
            "nflId:42477.0<br>displayName:Mark Glowinski<br>Player Speed:1.44 yd/s",
            "nflId:44908.0<br>displayName:Kenny Golladay<br>Player Speed:6.65 yd/s",
            "nflId:46071.0<br>displayName:Saquon Barkley<br>Player Speed:4.98 yd/s",
            "nflId:46309.0<br>displayName:Richie James<br>Player Speed:5.22 yd/s",
            "nflId:47789.0<br>displayName:Daniel Jones<br>Player Speed:2.54 yd/s",
            "nflId:48489.0<br>displayName:David Sills<br>Player Speed:6.86 yd/s",
            "nflId:52412.0<br>displayName:Andrew Thomas<br>Player Speed:2.22 yd/s",
            "nflId:54472.0<br>displayName:Evan Neal<br>Player Speed:2.08 yd/s",
            "nflId:54532.0<br>displayName:Joshua Ezeudu<br>Player Speed:1.82 yd/s",
            "nflId:54577.0<br>displayName:Daniel Bellinger<br>Player Speed:3.97 yd/s"
           ],
           "marker": {
            "color": "#0B2265",
            "line": {
             "color": "#A71930",
             "width": 2
            },
            "size": 10
           },
           "mode": "markers",
           "name": "NYG",
           "type": "scatter",
           "x": [
            59.7,
            55.51,
            38.24,
            60.93,
            46.83,
            58.88,
            36.99,
            58.08,
            61.12,
            56.99,
            50.92
           ],
           "y": [
            27.77,
            31.86,
            13.99,
            19.87,
            29.99,
            32.01,
            41.67,
            27.94,
            34.69,
            28.34,
            47.55
           ]
          },
          {
           "hoverinfo": "none",
           "marker": {
            "color": "#CBB67C",
            "line": {
             "color": "#663831",
             "width": 2
            },
            "size": 10
           },
           "mode": "markers",
           "name": "football",
           "type": "scatter",
           "x": [
            61.2900009155273
           ],
           "y": [
            31.3999996185303
           ]
          }
         ],
         "name": "71"
        },
        {
         "data": [
          {
           "hoverinfo": "none",
           "mode": "text",
           "showlegend": false,
           "text": [
            "10",
            "20",
            "30",
            "40",
            "50",
            "40",
            "30",
            "20",
            "10"
           ],
           "textfont": {
            "color": "#ffffff",
            "family": "Courier New, monospace",
            "size": 30
           },
           "type": "scatter",
           "x": [
            20,
            30,
            40,
            50,
            60,
            70,
            80,
            90,
            100
           ],
           "y": [
            5,
            5,
            5,
            5,
            5,
            5,
            5,
            5,
            5
           ]
          },
          {
           "hoverinfo": "none",
           "mode": "text",
           "showlegend": false,
           "text": [
            "10",
            "20",
            "30",
            "40",
            "50",
            "40",
            "30",
            "20",
            "10"
           ],
           "textfont": {
            "color": "#ffffff",
            "family": "Courier New, monospace",
            "size": 30
           },
           "type": "scatter",
           "x": [
            20,
            30,
            40,
            50,
            60,
            70,
            80,
            90,
            100
           ],
           "y": [
            48.5,
            48.5,
            48.5,
            48.5,
            48.5,
            48.5,
            48.5,
            48.5,
            48.5
           ]
          },
          {
           "hoverinfo": "none",
           "line": {
            "color": "blue",
            "dash": "dash"
           },
           "showlegend": false,
           "type": "scatter",
           "x": [
            52,
            52
           ],
           "y": [
            0,
            53.5
           ]
          },
          {
           "hoverinfo": "none",
           "line": {
            "color": "yellow",
            "dash": "dash"
           },
           "showlegend": false,
           "type": "scatter",
           "x": [
            44,
            44
           ],
           "y": [
            0,
            53.5
           ]
          },
          {
           "fill": "toself",
           "fillcolor": "#4B92DB",
           "hoverinfo": "skip",
           "line": {
            "color": "white",
            "width": 3
           },
           "mode": "lines",
           "opacity": 1,
           "showlegend": false,
           "type": "scatter",
           "x": [
            0,
            0,
            10,
            10,
            0
           ],
           "y": [
            0,
            53.5,
            53.5,
            0,
            0
           ]
          },
          {
           "fill": "toself",
           "fillcolor": "#0B2265",
           "hoverinfo": "skip",
           "line": {
            "color": "white",
            "width": 3
           },
           "mode": "lines",
           "opacity": 1,
           "showlegend": false,
           "type": "scatter",
           "x": [
            110,
            110,
            120,
            120,
            110
           ],
           "y": [
            0,
            53.5,
            53.5,
            0,
            0
           ]
          },
          {
           "hoverinfo": "text",
           "hovertext": [
            "nflId:42365.0<br>displayName:Bud Dupree<br>Player Speed:5.57 yd/s",
            "nflId:43353.0<br>displayName:Kevin Byard<br>Player Speed:6.23 yd/s",
            "nflId:44869.0<br>displayName:Zach Cunningham<br>Player Speed:1.73 yd/s",
            "nflId:46457.0<br>displayName:Olasunkanmi Adeniyi<br>Player Speed:1.58 yd/s",
            "nflId:47802.0<br>displayName:Jeffery Simmons<br>Player Speed:2.8 yd/s",
            "nflId:47899.0<br>displayName:Amani Hooker<br>Player Speed:4.24 yd/s",
            "nflId:47915.0<br>displayName:Ugochukwu Amadi<br>Player Speed:2.35 yd/s",
            "nflId:47971.0<br>displayName:David Long<br>Player Speed:3.3 yd/s",
            "nflId:52469.0<br>displayName:Kristian Fulton<br>Player Speed:5.59 yd/s",
            "nflId:53073.0<br>displayName:Teair Tart<br>Player Speed:1.13 yd/s",
            "nflId:54500.0<br>displayName:Roger McCreary<br>Player Speed:3.58 yd/s"
           ],
           "marker": {
            "color": "#4B92DB",
            "line": {
             "color": "#0C2340",
             "width": 2
            },
            "size": 10
           },
           "mode": "markers",
           "name": "TEN",
           "type": "scatter",
           "x": [
            57.05,
            33.56,
            45.44,
            61.57,
            59.41,
            36.17,
            48.73,
            46.52,
            36.79,
            54.84,
            42.51
           ],
           "y": [
            31.6,
            40.56,
            37.04,
            35.95,
            31.89,
            24.89,
            17.3,
            27.16,
            14.47,
            32.74,
            46.94
           ]
          },
          {
           "hoverinfo": "text",
           "hovertext": [
            "nflId:42471.0<br>displayName:Jon Feliciano<br>Player Speed:1.6 yd/s",
            "nflId:42477.0<br>displayName:Mark Glowinski<br>Player Speed:1.64 yd/s",
            "nflId:44908.0<br>displayName:Kenny Golladay<br>Player Speed:6.7 yd/s",
            "nflId:46071.0<br>displayName:Saquon Barkley<br>Player Speed:4.79 yd/s",
            "nflId:46309.0<br>displayName:Richie James<br>Player Speed:4.94 yd/s",
            "nflId:47789.0<br>displayName:Daniel Jones<br>Player Speed:2.57 yd/s",
            "nflId:48489.0<br>displayName:David Sills<br>Player Speed:6.8 yd/s",
            "nflId:52412.0<br>displayName:Andrew Thomas<br>Player Speed:2.58 yd/s",
            "nflId:54472.0<br>displayName:Evan Neal<br>Player Speed:1.77 yd/s",
            "nflId:54532.0<br>displayName:Joshua Ezeudu<br>Player Speed:1.79 yd/s",
            "nflId:54577.0<br>displayName:Daniel Bellinger<br>Player Speed:3.64 yd/s"
           ],
           "marker": {
            "color": "#0B2265",
            "line": {
             "color": "#A71930",
             "width": 2
            },
            "size": 10
           },
           "mode": "markers",
           "name": "NYG",
           "type": "scatter",
           "x": [
            59.85,
            55.53,
            37.84,
            60.93,
            46.63,
            58.97,
            36.47,
            58.27,
            61.22,
            57,
            50.92
           ],
           "y": [
            27.79,
            32.02,
            14.52,
            19.39,
            30.46,
            32.25,
            42.12,
            28.14,
            34.83,
            28.52,
            47.92
           ]
          },
          {
           "hoverinfo": "none",
           "marker": {
            "color": "#CBB67C",
            "line": {
             "color": "#663831",
             "width": 2
            },
            "size": 10
           },
           "mode": "markers",
           "name": "football",
           "type": "scatter",
           "x": [
            61.7200012207031
           ],
           "y": [
            31.6000003814697
           ]
          }
         ],
         "name": "72"
        },
        {
         "data": [
          {
           "hoverinfo": "none",
           "mode": "text",
           "showlegend": false,
           "text": [
            "10",
            "20",
            "30",
            "40",
            "50",
            "40",
            "30",
            "20",
            "10"
           ],
           "textfont": {
            "color": "#ffffff",
            "family": "Courier New, monospace",
            "size": 30
           },
           "type": "scatter",
           "x": [
            20,
            30,
            40,
            50,
            60,
            70,
            80,
            90,
            100
           ],
           "y": [
            5,
            5,
            5,
            5,
            5,
            5,
            5,
            5,
            5
           ]
          },
          {
           "hoverinfo": "none",
           "mode": "text",
           "showlegend": false,
           "text": [
            "10",
            "20",
            "30",
            "40",
            "50",
            "40",
            "30",
            "20",
            "10"
           ],
           "textfont": {
            "color": "#ffffff",
            "family": "Courier New, monospace",
            "size": 30
           },
           "type": "scatter",
           "x": [
            20,
            30,
            40,
            50,
            60,
            70,
            80,
            90,
            100
           ],
           "y": [
            48.5,
            48.5,
            48.5,
            48.5,
            48.5,
            48.5,
            48.5,
            48.5,
            48.5
           ]
          },
          {
           "hoverinfo": "none",
           "line": {
            "color": "blue",
            "dash": "dash"
           },
           "showlegend": false,
           "type": "scatter",
           "x": [
            52,
            52
           ],
           "y": [
            0,
            53.5
           ]
          },
          {
           "hoverinfo": "none",
           "line": {
            "color": "yellow",
            "dash": "dash"
           },
           "showlegend": false,
           "type": "scatter",
           "x": [
            44,
            44
           ],
           "y": [
            0,
            53.5
           ]
          },
          {
           "fill": "toself",
           "fillcolor": "#4B92DB",
           "hoverinfo": "skip",
           "line": {
            "color": "white",
            "width": 3
           },
           "mode": "lines",
           "opacity": 1,
           "showlegend": false,
           "type": "scatter",
           "x": [
            0,
            0,
            10,
            10,
            0
           ],
           "y": [
            0,
            53.5,
            53.5,
            0,
            0
           ]
          },
          {
           "fill": "toself",
           "fillcolor": "#0B2265",
           "hoverinfo": "skip",
           "line": {
            "color": "white",
            "width": 3
           },
           "mode": "lines",
           "opacity": 1,
           "showlegend": false,
           "type": "scatter",
           "x": [
            110,
            110,
            120,
            120,
            110
           ],
           "y": [
            0,
            53.5,
            53.5,
            0,
            0
           ]
          },
          {
           "hoverinfo": "text",
           "hovertext": [
            "nflId:42365.0<br>displayName:Bud Dupree<br>Player Speed:5.49 yd/s",
            "nflId:43353.0<br>displayName:Kevin Byard<br>Player Speed:6.34 yd/s",
            "nflId:44869.0<br>displayName:Zach Cunningham<br>Player Speed:1.88 yd/s",
            "nflId:46457.0<br>displayName:Olasunkanmi Adeniyi<br>Player Speed:2.06 yd/s",
            "nflId:47802.0<br>displayName:Jeffery Simmons<br>Player Speed:2.35 yd/s",
            "nflId:47899.0<br>displayName:Amani Hooker<br>Player Speed:4.12 yd/s",
            "nflId:47915.0<br>displayName:Ugochukwu Amadi<br>Player Speed:2.11 yd/s",
            "nflId:47971.0<br>displayName:David Long<br>Player Speed:3.22 yd/s",
            "nflId:52469.0<br>displayName:Kristian Fulton<br>Player Speed:5.77 yd/s",
            "nflId:53073.0<br>displayName:Teair Tart<br>Player Speed:1.01 yd/s",
            "nflId:54500.0<br>displayName:Roger McCreary<br>Player Speed:3.67 yd/s"
           ],
           "marker": {
            "color": "#4B92DB",
            "line": {
             "color": "#0C2340",
             "width": 2
            },
            "size": 10
           },
           "mode": "markers",
           "name": "TEN",
           "type": "scatter",
           "x": [
            57.37,
            33.13,
            45.6,
            61.38,
            59.52,
            36.05,
            48.87,
            46.5,
            36.6,
            54.86,
            42.25
           ],
           "y": [
            32.05,
            41.02,
            36.94,
            35.98,
            32.11,
            25.29,
            17.13,
            27.48,
            15,
            32.84,
            47.19
           ]
          },
          {
           "hoverinfo": "text",
           "hovertext": [
            "nflId:42471.0<br>displayName:Jon Feliciano<br>Player Speed:1.09 yd/s",
            "nflId:42477.0<br>displayName:Mark Glowinski<br>Player Speed:1.76 yd/s",
            "nflId:44908.0<br>displayName:Kenny Golladay<br>Player Speed:6.73 yd/s",
            "nflId:46071.0<br>displayName:Saquon Barkley<br>Player Speed:4.56 yd/s",
            "nflId:46309.0<br>displayName:Richie James<br>Player Speed:4.61 yd/s",
            "nflId:47789.0<br>displayName:Daniel Jones<br>Player Speed:2.59 yd/s",
            "nflId:48489.0<br>displayName:David Sills<br>Player Speed:6.79 yd/s",
            "nflId:52412.0<br>displayName:Andrew Thomas<br>Player Speed:2.89 yd/s",
            "nflId:54472.0<br>displayName:Evan Neal<br>Player Speed:1.58 yd/s",
            "nflId:54532.0<br>displayName:Joshua Ezeudu<br>Player Speed:1.8 yd/s",
            "nflId:54577.0<br>displayName:Daniel Bellinger<br>Player Speed:3.32 yd/s"
           ],
           "marker": {
            "color": "#0B2265",
            "line": {
             "color": "#A71930",
             "width": 2
            },
            "size": 10
           },
           "mode": "markers",
           "name": "NYG",
           "type": "scatter",
           "x": [
            59.93,
            55.55,
            37.5,
            60.89,
            46.45,
            59.09,
            36,
            58.47,
            61.28,
            57.04,
            50.95
           ],
           "y": [
            27.79,
            32.2,
            15.09,
            18.93,
            30.9,
            32.48,
            42.62,
            28.34,
            34.99,
            28.7,
            48.27
           ]
          },
          {
           "hoverinfo": "none",
           "marker": {
            "color": "#CBB67C",
            "line": {
             "color": "#663831",
             "width": 2
            },
            "size": 10
           },
           "mode": "markers",
           "name": "football",
           "type": "scatter",
           "x": [
            62.1399993896484
           ],
           "y": [
            31.8099994659424
           ]
          }
         ],
         "name": "73"
        },
        {
         "data": [
          {
           "hoverinfo": "none",
           "mode": "text",
           "showlegend": false,
           "text": [
            "10",
            "20",
            "30",
            "40",
            "50",
            "40",
            "30",
            "20",
            "10"
           ],
           "textfont": {
            "color": "#ffffff",
            "family": "Courier New, monospace",
            "size": 30
           },
           "type": "scatter",
           "x": [
            20,
            30,
            40,
            50,
            60,
            70,
            80,
            90,
            100
           ],
           "y": [
            5,
            5,
            5,
            5,
            5,
            5,
            5,
            5,
            5
           ]
          },
          {
           "hoverinfo": "none",
           "mode": "text",
           "showlegend": false,
           "text": [
            "10",
            "20",
            "30",
            "40",
            "50",
            "40",
            "30",
            "20",
            "10"
           ],
           "textfont": {
            "color": "#ffffff",
            "family": "Courier New, monospace",
            "size": 30
           },
           "type": "scatter",
           "x": [
            20,
            30,
            40,
            50,
            60,
            70,
            80,
            90,
            100
           ],
           "y": [
            48.5,
            48.5,
            48.5,
            48.5,
            48.5,
            48.5,
            48.5,
            48.5,
            48.5
           ]
          },
          {
           "hoverinfo": "none",
           "line": {
            "color": "blue",
            "dash": "dash"
           },
           "showlegend": false,
           "type": "scatter",
           "x": [
            52,
            52
           ],
           "y": [
            0,
            53.5
           ]
          },
          {
           "hoverinfo": "none",
           "line": {
            "color": "yellow",
            "dash": "dash"
           },
           "showlegend": false,
           "type": "scatter",
           "x": [
            44,
            44
           ],
           "y": [
            0,
            53.5
           ]
          },
          {
           "fill": "toself",
           "fillcolor": "#4B92DB",
           "hoverinfo": "skip",
           "line": {
            "color": "white",
            "width": 3
           },
           "mode": "lines",
           "opacity": 1,
           "showlegend": false,
           "type": "scatter",
           "x": [
            0,
            0,
            10,
            10,
            0
           ],
           "y": [
            0,
            53.5,
            53.5,
            0,
            0
           ]
          },
          {
           "fill": "toself",
           "fillcolor": "#0B2265",
           "hoverinfo": "skip",
           "line": {
            "color": "white",
            "width": 3
           },
           "mode": "lines",
           "opacity": 1,
           "showlegend": false,
           "type": "scatter",
           "x": [
            110,
            110,
            120,
            120,
            110
           ],
           "y": [
            0,
            53.5,
            53.5,
            0,
            0
           ]
          },
          {
           "hoverinfo": "text",
           "hovertext": [
            "nflId:42365.0<br>displayName:Bud Dupree<br>Player Speed:5.37 yd/s",
            "nflId:43353.0<br>displayName:Kevin Byard<br>Player Speed:6.45 yd/s",
            "nflId:44869.0<br>displayName:Zach Cunningham<br>Player Speed:2.02 yd/s",
            "nflId:46457.0<br>displayName:Olasunkanmi Adeniyi<br>Player Speed:2.48 yd/s",
            "nflId:47802.0<br>displayName:Jeffery Simmons<br>Player Speed:1.9 yd/s",
            "nflId:47899.0<br>displayName:Amani Hooker<br>Player Speed:3.9 yd/s",
            "nflId:47915.0<br>displayName:Ugochukwu Amadi<br>Player Speed:1.85 yd/s",
            "nflId:47971.0<br>displayName:David Long<br>Player Speed:3.1 yd/s",
            "nflId:52469.0<br>displayName:Kristian Fulton<br>Player Speed:5.99 yd/s",
            "nflId:53073.0<br>displayName:Teair Tart<br>Player Speed:0.86 yd/s",
            "nflId:54500.0<br>displayName:Roger McCreary<br>Player Speed:3.68 yd/s"
           ],
           "marker": {
            "color": "#4B92DB",
            "line": {
             "color": "#0C2340",
             "width": 2
            },
            "size": 10
           },
           "mode": "markers",
           "name": "TEN",
           "type": "scatter",
           "x": [
            57.71,
            32.73,
            45.76,
            61.15,
            59.62,
            35.97,
            49.01,
            46.48,
            36.44,
            54.86,
            41.98
           ],
           "y": [
            32.47,
            41.52,
            36.83,
            35.99,
            32.28,
            25.68,
            16.99,
            27.79,
            15.57,
            32.92,
            47.44
           ]
          },
          {
           "hoverinfo": "text",
           "hovertext": [
            "nflId:42471.0<br>displayName:Jon Feliciano<br>Player Speed:0.69 yd/s",
            "nflId:42477.0<br>displayName:Mark Glowinski<br>Player Speed:1.75 yd/s",
            "nflId:44908.0<br>displayName:Kenny Golladay<br>Player Speed:6.74 yd/s",
            "nflId:46071.0<br>displayName:Saquon Barkley<br>Player Speed:4.31 yd/s",
            "nflId:46309.0<br>displayName:Richie James<br>Player Speed:4.13 yd/s",
            "nflId:47789.0<br>displayName:Daniel Jones<br>Player Speed:2.5 yd/s",
            "nflId:48489.0<br>displayName:David Sills<br>Player Speed:6.79 yd/s",
            "nflId:52412.0<br>displayName:Andrew Thomas<br>Player Speed:3.28 yd/s",
            "nflId:54472.0<br>displayName:Evan Neal<br>Player Speed:1.44 yd/s",
            "nflId:54532.0<br>displayName:Joshua Ezeudu<br>Player Speed:1.94 yd/s",
            "nflId:54577.0<br>displayName:Daniel Bellinger<br>Player Speed:3.04 yd/s"
           ],
           "marker": {
            "color": "#0B2265",
            "line": {
             "color": "#A71930",
             "width": 2
            },
            "size": 10
           },
           "mode": "markers",
           "name": "NYG",
           "type": "scatter",
           "x": [
            59.99,
            55.55,
            37.22,
            60.85,
            46.3,
            59.21,
            35.59,
            58.72,
            61.3,
            57.11,
            51.01
           ],
           "y": [
            27.76,
            32.37,
            15.7,
            18.49,
            31.3,
            32.69,
            43.16,
            28.56,
            35.13,
            28.89,
            48.58
           ]
          },
          {
           "hoverinfo": "none",
           "marker": {
            "color": "#CBB67C",
            "line": {
             "color": "#663831",
             "width": 2
            },
            "size": 10
           },
           "mode": "markers",
           "name": "football",
           "type": "scatter",
           "x": [
            62.5400009155273
           ],
           "y": [
            32.0200004577637
           ]
          }
         ],
         "name": "74"
        },
        {
         "data": [
          {
           "hoverinfo": "none",
           "mode": "text",
           "showlegend": false,
           "text": [
            "10",
            "20",
            "30",
            "40",
            "50",
            "40",
            "30",
            "20",
            "10"
           ],
           "textfont": {
            "color": "#ffffff",
            "family": "Courier New, monospace",
            "size": 30
           },
           "type": "scatter",
           "x": [
            20,
            30,
            40,
            50,
            60,
            70,
            80,
            90,
            100
           ],
           "y": [
            5,
            5,
            5,
            5,
            5,
            5,
            5,
            5,
            5
           ]
          },
          {
           "hoverinfo": "none",
           "mode": "text",
           "showlegend": false,
           "text": [
            "10",
            "20",
            "30",
            "40",
            "50",
            "40",
            "30",
            "20",
            "10"
           ],
           "textfont": {
            "color": "#ffffff",
            "family": "Courier New, monospace",
            "size": 30
           },
           "type": "scatter",
           "x": [
            20,
            30,
            40,
            50,
            60,
            70,
            80,
            90,
            100
           ],
           "y": [
            48.5,
            48.5,
            48.5,
            48.5,
            48.5,
            48.5,
            48.5,
            48.5,
            48.5
           ]
          },
          {
           "hoverinfo": "none",
           "line": {
            "color": "blue",
            "dash": "dash"
           },
           "showlegend": false,
           "type": "scatter",
           "x": [
            52,
            52
           ],
           "y": [
            0,
            53.5
           ]
          },
          {
           "hoverinfo": "none",
           "line": {
            "color": "yellow",
            "dash": "dash"
           },
           "showlegend": false,
           "type": "scatter",
           "x": [
            44,
            44
           ],
           "y": [
            0,
            53.5
           ]
          },
          {
           "fill": "toself",
           "fillcolor": "#4B92DB",
           "hoverinfo": "skip",
           "line": {
            "color": "white",
            "width": 3
           },
           "mode": "lines",
           "opacity": 1,
           "showlegend": false,
           "type": "scatter",
           "x": [
            0,
            0,
            10,
            10,
            0
           ],
           "y": [
            0,
            53.5,
            53.5,
            0,
            0
           ]
          },
          {
           "fill": "toself",
           "fillcolor": "#0B2265",
           "hoverinfo": "skip",
           "line": {
            "color": "white",
            "width": 3
           },
           "mode": "lines",
           "opacity": 1,
           "showlegend": false,
           "type": "scatter",
           "x": [
            110,
            110,
            120,
            120,
            110
           ],
           "y": [
            0,
            53.5,
            53.5,
            0,
            0
           ]
          },
          {
           "hoverinfo": "text",
           "hovertext": [
            "nflId:42365.0<br>displayName:Bud Dupree<br>Player Speed:5.29 yd/s",
            "nflId:43353.0<br>displayName:Kevin Byard<br>Player Speed:6.53 yd/s",
            "nflId:44869.0<br>displayName:Zach Cunningham<br>Player Speed:2.17 yd/s",
            "nflId:46457.0<br>displayName:Olasunkanmi Adeniyi<br>Player Speed:2.84 yd/s",
            "nflId:47802.0<br>displayName:Jeffery Simmons<br>Player Speed:1.5 yd/s",
            "nflId:47899.0<br>displayName:Amani Hooker<br>Player Speed:3.59 yd/s",
            "nflId:47915.0<br>displayName:Ugochukwu Amadi<br>Player Speed:1.71 yd/s",
            "nflId:47971.0<br>displayName:David Long<br>Player Speed:2.91 yd/s",
            "nflId:52469.0<br>displayName:Kristian Fulton<br>Player Speed:6.16 yd/s",
            "nflId:53073.0<br>displayName:Teair Tart<br>Player Speed:0.66 yd/s",
            "nflId:54500.0<br>displayName:Roger McCreary<br>Player Speed:3.5 yd/s"
           ],
           "marker": {
            "color": "#4B92DB",
            "line": {
             "color": "#0C2340",
             "width": 2
            },
            "size": 10
           },
           "mode": "markers",
           "name": "TEN",
           "type": "scatter",
           "x": [
            58.08,
            32.36,
            45.95,
            60.88,
            59.7,
            35.92,
            49.16,
            46.5,
            36.31,
            54.86,
            41.72
           ],
           "y": [
            32.87,
            42.05,
            36.72,
            36.01,
            32.42,
            26.05,
            16.88,
            28.09,
            16.16,
            32.99,
            47.67
           ]
          },
          {
           "hoverinfo": "text",
           "hovertext": [
            "nflId:42471.0<br>displayName:Jon Feliciano<br>Player Speed:0.62 yd/s",
            "nflId:42477.0<br>displayName:Mark Glowinski<br>Player Speed:1.71 yd/s",
            "nflId:44908.0<br>displayName:Kenny Golladay<br>Player Speed:6.67 yd/s",
            "nflId:46071.0<br>displayName:Saquon Barkley<br>Player Speed:3.96 yd/s",
            "nflId:46309.0<br>displayName:Richie James<br>Player Speed:3.53 yd/s",
            "nflId:47789.0<br>displayName:Daniel Jones<br>Player Speed:2.27 yd/s",
            "nflId:48489.0<br>displayName:David Sills<br>Player Speed:6.76 yd/s",
            "nflId:52412.0<br>displayName:Andrew Thomas<br>Player Speed:3.77 yd/s",
            "nflId:54472.0<br>displayName:Evan Neal<br>Player Speed:1.35 yd/s",
            "nflId:54532.0<br>displayName:Joshua Ezeudu<br>Player Speed:2.07 yd/s",
            "nflId:54577.0<br>displayName:Daniel Bellinger<br>Player Speed:2.81 yd/s"
           ],
           "marker": {
            "color": "#0B2265",
            "line": {
             "color": "#A71930",
             "width": 2
            },
            "size": 10
           },
           "mode": "markers",
           "name": "NYG",
           "type": "scatter",
           "x": [
            60.03,
            55.55,
            37.01,
            60.8,
            46.18,
            59.33,
            35.23,
            59,
            61.28,
            57.2,
            51.14
           ],
           "y": [
            27.7,
            32.54,
            16.33,
            18.08,
            31.66,
            32.86,
            43.73,
            28.81,
            35.27,
            29.07,
            48.83
           ]
          },
          {
           "hoverinfo": "none",
           "marker": {
            "color": "#CBB67C",
            "line": {
             "color": "#663831",
             "width": 2
            },
            "size": 10
           },
           "mode": "markers",
           "name": "football",
           "type": "scatter",
           "x": [
            62.9300003051758
           ],
           "y": [
            32.2400016784668
           ]
          }
         ],
         "name": "75"
        },
        {
         "data": [
          {
           "hoverinfo": "none",
           "mode": "text",
           "showlegend": false,
           "text": [
            "10",
            "20",
            "30",
            "40",
            "50",
            "40",
            "30",
            "20",
            "10"
           ],
           "textfont": {
            "color": "#ffffff",
            "family": "Courier New, monospace",
            "size": 30
           },
           "type": "scatter",
           "x": [
            20,
            30,
            40,
            50,
            60,
            70,
            80,
            90,
            100
           ],
           "y": [
            5,
            5,
            5,
            5,
            5,
            5,
            5,
            5,
            5
           ]
          },
          {
           "hoverinfo": "none",
           "mode": "text",
           "showlegend": false,
           "text": [
            "10",
            "20",
            "30",
            "40",
            "50",
            "40",
            "30",
            "20",
            "10"
           ],
           "textfont": {
            "color": "#ffffff",
            "family": "Courier New, monospace",
            "size": 30
           },
           "type": "scatter",
           "x": [
            20,
            30,
            40,
            50,
            60,
            70,
            80,
            90,
            100
           ],
           "y": [
            48.5,
            48.5,
            48.5,
            48.5,
            48.5,
            48.5,
            48.5,
            48.5,
            48.5
           ]
          },
          {
           "hoverinfo": "none",
           "line": {
            "color": "blue",
            "dash": "dash"
           },
           "showlegend": false,
           "type": "scatter",
           "x": [
            52,
            52
           ],
           "y": [
            0,
            53.5
           ]
          },
          {
           "hoverinfo": "none",
           "line": {
            "color": "yellow",
            "dash": "dash"
           },
           "showlegend": false,
           "type": "scatter",
           "x": [
            44,
            44
           ],
           "y": [
            0,
            53.5
           ]
          },
          {
           "fill": "toself",
           "fillcolor": "#4B92DB",
           "hoverinfo": "skip",
           "line": {
            "color": "white",
            "width": 3
           },
           "mode": "lines",
           "opacity": 1,
           "showlegend": false,
           "type": "scatter",
           "x": [
            0,
            0,
            10,
            10,
            0
           ],
           "y": [
            0,
            53.5,
            53.5,
            0,
            0
           ]
          },
          {
           "fill": "toself",
           "fillcolor": "#0B2265",
           "hoverinfo": "skip",
           "line": {
            "color": "white",
            "width": 3
           },
           "mode": "lines",
           "opacity": 1,
           "showlegend": false,
           "type": "scatter",
           "x": [
            110,
            110,
            120,
            120,
            110
           ],
           "y": [
            0,
            53.5,
            53.5,
            0,
            0
           ]
          },
          {
           "hoverinfo": "text",
           "hovertext": [
            "nflId:42365.0<br>displayName:Bud Dupree<br>Player Speed:5.3 yd/s",
            "nflId:43353.0<br>displayName:Kevin Byard<br>Player Speed:6.54 yd/s",
            "nflId:44869.0<br>displayName:Zach Cunningham<br>Player Speed:2.32 yd/s",
            "nflId:46457.0<br>displayName:Olasunkanmi Adeniyi<br>Player Speed:2.97 yd/s",
            "nflId:47802.0<br>displayName:Jeffery Simmons<br>Player Speed:1.06 yd/s",
            "nflId:47899.0<br>displayName:Amani Hooker<br>Player Speed:3.38 yd/s",
            "nflId:47915.0<br>displayName:Ugochukwu Amadi<br>Player Speed:1.65 yd/s",
            "nflId:47971.0<br>displayName:David Long<br>Player Speed:2.64 yd/s",
            "nflId:52469.0<br>displayName:Kristian Fulton<br>Player Speed:6.33 yd/s",
            "nflId:53073.0<br>displayName:Teair Tart<br>Player Speed:0.41 yd/s",
            "nflId:54500.0<br>displayName:Roger McCreary<br>Player Speed:3.23 yd/s"
           ],
           "marker": {
            "color": "#4B92DB",
            "line": {
             "color": "#0C2340",
             "width": 2
            },
            "size": 10
           },
           "mode": "markers",
           "name": "TEN",
           "type": "scatter",
           "x": [
            58.47,
            32.03,
            46.15,
            60.59,
            59.76,
            35.92,
            49.32,
            46.57,
            36.22,
            54.85,
            41.47
           ],
           "y": [
            33.23,
            42.62,
            36.61,
            36.02,
            32.5,
            26.39,
            16.82,
            28.34,
            16.78,
            33.03,
            47.89
           ]
          },
          {
           "hoverinfo": "text",
           "hovertext": [
            "nflId:42471.0<br>displayName:Jon Feliciano<br>Player Speed:0.83 yd/s",
            "nflId:42477.0<br>displayName:Mark Glowinski<br>Player Speed:1.58 yd/s",
            "nflId:44908.0<br>displayName:Kenny Golladay<br>Player Speed:6.65 yd/s",
            "nflId:46071.0<br>displayName:Saquon Barkley<br>Player Speed:3.54 yd/s",
            "nflId:46309.0<br>displayName:Richie James<br>Player Speed:3.02 yd/s",
            "nflId:47789.0<br>displayName:Daniel Jones<br>Player Speed:1.96 yd/s",
            "nflId:48489.0<br>displayName:David Sills<br>Player Speed:6.69 yd/s",
            "nflId:52412.0<br>displayName:Andrew Thomas<br>Player Speed:4.25 yd/s",
            "nflId:54472.0<br>displayName:Evan Neal<br>Player Speed:1.33 yd/s",
            "nflId:54532.0<br>displayName:Joshua Ezeudu<br>Player Speed:2.29 yd/s",
            "nflId:54577.0<br>displayName:Daniel Bellinger<br>Player Speed:2.74 yd/s"
           ],
           "marker": {
            "color": "#0B2265",
            "line": {
             "color": "#A71930",
             "width": 2
            },
            "size": 10
           },
           "mode": "markers",
           "name": "NYG",
           "type": "scatter",
           "x": [
            60.03,
            55.53,
            36.85,
            60.76,
            46.1,
            59.45,
            34.93,
            59.32,
            61.23,
            57.34,
            51.29
           ],
           "y": [
            27.62,
            32.7,
            16.98,
            17.72,
            31.97,
            32.99,
            44.33,
            29.09,
            35.39,
            29.25,
            49.06
           ]
          },
          {
           "hoverinfo": "none",
           "marker": {
            "color": "#CBB67C",
            "line": {
             "color": "#663831",
             "width": 2
            },
            "size": 10
           },
           "mode": "markers",
           "name": "football",
           "type": "scatter",
           "x": [
            63.2799987792969
           ],
           "y": [
            32.4700012207031
           ]
          }
         ],
         "name": "76"
        },
        {
         "data": [
          {
           "hoverinfo": "none",
           "mode": "text",
           "showlegend": false,
           "text": [
            "10",
            "20",
            "30",
            "40",
            "50",
            "40",
            "30",
            "20",
            "10"
           ],
           "textfont": {
            "color": "#ffffff",
            "family": "Courier New, monospace",
            "size": 30
           },
           "type": "scatter",
           "x": [
            20,
            30,
            40,
            50,
            60,
            70,
            80,
            90,
            100
           ],
           "y": [
            5,
            5,
            5,
            5,
            5,
            5,
            5,
            5,
            5
           ]
          },
          {
           "hoverinfo": "none",
           "mode": "text",
           "showlegend": false,
           "text": [
            "10",
            "20",
            "30",
            "40",
            "50",
            "40",
            "30",
            "20",
            "10"
           ],
           "textfont": {
            "color": "#ffffff",
            "family": "Courier New, monospace",
            "size": 30
           },
           "type": "scatter",
           "x": [
            20,
            30,
            40,
            50,
            60,
            70,
            80,
            90,
            100
           ],
           "y": [
            48.5,
            48.5,
            48.5,
            48.5,
            48.5,
            48.5,
            48.5,
            48.5,
            48.5
           ]
          },
          {
           "hoverinfo": "none",
           "line": {
            "color": "blue",
            "dash": "dash"
           },
           "showlegend": false,
           "type": "scatter",
           "x": [
            52,
            52
           ],
           "y": [
            0,
            53.5
           ]
          },
          {
           "hoverinfo": "none",
           "line": {
            "color": "yellow",
            "dash": "dash"
           },
           "showlegend": false,
           "type": "scatter",
           "x": [
            44,
            44
           ],
           "y": [
            0,
            53.5
           ]
          },
          {
           "fill": "toself",
           "fillcolor": "#4B92DB",
           "hoverinfo": "skip",
           "line": {
            "color": "white",
            "width": 3
           },
           "mode": "lines",
           "opacity": 1,
           "showlegend": false,
           "type": "scatter",
           "x": [
            0,
            0,
            10,
            10,
            0
           ],
           "y": [
            0,
            53.5,
            53.5,
            0,
            0
           ]
          },
          {
           "fill": "toself",
           "fillcolor": "#0B2265",
           "hoverinfo": "skip",
           "line": {
            "color": "white",
            "width": 3
           },
           "mode": "lines",
           "opacity": 1,
           "showlegend": false,
           "type": "scatter",
           "x": [
            110,
            110,
            120,
            120,
            110
           ],
           "y": [
            0,
            53.5,
            53.5,
            0,
            0
           ]
          },
          {
           "hoverinfo": "text",
           "hovertext": [
            "nflId:42365.0<br>displayName:Bud Dupree<br>Player Speed:5.37 yd/s",
            "nflId:43353.0<br>displayName:Kevin Byard<br>Player Speed:6.58 yd/s",
            "nflId:44869.0<br>displayName:Zach Cunningham<br>Player Speed:2.59 yd/s",
            "nflId:46457.0<br>displayName:Olasunkanmi Adeniyi<br>Player Speed:3.06 yd/s",
            "nflId:47802.0<br>displayName:Jeffery Simmons<br>Player Speed:0.68 yd/s",
            "nflId:47899.0<br>displayName:Amani Hooker<br>Player Speed:3.25 yd/s",
            "nflId:47915.0<br>displayName:Ugochukwu Amadi<br>Player Speed:1.71 yd/s",
            "nflId:47971.0<br>displayName:David Long<br>Player Speed:2.5 yd/s",
            "nflId:52469.0<br>displayName:Kristian Fulton<br>Player Speed:6.43 yd/s",
            "nflId:53073.0<br>displayName:Teair Tart<br>Player Speed:0.2 yd/s",
            "nflId:54500.0<br>displayName:Roger McCreary<br>Player Speed:3.01 yd/s"
           ],
           "marker": {
            "color": "#4B92DB",
            "line": {
             "color": "#0C2340",
             "width": 2
            },
            "size": 10
           },
           "mode": "markers",
           "name": "TEN",
           "type": "scatter",
           "x": [
            58.9,
            31.77,
            46.38,
            60.3,
            59.81,
            35.96,
            49.49,
            46.67,
            36.15,
            54.84,
            41.24
           ],
           "y": [
            33.55,
            43.23,
            36.5,
            36.04,
            32.56,
            26.72,
            16.78,
            28.58,
            17.41,
            33.06,
            48.1
           ]
          },
          {
           "hoverinfo": "text",
           "hovertext": [
            "nflId:42471.0<br>displayName:Jon Feliciano<br>Player Speed:1.04 yd/s",
            "nflId:42477.0<br>displayName:Mark Glowinski<br>Player Speed:1.39 yd/s",
            "nflId:44908.0<br>displayName:Kenny Golladay<br>Player Speed:6.58 yd/s",
            "nflId:46071.0<br>displayName:Saquon Barkley<br>Player Speed:2.97 yd/s",
            "nflId:46309.0<br>displayName:Richie James<br>Player Speed:2.54 yd/s",
            "nflId:47789.0<br>displayName:Daniel Jones<br>Player Speed:1.48 yd/s",
            "nflId:48489.0<br>displayName:David Sills<br>Player Speed:6.65 yd/s",
            "nflId:52412.0<br>displayName:Andrew Thomas<br>Player Speed:4.69 yd/s",
            "nflId:54472.0<br>displayName:Evan Neal<br>Player Speed:1.35 yd/s",
            "nflId:54532.0<br>displayName:Joshua Ezeudu<br>Player Speed:2.53 yd/s",
            "nflId:54577.0<br>displayName:Daniel Bellinger<br>Player Speed:2.83 yd/s"
           ],
           "marker": {
            "color": "#0B2265",
            "line": {
             "color": "#A71930",
             "width": 2
            },
            "size": 10
           },
           "mode": "markers",
           "name": "NYG",
           "type": "scatter",
           "x": [
            60,
            55.5,
            36.74,
            60.72,
            46.07,
            59.53,
            34.66,
            59.67,
            61.14,
            57.52,
            51.51
           ],
           "y": [
            27.53,
            32.83,
            17.63,
            17.4,
            32.24,
            33.08,
            44.94,
            29.39,
            35.49,
            29.43,
            49.26
           ]
          },
          {
           "hoverinfo": "none",
           "marker": {
            "color": "#CBB67C",
            "line": {
             "color": "#663831",
             "width": 2
            },
            "size": 10
           },
           "mode": "markers",
           "name": "football",
           "type": "scatter",
           "x": [
            63.5900001525879
           ],
           "y": [
            32.7200012207031
           ]
          }
         ],
         "name": "77"
        },
        {
         "data": [
          {
           "hoverinfo": "none",
           "mode": "text",
           "showlegend": false,
           "text": [
            "10",
            "20",
            "30",
            "40",
            "50",
            "40",
            "30",
            "20",
            "10"
           ],
           "textfont": {
            "color": "#ffffff",
            "family": "Courier New, monospace",
            "size": 30
           },
           "type": "scatter",
           "x": [
            20,
            30,
            40,
            50,
            60,
            70,
            80,
            90,
            100
           ],
           "y": [
            5,
            5,
            5,
            5,
            5,
            5,
            5,
            5,
            5
           ]
          },
          {
           "hoverinfo": "none",
           "mode": "text",
           "showlegend": false,
           "text": [
            "10",
            "20",
            "30",
            "40",
            "50",
            "40",
            "30",
            "20",
            "10"
           ],
           "textfont": {
            "color": "#ffffff",
            "family": "Courier New, monospace",
            "size": 30
           },
           "type": "scatter",
           "x": [
            20,
            30,
            40,
            50,
            60,
            70,
            80,
            90,
            100
           ],
           "y": [
            48.5,
            48.5,
            48.5,
            48.5,
            48.5,
            48.5,
            48.5,
            48.5,
            48.5
           ]
          },
          {
           "hoverinfo": "none",
           "line": {
            "color": "blue",
            "dash": "dash"
           },
           "showlegend": false,
           "type": "scatter",
           "x": [
            52,
            52
           ],
           "y": [
            0,
            53.5
           ]
          },
          {
           "hoverinfo": "none",
           "line": {
            "color": "yellow",
            "dash": "dash"
           },
           "showlegend": false,
           "type": "scatter",
           "x": [
            44,
            44
           ],
           "y": [
            0,
            53.5
           ]
          },
          {
           "fill": "toself",
           "fillcolor": "#4B92DB",
           "hoverinfo": "skip",
           "line": {
            "color": "white",
            "width": 3
           },
           "mode": "lines",
           "opacity": 1,
           "showlegend": false,
           "type": "scatter",
           "x": [
            0,
            0,
            10,
            10,
            0
           ],
           "y": [
            0,
            53.5,
            53.5,
            0,
            0
           ]
          },
          {
           "fill": "toself",
           "fillcolor": "#0B2265",
           "hoverinfo": "skip",
           "line": {
            "color": "white",
            "width": 3
           },
           "mode": "lines",
           "opacity": 1,
           "showlegend": false,
           "type": "scatter",
           "x": [
            110,
            110,
            120,
            120,
            110
           ],
           "y": [
            0,
            53.5,
            53.5,
            0,
            0
           ]
          },
          {
           "hoverinfo": "text",
           "hovertext": [
            "nflId:42365.0<br>displayName:Bud Dupree<br>Player Speed:5.42 yd/s",
            "nflId:43353.0<br>displayName:Kevin Byard<br>Player Speed:6.58 yd/s",
            "nflId:44869.0<br>displayName:Zach Cunningham<br>Player Speed:2.84 yd/s",
            "nflId:46457.0<br>displayName:Olasunkanmi Adeniyi<br>Player Speed:3.01 yd/s",
            "nflId:47802.0<br>displayName:Jeffery Simmons<br>Player Speed:0.37 yd/s",
            "nflId:47899.0<br>displayName:Amani Hooker<br>Player Speed:3.15 yd/s",
            "nflId:47915.0<br>displayName:Ugochukwu Amadi<br>Player Speed:1.95 yd/s",
            "nflId:47971.0<br>displayName:David Long<br>Player Speed:2.44 yd/s",
            "nflId:52469.0<br>displayName:Kristian Fulton<br>Player Speed:6.54 yd/s",
            "nflId:53073.0<br>displayName:Teair Tart<br>Player Speed:0.18 yd/s",
            "nflId:54500.0<br>displayName:Roger McCreary<br>Player Speed:2.65 yd/s"
           ],
           "marker": {
            "color": "#4B92DB",
            "line": {
             "color": "#0C2340",
             "width": 2
            },
            "size": 10
           },
           "mode": "markers",
           "name": "TEN",
           "type": "scatter",
           "x": [
            59.35,
            31.55,
            46.64,
            59.99,
            59.84,
            36.06,
            49.68,
            46.81,
            36.1,
            54.83,
            41.05
           ],
           "y": [
            33.85,
            43.85,
            36.38,
            36.06,
            32.59,
            27.03,
            16.77,
            28.78,
            18.06,
            33.06,
            48.29
           ]
          },
          {
           "hoverinfo": "text",
           "hovertext": [
            "nflId:42471.0<br>displayName:Jon Feliciano<br>Player Speed:1.18 yd/s",
            "nflId:42477.0<br>displayName:Mark Glowinski<br>Player Speed:1.18 yd/s",
            "nflId:44908.0<br>displayName:Kenny Golladay<br>Player Speed:6.5 yd/s",
            "nflId:46071.0<br>displayName:Saquon Barkley<br>Player Speed:2.51 yd/s",
            "nflId:46309.0<br>displayName:Richie James<br>Player Speed:2.2 yd/s",
            "nflId:47789.0<br>displayName:Daniel Jones<br>Player Speed:1.22 yd/s",
            "nflId:48489.0<br>displayName:David Sills<br>Player Speed:6.55 yd/s",
            "nflId:52412.0<br>displayName:Andrew Thomas<br>Player Speed:5.01 yd/s",
            "nflId:54472.0<br>displayName:Evan Neal<br>Player Speed:1.39 yd/s",
            "nflId:54532.0<br>displayName:Joshua Ezeudu<br>Player Speed:2.85 yd/s",
            "nflId:54577.0<br>displayName:Daniel Bellinger<br>Player Speed:2.97 yd/s"
           ],
           "marker": {
            "color": "#0B2265",
            "line": {
             "color": "#A71930",
             "width": 2
            },
            "size": 10
           },
           "mode": "markers",
           "name": "NYG",
           "type": "scatter",
           "x": [
            59.97,
            55.45,
            36.69,
            60.71,
            46.12,
            59.63,
            34.45,
            60.05,
            61.04,
            57.74,
            51.76
           ],
           "y": [
            27.42,
            32.94,
            18.28,
            17.13,
            32.47,
            33.17,
            45.56,
            29.72,
            35.58,
            29.61,
            49.4
           ]
          },
          {
           "hoverinfo": "none",
           "marker": {
            "color": "#CBB67C",
            "line": {
             "color": "#663831",
             "width": 2
            },
            "size": 10
           },
           "mode": "markers",
           "name": "football",
           "type": "scatter",
           "x": [
            63.8699989318848
           ],
           "y": [
            32.9599990844727
           ]
          }
         ],
         "name": "78"
        },
        {
         "data": [
          {
           "hoverinfo": "none",
           "mode": "text",
           "showlegend": false,
           "text": [
            "10",
            "20",
            "30",
            "40",
            "50",
            "40",
            "30",
            "20",
            "10"
           ],
           "textfont": {
            "color": "#ffffff",
            "family": "Courier New, monospace",
            "size": 30
           },
           "type": "scatter",
           "x": [
            20,
            30,
            40,
            50,
            60,
            70,
            80,
            90,
            100
           ],
           "y": [
            5,
            5,
            5,
            5,
            5,
            5,
            5,
            5,
            5
           ]
          },
          {
           "hoverinfo": "none",
           "mode": "text",
           "showlegend": false,
           "text": [
            "10",
            "20",
            "30",
            "40",
            "50",
            "40",
            "30",
            "20",
            "10"
           ],
           "textfont": {
            "color": "#ffffff",
            "family": "Courier New, monospace",
            "size": 30
           },
           "type": "scatter",
           "x": [
            20,
            30,
            40,
            50,
            60,
            70,
            80,
            90,
            100
           ],
           "y": [
            48.5,
            48.5,
            48.5,
            48.5,
            48.5,
            48.5,
            48.5,
            48.5,
            48.5
           ]
          },
          {
           "hoverinfo": "none",
           "line": {
            "color": "blue",
            "dash": "dash"
           },
           "showlegend": false,
           "type": "scatter",
           "x": [
            52,
            52
           ],
           "y": [
            0,
            53.5
           ]
          },
          {
           "hoverinfo": "none",
           "line": {
            "color": "yellow",
            "dash": "dash"
           },
           "showlegend": false,
           "type": "scatter",
           "x": [
            44,
            44
           ],
           "y": [
            0,
            53.5
           ]
          },
          {
           "fill": "toself",
           "fillcolor": "#4B92DB",
           "hoverinfo": "skip",
           "line": {
            "color": "white",
            "width": 3
           },
           "mode": "lines",
           "opacity": 1,
           "showlegend": false,
           "type": "scatter",
           "x": [
            0,
            0,
            10,
            10,
            0
           ],
           "y": [
            0,
            53.5,
            53.5,
            0,
            0
           ]
          },
          {
           "fill": "toself",
           "fillcolor": "#0B2265",
           "hoverinfo": "skip",
           "line": {
            "color": "white",
            "width": 3
           },
           "mode": "lines",
           "opacity": 1,
           "showlegend": false,
           "type": "scatter",
           "x": [
            110,
            110,
            120,
            120,
            110
           ],
           "y": [
            0,
            53.5,
            53.5,
            0,
            0
           ]
          },
          {
           "hoverinfo": "text",
           "hovertext": [
            "nflId:42365.0<br>displayName:Bud Dupree<br>Player Speed:5.5 yd/s",
            "nflId:43353.0<br>displayName:Kevin Byard<br>Player Speed:6.54 yd/s",
            "nflId:44869.0<br>displayName:Zach Cunningham<br>Player Speed:3.07 yd/s",
            "nflId:46457.0<br>displayName:Olasunkanmi Adeniyi<br>Player Speed:2.8 yd/s",
            "nflId:47802.0<br>displayName:Jeffery Simmons<br>Player Speed:0.13 yd/s",
            "nflId:47899.0<br>displayName:Amani Hooker<br>Player Speed:3.12 yd/s",
            "nflId:47915.0<br>displayName:Ugochukwu Amadi<br>Player Speed:2.32 yd/s",
            "nflId:47971.0<br>displayName:David Long<br>Player Speed:2.49 yd/s",
            "nflId:52469.0<br>displayName:Kristian Fulton<br>Player Speed:6.59 yd/s",
            "nflId:53073.0<br>displayName:Teair Tart<br>Player Speed:0.42 yd/s",
            "nflId:54500.0<br>displayName:Roger McCreary<br>Player Speed:2.18 yd/s"
           ],
           "marker": {
            "color": "#4B92DB",
            "line": {
             "color": "#0C2340",
             "width": 2
            },
            "size": 10
           },
           "mode": "markers",
           "name": "TEN",
           "type": "scatter",
           "x": [
            59.84,
            31.38,
            46.92,
            59.7,
            59.85,
            36.2,
            49.9,
            46.99,
            36.07,
            54.79,
            40.9
           ],
           "y": [
            34.11,
            44.48,
            36.27,
            36.08,
            32.6,
            27.3,
            16.81,
            28.95,
            18.72,
            33.03,
            48.46
           ]
          },
          {
           "hoverinfo": "text",
           "hovertext": [
            "nflId:42471.0<br>displayName:Jon Feliciano<br>Player Speed:1.21 yd/s",
            "nflId:42477.0<br>displayName:Mark Glowinski<br>Player Speed:1.05 yd/s",
            "nflId:44908.0<br>displayName:Kenny Golladay<br>Player Speed:6.41 yd/s",
            "nflId:46071.0<br>displayName:Saquon Barkley<br>Player Speed:2.0 yd/s",
            "nflId:46309.0<br>displayName:Richie James<br>Player Speed:2.18 yd/s",
            "nflId:47789.0<br>displayName:Daniel Jones<br>Player Speed:0.98 yd/s",
            "nflId:48489.0<br>displayName:David Sills<br>Player Speed:6.4 yd/s",
            "nflId:52412.0<br>displayName:Andrew Thomas<br>Player Speed:5.5 yd/s",
            "nflId:54472.0<br>displayName:Evan Neal<br>Player Speed:1.43 yd/s",
            "nflId:54532.0<br>displayName:Joshua Ezeudu<br>Player Speed:3.17 yd/s",
            "nflId:54577.0<br>displayName:Daniel Bellinger<br>Player Speed:3.28 yd/s"
           ],
           "marker": {
            "color": "#0B2265",
            "line": {
             "color": "#A71930",
             "width": 2
            },
            "size": 10
           },
           "mode": "markers",
           "name": "NYG",
           "type": "scatter",
           "x": [
            59.93,
            55.38,
            36.68,
            60.72,
            46.21,
            59.72,
            34.28,
            60.48,
            60.91,
            58,
            52.06
           ],
           "y": [
            27.31,
            33.03,
            18.93,
            16.91,
            32.66,
            33.25,
            46.18,
            30.09,
            35.66,
            29.79,
            49.51
           ]
          },
          {
           "hoverinfo": "none",
           "marker": {
            "color": "#CBB67C",
            "line": {
             "color": "#663831",
             "width": 2
            },
            "size": 10
           },
           "mode": "markers",
           "name": "football",
           "type": "scatter",
           "x": [
            64.1100006103516
           ],
           "y": [
            33.2200012207031
           ]
          }
         ],
         "name": "79"
        },
        {
         "data": [
          {
           "hoverinfo": "none",
           "mode": "text",
           "showlegend": false,
           "text": [
            "10",
            "20",
            "30",
            "40",
            "50",
            "40",
            "30",
            "20",
            "10"
           ],
           "textfont": {
            "color": "#ffffff",
            "family": "Courier New, monospace",
            "size": 30
           },
           "type": "scatter",
           "x": [
            20,
            30,
            40,
            50,
            60,
            70,
            80,
            90,
            100
           ],
           "y": [
            5,
            5,
            5,
            5,
            5,
            5,
            5,
            5,
            5
           ]
          },
          {
           "hoverinfo": "none",
           "mode": "text",
           "showlegend": false,
           "text": [
            "10",
            "20",
            "30",
            "40",
            "50",
            "40",
            "30",
            "20",
            "10"
           ],
           "textfont": {
            "color": "#ffffff",
            "family": "Courier New, monospace",
            "size": 30
           },
           "type": "scatter",
           "x": [
            20,
            30,
            40,
            50,
            60,
            70,
            80,
            90,
            100
           ],
           "y": [
            48.5,
            48.5,
            48.5,
            48.5,
            48.5,
            48.5,
            48.5,
            48.5,
            48.5
           ]
          },
          {
           "hoverinfo": "none",
           "line": {
            "color": "blue",
            "dash": "dash"
           },
           "showlegend": false,
           "type": "scatter",
           "x": [
            52,
            52
           ],
           "y": [
            0,
            53.5
           ]
          },
          {
           "hoverinfo": "none",
           "line": {
            "color": "yellow",
            "dash": "dash"
           },
           "showlegend": false,
           "type": "scatter",
           "x": [
            44,
            44
           ],
           "y": [
            0,
            53.5
           ]
          },
          {
           "fill": "toself",
           "fillcolor": "#4B92DB",
           "hoverinfo": "skip",
           "line": {
            "color": "white",
            "width": 3
           },
           "mode": "lines",
           "opacity": 1,
           "showlegend": false,
           "type": "scatter",
           "x": [
            0,
            0,
            10,
            10,
            0
           ],
           "y": [
            0,
            53.5,
            53.5,
            0,
            0
           ]
          },
          {
           "fill": "toself",
           "fillcolor": "#0B2265",
           "hoverinfo": "skip",
           "line": {
            "color": "white",
            "width": 3
           },
           "mode": "lines",
           "opacity": 1,
           "showlegend": false,
           "type": "scatter",
           "x": [
            110,
            110,
            120,
            120,
            110
           ],
           "y": [
            0,
            53.5,
            53.5,
            0,
            0
           ]
          },
          {
           "hoverinfo": "text",
           "hovertext": [
            "nflId:42365.0<br>displayName:Bud Dupree<br>Player Speed:5.63 yd/s",
            "nflId:43353.0<br>displayName:Kevin Byard<br>Player Speed:6.37 yd/s",
            "nflId:44869.0<br>displayName:Zach Cunningham<br>Player Speed:3.36 yd/s",
            "nflId:46457.0<br>displayName:Olasunkanmi Adeniyi<br>Player Speed:2.43 yd/s",
            "nflId:47802.0<br>displayName:Jeffery Simmons<br>Player Speed:0.13 yd/s",
            "nflId:47899.0<br>displayName:Amani Hooker<br>Player Speed:3.13 yd/s",
            "nflId:47915.0<br>displayName:Ugochukwu Amadi<br>Player Speed:2.77 yd/s",
            "nflId:47971.0<br>displayName:David Long<br>Player Speed:2.68 yd/s",
            "nflId:52469.0<br>displayName:Kristian Fulton<br>Player Speed:6.5 yd/s",
            "nflId:53073.0<br>displayName:Teair Tart<br>Player Speed:0.73 yd/s",
            "nflId:54500.0<br>displayName:Roger McCreary<br>Player Speed:1.72 yd/s"
           ],
           "marker": {
            "color": "#4B92DB",
            "line": {
             "color": "#0C2340",
             "width": 2
            },
            "size": 10
           },
           "mode": "markers",
           "name": "TEN",
           "type": "scatter",
           "x": [
            60.34,
            31.25,
            47.23,
            59.43,
            59.84,
            36.4,
            50.16,
            47.21,
            36.07,
            54.74,
            40.8
           ],
           "y": [
            34.33,
            45.11,
            36.15,
            36.12,
            32.59,
            27.54,
            16.88,
            29.09,
            19.37,
            32.98,
            48.61
           ]
          },
          {
           "hoverinfo": "text",
           "hovertext": [
            "nflId:42471.0<br>displayName:Jon Feliciano<br>Player Speed:1.12 yd/s",
            "nflId:42477.0<br>displayName:Mark Glowinski<br>Player Speed:0.96 yd/s",
            "nflId:44908.0<br>displayName:Kenny Golladay<br>Player Speed:6.29 yd/s",
            "nflId:46071.0<br>displayName:Saquon Barkley<br>Player Speed:1.57 yd/s",
            "nflId:46309.0<br>displayName:Richie James<br>Player Speed:2.34 yd/s",
            "nflId:47789.0<br>displayName:Daniel Jones<br>Player Speed:0.79 yd/s",
            "nflId:48489.0<br>displayName:David Sills<br>Player Speed:6.22 yd/s",
            "nflId:52412.0<br>displayName:Andrew Thomas<br>Player Speed:5.79 yd/s",
            "nflId:54472.0<br>displayName:Evan Neal<br>Player Speed:1.44 yd/s",
            "nflId:54532.0<br>displayName:Joshua Ezeudu<br>Player Speed:3.41 yd/s",
            "nflId:54577.0<br>displayName:Daniel Bellinger<br>Player Speed:3.49 yd/s"
           ],
           "marker": {
            "color": "#0B2265",
            "line": {
             "color": "#A71930",
             "width": 2
            },
            "size": 10
           },
           "mode": "markers",
           "name": "NYG",
           "type": "scatter",
           "x": [
            59.89,
            55.31,
            36.7,
            60.76,
            46.37,
            59.79,
            34.15,
            60.92,
            60.78,
            58.29,
            52.38
           ],
           "y": [
            27.2,
            33.1,
            19.56,
            16.73,
            32.82,
            33.3,
            46.8,
            30.49,
            35.72,
            29.97,
            49.6
           ]
          },
          {
           "hoverinfo": "none",
           "marker": {
            "color": "#CBB67C",
            "line": {
             "color": "#663831",
             "width": 2
            },
            "size": 10
           },
           "mode": "markers",
           "name": "football",
           "type": "scatter",
           "x": [
            64.3300018310547
           ],
           "y": [
            33.4799995422363
           ]
          }
         ],
         "name": "80"
        },
        {
         "data": [
          {
           "hoverinfo": "none",
           "mode": "text",
           "showlegend": false,
           "text": [
            "10",
            "20",
            "30",
            "40",
            "50",
            "40",
            "30",
            "20",
            "10"
           ],
           "textfont": {
            "color": "#ffffff",
            "family": "Courier New, monospace",
            "size": 30
           },
           "type": "scatter",
           "x": [
            20,
            30,
            40,
            50,
            60,
            70,
            80,
            90,
            100
           ],
           "y": [
            5,
            5,
            5,
            5,
            5,
            5,
            5,
            5,
            5
           ]
          },
          {
           "hoverinfo": "none",
           "mode": "text",
           "showlegend": false,
           "text": [
            "10",
            "20",
            "30",
            "40",
            "50",
            "40",
            "30",
            "20",
            "10"
           ],
           "textfont": {
            "color": "#ffffff",
            "family": "Courier New, monospace",
            "size": 30
           },
           "type": "scatter",
           "x": [
            20,
            30,
            40,
            50,
            60,
            70,
            80,
            90,
            100
           ],
           "y": [
            48.5,
            48.5,
            48.5,
            48.5,
            48.5,
            48.5,
            48.5,
            48.5,
            48.5
           ]
          },
          {
           "hoverinfo": "none",
           "line": {
            "color": "blue",
            "dash": "dash"
           },
           "showlegend": false,
           "type": "scatter",
           "x": [
            52,
            52
           ],
           "y": [
            0,
            53.5
           ]
          },
          {
           "hoverinfo": "none",
           "line": {
            "color": "yellow",
            "dash": "dash"
           },
           "showlegend": false,
           "type": "scatter",
           "x": [
            44,
            44
           ],
           "y": [
            0,
            53.5
           ]
          },
          {
           "fill": "toself",
           "fillcolor": "#4B92DB",
           "hoverinfo": "skip",
           "line": {
            "color": "white",
            "width": 3
           },
           "mode": "lines",
           "opacity": 1,
           "showlegend": false,
           "type": "scatter",
           "x": [
            0,
            0,
            10,
            10,
            0
           ],
           "y": [
            0,
            53.5,
            53.5,
            0,
            0
           ]
          },
          {
           "fill": "toself",
           "fillcolor": "#0B2265",
           "hoverinfo": "skip",
           "line": {
            "color": "white",
            "width": 3
           },
           "mode": "lines",
           "opacity": 1,
           "showlegend": false,
           "type": "scatter",
           "x": [
            110,
            110,
            120,
            120,
            110
           ],
           "y": [
            0,
            53.5,
            53.5,
            0,
            0
           ]
          },
          {
           "hoverinfo": "text",
           "hovertext": [
            "nflId:42365.0<br>displayName:Bud Dupree<br>Player Speed:5.8 yd/s",
            "nflId:43353.0<br>displayName:Kevin Byard<br>Player Speed:6.2 yd/s",
            "nflId:44869.0<br>displayName:Zach Cunningham<br>Player Speed:3.61 yd/s",
            "nflId:46457.0<br>displayName:Olasunkanmi Adeniyi<br>Player Speed:1.92 yd/s",
            "nflId:47802.0<br>displayName:Jeffery Simmons<br>Player Speed:0.25 yd/s",
            "nflId:47899.0<br>displayName:Amani Hooker<br>Player Speed:3.21 yd/s",
            "nflId:47915.0<br>displayName:Ugochukwu Amadi<br>Player Speed:3.16 yd/s",
            "nflId:47971.0<br>displayName:David Long<br>Player Speed:2.9 yd/s",
            "nflId:52469.0<br>displayName:Kristian Fulton<br>Player Speed:6.4 yd/s",
            "nflId:53073.0<br>displayName:Teair Tart<br>Player Speed:0.99 yd/s",
            "nflId:54500.0<br>displayName:Roger McCreary<br>Player Speed:1.36 yd/s"
           ],
           "marker": {
            "color": "#4B92DB",
            "line": {
             "color": "#0C2340",
             "width": 2
            },
            "size": 10
           },
           "mode": "markers",
           "name": "TEN",
           "type": "scatter",
           "x": [
            60.88,
            31.16,
            47.56,
            59.22,
            59.84,
            36.64,
            50.44,
            47.46,
            36.1,
            54.67,
            40.73
           ],
           "y": [
            34.53,
            45.73,
            36.04,
            36.17,
            32.57,
            27.75,
            16.99,
            29.2,
            20.01,
            32.9,
            48.75
           ]
          },
          {
           "hoverinfo": "text",
           "hovertext": [
            "nflId:42471.0<br>displayName:Jon Feliciano<br>Player Speed:1.05 yd/s",
            "nflId:42477.0<br>displayName:Mark Glowinski<br>Player Speed:0.95 yd/s",
            "nflId:44908.0<br>displayName:Kenny Golladay<br>Player Speed:6.14 yd/s",
            "nflId:46071.0<br>displayName:Saquon Barkley<br>Player Speed:1.22 yd/s",
            "nflId:46309.0<br>displayName:Richie James<br>Player Speed:2.65 yd/s",
            "nflId:47789.0<br>displayName:Daniel Jones<br>Player Speed:0.73 yd/s",
            "nflId:48489.0<br>displayName:David Sills<br>Player Speed:5.99 yd/s",
            "nflId:52412.0<br>displayName:Andrew Thomas<br>Player Speed:6.02 yd/s",
            "nflId:54472.0<br>displayName:Evan Neal<br>Player Speed:1.31 yd/s",
            "nflId:54532.0<br>displayName:Joshua Ezeudu<br>Player Speed:3.62 yd/s",
            "nflId:54577.0<br>displayName:Daniel Bellinger<br>Player Speed:3.75 yd/s"
           ],
           "marker": {
            "color": "#0B2265",
            "line": {
             "color": "#A71930",
             "width": 2
            },
            "size": 10
           },
           "mode": "markers",
           "name": "NYG",
           "type": "scatter",
           "x": [
            59.86,
            55.22,
            36.76,
            60.82,
            46.58,
            59.84,
            34.07,
            61.38,
            60.67,
            58.6,
            52.74
           ],
           "y": [
            27.1,
            33.13,
            20.18,
            16.61,
            32.96,
            33.34,
            47.4,
            30.91,
            35.77,
            30.15,
            49.65
           ]
          },
          {
           "hoverinfo": "none",
           "marker": {
            "color": "#CBB67C",
            "line": {
             "color": "#663831",
             "width": 2
            },
            "size": 10
           },
           "mode": "markers",
           "name": "football",
           "type": "scatter",
           "x": [
            64.5199966430664
           ],
           "y": [
            33.7400016784668
           ]
          }
         ],
         "name": "81"
        },
        {
         "data": [
          {
           "hoverinfo": "none",
           "mode": "text",
           "showlegend": false,
           "text": [
            "10",
            "20",
            "30",
            "40",
            "50",
            "40",
            "30",
            "20",
            "10"
           ],
           "textfont": {
            "color": "#ffffff",
            "family": "Courier New, monospace",
            "size": 30
           },
           "type": "scatter",
           "x": [
            20,
            30,
            40,
            50,
            60,
            70,
            80,
            90,
            100
           ],
           "y": [
            5,
            5,
            5,
            5,
            5,
            5,
            5,
            5,
            5
           ]
          },
          {
           "hoverinfo": "none",
           "mode": "text",
           "showlegend": false,
           "text": [
            "10",
            "20",
            "30",
            "40",
            "50",
            "40",
            "30",
            "20",
            "10"
           ],
           "textfont": {
            "color": "#ffffff",
            "family": "Courier New, monospace",
            "size": 30
           },
           "type": "scatter",
           "x": [
            20,
            30,
            40,
            50,
            60,
            70,
            80,
            90,
            100
           ],
           "y": [
            48.5,
            48.5,
            48.5,
            48.5,
            48.5,
            48.5,
            48.5,
            48.5,
            48.5
           ]
          },
          {
           "hoverinfo": "none",
           "line": {
            "color": "blue",
            "dash": "dash"
           },
           "showlegend": false,
           "type": "scatter",
           "x": [
            52,
            52
           ],
           "y": [
            0,
            53.5
           ]
          },
          {
           "hoverinfo": "none",
           "line": {
            "color": "yellow",
            "dash": "dash"
           },
           "showlegend": false,
           "type": "scatter",
           "x": [
            44,
            44
           ],
           "y": [
            0,
            53.5
           ]
          },
          {
           "fill": "toself",
           "fillcolor": "#4B92DB",
           "hoverinfo": "skip",
           "line": {
            "color": "white",
            "width": 3
           },
           "mode": "lines",
           "opacity": 1,
           "showlegend": false,
           "type": "scatter",
           "x": [
            0,
            0,
            10,
            10,
            0
           ],
           "y": [
            0,
            53.5,
            53.5,
            0,
            0
           ]
          },
          {
           "fill": "toself",
           "fillcolor": "#0B2265",
           "hoverinfo": "skip",
           "line": {
            "color": "white",
            "width": 3
           },
           "mode": "lines",
           "opacity": 1,
           "showlegend": false,
           "type": "scatter",
           "x": [
            110,
            110,
            120,
            120,
            110
           ],
           "y": [
            0,
            53.5,
            53.5,
            0,
            0
           ]
          },
          {
           "hoverinfo": "text",
           "hovertext": [
            "nflId:42365.0<br>displayName:Bud Dupree<br>Player Speed:5.89 yd/s",
            "nflId:43353.0<br>displayName:Kevin Byard<br>Player Speed:5.97 yd/s",
            "nflId:44869.0<br>displayName:Zach Cunningham<br>Player Speed:3.89 yd/s",
            "nflId:46457.0<br>displayName:Olasunkanmi Adeniyi<br>Player Speed:1.28 yd/s",
            "nflId:47802.0<br>displayName:Jeffery Simmons<br>Player Speed:0.35 yd/s",
            "nflId:47899.0<br>displayName:Amani Hooker<br>Player Speed:3.33 yd/s",
            "nflId:47915.0<br>displayName:Ugochukwu Amadi<br>Player Speed:3.54 yd/s",
            "nflId:47971.0<br>displayName:David Long<br>Player Speed:3.14 yd/s",
            "nflId:52469.0<br>displayName:Kristian Fulton<br>Player Speed:6.24 yd/s",
            "nflId:53073.0<br>displayName:Teair Tart<br>Player Speed:1.16 yd/s",
            "nflId:54500.0<br>displayName:Roger McCreary<br>Player Speed:1.1 yd/s"
           ],
           "marker": {
            "color": "#4B92DB",
            "line": {
             "color": "#0C2340",
             "width": 2
            },
            "size": 10
           },
           "mode": "markers",
           "name": "TEN",
           "type": "scatter",
           "x": [
            61.44,
            31.12,
            47.92,
            59.07,
            59.83,
            36.92,
            50.75,
            47.75,
            36.16,
            54.6,
            40.72
           ],
           "y": [
            34.71,
            46.34,
            35.93,
            36.23,
            32.54,
            27.91,
            17.14,
            29.29,
            20.64,
            32.81,
            48.87
           ]
          },
          {
           "hoverinfo": "text",
           "hovertext": [
            "nflId:42471.0<br>displayName:Jon Feliciano<br>Player Speed:0.97 yd/s",
            "nflId:42477.0<br>displayName:Mark Glowinski<br>Player Speed:0.93 yd/s",
            "nflId:44908.0<br>displayName:Kenny Golladay<br>Player Speed:5.98 yd/s",
            "nflId:46071.0<br>displayName:Saquon Barkley<br>Player Speed:1.12 yd/s",
            "nflId:46309.0<br>displayName:Richie James<br>Player Speed:3.18 yd/s",
            "nflId:47789.0<br>displayName:Daniel Jones<br>Player Speed:0.62 yd/s",
            "nflId:48489.0<br>displayName:David Sills<br>Player Speed:5.75 yd/s",
            "nflId:52412.0<br>displayName:Andrew Thomas<br>Player Speed:6.23 yd/s",
            "nflId:54472.0<br>displayName:Evan Neal<br>Player Speed:1.15 yd/s",
            "nflId:54532.0<br>displayName:Joshua Ezeudu<br>Player Speed:3.92 yd/s",
            "nflId:54577.0<br>displayName:Daniel Bellinger<br>Player Speed:4.17 yd/s"
           ],
           "marker": {
            "color": "#0B2265",
            "line": {
             "color": "#A71930",
             "width": 2
            },
            "size": 10
           },
           "mode": "markers",
           "name": "NYG",
           "type": "scatter",
           "x": [
            59.84,
            55.13,
            36.85,
            60.91,
            46.86,
            59.89,
            34.03,
            61.85,
            60.57,
            58.96,
            53.14
           ],
           "y": [
            27,
            33.15,
            20.78,
            16.54,
            33.08,
            33.38,
            47.99,
            31.36,
            35.81,
            30.35,
            49.67
           ]
          },
          {
           "hoverinfo": "none",
           "marker": {
            "color": "#CBB67C",
            "line": {
             "color": "#663831",
             "width": 2
            },
            "size": 10
           },
           "mode": "markers",
           "name": "football",
           "type": "scatter",
           "x": [
            64.6900024414062
           ],
           "y": [
            34
           ]
          }
         ],
         "name": "82"
        },
        {
         "data": [
          {
           "hoverinfo": "none",
           "mode": "text",
           "showlegend": false,
           "text": [
            "10",
            "20",
            "30",
            "40",
            "50",
            "40",
            "30",
            "20",
            "10"
           ],
           "textfont": {
            "color": "#ffffff",
            "family": "Courier New, monospace",
            "size": 30
           },
           "type": "scatter",
           "x": [
            20,
            30,
            40,
            50,
            60,
            70,
            80,
            90,
            100
           ],
           "y": [
            5,
            5,
            5,
            5,
            5,
            5,
            5,
            5,
            5
           ]
          },
          {
           "hoverinfo": "none",
           "mode": "text",
           "showlegend": false,
           "text": [
            "10",
            "20",
            "30",
            "40",
            "50",
            "40",
            "30",
            "20",
            "10"
           ],
           "textfont": {
            "color": "#ffffff",
            "family": "Courier New, monospace",
            "size": 30
           },
           "type": "scatter",
           "x": [
            20,
            30,
            40,
            50,
            60,
            70,
            80,
            90,
            100
           ],
           "y": [
            48.5,
            48.5,
            48.5,
            48.5,
            48.5,
            48.5,
            48.5,
            48.5,
            48.5
           ]
          },
          {
           "hoverinfo": "none",
           "line": {
            "color": "blue",
            "dash": "dash"
           },
           "showlegend": false,
           "type": "scatter",
           "x": [
            52,
            52
           ],
           "y": [
            0,
            53.5
           ]
          },
          {
           "hoverinfo": "none",
           "line": {
            "color": "yellow",
            "dash": "dash"
           },
           "showlegend": false,
           "type": "scatter",
           "x": [
            44,
            44
           ],
           "y": [
            0,
            53.5
           ]
          },
          {
           "fill": "toself",
           "fillcolor": "#4B92DB",
           "hoverinfo": "skip",
           "line": {
            "color": "white",
            "width": 3
           },
           "mode": "lines",
           "opacity": 1,
           "showlegend": false,
           "type": "scatter",
           "x": [
            0,
            0,
            10,
            10,
            0
           ],
           "y": [
            0,
            53.5,
            53.5,
            0,
            0
           ]
          },
          {
           "fill": "toself",
           "fillcolor": "#0B2265",
           "hoverinfo": "skip",
           "line": {
            "color": "white",
            "width": 3
           },
           "mode": "lines",
           "opacity": 1,
           "showlegend": false,
           "type": "scatter",
           "x": [
            110,
            110,
            120,
            120,
            110
           ],
           "y": [
            0,
            53.5,
            53.5,
            0,
            0
           ]
          },
          {
           "hoverinfo": "text",
           "hovertext": [
            "nflId:42365.0<br>displayName:Bud Dupree<br>Player Speed:5.95 yd/s",
            "nflId:43353.0<br>displayName:Kevin Byard<br>Player Speed:5.75 yd/s",
            "nflId:44869.0<br>displayName:Zach Cunningham<br>Player Speed:4.14 yd/s",
            "nflId:46457.0<br>displayName:Olasunkanmi Adeniyi<br>Player Speed:0.87 yd/s",
            "nflId:47802.0<br>displayName:Jeffery Simmons<br>Player Speed:0.4 yd/s",
            "nflId:47899.0<br>displayName:Amani Hooker<br>Player Speed:3.47 yd/s",
            "nflId:47915.0<br>displayName:Ugochukwu Amadi<br>Player Speed:3.87 yd/s",
            "nflId:47971.0<br>displayName:David Long<br>Player Speed:3.41 yd/s",
            "nflId:52469.0<br>displayName:Kristian Fulton<br>Player Speed:6.13 yd/s",
            "nflId:53073.0<br>displayName:Teair Tart<br>Player Speed:1.3 yd/s",
            "nflId:54500.0<br>displayName:Roger McCreary<br>Player Speed:1.13 yd/s"
           ],
           "marker": {
            "color": "#4B92DB",
            "line": {
             "color": "#0C2340",
             "width": 2
            },
            "size": 10
           },
           "mode": "markers",
           "name": "TEN",
           "type": "scatter",
           "x": [
            62.01,
            31.11,
            48.31,
            59,
            59.82,
            37.23,
            51.08,
            48.08,
            36.24,
            54.53,
            40.76
           ],
           "y": [
            34.86,
            46.92,
            35.83,
            36.3,
            32.51,
            28.05,
            17.32,
            29.37,
            21.25,
            32.71,
            48.97
           ]
          },
          {
           "hoverinfo": "text",
           "hovertext": [
            "nflId:42471.0<br>displayName:Jon Feliciano<br>Player Speed:0.82 yd/s",
            "nflId:42477.0<br>displayName:Mark Glowinski<br>Player Speed:0.94 yd/s",
            "nflId:44908.0<br>displayName:Kenny Golladay<br>Player Speed:5.76 yd/s",
            "nflId:46071.0<br>displayName:Saquon Barkley<br>Player Speed:1.23 yd/s",
            "nflId:46309.0<br>displayName:Richie James<br>Player Speed:3.62 yd/s",
            "nflId:47789.0<br>displayName:Daniel Jones<br>Player Speed:0.76 yd/s",
            "nflId:48489.0<br>displayName:David Sills<br>Player Speed:5.49 yd/s",
            "nflId:52412.0<br>displayName:Andrew Thomas<br>Player Speed:6.39 yd/s",
            "nflId:54472.0<br>displayName:Evan Neal<br>Player Speed:0.93 yd/s",
            "nflId:54532.0<br>displayName:Joshua Ezeudu<br>Player Speed:4.12 yd/s",
            "nflId:54577.0<br>displayName:Daniel Bellinger<br>Player Speed:4.57 yd/s"
           ],
           "marker": {
            "color": "#0B2265",
            "line": {
             "color": "#A71930",
             "width": 2
            },
            "size": 10
           },
           "mode": "markers",
           "name": "NYG",
           "type": "scatter",
           "x": [
            59.85,
            55.04,
            36.95,
            61.02,
            47.18,
            59.93,
            34.03,
            62.33,
            60.48,
            59.33,
            53.59
           ],
           "y": [
            26.91,
            33.14,
            21.35,
            16.51,
            33.18,
            33.44,
            48.55,
            31.83,
            35.84,
            30.56,
            49.66
           ]
          },
          {
           "hoverinfo": "none",
           "marker": {
            "color": "#CBB67C",
            "line": {
             "color": "#663831",
             "width": 2
            },
            "size": 10
           },
           "mode": "markers",
           "name": "football",
           "type": "scatter",
           "x": [
            64.8600006103516
           ],
           "y": [
            34.2799987792969
           ]
          }
         ],
         "name": "83"
        },
        {
         "data": [
          {
           "hoverinfo": "none",
           "mode": "text",
           "showlegend": false,
           "text": [
            "10",
            "20",
            "30",
            "40",
            "50",
            "40",
            "30",
            "20",
            "10"
           ],
           "textfont": {
            "color": "#ffffff",
            "family": "Courier New, monospace",
            "size": 30
           },
           "type": "scatter",
           "x": [
            20,
            30,
            40,
            50,
            60,
            70,
            80,
            90,
            100
           ],
           "y": [
            5,
            5,
            5,
            5,
            5,
            5,
            5,
            5,
            5
           ]
          },
          {
           "hoverinfo": "none",
           "mode": "text",
           "showlegend": false,
           "text": [
            "10",
            "20",
            "30",
            "40",
            "50",
            "40",
            "30",
            "20",
            "10"
           ],
           "textfont": {
            "color": "#ffffff",
            "family": "Courier New, monospace",
            "size": 30
           },
           "type": "scatter",
           "x": [
            20,
            30,
            40,
            50,
            60,
            70,
            80,
            90,
            100
           ],
           "y": [
            48.5,
            48.5,
            48.5,
            48.5,
            48.5,
            48.5,
            48.5,
            48.5,
            48.5
           ]
          },
          {
           "hoverinfo": "none",
           "line": {
            "color": "blue",
            "dash": "dash"
           },
           "showlegend": false,
           "type": "scatter",
           "x": [
            52,
            52
           ],
           "y": [
            0,
            53.5
           ]
          },
          {
           "hoverinfo": "none",
           "line": {
            "color": "yellow",
            "dash": "dash"
           },
           "showlegend": false,
           "type": "scatter",
           "x": [
            44,
            44
           ],
           "y": [
            0,
            53.5
           ]
          },
          {
           "fill": "toself",
           "fillcolor": "#4B92DB",
           "hoverinfo": "skip",
           "line": {
            "color": "white",
            "width": 3
           },
           "mode": "lines",
           "opacity": 1,
           "showlegend": false,
           "type": "scatter",
           "x": [
            0,
            0,
            10,
            10,
            0
           ],
           "y": [
            0,
            53.5,
            53.5,
            0,
            0
           ]
          },
          {
           "fill": "toself",
           "fillcolor": "#0B2265",
           "hoverinfo": "skip",
           "line": {
            "color": "white",
            "width": 3
           },
           "mode": "lines",
           "opacity": 1,
           "showlegend": false,
           "type": "scatter",
           "x": [
            110,
            110,
            120,
            120,
            110
           ],
           "y": [
            0,
            53.5,
            53.5,
            0,
            0
           ]
          },
          {
           "hoverinfo": "text",
           "hovertext": [
            "nflId:42365.0<br>displayName:Bud Dupree<br>Player Speed:6.01 yd/s",
            "nflId:43353.0<br>displayName:Kevin Byard<br>Player Speed:5.41 yd/s",
            "nflId:44869.0<br>displayName:Zach Cunningham<br>Player Speed:4.34 yd/s",
            "nflId:46457.0<br>displayName:Olasunkanmi Adeniyi<br>Player Speed:0.95 yd/s",
            "nflId:47802.0<br>displayName:Jeffery Simmons<br>Player Speed:0.36 yd/s",
            "nflId:47899.0<br>displayName:Amani Hooker<br>Player Speed:3.62 yd/s",
            "nflId:47915.0<br>displayName:Ugochukwu Amadi<br>Player Speed:4.2 yd/s",
            "nflId:47971.0<br>displayName:David Long<br>Player Speed:3.6 yd/s",
            "nflId:52469.0<br>displayName:Kristian Fulton<br>Player Speed:5.95 yd/s",
            "nflId:53073.0<br>displayName:Teair Tart<br>Player Speed:1.43 yd/s",
            "nflId:54500.0<br>displayName:Roger McCreary<br>Player Speed:1.42 yd/s"
           ],
           "marker": {
            "color": "#4B92DB",
            "line": {
             "color": "#0C2340",
             "width": 2
            },
            "size": 10
           },
           "mode": "markers",
           "name": "TEN",
           "type": "scatter",
           "x": [
            62.59,
            31.15,
            48.73,
            58.99,
            59.83,
            37.58,
            51.42,
            48.42,
            36.35,
            54.45,
            40.85
           ],
           "y": [
            35,
            47.47,
            35.74,
            36.38,
            32.48,
            28.15,
            17.53,
            29.43,
            21.84,
            32.59,
            49.06
           ]
          },
          {
           "hoverinfo": "text",
           "hovertext": [
            "nflId:42471.0<br>displayName:Jon Feliciano<br>Player Speed:0.74 yd/s",
            "nflId:42477.0<br>displayName:Mark Glowinski<br>Player Speed:0.99 yd/s",
            "nflId:44908.0<br>displayName:Kenny Golladay<br>Player Speed:5.58 yd/s",
            "nflId:46071.0<br>displayName:Saquon Barkley<br>Player Speed:1.44 yd/s",
            "nflId:46309.0<br>displayName:Richie James<br>Player Speed:4.01 yd/s",
            "nflId:47789.0<br>displayName:Daniel Jones<br>Player Speed:1.04 yd/s",
            "nflId:48489.0<br>displayName:David Sills<br>Player Speed:5.23 yd/s",
            "nflId:52412.0<br>displayName:Andrew Thomas<br>Player Speed:6.47 yd/s",
            "nflId:54472.0<br>displayName:Evan Neal<br>Player Speed:0.49 yd/s",
            "nflId:54532.0<br>displayName:Joshua Ezeudu<br>Player Speed:4.29 yd/s",
            "nflId:54577.0<br>displayName:Daniel Bellinger<br>Player Speed:4.92 yd/s"
           ],
           "marker": {
            "color": "#0B2265",
            "line": {
             "color": "#A71930",
             "width": 2
            },
            "size": 10
           },
           "mode": "markers",
           "name": "NYG",
           "type": "scatter",
           "x": [
            59.87,
            54.95,
            37.08,
            61.15,
            47.55,
            60.01,
            34.07,
            62.8,
            60.46,
            59.71,
            54.07
           ],
           "y": [
            26.84,
            33.09,
            21.91,
            16.53,
            33.27,
            33.51,
            49.08,
            32.3,
            35.87,
            30.78,
            49.62
           ]
          },
          {
           "hoverinfo": "none",
           "marker": {
            "color": "#CBB67C",
            "line": {
             "color": "#663831",
             "width": 2
            },
            "size": 10
           },
           "mode": "markers",
           "name": "football",
           "type": "scatter",
           "x": [
            64.9899978637695
           ],
           "y": [
            34.5200004577637
           ]
          }
         ],
         "name": "84"
        },
        {
         "data": [
          {
           "hoverinfo": "none",
           "mode": "text",
           "showlegend": false,
           "text": [
            "10",
            "20",
            "30",
            "40",
            "50",
            "40",
            "30",
            "20",
            "10"
           ],
           "textfont": {
            "color": "#ffffff",
            "family": "Courier New, monospace",
            "size": 30
           },
           "type": "scatter",
           "x": [
            20,
            30,
            40,
            50,
            60,
            70,
            80,
            90,
            100
           ],
           "y": [
            5,
            5,
            5,
            5,
            5,
            5,
            5,
            5,
            5
           ]
          },
          {
           "hoverinfo": "none",
           "mode": "text",
           "showlegend": false,
           "text": [
            "10",
            "20",
            "30",
            "40",
            "50",
            "40",
            "30",
            "20",
            "10"
           ],
           "textfont": {
            "color": "#ffffff",
            "family": "Courier New, monospace",
            "size": 30
           },
           "type": "scatter",
           "x": [
            20,
            30,
            40,
            50,
            60,
            70,
            80,
            90,
            100
           ],
           "y": [
            48.5,
            48.5,
            48.5,
            48.5,
            48.5,
            48.5,
            48.5,
            48.5,
            48.5
           ]
          },
          {
           "hoverinfo": "none",
           "line": {
            "color": "blue",
            "dash": "dash"
           },
           "showlegend": false,
           "type": "scatter",
           "x": [
            52,
            52
           ],
           "y": [
            0,
            53.5
           ]
          },
          {
           "hoverinfo": "none",
           "line": {
            "color": "yellow",
            "dash": "dash"
           },
           "showlegend": false,
           "type": "scatter",
           "x": [
            44,
            44
           ],
           "y": [
            0,
            53.5
           ]
          },
          {
           "fill": "toself",
           "fillcolor": "#4B92DB",
           "hoverinfo": "skip",
           "line": {
            "color": "white",
            "width": 3
           },
           "mode": "lines",
           "opacity": 1,
           "showlegend": false,
           "type": "scatter",
           "x": [
            0,
            0,
            10,
            10,
            0
           ],
           "y": [
            0,
            53.5,
            53.5,
            0,
            0
           ]
          },
          {
           "fill": "toself",
           "fillcolor": "#0B2265",
           "hoverinfo": "skip",
           "line": {
            "color": "white",
            "width": 3
           },
           "mode": "lines",
           "opacity": 1,
           "showlegend": false,
           "type": "scatter",
           "x": [
            110,
            110,
            120,
            120,
            110
           ],
           "y": [
            0,
            53.5,
            53.5,
            0,
            0
           ]
          },
          {
           "hoverinfo": "text",
           "hovertext": [
            "nflId:42365.0<br>displayName:Bud Dupree<br>Player Speed:5.99 yd/s",
            "nflId:43353.0<br>displayName:Kevin Byard<br>Player Speed:5.15 yd/s",
            "nflId:44869.0<br>displayName:Zach Cunningham<br>Player Speed:4.53 yd/s",
            "nflId:46457.0<br>displayName:Olasunkanmi Adeniyi<br>Player Speed:1.35 yd/s",
            "nflId:47802.0<br>displayName:Jeffery Simmons<br>Player Speed:0.41 yd/s",
            "nflId:47899.0<br>displayName:Amani Hooker<br>Player Speed:3.73 yd/s",
            "nflId:47915.0<br>displayName:Ugochukwu Amadi<br>Player Speed:4.47 yd/s",
            "nflId:47971.0<br>displayName:David Long<br>Player Speed:3.75 yd/s",
            "nflId:52469.0<br>displayName:Kristian Fulton<br>Player Speed:5.81 yd/s",
            "nflId:53073.0<br>displayName:Teair Tart<br>Player Speed:1.48 yd/s",
            "nflId:54500.0<br>displayName:Roger McCreary<br>Player Speed:1.78 yd/s"
           ],
           "marker": {
            "color": "#4B92DB",
            "line": {
             "color": "#0C2340",
             "width": 2
            },
            "size": 10
           },
           "mode": "markers",
           "name": "TEN",
           "type": "scatter",
           "x": [
            63.18,
            31.23,
            49.17,
            59.05,
            59.84,
            37.93,
            51.78,
            48.78,
            36.48,
            54.39,
            40.99
           ],
           "y": [
            35.13,
            47.99,
            35.67,
            36.48,
            32.43,
            28.23,
            17.78,
            29.49,
            22.42,
            32.46,
            49.13
           ]
          },
          {
           "hoverinfo": "text",
           "hovertext": [
            "nflId:42471.0<br>displayName:Jon Feliciano<br>Player Speed:0.73 yd/s",
            "nflId:42477.0<br>displayName:Mark Glowinski<br>Player Speed:1.03 yd/s",
            "nflId:44908.0<br>displayName:Kenny Golladay<br>Player Speed:5.44 yd/s",
            "nflId:46071.0<br>displayName:Saquon Barkley<br>Player Speed:1.68 yd/s",
            "nflId:46309.0<br>displayName:Richie James<br>Player Speed:4.39 yd/s",
            "nflId:47789.0<br>displayName:Daniel Jones<br>Player Speed:1.3 yd/s",
            "nflId:48489.0<br>displayName:David Sills<br>Player Speed:4.98 yd/s",
            "nflId:52412.0<br>displayName:Andrew Thomas<br>Player Speed:6.39 yd/s",
            "nflId:54472.0<br>displayName:Evan Neal<br>Player Speed:0.17 yd/s",
            "nflId:54532.0<br>displayName:Joshua Ezeudu<br>Player Speed:4.4 yd/s",
            "nflId:54577.0<br>displayName:Daniel Bellinger<br>Player Speed:5.23 yd/s"
           ],
           "marker": {
            "color": "#0B2265",
            "line": {
             "color": "#A71930",
             "width": 2
            },
            "size": 10
           },
           "mode": "markers",
           "name": "NYG",
           "type": "scatter",
           "x": [
            59.92,
            54.87,
            37.23,
            61.3,
            47.97,
            60.1,
            34.14,
            63.27,
            60.48,
            60.1,
            54.59
           ],
           "y": [
            26.77,
            33.03,
            22.44,
            16.58,
            33.36,
            33.6,
            49.59,
            32.77,
            35.89,
            31.01,
            49.57
           ]
          },
          {
           "hoverinfo": "none",
           "marker": {
            "color": "#CBB67C",
            "line": {
             "color": "#663831",
             "width": 2
            },
            "size": 10
           },
           "mode": "markers",
           "name": "football",
           "type": "scatter",
           "x": [
            65.129997253418
           ],
           "y": [
            34.75
           ]
          }
         ],
         "name": "85"
        },
        {
         "data": [
          {
           "hoverinfo": "none",
           "mode": "text",
           "showlegend": false,
           "text": [
            "10",
            "20",
            "30",
            "40",
            "50",
            "40",
            "30",
            "20",
            "10"
           ],
           "textfont": {
            "color": "#ffffff",
            "family": "Courier New, monospace",
            "size": 30
           },
           "type": "scatter",
           "x": [
            20,
            30,
            40,
            50,
            60,
            70,
            80,
            90,
            100
           ],
           "y": [
            5,
            5,
            5,
            5,
            5,
            5,
            5,
            5,
            5
           ]
          },
          {
           "hoverinfo": "none",
           "mode": "text",
           "showlegend": false,
           "text": [
            "10",
            "20",
            "30",
            "40",
            "50",
            "40",
            "30",
            "20",
            "10"
           ],
           "textfont": {
            "color": "#ffffff",
            "family": "Courier New, monospace",
            "size": 30
           },
           "type": "scatter",
           "x": [
            20,
            30,
            40,
            50,
            60,
            70,
            80,
            90,
            100
           ],
           "y": [
            48.5,
            48.5,
            48.5,
            48.5,
            48.5,
            48.5,
            48.5,
            48.5,
            48.5
           ]
          },
          {
           "hoverinfo": "none",
           "line": {
            "color": "blue",
            "dash": "dash"
           },
           "showlegend": false,
           "type": "scatter",
           "x": [
            52,
            52
           ],
           "y": [
            0,
            53.5
           ]
          },
          {
           "hoverinfo": "none",
           "line": {
            "color": "yellow",
            "dash": "dash"
           },
           "showlegend": false,
           "type": "scatter",
           "x": [
            44,
            44
           ],
           "y": [
            0,
            53.5
           ]
          },
          {
           "fill": "toself",
           "fillcolor": "#4B92DB",
           "hoverinfo": "skip",
           "line": {
            "color": "white",
            "width": 3
           },
           "mode": "lines",
           "opacity": 1,
           "showlegend": false,
           "type": "scatter",
           "x": [
            0,
            0,
            10,
            10,
            0
           ],
           "y": [
            0,
            53.5,
            53.5,
            0,
            0
           ]
          },
          {
           "fill": "toself",
           "fillcolor": "#0B2265",
           "hoverinfo": "skip",
           "line": {
            "color": "white",
            "width": 3
           },
           "mode": "lines",
           "opacity": 1,
           "showlegend": false,
           "type": "scatter",
           "x": [
            110,
            110,
            120,
            120,
            110
           ],
           "y": [
            0,
            53.5,
            53.5,
            0,
            0
           ]
          },
          {
           "hoverinfo": "text",
           "hovertext": [
            "nflId:42365.0<br>displayName:Bud Dupree<br>Player Speed:5.95 yd/s",
            "nflId:43353.0<br>displayName:Kevin Byard<br>Player Speed:4.89 yd/s",
            "nflId:44869.0<br>displayName:Zach Cunningham<br>Player Speed:4.68 yd/s",
            "nflId:46457.0<br>displayName:Olasunkanmi Adeniyi<br>Player Speed:2.03 yd/s",
            "nflId:47802.0<br>displayName:Jeffery Simmons<br>Player Speed:0.42 yd/s",
            "nflId:47899.0<br>displayName:Amani Hooker<br>Player Speed:3.81 yd/s",
            "nflId:47915.0<br>displayName:Ugochukwu Amadi<br>Player Speed:4.7 yd/s",
            "nflId:47971.0<br>displayName:David Long<br>Player Speed:3.87 yd/s",
            "nflId:52469.0<br>displayName:Kristian Fulton<br>Player Speed:5.59 yd/s",
            "nflId:53073.0<br>displayName:Teair Tart<br>Player Speed:1.48 yd/s",
            "nflId:54500.0<br>displayName:Roger McCreary<br>Player Speed:2.19 yd/s"
           ],
           "marker": {
            "color": "#4B92DB",
            "line": {
             "color": "#0C2340",
             "width": 2
            },
            "size": 10
           },
           "mode": "markers",
           "name": "TEN",
           "type": "scatter",
           "x": [
            63.76,
            31.35,
            49.63,
            59.18,
            59.85,
            38.31,
            52.15,
            49.16,
            36.63,
            54.34,
            41.18
           ],
           "y": [
            35.26,
            48.48,
            35.63,
            36.59,
            32.4,
            28.28,
            18.06,
            29.55,
            22.97,
            32.32,
            49.19
           ]
          },
          {
           "hoverinfo": "text",
           "hovertext": [
            "nflId:42471.0<br>displayName:Jon Feliciano<br>Player Speed:0.79 yd/s",
            "nflId:42477.0<br>displayName:Mark Glowinski<br>Player Speed:1.06 yd/s",
            "nflId:44908.0<br>displayName:Kenny Golladay<br>Player Speed:5.27 yd/s",
            "nflId:46071.0<br>displayName:Saquon Barkley<br>Player Speed:1.92 yd/s",
            "nflId:46309.0<br>displayName:Richie James<br>Player Speed:4.74 yd/s",
            "nflId:47789.0<br>displayName:Daniel Jones<br>Player Speed:1.44 yd/s",
            "nflId:48489.0<br>displayName:David Sills<br>Player Speed:4.72 yd/s",
            "nflId:52412.0<br>displayName:Andrew Thomas<br>Player Speed:6.28 yd/s",
            "nflId:54472.0<br>displayName:Evan Neal<br>Player Speed:0.54 yd/s",
            "nflId:54532.0<br>displayName:Joshua Ezeudu<br>Player Speed:4.52 yd/s",
            "nflId:54577.0<br>displayName:Daniel Bellinger<br>Player Speed:5.56 yd/s"
           ],
           "marker": {
            "color": "#0B2265",
            "line": {
             "color": "#A71930",
             "width": 2
            },
            "size": 10
           },
           "mode": "markers",
           "name": "NYG",
           "type": "scatter",
           "x": [
            59.98,
            54.79,
            37.39,
            61.45,
            48.42,
            60.2,
            34.26,
            63.72,
            60.54,
            60.5,
            55.14
           ],
           "y": [
            26.72,
            32.96,
            22.95,
            16.67,
            33.44,
            33.7,
            50.06,
            33.24,
            35.9,
            31.24,
            49.49
           ]
          },
          {
           "hoverinfo": "none",
           "marker": {
            "color": "#CBB67C",
            "line": {
             "color": "#663831",
             "width": 2
            },
            "size": 10
           },
           "mode": "markers",
           "name": "football",
           "type": "scatter",
           "x": [
            65.2399978637695
           ],
           "y": [
            34.9700012207031
           ]
          }
         ],
         "name": "86"
        },
        {
         "data": [
          {
           "hoverinfo": "none",
           "mode": "text",
           "showlegend": false,
           "text": [
            "10",
            "20",
            "30",
            "40",
            "50",
            "40",
            "30",
            "20",
            "10"
           ],
           "textfont": {
            "color": "#ffffff",
            "family": "Courier New, monospace",
            "size": 30
           },
           "type": "scatter",
           "x": [
            20,
            30,
            40,
            50,
            60,
            70,
            80,
            90,
            100
           ],
           "y": [
            5,
            5,
            5,
            5,
            5,
            5,
            5,
            5,
            5
           ]
          },
          {
           "hoverinfo": "none",
           "mode": "text",
           "showlegend": false,
           "text": [
            "10",
            "20",
            "30",
            "40",
            "50",
            "40",
            "30",
            "20",
            "10"
           ],
           "textfont": {
            "color": "#ffffff",
            "family": "Courier New, monospace",
            "size": 30
           },
           "type": "scatter",
           "x": [
            20,
            30,
            40,
            50,
            60,
            70,
            80,
            90,
            100
           ],
           "y": [
            48.5,
            48.5,
            48.5,
            48.5,
            48.5,
            48.5,
            48.5,
            48.5,
            48.5
           ]
          },
          {
           "hoverinfo": "none",
           "line": {
            "color": "blue",
            "dash": "dash"
           },
           "showlegend": false,
           "type": "scatter",
           "x": [
            52,
            52
           ],
           "y": [
            0,
            53.5
           ]
          },
          {
           "hoverinfo": "none",
           "line": {
            "color": "yellow",
            "dash": "dash"
           },
           "showlegend": false,
           "type": "scatter",
           "x": [
            44,
            44
           ],
           "y": [
            0,
            53.5
           ]
          },
          {
           "fill": "toself",
           "fillcolor": "#4B92DB",
           "hoverinfo": "skip",
           "line": {
            "color": "white",
            "width": 3
           },
           "mode": "lines",
           "opacity": 1,
           "showlegend": false,
           "type": "scatter",
           "x": [
            0,
            0,
            10,
            10,
            0
           ],
           "y": [
            0,
            53.5,
            53.5,
            0,
            0
           ]
          },
          {
           "fill": "toself",
           "fillcolor": "#0B2265",
           "hoverinfo": "skip",
           "line": {
            "color": "white",
            "width": 3
           },
           "mode": "lines",
           "opacity": 1,
           "showlegend": false,
           "type": "scatter",
           "x": [
            110,
            110,
            120,
            120,
            110
           ],
           "y": [
            0,
            53.5,
            53.5,
            0,
            0
           ]
          },
          {
           "hoverinfo": "text",
           "hovertext": [
            "nflId:42365.0<br>displayName:Bud Dupree<br>Player Speed:5.73 yd/s",
            "nflId:43353.0<br>displayName:Kevin Byard<br>Player Speed:4.66 yd/s",
            "nflId:44869.0<br>displayName:Zach Cunningham<br>Player Speed:4.78 yd/s",
            "nflId:46457.0<br>displayName:Olasunkanmi Adeniyi<br>Player Speed:2.65 yd/s",
            "nflId:47802.0<br>displayName:Jeffery Simmons<br>Player Speed:0.55 yd/s",
            "nflId:47899.0<br>displayName:Amani Hooker<br>Player Speed:3.88 yd/s",
            "nflId:47915.0<br>displayName:Ugochukwu Amadi<br>Player Speed:4.89 yd/s",
            "nflId:47971.0<br>displayName:David Long<br>Player Speed:3.99 yd/s",
            "nflId:52469.0<br>displayName:Kristian Fulton<br>Player Speed:5.43 yd/s",
            "nflId:53073.0<br>displayName:Teair Tart<br>Player Speed:1.52 yd/s",
            "nflId:54500.0<br>displayName:Roger McCreary<br>Player Speed:2.61 yd/s"
           ],
           "marker": {
            "color": "#4B92DB",
            "line": {
             "color": "#0C2340",
             "width": 2
            },
            "size": 10
           },
           "mode": "markers",
           "name": "TEN",
           "type": "scatter",
           "x": [
            64.32,
            31.5,
            50.11,
            59.39,
            59.91,
            38.69,
            52.53,
            49.55,
            36.81,
            54.3,
            41.42
           ],
           "y": [
            35.39,
            48.94,
            35.6,
            36.71,
            32.37,
            28.32,
            18.36,
            29.62,
            23.48,
            32.17,
            49.24
           ]
          },
          {
           "hoverinfo": "text",
           "hovertext": [
            "nflId:42471.0<br>displayName:Jon Feliciano<br>Player Speed:0.93 yd/s",
            "nflId:42477.0<br>displayName:Mark Glowinski<br>Player Speed:1.08 yd/s",
            "nflId:44908.0<br>displayName:Kenny Golladay<br>Player Speed:5.15 yd/s",
            "nflId:46071.0<br>displayName:Saquon Barkley<br>Player Speed:2.17 yd/s",
            "nflId:46309.0<br>displayName:Richie James<br>Player Speed:5.0 yd/s",
            "nflId:47789.0<br>displayName:Daniel Jones<br>Player Speed:1.57 yd/s",
            "nflId:48489.0<br>displayName:David Sills<br>Player Speed:4.47 yd/s",
            "nflId:52412.0<br>displayName:Andrew Thomas<br>Player Speed:6.17 yd/s",
            "nflId:54472.0<br>displayName:Evan Neal<br>Player Speed:1.01 yd/s",
            "nflId:54532.0<br>displayName:Joshua Ezeudu<br>Player Speed:4.66 yd/s",
            "nflId:54577.0<br>displayName:Daniel Bellinger<br>Player Speed:5.82 yd/s"
           ],
           "marker": {
            "color": "#0B2265",
            "line": {
             "color": "#A71930",
             "width": 2
            },
            "size": 10
           },
           "mode": "markers",
           "name": "NYG",
           "type": "scatter",
           "x": [
            60.07,
            54.73,
            37.56,
            61.62,
            48.9,
            60.31,
            34.41,
            64.18,
            60.64,
            60.92,
            55.7
           ],
           "y": [
            26.68,
            32.87,
            23.44,
            16.79,
            33.52,
            33.8,
            50.49,
            33.7,
            35.92,
            31.5,
            49.4
           ]
          },
          {
           "hoverinfo": "none",
           "marker": {
            "color": "#CBB67C",
            "line": {
             "color": "#663831",
             "width": 2
            },
            "size": 10
           },
           "mode": "markers",
           "name": "football",
           "type": "scatter",
           "x": [
            65.4300003051758
           ],
           "y": [
            35.1500015258789
           ]
          }
         ],
         "name": "87"
        },
        {
         "data": [
          {
           "hoverinfo": "none",
           "mode": "text",
           "showlegend": false,
           "text": [
            "10",
            "20",
            "30",
            "40",
            "50",
            "40",
            "30",
            "20",
            "10"
           ],
           "textfont": {
            "color": "#ffffff",
            "family": "Courier New, monospace",
            "size": 30
           },
           "type": "scatter",
           "x": [
            20,
            30,
            40,
            50,
            60,
            70,
            80,
            90,
            100
           ],
           "y": [
            5,
            5,
            5,
            5,
            5,
            5,
            5,
            5,
            5
           ]
          },
          {
           "hoverinfo": "none",
           "mode": "text",
           "showlegend": false,
           "text": [
            "10",
            "20",
            "30",
            "40",
            "50",
            "40",
            "30",
            "20",
            "10"
           ],
           "textfont": {
            "color": "#ffffff",
            "family": "Courier New, monospace",
            "size": 30
           },
           "type": "scatter",
           "x": [
            20,
            30,
            40,
            50,
            60,
            70,
            80,
            90,
            100
           ],
           "y": [
            48.5,
            48.5,
            48.5,
            48.5,
            48.5,
            48.5,
            48.5,
            48.5,
            48.5
           ]
          },
          {
           "hoverinfo": "none",
           "line": {
            "color": "blue",
            "dash": "dash"
           },
           "showlegend": false,
           "type": "scatter",
           "x": [
            52,
            52
           ],
           "y": [
            0,
            53.5
           ]
          },
          {
           "hoverinfo": "none",
           "line": {
            "color": "yellow",
            "dash": "dash"
           },
           "showlegend": false,
           "type": "scatter",
           "x": [
            44,
            44
           ],
           "y": [
            0,
            53.5
           ]
          },
          {
           "fill": "toself",
           "fillcolor": "#4B92DB",
           "hoverinfo": "skip",
           "line": {
            "color": "white",
            "width": 3
           },
           "mode": "lines",
           "opacity": 1,
           "showlegend": false,
           "type": "scatter",
           "x": [
            0,
            0,
            10,
            10,
            0
           ],
           "y": [
            0,
            53.5,
            53.5,
            0,
            0
           ]
          },
          {
           "fill": "toself",
           "fillcolor": "#0B2265",
           "hoverinfo": "skip",
           "line": {
            "color": "white",
            "width": 3
           },
           "mode": "lines",
           "opacity": 1,
           "showlegend": false,
           "type": "scatter",
           "x": [
            110,
            110,
            120,
            120,
            110
           ],
           "y": [
            0,
            53.5,
            53.5,
            0,
            0
           ]
          },
          {
           "hoverinfo": "text",
           "hovertext": [
            "nflId:42365.0<br>displayName:Bud Dupree<br>Player Speed:5.48 yd/s",
            "nflId:43353.0<br>displayName:Kevin Byard<br>Player Speed:4.45 yd/s",
            "nflId:44869.0<br>displayName:Zach Cunningham<br>Player Speed:4.84 yd/s",
            "nflId:46457.0<br>displayName:Olasunkanmi Adeniyi<br>Player Speed:3.11 yd/s",
            "nflId:47802.0<br>displayName:Jeffery Simmons<br>Player Speed:0.61 yd/s",
            "nflId:47899.0<br>displayName:Amani Hooker<br>Player Speed:3.89 yd/s",
            "nflId:47915.0<br>displayName:Ugochukwu Amadi<br>Player Speed:5.05 yd/s",
            "nflId:47971.0<br>displayName:David Long<br>Player Speed:4.02 yd/s",
            "nflId:52469.0<br>displayName:Kristian Fulton<br>Player Speed:5.26 yd/s",
            "nflId:53073.0<br>displayName:Teair Tart<br>Player Speed:1.5 yd/s",
            "nflId:54500.0<br>displayName:Roger McCreary<br>Player Speed:2.96 yd/s"
           ],
           "marker": {
            "color": "#4B92DB",
            "line": {
             "color": "#0C2340",
             "width": 2
            },
            "size": 10
           },
           "mode": "markers",
           "name": "TEN",
           "type": "scatter",
           "x": [
            64.84,
            31.68,
            50.59,
            59.64,
            59.96,
            39.08,
            52.91,
            49.94,
            37.01,
            54.27,
            41.69
           ],
           "y": [
            35.55,
            49.36,
            35.59,
            36.84,
            32.35,
            28.34,
            18.69,
            29.7,
            23.98,
            32.02,
            49.28
           ]
          },
          {
           "hoverinfo": "text",
           "hovertext": [
            "nflId:42471.0<br>displayName:Jon Feliciano<br>Player Speed:1.01 yd/s",
            "nflId:42477.0<br>displayName:Mark Glowinski<br>Player Speed:1.08 yd/s",
            "nflId:44908.0<br>displayName:Kenny Golladay<br>Player Speed:4.99 yd/s",
            "nflId:46071.0<br>displayName:Saquon Barkley<br>Player Speed:2.37 yd/s",
            "nflId:46309.0<br>displayName:Richie James<br>Player Speed:5.17 yd/s",
            "nflId:47789.0<br>displayName:Daniel Jones<br>Player Speed:1.69 yd/s",
            "nflId:48489.0<br>displayName:David Sills<br>Player Speed:4.28 yd/s",
            "nflId:52412.0<br>displayName:Andrew Thomas<br>Player Speed:6.01 yd/s",
            "nflId:54472.0<br>displayName:Evan Neal<br>Player Speed:1.36 yd/s",
            "nflId:54532.0<br>displayName:Joshua Ezeudu<br>Player Speed:4.57 yd/s",
            "nflId:54577.0<br>displayName:Daniel Bellinger<br>Player Speed:5.97 yd/s"
           ],
           "marker": {
            "color": "#0B2265",
            "line": {
             "color": "#A71930",
             "width": 2
            },
            "size": 10
           },
           "mode": "markers",
           "name": "NYG",
           "type": "scatter",
           "x": [
            60.16,
            54.67,
            37.75,
            61.8,
            49.4,
            60.43,
            34.59,
            64.64,
            60.78,
            61.31,
            56.27
           ],
           "y": [
            26.65,
            32.78,
            23.91,
            16.94,
            33.6,
            33.91,
            50.89,
            34.13,
            35.93,
            31.74,
            49.29
           ]
          },
          {
           "hoverinfo": "none",
           "marker": {
            "color": "#CBB67C",
            "line": {
             "color": "#663831",
             "width": 2
            },
            "size": 10
           },
           "mode": "markers",
           "name": "football",
           "type": "scatter",
           "x": [
            65.5800018310547
           ],
           "y": [
            35.3600006103516
           ]
          }
         ],
         "name": "88"
        },
        {
         "data": [
          {
           "hoverinfo": "none",
           "mode": "text",
           "showlegend": false,
           "text": [
            "10",
            "20",
            "30",
            "40",
            "50",
            "40",
            "30",
            "20",
            "10"
           ],
           "textfont": {
            "color": "#ffffff",
            "family": "Courier New, monospace",
            "size": 30
           },
           "type": "scatter",
           "x": [
            20,
            30,
            40,
            50,
            60,
            70,
            80,
            90,
            100
           ],
           "y": [
            5,
            5,
            5,
            5,
            5,
            5,
            5,
            5,
            5
           ]
          },
          {
           "hoverinfo": "none",
           "mode": "text",
           "showlegend": false,
           "text": [
            "10",
            "20",
            "30",
            "40",
            "50",
            "40",
            "30",
            "20",
            "10"
           ],
           "textfont": {
            "color": "#ffffff",
            "family": "Courier New, monospace",
            "size": 30
           },
           "type": "scatter",
           "x": [
            20,
            30,
            40,
            50,
            60,
            70,
            80,
            90,
            100
           ],
           "y": [
            48.5,
            48.5,
            48.5,
            48.5,
            48.5,
            48.5,
            48.5,
            48.5,
            48.5
           ]
          },
          {
           "hoverinfo": "none",
           "line": {
            "color": "blue",
            "dash": "dash"
           },
           "showlegend": false,
           "type": "scatter",
           "x": [
            52,
            52
           ],
           "y": [
            0,
            53.5
           ]
          },
          {
           "hoverinfo": "none",
           "line": {
            "color": "yellow",
            "dash": "dash"
           },
           "showlegend": false,
           "type": "scatter",
           "x": [
            44,
            44
           ],
           "y": [
            0,
            53.5
           ]
          },
          {
           "fill": "toself",
           "fillcolor": "#4B92DB",
           "hoverinfo": "skip",
           "line": {
            "color": "white",
            "width": 3
           },
           "mode": "lines",
           "opacity": 1,
           "showlegend": false,
           "type": "scatter",
           "x": [
            0,
            0,
            10,
            10,
            0
           ],
           "y": [
            0,
            53.5,
            53.5,
            0,
            0
           ]
          },
          {
           "fill": "toself",
           "fillcolor": "#0B2265",
           "hoverinfo": "skip",
           "line": {
            "color": "white",
            "width": 3
           },
           "mode": "lines",
           "opacity": 1,
           "showlegend": false,
           "type": "scatter",
           "x": [
            110,
            110,
            120,
            120,
            110
           ],
           "y": [
            0,
            53.5,
            53.5,
            0,
            0
           ]
          },
          {
           "hoverinfo": "text",
           "hovertext": [
            "nflId:42365.0<br>displayName:Bud Dupree<br>Player Speed:5.31 yd/s",
            "nflId:43353.0<br>displayName:Kevin Byard<br>Player Speed:4.15 yd/s",
            "nflId:44869.0<br>displayName:Zach Cunningham<br>Player Speed:4.86 yd/s",
            "nflId:46457.0<br>displayName:Olasunkanmi Adeniyi<br>Player Speed:3.64 yd/s",
            "nflId:47802.0<br>displayName:Jeffery Simmons<br>Player Speed:0.82 yd/s",
            "nflId:47899.0<br>displayName:Amani Hooker<br>Player Speed:3.84 yd/s",
            "nflId:47915.0<br>displayName:Ugochukwu Amadi<br>Player Speed:5.15 yd/s",
            "nflId:47971.0<br>displayName:David Long<br>Player Speed:3.97 yd/s",
            "nflId:52469.0<br>displayName:Kristian Fulton<br>Player Speed:5.12 yd/s",
            "nflId:53073.0<br>displayName:Teair Tart<br>Player Speed:1.56 yd/s",
            "nflId:54500.0<br>displayName:Roger McCreary<br>Player Speed:3.26 yd/s"
           ],
           "marker": {
            "color": "#4B92DB",
            "line": {
             "color": "#0C2340",
             "width": 2
            },
            "size": 10
           },
           "mode": "markers",
           "name": "TEN",
           "type": "scatter",
           "x": [
            65.36,
            31.89,
            51.07,
            59.96,
            60.06,
            39.46,
            53.3,
            50.33,
            37.22,
            54.31,
            42
           ],
           "y": [
            35.72,
            49.73,
            35.62,
            36.97,
            32.32,
            28.33,
            19.03,
            29.79,
            24.45,
            31.85,
            49.3
           ]
          },
          {
           "hoverinfo": "text",
           "hovertext": [
            "nflId:42471.0<br>displayName:Jon Feliciano<br>Player Speed:1.23 yd/s",
            "nflId:42477.0<br>displayName:Mark Glowinski<br>Player Speed:1.0 yd/s",
            "nflId:44908.0<br>displayName:Kenny Golladay<br>Player Speed:4.86 yd/s",
            "nflId:46071.0<br>displayName:Saquon Barkley<br>Player Speed:2.51 yd/s",
            "nflId:46309.0<br>displayName:Richie James<br>Player Speed:5.36 yd/s",
            "nflId:47789.0<br>displayName:Daniel Jones<br>Player Speed:1.73 yd/s",
            "nflId:48489.0<br>displayName:David Sills<br>Player Speed:4.1 yd/s",
            "nflId:52412.0<br>displayName:Andrew Thomas<br>Player Speed:5.71 yd/s",
            "nflId:54472.0<br>displayName:Evan Neal<br>Player Speed:2.03 yd/s",
            "nflId:54532.0<br>displayName:Joshua Ezeudu<br>Player Speed:4.77 yd/s",
            "nflId:54577.0<br>displayName:Daniel Bellinger<br>Player Speed:6.14 yd/s"
           ],
           "marker": {
            "color": "#0B2265",
            "line": {
             "color": "#A71930",
             "width": 2
            },
            "size": 10
           },
           "mode": "markers",
           "name": "NYG",
           "type": "scatter",
           "x": [
            60.29,
            54.64,
            37.94,
            61.99,
            49.92,
            60.57,
            34.81,
            65.06,
            61,
            61.75,
            56.87
           ],
           "y": [
            26.65,
            32.69,
            24.37,
            17.09,
            33.7,
            34.01,
            51.24,
            34.54,
            35.98,
            32.03,
            49.17
           ]
          },
          {
           "hoverinfo": "none",
           "marker": {
            "color": "#CBB67C",
            "line": {
             "color": "#663831",
             "width": 2
            },
            "size": 10
           },
           "mode": "markers",
           "name": "football",
           "type": "scatter",
           "x": [
            65.9899978637695
           ],
           "y": [
            35.6300010681152
           ]
          }
         ],
         "name": "89"
        },
        {
         "data": [
          {
           "hoverinfo": "none",
           "mode": "text",
           "showlegend": false,
           "text": [
            "10",
            "20",
            "30",
            "40",
            "50",
            "40",
            "30",
            "20",
            "10"
           ],
           "textfont": {
            "color": "#ffffff",
            "family": "Courier New, monospace",
            "size": 30
           },
           "type": "scatter",
           "x": [
            20,
            30,
            40,
            50,
            60,
            70,
            80,
            90,
            100
           ],
           "y": [
            5,
            5,
            5,
            5,
            5,
            5,
            5,
            5,
            5
           ]
          },
          {
           "hoverinfo": "none",
           "mode": "text",
           "showlegend": false,
           "text": [
            "10",
            "20",
            "30",
            "40",
            "50",
            "40",
            "30",
            "20",
            "10"
           ],
           "textfont": {
            "color": "#ffffff",
            "family": "Courier New, monospace",
            "size": 30
           },
           "type": "scatter",
           "x": [
            20,
            30,
            40,
            50,
            60,
            70,
            80,
            90,
            100
           ],
           "y": [
            48.5,
            48.5,
            48.5,
            48.5,
            48.5,
            48.5,
            48.5,
            48.5,
            48.5
           ]
          },
          {
           "hoverinfo": "none",
           "line": {
            "color": "blue",
            "dash": "dash"
           },
           "showlegend": false,
           "type": "scatter",
           "x": [
            52,
            52
           ],
           "y": [
            0,
            53.5
           ]
          },
          {
           "hoverinfo": "none",
           "line": {
            "color": "yellow",
            "dash": "dash"
           },
           "showlegend": false,
           "type": "scatter",
           "x": [
            44,
            44
           ],
           "y": [
            0,
            53.5
           ]
          },
          {
           "fill": "toself",
           "fillcolor": "#4B92DB",
           "hoverinfo": "skip",
           "line": {
            "color": "white",
            "width": 3
           },
           "mode": "lines",
           "opacity": 1,
           "showlegend": false,
           "type": "scatter",
           "x": [
            0,
            0,
            10,
            10,
            0
           ],
           "y": [
            0,
            53.5,
            53.5,
            0,
            0
           ]
          },
          {
           "fill": "toself",
           "fillcolor": "#0B2265",
           "hoverinfo": "skip",
           "line": {
            "color": "white",
            "width": 3
           },
           "mode": "lines",
           "opacity": 1,
           "showlegend": false,
           "type": "scatter",
           "x": [
            110,
            110,
            120,
            120,
            110
           ],
           "y": [
            0,
            53.5,
            53.5,
            0,
            0
           ]
          },
          {
           "hoverinfo": "text",
           "hovertext": [
            "nflId:42365.0<br>displayName:Bud Dupree<br>Player Speed:5.12 yd/s",
            "nflId:43353.0<br>displayName:Kevin Byard<br>Player Speed:3.95 yd/s",
            "nflId:44869.0<br>displayName:Zach Cunningham<br>Player Speed:5.03 yd/s",
            "nflId:46457.0<br>displayName:Olasunkanmi Adeniyi<br>Player Speed:4.16 yd/s",
            "nflId:47802.0<br>displayName:Jeffery Simmons<br>Player Speed:0.97 yd/s",
            "nflId:47899.0<br>displayName:Amani Hooker<br>Player Speed:3.81 yd/s",
            "nflId:47915.0<br>displayName:Ugochukwu Amadi<br>Player Speed:5.22 yd/s",
            "nflId:47971.0<br>displayName:David Long<br>Player Speed:3.95 yd/s",
            "nflId:52469.0<br>displayName:Kristian Fulton<br>Player Speed:4.94 yd/s",
            "nflId:53073.0<br>displayName:Teair Tart<br>Player Speed:1.63 yd/s",
            "nflId:54500.0<br>displayName:Roger McCreary<br>Player Speed:3.53 yd/s"
           ],
           "marker": {
            "color": "#4B92DB",
            "line": {
             "color": "#0C2340",
             "width": 2
            },
            "size": 10
           },
           "mode": "markers",
           "name": "TEN",
           "type": "scatter",
           "x": [
            65.86,
            32.13,
            51.58,
            60.33,
            60.16,
            39.85,
            53.68,
            50.71,
            37.45,
            54.36,
            42.35
           ],
           "y": [
            35.87,
            50.05,
            35.68,
            37.1,
            32.3,
            28.33,
            19.38,
            29.9,
            24.9,
            31.69,
            49.31
           ]
          },
          {
           "hoverinfo": "text",
           "hovertext": [
            "nflId:42471.0<br>displayName:Jon Feliciano<br>Player Speed:1.4 yd/s",
            "nflId:42477.0<br>displayName:Mark Glowinski<br>Player Speed:0.91 yd/s",
            "nflId:44908.0<br>displayName:Kenny Golladay<br>Player Speed:4.76 yd/s",
            "nflId:46071.0<br>displayName:Saquon Barkley<br>Player Speed:2.62 yd/s",
            "nflId:46309.0<br>displayName:Richie James<br>Player Speed:5.56 yd/s",
            "nflId:47789.0<br>displayName:Daniel Jones<br>Player Speed:1.78 yd/s",
            "nflId:48489.0<br>displayName:David Sills<br>Player Speed:3.99 yd/s",
            "nflId:52412.0<br>displayName:Andrew Thomas<br>Player Speed:5.37 yd/s",
            "nflId:54472.0<br>displayName:Evan Neal<br>Player Speed:2.49 yd/s",
            "nflId:54532.0<br>displayName:Joshua Ezeudu<br>Player Speed:4.8 yd/s",
            "nflId:54577.0<br>displayName:Daniel Bellinger<br>Player Speed:6.39 yd/s"
           ],
           "marker": {
            "color": "#0B2265",
            "line": {
             "color": "#A71930",
             "width": 2
            },
            "size": 10
           },
           "mode": "markers",
           "name": "NYG",
           "type": "scatter",
           "x": [
            60.42,
            54.61,
            38.14,
            62.18,
            50.46,
            60.72,
            35.04,
            65.46,
            61.24,
            62.17,
            57.48
           ],
           "y": [
            26.67,
            32.61,
            24.81,
            17.26,
            33.8,
            34.11,
            51.57,
            34.92,
            36.02,
            32.3,
            49.04
           ]
          },
          {
           "hoverinfo": "none",
           "marker": {
            "color": "#CBB67C",
            "line": {
             "color": "#663831",
             "width": 2
            },
            "size": 10
           },
           "mode": "markers",
           "name": "football",
           "type": "scatter",
           "x": [
            66.4400024414062
           ],
           "y": [
            35.9500007629395
           ]
          }
         ],
         "name": "90"
        },
        {
         "data": [
          {
           "hoverinfo": "none",
           "mode": "text",
           "showlegend": false,
           "text": [
            "10",
            "20",
            "30",
            "40",
            "50",
            "40",
            "30",
            "20",
            "10"
           ],
           "textfont": {
            "color": "#ffffff",
            "family": "Courier New, monospace",
            "size": 30
           },
           "type": "scatter",
           "x": [
            20,
            30,
            40,
            50,
            60,
            70,
            80,
            90,
            100
           ],
           "y": [
            5,
            5,
            5,
            5,
            5,
            5,
            5,
            5,
            5
           ]
          },
          {
           "hoverinfo": "none",
           "mode": "text",
           "showlegend": false,
           "text": [
            "10",
            "20",
            "30",
            "40",
            "50",
            "40",
            "30",
            "20",
            "10"
           ],
           "textfont": {
            "color": "#ffffff",
            "family": "Courier New, monospace",
            "size": 30
           },
           "type": "scatter",
           "x": [
            20,
            30,
            40,
            50,
            60,
            70,
            80,
            90,
            100
           ],
           "y": [
            48.5,
            48.5,
            48.5,
            48.5,
            48.5,
            48.5,
            48.5,
            48.5,
            48.5
           ]
          },
          {
           "hoverinfo": "none",
           "line": {
            "color": "blue",
            "dash": "dash"
           },
           "showlegend": false,
           "type": "scatter",
           "x": [
            52,
            52
           ],
           "y": [
            0,
            53.5
           ]
          },
          {
           "hoverinfo": "none",
           "line": {
            "color": "yellow",
            "dash": "dash"
           },
           "showlegend": false,
           "type": "scatter",
           "x": [
            44,
            44
           ],
           "y": [
            0,
            53.5
           ]
          },
          {
           "fill": "toself",
           "fillcolor": "#4B92DB",
           "hoverinfo": "skip",
           "line": {
            "color": "white",
            "width": 3
           },
           "mode": "lines",
           "opacity": 1,
           "showlegend": false,
           "type": "scatter",
           "x": [
            0,
            0,
            10,
            10,
            0
           ],
           "y": [
            0,
            53.5,
            53.5,
            0,
            0
           ]
          },
          {
           "fill": "toself",
           "fillcolor": "#0B2265",
           "hoverinfo": "skip",
           "line": {
            "color": "white",
            "width": 3
           },
           "mode": "lines",
           "opacity": 1,
           "showlegend": false,
           "type": "scatter",
           "x": [
            110,
            110,
            120,
            120,
            110
           ],
           "y": [
            0,
            53.5,
            53.5,
            0,
            0
           ]
          },
          {
           "hoverinfo": "text",
           "hovertext": [
            "nflId:42365.0<br>displayName:Bud Dupree<br>Player Speed:5.04 yd/s",
            "nflId:43353.0<br>displayName:Kevin Byard<br>Player Speed:3.8 yd/s",
            "nflId:44869.0<br>displayName:Zach Cunningham<br>Player Speed:5.1 yd/s",
            "nflId:46457.0<br>displayName:Olasunkanmi Adeniyi<br>Player Speed:4.6 yd/s",
            "nflId:47802.0<br>displayName:Jeffery Simmons<br>Player Speed:1.07 yd/s",
            "nflId:47899.0<br>displayName:Amani Hooker<br>Player Speed:3.76 yd/s",
            "nflId:47915.0<br>displayName:Ugochukwu Amadi<br>Player Speed:5.26 yd/s",
            "nflId:47971.0<br>displayName:David Long<br>Player Speed:3.9 yd/s",
            "nflId:52469.0<br>displayName:Kristian Fulton<br>Player Speed:4.86 yd/s",
            "nflId:53073.0<br>displayName:Teair Tart<br>Player Speed:1.72 yd/s",
            "nflId:54500.0<br>displayName:Roger McCreary<br>Player Speed:3.73 yd/s"
           ],
           "marker": {
            "color": "#4B92DB",
            "line": {
             "color": "#0C2340",
             "width": 2
            },
            "size": 10
           },
           "mode": "markers",
           "name": "TEN",
           "type": "scatter",
           "x": [
            66.34,
            32.39,
            52.08,
            60.75,
            60.27,
            40.22,
            54.07,
            51.09,
            37.68,
            54.44,
            42.71
           ],
           "y": [
            36.03,
            50.33,
            35.76,
            37.25,
            32.28,
            28.31,
            19.74,
            30.02,
            25.33,
            31.54,
            49.3
           ]
          },
          {
           "hoverinfo": "text",
           "hovertext": [
            "nflId:42471.0<br>displayName:Jon Feliciano<br>Player Speed:1.6 yd/s",
            "nflId:42477.0<br>displayName:Mark Glowinski<br>Player Speed:0.85 yd/s",
            "nflId:44908.0<br>displayName:Kenny Golladay<br>Player Speed:4.79 yd/s",
            "nflId:46071.0<br>displayName:Saquon Barkley<br>Player Speed:2.69 yd/s",
            "nflId:46309.0<br>displayName:Richie James<br>Player Speed:5.72 yd/s",
            "nflId:47789.0<br>displayName:Daniel Jones<br>Player Speed:1.82 yd/s",
            "nflId:48489.0<br>displayName:David Sills<br>Player Speed:3.9 yd/s",
            "nflId:52412.0<br>displayName:Andrew Thomas<br>Player Speed:4.87 yd/s",
            "nflId:54472.0<br>displayName:Evan Neal<br>Player Speed:2.93 yd/s",
            "nflId:54532.0<br>displayName:Joshua Ezeudu<br>Player Speed:4.76 yd/s",
            "nflId:54577.0<br>displayName:Daniel Bellinger<br>Player Speed:6.6 yd/s"
           ],
           "marker": {
            "color": "#0B2265",
            "line": {
             "color": "#A71930",
             "width": 2
            },
            "size": 10
           },
           "mode": "markers",
           "name": "NYG",
           "type": "scatter",
           "x": [
            60.58,
            54.59,
            38.35,
            62.37,
            51.02,
            60.88,
            35.3,
            65.88,
            61.53,
            62.59,
            58.1
           ],
           "y": [
            26.71,
            32.52,
            25.23,
            17.45,
            33.9,
            34.18,
            51.87,
            35.17,
            36.07,
            32.56,
            48.88
           ]
          },
          {
           "hoverinfo": "none",
           "marker": {
            "color": "#CBB67C",
            "line": {
             "color": "#663831",
             "width": 2
            },
            "size": 10
           },
           "mode": "markers",
           "name": "football",
           "type": "scatter",
           "x": [
            66.7699966430664
           ],
           "y": [
            36.1800003051758
           ]
          }
         ],
         "name": "91"
        },
        {
         "data": [
          {
           "hoverinfo": "none",
           "mode": "text",
           "showlegend": false,
           "text": [
            "10",
            "20",
            "30",
            "40",
            "50",
            "40",
            "30",
            "20",
            "10"
           ],
           "textfont": {
            "color": "#ffffff",
            "family": "Courier New, monospace",
            "size": 30
           },
           "type": "scatter",
           "x": [
            20,
            30,
            40,
            50,
            60,
            70,
            80,
            90,
            100
           ],
           "y": [
            5,
            5,
            5,
            5,
            5,
            5,
            5,
            5,
            5
           ]
          },
          {
           "hoverinfo": "none",
           "mode": "text",
           "showlegend": false,
           "text": [
            "10",
            "20",
            "30",
            "40",
            "50",
            "40",
            "30",
            "20",
            "10"
           ],
           "textfont": {
            "color": "#ffffff",
            "family": "Courier New, monospace",
            "size": 30
           },
           "type": "scatter",
           "x": [
            20,
            30,
            40,
            50,
            60,
            70,
            80,
            90,
            100
           ],
           "y": [
            48.5,
            48.5,
            48.5,
            48.5,
            48.5,
            48.5,
            48.5,
            48.5,
            48.5
           ]
          },
          {
           "hoverinfo": "none",
           "line": {
            "color": "blue",
            "dash": "dash"
           },
           "showlegend": false,
           "type": "scatter",
           "x": [
            52,
            52
           ],
           "y": [
            0,
            53.5
           ]
          },
          {
           "hoverinfo": "none",
           "line": {
            "color": "yellow",
            "dash": "dash"
           },
           "showlegend": false,
           "type": "scatter",
           "x": [
            44,
            44
           ],
           "y": [
            0,
            53.5
           ]
          },
          {
           "fill": "toself",
           "fillcolor": "#4B92DB",
           "hoverinfo": "skip",
           "line": {
            "color": "white",
            "width": 3
           },
           "mode": "lines",
           "opacity": 1,
           "showlegend": false,
           "type": "scatter",
           "x": [
            0,
            0,
            10,
            10,
            0
           ],
           "y": [
            0,
            53.5,
            53.5,
            0,
            0
           ]
          },
          {
           "fill": "toself",
           "fillcolor": "#0B2265",
           "hoverinfo": "skip",
           "line": {
            "color": "white",
            "width": 3
           },
           "mode": "lines",
           "opacity": 1,
           "showlegend": false,
           "type": "scatter",
           "x": [
            110,
            110,
            120,
            120,
            110
           ],
           "y": [
            0,
            53.5,
            53.5,
            0,
            0
           ]
          },
          {
           "hoverinfo": "text",
           "hovertext": [
            "nflId:42365.0<br>displayName:Bud Dupree<br>Player Speed:5.01 yd/s",
            "nflId:43353.0<br>displayName:Kevin Byard<br>Player Speed:3.71 yd/s",
            "nflId:44869.0<br>displayName:Zach Cunningham<br>Player Speed:5.15 yd/s",
            "nflId:46457.0<br>displayName:Olasunkanmi Adeniyi<br>Player Speed:4.95 yd/s",
            "nflId:47802.0<br>displayName:Jeffery Simmons<br>Player Speed:1.21 yd/s",
            "nflId:47899.0<br>displayName:Amani Hooker<br>Player Speed:3.71 yd/s",
            "nflId:47915.0<br>displayName:Ugochukwu Amadi<br>Player Speed:5.3 yd/s",
            "nflId:47971.0<br>displayName:David Long<br>Player Speed:3.9 yd/s",
            "nflId:52469.0<br>displayName:Kristian Fulton<br>Player Speed:4.75 yd/s",
            "nflId:53073.0<br>displayName:Teair Tart<br>Player Speed:1.82 yd/s",
            "nflId:54500.0<br>displayName:Roger McCreary<br>Player Speed:3.84 yd/s"
           ],
           "marker": {
            "color": "#4B92DB",
            "line": {
             "color": "#0C2340",
             "width": 2
            },
            "size": 10
           },
           "mode": "markers",
           "name": "TEN",
           "type": "scatter",
           "x": [
            66.81,
            32.68,
            52.58,
            61.2,
            60.4,
            40.6,
            54.45,
            51.45,
            37.93,
            54.55,
            43.09
           ],
           "y": [
            36.2,
            50.57,
            35.86,
            37.39,
            32.27,
            28.29,
            20.11,
            30.16,
            25.75,
            31.39,
            49.28
           ]
          },
          {
           "hoverinfo": "text",
           "hovertext": [
            "nflId:42471.0<br>displayName:Jon Feliciano<br>Player Speed:1.74 yd/s",
            "nflId:42477.0<br>displayName:Mark Glowinski<br>Player Speed:0.8 yd/s",
            "nflId:44908.0<br>displayName:Kenny Golladay<br>Player Speed:4.78 yd/s",
            "nflId:46071.0<br>displayName:Saquon Barkley<br>Player Speed:2.73 yd/s",
            "nflId:46309.0<br>displayName:Richie James<br>Player Speed:5.86 yd/s",
            "nflId:47789.0<br>displayName:Daniel Jones<br>Player Speed:1.81 yd/s",
            "nflId:48489.0<br>displayName:David Sills<br>Player Speed:3.83 yd/s",
            "nflId:52412.0<br>displayName:Andrew Thomas<br>Player Speed:4.29 yd/s",
            "nflId:54472.0<br>displayName:Evan Neal<br>Player Speed:3.3 yd/s",
            "nflId:54532.0<br>displayName:Joshua Ezeudu<br>Player Speed:4.63 yd/s",
            "nflId:54577.0<br>displayName:Daniel Bellinger<br>Player Speed:6.75 yd/s"
           ],
           "marker": {
            "color": "#0B2265",
            "line": {
             "color": "#A71930",
             "width": 2
            },
            "size": 10
           },
           "mode": "markers",
           "name": "NYG",
           "type": "scatter",
           "x": [
            60.74,
            54.59,
            38.58,
            62.56,
            51.59,
            61.06,
            35.58,
            66.23,
            61.85,
            62.99,
            58.75
           ],
           "y": [
            26.77,
            32.43,
            25.66,
            17.64,
            34,
            34.24,
            52.14,
            35.41,
            36.11,
            32.82,
            48.71
           ]
          },
          {
           "hoverinfo": "none",
           "marker": {
            "color": "#CBB67C",
            "line": {
             "color": "#663831",
             "width": 2
            },
            "size": 10
           },
           "mode": "markers",
           "name": "football",
           "type": "scatter",
           "x": [
            67.0100021362305
           ],
           "y": [
            36.3600006103516
           ]
          }
         ],
         "name": "92"
        },
        {
         "data": [
          {
           "hoverinfo": "none",
           "mode": "text",
           "showlegend": false,
           "text": [
            "10",
            "20",
            "30",
            "40",
            "50",
            "40",
            "30",
            "20",
            "10"
           ],
           "textfont": {
            "color": "#ffffff",
            "family": "Courier New, monospace",
            "size": 30
           },
           "type": "scatter",
           "x": [
            20,
            30,
            40,
            50,
            60,
            70,
            80,
            90,
            100
           ],
           "y": [
            5,
            5,
            5,
            5,
            5,
            5,
            5,
            5,
            5
           ]
          },
          {
           "hoverinfo": "none",
           "mode": "text",
           "showlegend": false,
           "text": [
            "10",
            "20",
            "30",
            "40",
            "50",
            "40",
            "30",
            "20",
            "10"
           ],
           "textfont": {
            "color": "#ffffff",
            "family": "Courier New, monospace",
            "size": 30
           },
           "type": "scatter",
           "x": [
            20,
            30,
            40,
            50,
            60,
            70,
            80,
            90,
            100
           ],
           "y": [
            48.5,
            48.5,
            48.5,
            48.5,
            48.5,
            48.5,
            48.5,
            48.5,
            48.5
           ]
          },
          {
           "hoverinfo": "none",
           "line": {
            "color": "blue",
            "dash": "dash"
           },
           "showlegend": false,
           "type": "scatter",
           "x": [
            52,
            52
           ],
           "y": [
            0,
            53.5
           ]
          },
          {
           "hoverinfo": "none",
           "line": {
            "color": "yellow",
            "dash": "dash"
           },
           "showlegend": false,
           "type": "scatter",
           "x": [
            44,
            44
           ],
           "y": [
            0,
            53.5
           ]
          },
          {
           "fill": "toself",
           "fillcolor": "#4B92DB",
           "hoverinfo": "skip",
           "line": {
            "color": "white",
            "width": 3
           },
           "mode": "lines",
           "opacity": 1,
           "showlegend": false,
           "type": "scatter",
           "x": [
            0,
            0,
            10,
            10,
            0
           ],
           "y": [
            0,
            53.5,
            53.5,
            0,
            0
           ]
          },
          {
           "fill": "toself",
           "fillcolor": "#0B2265",
           "hoverinfo": "skip",
           "line": {
            "color": "white",
            "width": 3
           },
           "mode": "lines",
           "opacity": 1,
           "showlegend": false,
           "type": "scatter",
           "x": [
            110,
            110,
            120,
            120,
            110
           ],
           "y": [
            0,
            53.5,
            53.5,
            0,
            0
           ]
          },
          {
           "hoverinfo": "text",
           "hovertext": [
            "nflId:42365.0<br>displayName:Bud Dupree<br>Player Speed:4.84 yd/s",
            "nflId:43353.0<br>displayName:Kevin Byard<br>Player Speed:3.7 yd/s",
            "nflId:44869.0<br>displayName:Zach Cunningham<br>Player Speed:5.2 yd/s",
            "nflId:46457.0<br>displayName:Olasunkanmi Adeniyi<br>Player Speed:5.24 yd/s",
            "nflId:47802.0<br>displayName:Jeffery Simmons<br>Player Speed:1.31 yd/s",
            "nflId:47899.0<br>displayName:Amani Hooker<br>Player Speed:3.66 yd/s",
            "nflId:47915.0<br>displayName:Ugochukwu Amadi<br>Player Speed:5.3 yd/s",
            "nflId:47971.0<br>displayName:David Long<br>Player Speed:3.86 yd/s",
            "nflId:52469.0<br>displayName:Kristian Fulton<br>Player Speed:4.64 yd/s",
            "nflId:53073.0<br>displayName:Teair Tart<br>Player Speed:1.94 yd/s",
            "nflId:54500.0<br>displayName:Roger McCreary<br>Player Speed:3.89 yd/s"
           ],
           "marker": {
            "color": "#4B92DB",
            "line": {
             "color": "#0C2340",
             "width": 2
            },
            "size": 10
           },
           "mode": "markers",
           "name": "TEN",
           "type": "scatter",
           "x": [
            67.27,
            32.99,
            53.09,
            61.69,
            60.52,
            40.97,
            54.84,
            51.81,
            38.18,
            54.68,
            43.47
           ],
           "y": [
            36.38,
            50.78,
            35.98,
            37.53,
            32.25,
            28.28,
            20.48,
            30.31,
            26.14,
            31.25,
            49.24
           ]
          },
          {
           "hoverinfo": "text",
           "hovertext": [
            "nflId:42471.0<br>displayName:Jon Feliciano<br>Player Speed:1.91 yd/s",
            "nflId:42477.0<br>displayName:Mark Glowinski<br>Player Speed:0.72 yd/s",
            "nflId:44908.0<br>displayName:Kenny Golladay<br>Player Speed:4.78 yd/s",
            "nflId:46071.0<br>displayName:Saquon Barkley<br>Player Speed:2.75 yd/s",
            "nflId:46309.0<br>displayName:Richie James<br>Player Speed:5.98 yd/s",
            "nflId:47789.0<br>displayName:Daniel Jones<br>Player Speed:1.62 yd/s",
            "nflId:48489.0<br>displayName:David Sills<br>Player Speed:3.74 yd/s",
            "nflId:52412.0<br>displayName:Andrew Thomas<br>Player Speed:3.77 yd/s",
            "nflId:54472.0<br>displayName:Evan Neal<br>Player Speed:3.67 yd/s",
            "nflId:54532.0<br>displayName:Joshua Ezeudu<br>Player Speed:4.6 yd/s",
            "nflId:54577.0<br>displayName:Daniel Bellinger<br>Player Speed:6.85 yd/s"
           ],
           "marker": {
            "color": "#0B2265",
            "line": {
             "color": "#A71930",
             "width": 2
            },
            "size": 10
           },
           "mode": "markers",
           "name": "NYG",
           "type": "scatter",
           "x": [
            60.92,
            54.61,
            38.81,
            62.75,
            52.17,
            61.22,
            35.87,
            66.55,
            62.22,
            63.41,
            59.4
           ],
           "y": [
            26.86,
            32.36,
            26.07,
            17.85,
            34.11,
            34.29,
            52.38,
            35.64,
            36.17,
            33.06,
            48.52
           ]
          },
          {
           "hoverinfo": "none",
           "marker": {
            "color": "#CBB67C",
            "line": {
             "color": "#663831",
             "width": 2
            },
            "size": 10
           },
           "mode": "markers",
           "name": "football",
           "type": "scatter",
           "x": [
            67.25
           ],
           "y": [
            36.5299987792969
           ]
          }
         ],
         "name": "93"
        },
        {
         "data": [
          {
           "hoverinfo": "none",
           "mode": "text",
           "showlegend": false,
           "text": [
            "10",
            "20",
            "30",
            "40",
            "50",
            "40",
            "30",
            "20",
            "10"
           ],
           "textfont": {
            "color": "#ffffff",
            "family": "Courier New, monospace",
            "size": 30
           },
           "type": "scatter",
           "x": [
            20,
            30,
            40,
            50,
            60,
            70,
            80,
            90,
            100
           ],
           "y": [
            5,
            5,
            5,
            5,
            5,
            5,
            5,
            5,
            5
           ]
          },
          {
           "hoverinfo": "none",
           "mode": "text",
           "showlegend": false,
           "text": [
            "10",
            "20",
            "30",
            "40",
            "50",
            "40",
            "30",
            "20",
            "10"
           ],
           "textfont": {
            "color": "#ffffff",
            "family": "Courier New, monospace",
            "size": 30
           },
           "type": "scatter",
           "x": [
            20,
            30,
            40,
            50,
            60,
            70,
            80,
            90,
            100
           ],
           "y": [
            48.5,
            48.5,
            48.5,
            48.5,
            48.5,
            48.5,
            48.5,
            48.5,
            48.5
           ]
          },
          {
           "hoverinfo": "none",
           "line": {
            "color": "blue",
            "dash": "dash"
           },
           "showlegend": false,
           "type": "scatter",
           "x": [
            52,
            52
           ],
           "y": [
            0,
            53.5
           ]
          },
          {
           "hoverinfo": "none",
           "line": {
            "color": "yellow",
            "dash": "dash"
           },
           "showlegend": false,
           "type": "scatter",
           "x": [
            44,
            44
           ],
           "y": [
            0,
            53.5
           ]
          },
          {
           "fill": "toself",
           "fillcolor": "#4B92DB",
           "hoverinfo": "skip",
           "line": {
            "color": "white",
            "width": 3
           },
           "mode": "lines",
           "opacity": 1,
           "showlegend": false,
           "type": "scatter",
           "x": [
            0,
            0,
            10,
            10,
            0
           ],
           "y": [
            0,
            53.5,
            53.5,
            0,
            0
           ]
          },
          {
           "fill": "toself",
           "fillcolor": "#0B2265",
           "hoverinfo": "skip",
           "line": {
            "color": "white",
            "width": 3
           },
           "mode": "lines",
           "opacity": 1,
           "showlegend": false,
           "type": "scatter",
           "x": [
            110,
            110,
            120,
            120,
            110
           ],
           "y": [
            0,
            53.5,
            53.5,
            0,
            0
           ]
          },
          {
           "hoverinfo": "text",
           "hovertext": [
            "nflId:42365.0<br>displayName:Bud Dupree<br>Player Speed:4.71 yd/s",
            "nflId:43353.0<br>displayName:Kevin Byard<br>Player Speed:3.71 yd/s",
            "nflId:44869.0<br>displayName:Zach Cunningham<br>Player Speed:5.27 yd/s",
            "nflId:46457.0<br>displayName:Olasunkanmi Adeniyi<br>Player Speed:5.48 yd/s",
            "nflId:47802.0<br>displayName:Jeffery Simmons<br>Player Speed:1.42 yd/s",
            "nflId:47899.0<br>displayName:Amani Hooker<br>Player Speed:3.6 yd/s",
            "nflId:47915.0<br>displayName:Ugochukwu Amadi<br>Player Speed:5.25 yd/s",
            "nflId:47971.0<br>displayName:David Long<br>Player Speed:3.91 yd/s",
            "nflId:52469.0<br>displayName:Kristian Fulton<br>Player Speed:4.51 yd/s",
            "nflId:53073.0<br>displayName:Teair Tart<br>Player Speed:2.08 yd/s",
            "nflId:54500.0<br>displayName:Roger McCreary<br>Player Speed:3.87 yd/s"
           ],
           "marker": {
            "color": "#4B92DB",
            "line": {
             "color": "#0C2340",
             "width": 2
            },
            "size": 10
           },
           "mode": "markers",
           "name": "TEN",
           "type": "scatter",
           "x": [
            67.71,
            33.31,
            53.59,
            62.21,
            60.66,
            41.33,
            55.22,
            52.16,
            38.44,
            54.84,
            43.86
           ],
           "y": [
            36.57,
            50.96,
            36.12,
            37.67,
            32.23,
            28.26,
            20.83,
            30.48,
            26.52,
            31.12,
            49.18
           ]
          },
          {
           "hoverinfo": "text",
           "hovertext": [
            "nflId:42471.0<br>displayName:Jon Feliciano<br>Player Speed:2.11 yd/s",
            "nflId:42477.0<br>displayName:Mark Glowinski<br>Player Speed:0.72 yd/s",
            "nflId:44908.0<br>displayName:Kenny Golladay<br>Player Speed:4.77 yd/s",
            "nflId:46071.0<br>displayName:Saquon Barkley<br>Player Speed:2.72 yd/s",
            "nflId:46309.0<br>displayName:Richie James<br>Player Speed:6.12 yd/s",
            "nflId:47789.0<br>displayName:Daniel Jones<br>Player Speed:1.46 yd/s",
            "nflId:48489.0<br>displayName:David Sills<br>Player Speed:3.68 yd/s",
            "nflId:52412.0<br>displayName:Andrew Thomas<br>Player Speed:3.29 yd/s",
            "nflId:54472.0<br>displayName:Evan Neal<br>Player Speed:3.98 yd/s",
            "nflId:54532.0<br>displayName:Joshua Ezeudu<br>Player Speed:4.53 yd/s",
            "nflId:54577.0<br>displayName:Daniel Bellinger<br>Player Speed:6.95 yd/s"
           ],
           "marker": {
            "color": "#0B2265",
            "line": {
             "color": "#A71930",
             "width": 2
            },
            "size": 10
           },
           "mode": "markers",
           "name": "NYG",
           "type": "scatter",
           "x": [
            61.11,
            54.65,
            39.06,
            62.93,
            52.76,
            61.36,
            36.17,
            66.84,
            62.6,
            63.81,
            60.06
           ],
           "y": [
            26.95,
            32.3,
            26.48,
            18.05,
            34.22,
            34.35,
            52.6,
            35.82,
            36.24,
            33.3,
            48.31
           ]
          },
          {
           "hoverinfo": "none",
           "marker": {
            "color": "#CBB67C",
            "line": {
             "color": "#663831",
             "width": 2
            },
            "size": 10
           },
           "mode": "markers",
           "name": "football",
           "type": "scatter",
           "x": [
            67.4100036621094
           ],
           "y": [
            36.6500015258789
           ]
          }
         ],
         "name": "94"
        },
        {
         "data": [
          {
           "hoverinfo": "none",
           "mode": "text",
           "showlegend": false,
           "text": [
            "10",
            "20",
            "30",
            "40",
            "50",
            "40",
            "30",
            "20",
            "10"
           ],
           "textfont": {
            "color": "#ffffff",
            "family": "Courier New, monospace",
            "size": 30
           },
           "type": "scatter",
           "x": [
            20,
            30,
            40,
            50,
            60,
            70,
            80,
            90,
            100
           ],
           "y": [
            5,
            5,
            5,
            5,
            5,
            5,
            5,
            5,
            5
           ]
          },
          {
           "hoverinfo": "none",
           "mode": "text",
           "showlegend": false,
           "text": [
            "10",
            "20",
            "30",
            "40",
            "50",
            "40",
            "30",
            "20",
            "10"
           ],
           "textfont": {
            "color": "#ffffff",
            "family": "Courier New, monospace",
            "size": 30
           },
           "type": "scatter",
           "x": [
            20,
            30,
            40,
            50,
            60,
            70,
            80,
            90,
            100
           ],
           "y": [
            48.5,
            48.5,
            48.5,
            48.5,
            48.5,
            48.5,
            48.5,
            48.5,
            48.5
           ]
          },
          {
           "hoverinfo": "none",
           "line": {
            "color": "blue",
            "dash": "dash"
           },
           "showlegend": false,
           "type": "scatter",
           "x": [
            52,
            52
           ],
           "y": [
            0,
            53.5
           ]
          },
          {
           "hoverinfo": "none",
           "line": {
            "color": "yellow",
            "dash": "dash"
           },
           "showlegend": false,
           "type": "scatter",
           "x": [
            44,
            44
           ],
           "y": [
            0,
            53.5
           ]
          },
          {
           "fill": "toself",
           "fillcolor": "#4B92DB",
           "hoverinfo": "skip",
           "line": {
            "color": "white",
            "width": 3
           },
           "mode": "lines",
           "opacity": 1,
           "showlegend": false,
           "type": "scatter",
           "x": [
            0,
            0,
            10,
            10,
            0
           ],
           "y": [
            0,
            53.5,
            53.5,
            0,
            0
           ]
          },
          {
           "fill": "toself",
           "fillcolor": "#0B2265",
           "hoverinfo": "skip",
           "line": {
            "color": "white",
            "width": 3
           },
           "mode": "lines",
           "opacity": 1,
           "showlegend": false,
           "type": "scatter",
           "x": [
            110,
            110,
            120,
            120,
            110
           ],
           "y": [
            0,
            53.5,
            53.5,
            0,
            0
           ]
          },
          {
           "hoverinfo": "text",
           "hovertext": [
            "nflId:42365.0<br>displayName:Bud Dupree<br>Player Speed:3.87 yd/s",
            "nflId:43353.0<br>displayName:Kevin Byard<br>Player Speed:3.77 yd/s",
            "nflId:44869.0<br>displayName:Zach Cunningham<br>Player Speed:5.29 yd/s",
            "nflId:46457.0<br>displayName:Olasunkanmi Adeniyi<br>Player Speed:5.7 yd/s",
            "nflId:47802.0<br>displayName:Jeffery Simmons<br>Player Speed:1.56 yd/s",
            "nflId:47899.0<br>displayName:Amani Hooker<br>Player Speed:3.58 yd/s",
            "nflId:47915.0<br>displayName:Ugochukwu Amadi<br>Player Speed:5.18 yd/s",
            "nflId:47971.0<br>displayName:David Long<br>Player Speed:3.92 yd/s",
            "nflId:52469.0<br>displayName:Kristian Fulton<br>Player Speed:4.39 yd/s",
            "nflId:53073.0<br>displayName:Teair Tart<br>Player Speed:2.2 yd/s",
            "nflId:54500.0<br>displayName:Roger McCreary<br>Player Speed:3.75 yd/s"
           ],
           "marker": {
            "color": "#4B92DB",
            "line": {
             "color": "#0C2340",
             "width": 2
            },
            "size": 10
           },
           "mode": "markers",
           "name": "TEN",
           "type": "scatter",
           "x": [
            68.08,
            33.65,
            54.1,
            62.75,
            60.81,
            41.69,
            55.61,
            52.51,
            38.7,
            55.02,
            44.23
           ],
           "y": [
            36.72,
            51.11,
            36.27,
            37.79,
            32.21,
            28.25,
            21.18,
            30.65,
            26.88,
            31.01,
            49.11
           ]
          },
          {
           "hoverinfo": "text",
           "hovertext": [
            "nflId:42471.0<br>displayName:Jon Feliciano<br>Player Speed:2.28 yd/s",
            "nflId:42477.0<br>displayName:Mark Glowinski<br>Player Speed:0.84 yd/s",
            "nflId:44908.0<br>displayName:Kenny Golladay<br>Player Speed:4.77 yd/s",
            "nflId:46071.0<br>displayName:Saquon Barkley<br>Player Speed:2.68 yd/s",
            "nflId:46309.0<br>displayName:Richie James<br>Player Speed:6.22 yd/s",
            "nflId:47789.0<br>displayName:Daniel Jones<br>Player Speed:1.37 yd/s",
            "nflId:48489.0<br>displayName:David Sills<br>Player Speed:3.64 yd/s",
            "nflId:52412.0<br>displayName:Andrew Thomas<br>Player Speed:2.99 yd/s",
            "nflId:54472.0<br>displayName:Evan Neal<br>Player Speed:4.26 yd/s",
            "nflId:54532.0<br>displayName:Joshua Ezeudu<br>Player Speed:4.53 yd/s",
            "nflId:54577.0<br>displayName:Daniel Bellinger<br>Player Speed:6.98 yd/s"
           ],
           "marker": {
            "color": "#0B2265",
            "line": {
             "color": "#A71930",
             "width": 2
            },
            "size": 10
           },
           "mode": "markers",
           "name": "NYG",
           "type": "scatter",
           "x": [
            61.31,
            54.7,
            39.32,
            63.1,
            53.37,
            61.49,
            36.49,
            67.12,
            63.02,
            64.22,
            60.71
           ],
           "y": [
            27.06,
            32.23,
            26.88,
            18.26,
            34.32,
            34.4,
            52.78,
            36.01,
            36.33,
            33.52,
            48.07
           ]
          },
          {
           "hoverinfo": "none",
           "marker": {
            "color": "#CBB67C",
            "line": {
             "color": "#663831",
             "width": 2
            },
            "size": 10
           },
           "mode": "markers",
           "name": "football",
           "type": "scatter",
           "x": [
            67.5800018310547
           ],
           "y": [
            36.7599983215332
           ]
          }
         ],
         "name": "95"
        },
        {
         "data": [
          {
           "hoverinfo": "none",
           "mode": "text",
           "showlegend": false,
           "text": [
            "10",
            "20",
            "30",
            "40",
            "50",
            "40",
            "30",
            "20",
            "10"
           ],
           "textfont": {
            "color": "#ffffff",
            "family": "Courier New, monospace",
            "size": 30
           },
           "type": "scatter",
           "x": [
            20,
            30,
            40,
            50,
            60,
            70,
            80,
            90,
            100
           ],
           "y": [
            5,
            5,
            5,
            5,
            5,
            5,
            5,
            5,
            5
           ]
          },
          {
           "hoverinfo": "none",
           "mode": "text",
           "showlegend": false,
           "text": [
            "10",
            "20",
            "30",
            "40",
            "50",
            "40",
            "30",
            "20",
            "10"
           ],
           "textfont": {
            "color": "#ffffff",
            "family": "Courier New, monospace",
            "size": 30
           },
           "type": "scatter",
           "x": [
            20,
            30,
            40,
            50,
            60,
            70,
            80,
            90,
            100
           ],
           "y": [
            48.5,
            48.5,
            48.5,
            48.5,
            48.5,
            48.5,
            48.5,
            48.5,
            48.5
           ]
          },
          {
           "hoverinfo": "none",
           "line": {
            "color": "blue",
            "dash": "dash"
           },
           "showlegend": false,
           "type": "scatter",
           "x": [
            52,
            52
           ],
           "y": [
            0,
            53.5
           ]
          },
          {
           "hoverinfo": "none",
           "line": {
            "color": "yellow",
            "dash": "dash"
           },
           "showlegend": false,
           "type": "scatter",
           "x": [
            44,
            44
           ],
           "y": [
            0,
            53.5
           ]
          },
          {
           "fill": "toself",
           "fillcolor": "#4B92DB",
           "hoverinfo": "skip",
           "line": {
            "color": "white",
            "width": 3
           },
           "mode": "lines",
           "opacity": 1,
           "showlegend": false,
           "type": "scatter",
           "x": [
            0,
            0,
            10,
            10,
            0
           ],
           "y": [
            0,
            53.5,
            53.5,
            0,
            0
           ]
          },
          {
           "fill": "toself",
           "fillcolor": "#0B2265",
           "hoverinfo": "skip",
           "line": {
            "color": "white",
            "width": 3
           },
           "mode": "lines",
           "opacity": 1,
           "showlegend": false,
           "type": "scatter",
           "x": [
            110,
            110,
            120,
            120,
            110
           ],
           "y": [
            0,
            53.5,
            53.5,
            0,
            0
           ]
          },
          {
           "hoverinfo": "text",
           "hovertext": [
            "nflId:42365.0<br>displayName:Bud Dupree<br>Player Speed:3.32 yd/s",
            "nflId:43353.0<br>displayName:Kevin Byard<br>Player Speed:3.82 yd/s",
            "nflId:44869.0<br>displayName:Zach Cunningham<br>Player Speed:5.33 yd/s",
            "nflId:46457.0<br>displayName:Olasunkanmi Adeniyi<br>Player Speed:5.78 yd/s",
            "nflId:47802.0<br>displayName:Jeffery Simmons<br>Player Speed:1.7 yd/s",
            "nflId:47899.0<br>displayName:Amani Hooker<br>Player Speed:3.55 yd/s",
            "nflId:47915.0<br>displayName:Ugochukwu Amadi<br>Player Speed:5.13 yd/s",
            "nflId:47971.0<br>displayName:David Long<br>Player Speed:3.94 yd/s",
            "nflId:52469.0<br>displayName:Kristian Fulton<br>Player Speed:4.18 yd/s",
            "nflId:53073.0<br>displayName:Teair Tart<br>Player Speed:2.33 yd/s",
            "nflId:54500.0<br>displayName:Roger McCreary<br>Player Speed:3.6 yd/s"
           ],
           "marker": {
            "color": "#4B92DB",
            "line": {
             "color": "#0C2340",
             "width": 2
            },
            "size": 10
           },
           "mode": "markers",
           "name": "TEN",
           "type": "scatter",
           "x": [
            68.4,
            34.01,
            54.6,
            63.32,
            60.98,
            42.04,
            56,
            52.85,
            38.96,
            55.23,
            44.58
           ],
           "y": [
            36.85,
            51.25,
            36.44,
            37.91,
            32.17,
            28.25,
            21.52,
            30.84,
            27.22,
            30.91,
            49.03
           ]
          },
          {
           "hoverinfo": "text",
           "hovertext": [
            "nflId:42471.0<br>displayName:Jon Feliciano<br>Player Speed:2.46 yd/s",
            "nflId:42477.0<br>displayName:Mark Glowinski<br>Player Speed:0.91 yd/s",
            "nflId:44908.0<br>displayName:Kenny Golladay<br>Player Speed:4.74 yd/s",
            "nflId:46071.0<br>displayName:Saquon Barkley<br>Player Speed:2.66 yd/s",
            "nflId:46309.0<br>displayName:Richie James<br>Player Speed:6.29 yd/s",
            "nflId:47789.0<br>displayName:Daniel Jones<br>Player Speed:1.36 yd/s",
            "nflId:48489.0<br>displayName:David Sills<br>Player Speed:3.63 yd/s",
            "nflId:52412.0<br>displayName:Andrew Thomas<br>Player Speed:2.7 yd/s",
            "nflId:54472.0<br>displayName:Evan Neal<br>Player Speed:4.58 yd/s",
            "nflId:54532.0<br>displayName:Joshua Ezeudu<br>Player Speed:4.52 yd/s",
            "nflId:54577.0<br>displayName:Daniel Bellinger<br>Player Speed:6.98 yd/s"
           ],
           "marker": {
            "color": "#0B2265",
            "line": {
             "color": "#A71930",
             "width": 2
            },
            "size": 10
           },
           "mode": "markers",
           "name": "NYG",
           "type": "scatter",
           "x": [
            61.53,
            54.77,
            39.59,
            63.27,
            53.99,
            61.63,
            36.81,
            67.36,
            63.47,
            64.63,
            61.36
           ],
           "y": [
            27.17,
            32.18,
            27.27,
            18.46,
            34.42,
            34.44,
            52.94,
            36.14,
            36.43,
            33.74,
            47.81
           ]
          },
          {
           "hoverinfo": "none",
           "marker": {
            "color": "#CBB67C",
            "line": {
             "color": "#663831",
             "width": 2
            },
            "size": 10
           },
           "mode": "markers",
           "name": "football",
           "type": "scatter",
           "x": [
            67.6800003051758
           ],
           "y": [
            36.8300018310547
           ]
          }
         ],
         "name": "96"
        },
        {
         "data": [
          {
           "hoverinfo": "none",
           "mode": "text",
           "showlegend": false,
           "text": [
            "10",
            "20",
            "30",
            "40",
            "50",
            "40",
            "30",
            "20",
            "10"
           ],
           "textfont": {
            "color": "#ffffff",
            "family": "Courier New, monospace",
            "size": 30
           },
           "type": "scatter",
           "x": [
            20,
            30,
            40,
            50,
            60,
            70,
            80,
            90,
            100
           ],
           "y": [
            5,
            5,
            5,
            5,
            5,
            5,
            5,
            5,
            5
           ]
          },
          {
           "hoverinfo": "none",
           "mode": "text",
           "showlegend": false,
           "text": [
            "10",
            "20",
            "30",
            "40",
            "50",
            "40",
            "30",
            "20",
            "10"
           ],
           "textfont": {
            "color": "#ffffff",
            "family": "Courier New, monospace",
            "size": 30
           },
           "type": "scatter",
           "x": [
            20,
            30,
            40,
            50,
            60,
            70,
            80,
            90,
            100
           ],
           "y": [
            48.5,
            48.5,
            48.5,
            48.5,
            48.5,
            48.5,
            48.5,
            48.5,
            48.5
           ]
          },
          {
           "hoverinfo": "none",
           "line": {
            "color": "blue",
            "dash": "dash"
           },
           "showlegend": false,
           "type": "scatter",
           "x": [
            52,
            52
           ],
           "y": [
            0,
            53.5
           ]
          },
          {
           "hoverinfo": "none",
           "line": {
            "color": "yellow",
            "dash": "dash"
           },
           "showlegend": false,
           "type": "scatter",
           "x": [
            44,
            44
           ],
           "y": [
            0,
            53.5
           ]
          },
          {
           "fill": "toself",
           "fillcolor": "#4B92DB",
           "hoverinfo": "skip",
           "line": {
            "color": "white",
            "width": 3
           },
           "mode": "lines",
           "opacity": 1,
           "showlegend": false,
           "type": "scatter",
           "x": [
            0,
            0,
            10,
            10,
            0
           ],
           "y": [
            0,
            53.5,
            53.5,
            0,
            0
           ]
          },
          {
           "fill": "toself",
           "fillcolor": "#0B2265",
           "hoverinfo": "skip",
           "line": {
            "color": "white",
            "width": 3
           },
           "mode": "lines",
           "opacity": 1,
           "showlegend": false,
           "type": "scatter",
           "x": [
            110,
            110,
            120,
            120,
            110
           ],
           "y": [
            0,
            53.5,
            53.5,
            0,
            0
           ]
          },
          {
           "hoverinfo": "text",
           "hovertext": [
            "nflId:42365.0<br>displayName:Bud Dupree<br>Player Speed:2.78 yd/s",
            "nflId:43353.0<br>displayName:Kevin Byard<br>Player Speed:3.97 yd/s",
            "nflId:44869.0<br>displayName:Zach Cunningham<br>Player Speed:5.37 yd/s",
            "nflId:46457.0<br>displayName:Olasunkanmi Adeniyi<br>Player Speed:5.77 yd/s",
            "nflId:47802.0<br>displayName:Jeffery Simmons<br>Player Speed:1.87 yd/s",
            "nflId:47899.0<br>displayName:Amani Hooker<br>Player Speed:3.55 yd/s",
            "nflId:47915.0<br>displayName:Ugochukwu Amadi<br>Player Speed:5.1 yd/s",
            "nflId:47971.0<br>displayName:David Long<br>Player Speed:3.93 yd/s",
            "nflId:52469.0<br>displayName:Kristian Fulton<br>Player Speed:4.0 yd/s",
            "nflId:53073.0<br>displayName:Teair Tart<br>Player Speed:2.45 yd/s",
            "nflId:54500.0<br>displayName:Roger McCreary<br>Player Speed:3.46 yd/s"
           ],
           "marker": {
            "color": "#4B92DB",
            "line": {
             "color": "#0C2340",
             "width": 2
            },
            "size": 10
           },
           "mode": "markers",
           "name": "TEN",
           "type": "scatter",
           "x": [
            68.68,
            34.38,
            55.1,
            63.88,
            61.16,
            42.4,
            56.4,
            53.19,
            39.23,
            55.46,
            44.93
           ],
           "y": [
            36.97,
            51.36,
            36.62,
            38.02,
            32.1,
            28.25,
            21.85,
            31.05,
            27.53,
            30.82,
            48.94
           ]
          },
          {
           "hoverinfo": "text",
           "hovertext": [
            "nflId:42471.0<br>displayName:Jon Feliciano<br>Player Speed:2.66 yd/s",
            "nflId:42477.0<br>displayName:Mark Glowinski<br>Player Speed:0.98 yd/s",
            "nflId:44908.0<br>displayName:Kenny Golladay<br>Player Speed:4.71 yd/s",
            "nflId:46071.0<br>displayName:Saquon Barkley<br>Player Speed:2.57 yd/s",
            "nflId:46309.0<br>displayName:Richie James<br>Player Speed:6.33 yd/s",
            "nflId:47789.0<br>displayName:Daniel Jones<br>Player Speed:1.32 yd/s",
            "nflId:48489.0<br>displayName:David Sills<br>Player Speed:3.61 yd/s",
            "nflId:52412.0<br>displayName:Andrew Thomas<br>Player Speed:2.35 yd/s",
            "nflId:54472.0<br>displayName:Evan Neal<br>Player Speed:4.78 yd/s",
            "nflId:54532.0<br>displayName:Joshua Ezeudu<br>Player Speed:4.55 yd/s",
            "nflId:54577.0<br>displayName:Daniel Bellinger<br>Player Speed:6.93 yd/s"
           ],
           "marker": {
            "color": "#0B2265",
            "line": {
             "color": "#A71930",
             "width": 2
            },
            "size": 10
           },
           "mode": "markers",
           "name": "NYG",
           "type": "scatter",
           "x": [
            61.77,
            54.86,
            39.87,
            63.43,
            54.61,
            61.76,
            37.15,
            67.58,
            63.94,
            65.06,
            61.99
           ],
           "y": [
            27.31,
            32.13,
            27.65,
            18.67,
            34.51,
            34.46,
            53.08,
            36.27,
            36.53,
            33.95,
            47.53
           ]
          },
          {
           "hoverinfo": "none",
           "marker": {
            "color": "#CBB67C",
            "line": {
             "color": "#663831",
             "width": 2
            },
            "size": 10
           },
           "mode": "markers",
           "name": "football",
           "type": "scatter",
           "x": [
            67.7900009155273
           ],
           "y": [
            36.9099998474121
           ]
          }
         ],
         "name": "97"
        },
        {
         "data": [
          {
           "hoverinfo": "none",
           "mode": "text",
           "showlegend": false,
           "text": [
            "10",
            "20",
            "30",
            "40",
            "50",
            "40",
            "30",
            "20",
            "10"
           ],
           "textfont": {
            "color": "#ffffff",
            "family": "Courier New, monospace",
            "size": 30
           },
           "type": "scatter",
           "x": [
            20,
            30,
            40,
            50,
            60,
            70,
            80,
            90,
            100
           ],
           "y": [
            5,
            5,
            5,
            5,
            5,
            5,
            5,
            5,
            5
           ]
          },
          {
           "hoverinfo": "none",
           "mode": "text",
           "showlegend": false,
           "text": [
            "10",
            "20",
            "30",
            "40",
            "50",
            "40",
            "30",
            "20",
            "10"
           ],
           "textfont": {
            "color": "#ffffff",
            "family": "Courier New, monospace",
            "size": 30
           },
           "type": "scatter",
           "x": [
            20,
            30,
            40,
            50,
            60,
            70,
            80,
            90,
            100
           ],
           "y": [
            48.5,
            48.5,
            48.5,
            48.5,
            48.5,
            48.5,
            48.5,
            48.5,
            48.5
           ]
          },
          {
           "hoverinfo": "none",
           "line": {
            "color": "blue",
            "dash": "dash"
           },
           "showlegend": false,
           "type": "scatter",
           "x": [
            52,
            52
           ],
           "y": [
            0,
            53.5
           ]
          },
          {
           "hoverinfo": "none",
           "line": {
            "color": "yellow",
            "dash": "dash"
           },
           "showlegend": false,
           "type": "scatter",
           "x": [
            44,
            44
           ],
           "y": [
            0,
            53.5
           ]
          },
          {
           "fill": "toself",
           "fillcolor": "#4B92DB",
           "hoverinfo": "skip",
           "line": {
            "color": "white",
            "width": 3
           },
           "mode": "lines",
           "opacity": 1,
           "showlegend": false,
           "type": "scatter",
           "x": [
            0,
            0,
            10,
            10,
            0
           ],
           "y": [
            0,
            53.5,
            53.5,
            0,
            0
           ]
          },
          {
           "fill": "toself",
           "fillcolor": "#0B2265",
           "hoverinfo": "skip",
           "line": {
            "color": "white",
            "width": 3
           },
           "mode": "lines",
           "opacity": 1,
           "showlegend": false,
           "type": "scatter",
           "x": [
            110,
            110,
            120,
            120,
            110
           ],
           "y": [
            0,
            53.5,
            53.5,
            0,
            0
           ]
          },
          {
           "hoverinfo": "text",
           "hovertext": [
            "nflId:42365.0<br>displayName:Bud Dupree<br>Player Speed:2.29 yd/s",
            "nflId:43353.0<br>displayName:Kevin Byard<br>Player Speed:4.03 yd/s",
            "nflId:44869.0<br>displayName:Zach Cunningham<br>Player Speed:5.34 yd/s",
            "nflId:46457.0<br>displayName:Olasunkanmi Adeniyi<br>Player Speed:5.72 yd/s",
            "nflId:47802.0<br>displayName:Jeffery Simmons<br>Player Speed:2.08 yd/s",
            "nflId:47899.0<br>displayName:Amani Hooker<br>Player Speed:3.54 yd/s",
            "nflId:47915.0<br>displayName:Ugochukwu Amadi<br>Player Speed:5.06 yd/s",
            "nflId:47971.0<br>displayName:David Long<br>Player Speed:3.92 yd/s",
            "nflId:52469.0<br>displayName:Kristian Fulton<br>Player Speed:3.85 yd/s",
            "nflId:53073.0<br>displayName:Teair Tart<br>Player Speed:2.49 yd/s",
            "nflId:54500.0<br>displayName:Roger McCreary<br>Player Speed:3.26 yd/s"
           ],
           "marker": {
            "color": "#4B92DB",
            "line": {
             "color": "#0C2340",
             "width": 2
            },
            "size": 10
           },
           "mode": "markers",
           "name": "TEN",
           "type": "scatter",
           "x": [
            68.92,
            34.77,
            55.61,
            64.45,
            61.35,
            42.76,
            56.8,
            53.53,
            39.5,
            55.7,
            45.25
           ],
           "y": [
            37.06,
            51.46,
            36.8,
            38.1,
            32,
            28.27,
            22.17,
            31.25,
            27.82,
            30.74,
            48.84
           ]
          },
          {
           "hoverinfo": "text",
           "hovertext": [
            "nflId:42471.0<br>displayName:Jon Feliciano<br>Player Speed:2.82 yd/s",
            "nflId:42477.0<br>displayName:Mark Glowinski<br>Player Speed:1.05 yd/s",
            "nflId:44908.0<br>displayName:Kenny Golladay<br>Player Speed:4.68 yd/s",
            "nflId:46071.0<br>displayName:Saquon Barkley<br>Player Speed:2.44 yd/s",
            "nflId:46309.0<br>displayName:Richie James<br>Player Speed:6.33 yd/s",
            "nflId:47789.0<br>displayName:Daniel Jones<br>Player Speed:1.29 yd/s",
            "nflId:48489.0<br>displayName:David Sills<br>Player Speed:3.53 yd/s",
            "nflId:52412.0<br>displayName:Andrew Thomas<br>Player Speed:2.01 yd/s",
            "nflId:54472.0<br>displayName:Evan Neal<br>Player Speed:4.84 yd/s",
            "nflId:54532.0<br>displayName:Joshua Ezeudu<br>Player Speed:4.49 yd/s",
            "nflId:54577.0<br>displayName:Daniel Bellinger<br>Player Speed:6.85 yd/s"
           ],
           "marker": {
            "color": "#0B2265",
            "line": {
             "color": "#A71930",
             "width": 2
            },
            "size": 10
           },
           "mode": "markers",
           "name": "NYG",
           "type": "scatter",
           "x": [
            62.02,
            54.95,
            40.16,
            63.57,
            55.24,
            61.89,
            37.48,
            67.76,
            64.41,
            65.48,
            62.61
           ],
           "y": [
            27.47,
            32.09,
            28.02,
            18.87,
            34.59,
            34.47,
            53.17,
            36.38,
            36.65,
            34.14,
            47.22
           ]
          },
          {
           "hoverinfo": "none",
           "marker": {
            "color": "#CBB67C",
            "line": {
             "color": "#663831",
             "width": 2
            },
            "size": 10
           },
           "mode": "markers",
           "name": "football",
           "type": "scatter",
           "x": [
            67.8600006103516
           ],
           "y": [
            36.9500007629395
           ]
          }
         ],
         "name": "98"
        },
        {
         "data": [
          {
           "hoverinfo": "none",
           "mode": "text",
           "showlegend": false,
           "text": [
            "10",
            "20",
            "30",
            "40",
            "50",
            "40",
            "30",
            "20",
            "10"
           ],
           "textfont": {
            "color": "#ffffff",
            "family": "Courier New, monospace",
            "size": 30
           },
           "type": "scatter",
           "x": [
            20,
            30,
            40,
            50,
            60,
            70,
            80,
            90,
            100
           ],
           "y": [
            5,
            5,
            5,
            5,
            5,
            5,
            5,
            5,
            5
           ]
          },
          {
           "hoverinfo": "none",
           "mode": "text",
           "showlegend": false,
           "text": [
            "10",
            "20",
            "30",
            "40",
            "50",
            "40",
            "30",
            "20",
            "10"
           ],
           "textfont": {
            "color": "#ffffff",
            "family": "Courier New, monospace",
            "size": 30
           },
           "type": "scatter",
           "x": [
            20,
            30,
            40,
            50,
            60,
            70,
            80,
            90,
            100
           ],
           "y": [
            48.5,
            48.5,
            48.5,
            48.5,
            48.5,
            48.5,
            48.5,
            48.5,
            48.5
           ]
          },
          {
           "hoverinfo": "none",
           "line": {
            "color": "blue",
            "dash": "dash"
           },
           "showlegend": false,
           "type": "scatter",
           "x": [
            52,
            52
           ],
           "y": [
            0,
            53.5
           ]
          },
          {
           "hoverinfo": "none",
           "line": {
            "color": "yellow",
            "dash": "dash"
           },
           "showlegend": false,
           "type": "scatter",
           "x": [
            44,
            44
           ],
           "y": [
            0,
            53.5
           ]
          },
          {
           "fill": "toself",
           "fillcolor": "#4B92DB",
           "hoverinfo": "skip",
           "line": {
            "color": "white",
            "width": 3
           },
           "mode": "lines",
           "opacity": 1,
           "showlegend": false,
           "type": "scatter",
           "x": [
            0,
            0,
            10,
            10,
            0
           ],
           "y": [
            0,
            53.5,
            53.5,
            0,
            0
           ]
          },
          {
           "fill": "toself",
           "fillcolor": "#0B2265",
           "hoverinfo": "skip",
           "line": {
            "color": "white",
            "width": 3
           },
           "mode": "lines",
           "opacity": 1,
           "showlegend": false,
           "type": "scatter",
           "x": [
            110,
            110,
            120,
            120,
            110
           ],
           "y": [
            0,
            53.5,
            53.5,
            0,
            0
           ]
          },
          {
           "hoverinfo": "text",
           "hovertext": [
            "nflId:42365.0<br>displayName:Bud Dupree<br>Player Speed:1.74 yd/s",
            "nflId:43353.0<br>displayName:Kevin Byard<br>Player Speed:4.07 yd/s",
            "nflId:44869.0<br>displayName:Zach Cunningham<br>Player Speed:5.29 yd/s",
            "nflId:46457.0<br>displayName:Olasunkanmi Adeniyi<br>Player Speed:5.67 yd/s",
            "nflId:47802.0<br>displayName:Jeffery Simmons<br>Player Speed:2.29 yd/s",
            "nflId:47899.0<br>displayName:Amani Hooker<br>Player Speed:3.51 yd/s",
            "nflId:47915.0<br>displayName:Ugochukwu Amadi<br>Player Speed:5.01 yd/s",
            "nflId:47971.0<br>displayName:David Long<br>Player Speed:3.92 yd/s",
            "nflId:52469.0<br>displayName:Kristian Fulton<br>Player Speed:3.65 yd/s",
            "nflId:53073.0<br>displayName:Teair Tart<br>Player Speed:2.5 yd/s",
            "nflId:54500.0<br>displayName:Roger McCreary<br>Player Speed:3.01 yd/s"
           ],
           "marker": {
            "color": "#4B92DB",
            "line": {
             "color": "#0C2340",
             "width": 2
            },
            "size": 10
           },
           "mode": "markers",
           "name": "TEN",
           "type": "scatter",
           "x": [
            69.1,
            35.17,
            56.11,
            65.02,
            61.56,
            43.11,
            57.2,
            53.86,
            39.77,
            55.95,
            45.54
           ],
           "y": [
            37.13,
            51.54,
            36.99,
            38.19,
            31.88,
            28.29,
            22.47,
            31.46,
            28.09,
            30.68,
            48.74
           ]
          },
          {
           "hoverinfo": "text",
           "hovertext": [
            "nflId:42471.0<br>displayName:Jon Feliciano<br>Player Speed:2.86 yd/s",
            "nflId:42477.0<br>displayName:Mark Glowinski<br>Player Speed:1.1 yd/s",
            "nflId:44908.0<br>displayName:Kenny Golladay<br>Player Speed:4.61 yd/s",
            "nflId:46071.0<br>displayName:Saquon Barkley<br>Player Speed:2.31 yd/s",
            "nflId:46309.0<br>displayName:Richie James<br>Player Speed:6.28 yd/s",
            "nflId:47789.0<br>displayName:Daniel Jones<br>Player Speed:1.29 yd/s",
            "nflId:48489.0<br>displayName:David Sills<br>Player Speed:3.44 yd/s",
            "nflId:52412.0<br>displayName:Andrew Thomas<br>Player Speed:1.74 yd/s",
            "nflId:54472.0<br>displayName:Evan Neal<br>Player Speed:4.86 yd/s",
            "nflId:54532.0<br>displayName:Joshua Ezeudu<br>Player Speed:4.36 yd/s",
            "nflId:54577.0<br>displayName:Daniel Bellinger<br>Player Speed:6.73 yd/s"
           ],
           "marker": {
            "color": "#0B2265",
            "line": {
             "color": "#A71930",
             "width": 2
            },
            "size": 10
           },
           "mode": "markers",
           "name": "NYG",
           "type": "scatter",
           "x": [
            62.27,
            55.06,
            40.46,
            63.7,
            55.87,
            62.02,
            37.82,
            67.92,
            64.88,
            65.89,
            63.21
           ],
           "y": [
            27.62,
            32.06,
            28.38,
            19.07,
            34.67,
            34.48,
            53.17,
            36.49,
            36.78,
            34.32,
            46.9
           ]
          },
          {
           "hoverinfo": "none",
           "marker": {
            "color": "#CBB67C",
            "line": {
             "color": "#663831",
             "width": 2
            },
            "size": 10
           },
           "mode": "markers",
           "name": "football",
           "type": "scatter",
           "x": [
            67.9100036621094
           ],
           "y": [
            36.9900016784668
           ]
          }
         ],
         "name": "99"
        },
        {
         "data": [
          {
           "hoverinfo": "none",
           "mode": "text",
           "showlegend": false,
           "text": [
            "10",
            "20",
            "30",
            "40",
            "50",
            "40",
            "30",
            "20",
            "10"
           ],
           "textfont": {
            "color": "#ffffff",
            "family": "Courier New, monospace",
            "size": 30
           },
           "type": "scatter",
           "x": [
            20,
            30,
            40,
            50,
            60,
            70,
            80,
            90,
            100
           ],
           "y": [
            5,
            5,
            5,
            5,
            5,
            5,
            5,
            5,
            5
           ]
          },
          {
           "hoverinfo": "none",
           "mode": "text",
           "showlegend": false,
           "text": [
            "10",
            "20",
            "30",
            "40",
            "50",
            "40",
            "30",
            "20",
            "10"
           ],
           "textfont": {
            "color": "#ffffff",
            "family": "Courier New, monospace",
            "size": 30
           },
           "type": "scatter",
           "x": [
            20,
            30,
            40,
            50,
            60,
            70,
            80,
            90,
            100
           ],
           "y": [
            48.5,
            48.5,
            48.5,
            48.5,
            48.5,
            48.5,
            48.5,
            48.5,
            48.5
           ]
          },
          {
           "hoverinfo": "none",
           "line": {
            "color": "blue",
            "dash": "dash"
           },
           "showlegend": false,
           "type": "scatter",
           "x": [
            52,
            52
           ],
           "y": [
            0,
            53.5
           ]
          },
          {
           "hoverinfo": "none",
           "line": {
            "color": "yellow",
            "dash": "dash"
           },
           "showlegend": false,
           "type": "scatter",
           "x": [
            44,
            44
           ],
           "y": [
            0,
            53.5
           ]
          },
          {
           "fill": "toself",
           "fillcolor": "#4B92DB",
           "hoverinfo": "skip",
           "line": {
            "color": "white",
            "width": 3
           },
           "mode": "lines",
           "opacity": 1,
           "showlegend": false,
           "type": "scatter",
           "x": [
            0,
            0,
            10,
            10,
            0
           ],
           "y": [
            0,
            53.5,
            53.5,
            0,
            0
           ]
          },
          {
           "fill": "toself",
           "fillcolor": "#0B2265",
           "hoverinfo": "skip",
           "line": {
            "color": "white",
            "width": 3
           },
           "mode": "lines",
           "opacity": 1,
           "showlegend": false,
           "type": "scatter",
           "x": [
            110,
            110,
            120,
            120,
            110
           ],
           "y": [
            0,
            53.5,
            53.5,
            0,
            0
           ]
          },
          {
           "hoverinfo": "text",
           "hovertext": [
            "nflId:42365.0<br>displayName:Bud Dupree<br>Player Speed:1.21 yd/s",
            "nflId:43353.0<br>displayName:Kevin Byard<br>Player Speed:4.11 yd/s",
            "nflId:44869.0<br>displayName:Zach Cunningham<br>Player Speed:5.26 yd/s",
            "nflId:46457.0<br>displayName:Olasunkanmi Adeniyi<br>Player Speed:5.55 yd/s",
            "nflId:47802.0<br>displayName:Jeffery Simmons<br>Player Speed:2.47 yd/s",
            "nflId:47899.0<br>displayName:Amani Hooker<br>Player Speed:3.5 yd/s",
            "nflId:47915.0<br>displayName:Ugochukwu Amadi<br>Player Speed:4.96 yd/s",
            "nflId:47971.0<br>displayName:David Long<br>Player Speed:3.9 yd/s",
            "nflId:52469.0<br>displayName:Kristian Fulton<br>Player Speed:3.48 yd/s",
            "nflId:53073.0<br>displayName:Teair Tart<br>Player Speed:2.48 yd/s",
            "nflId:54500.0<br>displayName:Roger McCreary<br>Player Speed:2.77 yd/s"
           ],
           "marker": {
            "color": "#4B92DB",
            "line": {
             "color": "#0C2340",
             "width": 2
            },
            "size": 10
           },
           "mode": "markers",
           "name": "TEN",
           "type": "scatter",
           "x": [
            69.23,
            35.58,
            56.6,
            65.57,
            61.78,
            43.46,
            57.62,
            54.19,
            40.04,
            56.2,
            45.81
           ],
           "y": [
            37.17,
            51.6,
            37.18,
            38.26,
            31.74,
            28.31,
            22.74,
            31.67,
            28.32,
            30.62,
            48.63
           ]
          },
          {
           "hoverinfo": "text",
           "hovertext": [
            "nflId:42471.0<br>displayName:Jon Feliciano<br>Player Speed:2.94 yd/s",
            "nflId:42477.0<br>displayName:Mark Glowinski<br>Player Speed:1.17 yd/s",
            "nflId:44908.0<br>displayName:Kenny Golladay<br>Player Speed:4.54 yd/s",
            "nflId:46071.0<br>displayName:Saquon Barkley<br>Player Speed:2.2 yd/s",
            "nflId:46309.0<br>displayName:Richie James<br>Player Speed:6.27 yd/s",
            "nflId:47789.0<br>displayName:Daniel Jones<br>Player Speed:1.28 yd/s",
            "nflId:48489.0<br>displayName:David Sills<br>Player Speed:3.37 yd/s",
            "nflId:52412.0<br>displayName:Andrew Thomas<br>Player Speed:1.52 yd/s",
            "nflId:54472.0<br>displayName:Evan Neal<br>Player Speed:4.89 yd/s",
            "nflId:54532.0<br>displayName:Joshua Ezeudu<br>Player Speed:4.26 yd/s",
            "nflId:54577.0<br>displayName:Daniel Bellinger<br>Player Speed:6.58 yd/s"
           ],
           "marker": {
            "color": "#0B2265",
            "line": {
             "color": "#A71930",
             "width": 2
            },
            "size": 10
           },
           "mode": "markers",
           "name": "NYG",
           "type": "scatter",
           "x": [
            62.53,
            55.18,
            40.76,
            63.83,
            56.49,
            62.15,
            38.16,
            68.05,
            65.36,
            66.3,
            63.78
           ],
           "y": [
            27.8,
            32.03,
            28.72,
            19.26,
            34.76,
            34.46,
            53.17,
            36.58,
            36.92,
            34.48,
            46.56
           ]
          },
          {
           "hoverinfo": "none",
           "marker": {
            "color": "#CBB67C",
            "line": {
             "color": "#663831",
             "width": 2
            },
            "size": 10
           },
           "mode": "markers",
           "name": "football",
           "type": "scatter",
           "x": [
            67.9800033569336
           ],
           "y": [
            37.0299987792969
           ]
          }
         ],
         "name": "100"
        },
        {
         "data": [
          {
           "hoverinfo": "none",
           "mode": "text",
           "showlegend": false,
           "text": [
            "10",
            "20",
            "30",
            "40",
            "50",
            "40",
            "30",
            "20",
            "10"
           ],
           "textfont": {
            "color": "#ffffff",
            "family": "Courier New, monospace",
            "size": 30
           },
           "type": "scatter",
           "x": [
            20,
            30,
            40,
            50,
            60,
            70,
            80,
            90,
            100
           ],
           "y": [
            5,
            5,
            5,
            5,
            5,
            5,
            5,
            5,
            5
           ]
          },
          {
           "hoverinfo": "none",
           "mode": "text",
           "showlegend": false,
           "text": [
            "10",
            "20",
            "30",
            "40",
            "50",
            "40",
            "30",
            "20",
            "10"
           ],
           "textfont": {
            "color": "#ffffff",
            "family": "Courier New, monospace",
            "size": 30
           },
           "type": "scatter",
           "x": [
            20,
            30,
            40,
            50,
            60,
            70,
            80,
            90,
            100
           ],
           "y": [
            48.5,
            48.5,
            48.5,
            48.5,
            48.5,
            48.5,
            48.5,
            48.5,
            48.5
           ]
          },
          {
           "hoverinfo": "none",
           "line": {
            "color": "blue",
            "dash": "dash"
           },
           "showlegend": false,
           "type": "scatter",
           "x": [
            52,
            52
           ],
           "y": [
            0,
            53.5
           ]
          },
          {
           "hoverinfo": "none",
           "line": {
            "color": "yellow",
            "dash": "dash"
           },
           "showlegend": false,
           "type": "scatter",
           "x": [
            44,
            44
           ],
           "y": [
            0,
            53.5
           ]
          },
          {
           "fill": "toself",
           "fillcolor": "#4B92DB",
           "hoverinfo": "skip",
           "line": {
            "color": "white",
            "width": 3
           },
           "mode": "lines",
           "opacity": 1,
           "showlegend": false,
           "type": "scatter",
           "x": [
            0,
            0,
            10,
            10,
            0
           ],
           "y": [
            0,
            53.5,
            53.5,
            0,
            0
           ]
          },
          {
           "fill": "toself",
           "fillcolor": "#0B2265",
           "hoverinfo": "skip",
           "line": {
            "color": "white",
            "width": 3
           },
           "mode": "lines",
           "opacity": 1,
           "showlegend": false,
           "type": "scatter",
           "x": [
            110,
            110,
            120,
            120,
            110
           ],
           "y": [
            0,
            53.5,
            53.5,
            0,
            0
           ]
          },
          {
           "hoverinfo": "text",
           "hovertext": [
            "nflId:42365.0<br>displayName:Bud Dupree<br>Player Speed:0.83 yd/s",
            "nflId:43353.0<br>displayName:Kevin Byard<br>Player Speed:4.1 yd/s",
            "nflId:44869.0<br>displayName:Zach Cunningham<br>Player Speed:5.23 yd/s",
            "nflId:46457.0<br>displayName:Olasunkanmi Adeniyi<br>Player Speed:5.36 yd/s",
            "nflId:47802.0<br>displayName:Jeffery Simmons<br>Player Speed:2.66 yd/s",
            "nflId:47899.0<br>displayName:Amani Hooker<br>Player Speed:3.48 yd/s",
            "nflId:47915.0<br>displayName:Ugochukwu Amadi<br>Player Speed:4.91 yd/s",
            "nflId:47971.0<br>displayName:David Long<br>Player Speed:3.86 yd/s",
            "nflId:52469.0<br>displayName:Kristian Fulton<br>Player Speed:3.34 yd/s",
            "nflId:53073.0<br>displayName:Teair Tart<br>Player Speed:2.44 yd/s",
            "nflId:54500.0<br>displayName:Roger McCreary<br>Player Speed:2.52 yd/s"
           ],
           "marker": {
            "color": "#4B92DB",
            "line": {
             "color": "#0C2340",
             "width": 2
            },
            "size": 10
           },
           "mode": "markers",
           "name": "TEN",
           "type": "scatter",
           "x": [
            69.33,
            35.98,
            57.1,
            66.11,
            62.01,
            43.81,
            58.04,
            54.52,
            40.31,
            56.45,
            46.05
           ],
           "y": [
            37.2,
            51.63,
            37.35,
            38.31,
            31.59,
            28.33,
            23,
            31.88,
            28.52,
            30.56,
            48.53
           ]
          },
          {
           "hoverinfo": "text",
           "hovertext": [
            "nflId:42471.0<br>displayName:Jon Feliciano<br>Player Speed:2.95 yd/s",
            "nflId:42477.0<br>displayName:Mark Glowinski<br>Player Speed:1.23 yd/s",
            "nflId:44908.0<br>displayName:Kenny Golladay<br>Player Speed:4.49 yd/s",
            "nflId:46071.0<br>displayName:Saquon Barkley<br>Player Speed:2.1 yd/s",
            "nflId:46309.0<br>displayName:Richie James<br>Player Speed:6.24 yd/s",
            "nflId:47789.0<br>displayName:Daniel Jones<br>Player Speed:1.28 yd/s",
            "nflId:48489.0<br>displayName:David Sills<br>Player Speed:3.32 yd/s",
            "nflId:52412.0<br>displayName:Andrew Thomas<br>Player Speed:1.32 yd/s",
            "nflId:54472.0<br>displayName:Evan Neal<br>Player Speed:4.85 yd/s",
            "nflId:54532.0<br>displayName:Joshua Ezeudu<br>Player Speed:4.16 yd/s",
            "nflId:54577.0<br>displayName:Daniel Bellinger<br>Player Speed:6.4 yd/s"
           ],
           "marker": {
            "color": "#0B2265",
            "line": {
             "color": "#A71930",
             "width": 2
            },
            "size": 10
           },
           "mode": "markers",
           "name": "NYG",
           "type": "scatter",
           "x": [
            62.79,
            55.31,
            41.06,
            63.94,
            57.12,
            62.27,
            38.49,
            68.16,
            65.82,
            66.7,
            64.33
           ],
           "y": [
            27.97,
            32,
            29.06,
            19.44,
            34.84,
            34.45,
            53.17,
            36.67,
            37.07,
            34.63,
            46.21
           ]
          },
          {
           "hoverinfo": "none",
           "marker": {
            "color": "#CBB67C",
            "line": {
             "color": "#663831",
             "width": 2
            },
            "size": 10
           },
           "mode": "markers",
           "name": "football",
           "type": "scatter",
           "x": [
            68.25
           ],
           "y": [
            37.0499992370605
           ]
          }
         ],
         "name": "101"
        }
       ],
       "layout": {
        "annotations": [
         {
          "align": "center",
          "bgcolor": "#ff7f0e",
          "bordercolor": "black",
          "borderpad": 4,
          "borderwidth": 2,
          "font": {
           "color": "black",
           "family": "Courier New, monospace",
           "size": 16
          },
          "opacity": 1,
          "showarrow": false,
          "text": "2",
          "x": 44,
          "y": 0
         },
         {
          "align": "center",
          "bgcolor": "#ff7f0e",
          "bordercolor": "black",
          "borderpad": 4,
          "borderwidth": 2,
          "font": {
           "color": "black",
           "family": "Courier New, monospace",
           "size": 16
          },
          "opacity": 1,
          "showarrow": false,
          "text": "2",
          "x": 44,
          "y": 53
         },
         {
          "font": {
           "color": "White",
           "family": "Courier New, monospace",
           "size": 32
          },
          "showarrow": false,
          "text": "TEN",
          "textangle": -90,
          "x": 5,
          "y": 26.75
         },
         {
          "font": {
           "color": "White",
           "family": "Courier New, monospace",
           "size": 32
          },
          "showarrow": false,
          "text": "NYG",
          "textangle": 90,
          "x": 115,
          "y": 26.75
         }
        ],
        "autosize": false,
        "height": 600,
        "plot_bgcolor": "#00B140",
        "sliders": [
         {
          "active": 0,
          "currentvalue": {
           "font": {
            "size": 20
           },
           "prefix": "Frame:",
           "visible": true,
           "xanchor": "right"
          },
          "len": 0.9,
          "pad": {
           "b": 10,
           "t": 50
          },
          "steps": [
           {
            "args": [
             [
              1
             ],
             {
              "frame": {
               "duration": 100,
               "redraw": false
              },
              "mode": "immediate",
              "transition": {
               "duration": 0
              }
             }
            ],
            "label": "1",
            "method": "animate"
           },
           {
            "args": [
             [
              2
             ],
             {
              "frame": {
               "duration": 100,
               "redraw": false
              },
              "mode": "immediate",
              "transition": {
               "duration": 0
              }
             }
            ],
            "label": "2",
            "method": "animate"
           },
           {
            "args": [
             [
              3
             ],
             {
              "frame": {
               "duration": 100,
               "redraw": false
              },
              "mode": "immediate",
              "transition": {
               "duration": 0
              }
             }
            ],
            "label": "3",
            "method": "animate"
           },
           {
            "args": [
             [
              4
             ],
             {
              "frame": {
               "duration": 100,
               "redraw": false
              },
              "mode": "immediate",
              "transition": {
               "duration": 0
              }
             }
            ],
            "label": "4",
            "method": "animate"
           },
           {
            "args": [
             [
              5
             ],
             {
              "frame": {
               "duration": 100,
               "redraw": false
              },
              "mode": "immediate",
              "transition": {
               "duration": 0
              }
             }
            ],
            "label": "5",
            "method": "animate"
           },
           {
            "args": [
             [
              6
             ],
             {
              "frame": {
               "duration": 100,
               "redraw": false
              },
              "mode": "immediate",
              "transition": {
               "duration": 0
              }
             }
            ],
            "label": "6",
            "method": "animate"
           },
           {
            "args": [
             [
              7
             ],
             {
              "frame": {
               "duration": 100,
               "redraw": false
              },
              "mode": "immediate",
              "transition": {
               "duration": 0
              }
             }
            ],
            "label": "7",
            "method": "animate"
           },
           {
            "args": [
             [
              8
             ],
             {
              "frame": {
               "duration": 100,
               "redraw": false
              },
              "mode": "immediate",
              "transition": {
               "duration": 0
              }
             }
            ],
            "label": "8",
            "method": "animate"
           },
           {
            "args": [
             [
              9
             ],
             {
              "frame": {
               "duration": 100,
               "redraw": false
              },
              "mode": "immediate",
              "transition": {
               "duration": 0
              }
             }
            ],
            "label": "9",
            "method": "animate"
           },
           {
            "args": [
             [
              10
             ],
             {
              "frame": {
               "duration": 100,
               "redraw": false
              },
              "mode": "immediate",
              "transition": {
               "duration": 0
              }
             }
            ],
            "label": "10",
            "method": "animate"
           },
           {
            "args": [
             [
              11
             ],
             {
              "frame": {
               "duration": 100,
               "redraw": false
              },
              "mode": "immediate",
              "transition": {
               "duration": 0
              }
             }
            ],
            "label": "11",
            "method": "animate"
           },
           {
            "args": [
             [
              12
             ],
             {
              "frame": {
               "duration": 100,
               "redraw": false
              },
              "mode": "immediate",
              "transition": {
               "duration": 0
              }
             }
            ],
            "label": "12",
            "method": "animate"
           },
           {
            "args": [
             [
              13
             ],
             {
              "frame": {
               "duration": 100,
               "redraw": false
              },
              "mode": "immediate",
              "transition": {
               "duration": 0
              }
             }
            ],
            "label": "13",
            "method": "animate"
           },
           {
            "args": [
             [
              14
             ],
             {
              "frame": {
               "duration": 100,
               "redraw": false
              },
              "mode": "immediate",
              "transition": {
               "duration": 0
              }
             }
            ],
            "label": "14",
            "method": "animate"
           },
           {
            "args": [
             [
              15
             ],
             {
              "frame": {
               "duration": 100,
               "redraw": false
              },
              "mode": "immediate",
              "transition": {
               "duration": 0
              }
             }
            ],
            "label": "15",
            "method": "animate"
           },
           {
            "args": [
             [
              16
             ],
             {
              "frame": {
               "duration": 100,
               "redraw": false
              },
              "mode": "immediate",
              "transition": {
               "duration": 0
              }
             }
            ],
            "label": "16",
            "method": "animate"
           },
           {
            "args": [
             [
              17
             ],
             {
              "frame": {
               "duration": 100,
               "redraw": false
              },
              "mode": "immediate",
              "transition": {
               "duration": 0
              }
             }
            ],
            "label": "17",
            "method": "animate"
           },
           {
            "args": [
             [
              18
             ],
             {
              "frame": {
               "duration": 100,
               "redraw": false
              },
              "mode": "immediate",
              "transition": {
               "duration": 0
              }
             }
            ],
            "label": "18",
            "method": "animate"
           },
           {
            "args": [
             [
              19
             ],
             {
              "frame": {
               "duration": 100,
               "redraw": false
              },
              "mode": "immediate",
              "transition": {
               "duration": 0
              }
             }
            ],
            "label": "19",
            "method": "animate"
           },
           {
            "args": [
             [
              20
             ],
             {
              "frame": {
               "duration": 100,
               "redraw": false
              },
              "mode": "immediate",
              "transition": {
               "duration": 0
              }
             }
            ],
            "label": "20",
            "method": "animate"
           },
           {
            "args": [
             [
              21
             ],
             {
              "frame": {
               "duration": 100,
               "redraw": false
              },
              "mode": "immediate",
              "transition": {
               "duration": 0
              }
             }
            ],
            "label": "21",
            "method": "animate"
           },
           {
            "args": [
             [
              22
             ],
             {
              "frame": {
               "duration": 100,
               "redraw": false
              },
              "mode": "immediate",
              "transition": {
               "duration": 0
              }
             }
            ],
            "label": "22",
            "method": "animate"
           },
           {
            "args": [
             [
              23
             ],
             {
              "frame": {
               "duration": 100,
               "redraw": false
              },
              "mode": "immediate",
              "transition": {
               "duration": 0
              }
             }
            ],
            "label": "23",
            "method": "animate"
           },
           {
            "args": [
             [
              24
             ],
             {
              "frame": {
               "duration": 100,
               "redraw": false
              },
              "mode": "immediate",
              "transition": {
               "duration": 0
              }
             }
            ],
            "label": "24",
            "method": "animate"
           },
           {
            "args": [
             [
              25
             ],
             {
              "frame": {
               "duration": 100,
               "redraw": false
              },
              "mode": "immediate",
              "transition": {
               "duration": 0
              }
             }
            ],
            "label": "25",
            "method": "animate"
           },
           {
            "args": [
             [
              26
             ],
             {
              "frame": {
               "duration": 100,
               "redraw": false
              },
              "mode": "immediate",
              "transition": {
               "duration": 0
              }
             }
            ],
            "label": "26",
            "method": "animate"
           },
           {
            "args": [
             [
              27
             ],
             {
              "frame": {
               "duration": 100,
               "redraw": false
              },
              "mode": "immediate",
              "transition": {
               "duration": 0
              }
             }
            ],
            "label": "27",
            "method": "animate"
           },
           {
            "args": [
             [
              28
             ],
             {
              "frame": {
               "duration": 100,
               "redraw": false
              },
              "mode": "immediate",
              "transition": {
               "duration": 0
              }
             }
            ],
            "label": "28",
            "method": "animate"
           },
           {
            "args": [
             [
              29
             ],
             {
              "frame": {
               "duration": 100,
               "redraw": false
              },
              "mode": "immediate",
              "transition": {
               "duration": 0
              }
             }
            ],
            "label": "29",
            "method": "animate"
           },
           {
            "args": [
             [
              30
             ],
             {
              "frame": {
               "duration": 100,
               "redraw": false
              },
              "mode": "immediate",
              "transition": {
               "duration": 0
              }
             }
            ],
            "label": "30",
            "method": "animate"
           },
           {
            "args": [
             [
              31
             ],
             {
              "frame": {
               "duration": 100,
               "redraw": false
              },
              "mode": "immediate",
              "transition": {
               "duration": 0
              }
             }
            ],
            "label": "31",
            "method": "animate"
           },
           {
            "args": [
             [
              32
             ],
             {
              "frame": {
               "duration": 100,
               "redraw": false
              },
              "mode": "immediate",
              "transition": {
               "duration": 0
              }
             }
            ],
            "label": "32",
            "method": "animate"
           },
           {
            "args": [
             [
              33
             ],
             {
              "frame": {
               "duration": 100,
               "redraw": false
              },
              "mode": "immediate",
              "transition": {
               "duration": 0
              }
             }
            ],
            "label": "33",
            "method": "animate"
           },
           {
            "args": [
             [
              34
             ],
             {
              "frame": {
               "duration": 100,
               "redraw": false
              },
              "mode": "immediate",
              "transition": {
               "duration": 0
              }
             }
            ],
            "label": "34",
            "method": "animate"
           },
           {
            "args": [
             [
              35
             ],
             {
              "frame": {
               "duration": 100,
               "redraw": false
              },
              "mode": "immediate",
              "transition": {
               "duration": 0
              }
             }
            ],
            "label": "35",
            "method": "animate"
           },
           {
            "args": [
             [
              36
             ],
             {
              "frame": {
               "duration": 100,
               "redraw": false
              },
              "mode": "immediate",
              "transition": {
               "duration": 0
              }
             }
            ],
            "label": "36",
            "method": "animate"
           },
           {
            "args": [
             [
              37
             ],
             {
              "frame": {
               "duration": 100,
               "redraw": false
              },
              "mode": "immediate",
              "transition": {
               "duration": 0
              }
             }
            ],
            "label": "37",
            "method": "animate"
           },
           {
            "args": [
             [
              38
             ],
             {
              "frame": {
               "duration": 100,
               "redraw": false
              },
              "mode": "immediate",
              "transition": {
               "duration": 0
              }
             }
            ],
            "label": "38",
            "method": "animate"
           },
           {
            "args": [
             [
              39
             ],
             {
              "frame": {
               "duration": 100,
               "redraw": false
              },
              "mode": "immediate",
              "transition": {
               "duration": 0
              }
             }
            ],
            "label": "39",
            "method": "animate"
           },
           {
            "args": [
             [
              40
             ],
             {
              "frame": {
               "duration": 100,
               "redraw": false
              },
              "mode": "immediate",
              "transition": {
               "duration": 0
              }
             }
            ],
            "label": "40",
            "method": "animate"
           },
           {
            "args": [
             [
              41
             ],
             {
              "frame": {
               "duration": 100,
               "redraw": false
              },
              "mode": "immediate",
              "transition": {
               "duration": 0
              }
             }
            ],
            "label": "41",
            "method": "animate"
           },
           {
            "args": [
             [
              42
             ],
             {
              "frame": {
               "duration": 100,
               "redraw": false
              },
              "mode": "immediate",
              "transition": {
               "duration": 0
              }
             }
            ],
            "label": "42",
            "method": "animate"
           },
           {
            "args": [
             [
              43
             ],
             {
              "frame": {
               "duration": 100,
               "redraw": false
              },
              "mode": "immediate",
              "transition": {
               "duration": 0
              }
             }
            ],
            "label": "43",
            "method": "animate"
           },
           {
            "args": [
             [
              44
             ],
             {
              "frame": {
               "duration": 100,
               "redraw": false
              },
              "mode": "immediate",
              "transition": {
               "duration": 0
              }
             }
            ],
            "label": "44",
            "method": "animate"
           },
           {
            "args": [
             [
              45
             ],
             {
              "frame": {
               "duration": 100,
               "redraw": false
              },
              "mode": "immediate",
              "transition": {
               "duration": 0
              }
             }
            ],
            "label": "45",
            "method": "animate"
           },
           {
            "args": [
             [
              46
             ],
             {
              "frame": {
               "duration": 100,
               "redraw": false
              },
              "mode": "immediate",
              "transition": {
               "duration": 0
              }
             }
            ],
            "label": "46",
            "method": "animate"
           },
           {
            "args": [
             [
              47
             ],
             {
              "frame": {
               "duration": 100,
               "redraw": false
              },
              "mode": "immediate",
              "transition": {
               "duration": 0
              }
             }
            ],
            "label": "47",
            "method": "animate"
           },
           {
            "args": [
             [
              48
             ],
             {
              "frame": {
               "duration": 100,
               "redraw": false
              },
              "mode": "immediate",
              "transition": {
               "duration": 0
              }
             }
            ],
            "label": "48",
            "method": "animate"
           },
           {
            "args": [
             [
              49
             ],
             {
              "frame": {
               "duration": 100,
               "redraw": false
              },
              "mode": "immediate",
              "transition": {
               "duration": 0
              }
             }
            ],
            "label": "49",
            "method": "animate"
           },
           {
            "args": [
             [
              50
             ],
             {
              "frame": {
               "duration": 100,
               "redraw": false
              },
              "mode": "immediate",
              "transition": {
               "duration": 0
              }
             }
            ],
            "label": "50",
            "method": "animate"
           },
           {
            "args": [
             [
              51
             ],
             {
              "frame": {
               "duration": 100,
               "redraw": false
              },
              "mode": "immediate",
              "transition": {
               "duration": 0
              }
             }
            ],
            "label": "51",
            "method": "animate"
           },
           {
            "args": [
             [
              52
             ],
             {
              "frame": {
               "duration": 100,
               "redraw": false
              },
              "mode": "immediate",
              "transition": {
               "duration": 0
              }
             }
            ],
            "label": "52",
            "method": "animate"
           },
           {
            "args": [
             [
              53
             ],
             {
              "frame": {
               "duration": 100,
               "redraw": false
              },
              "mode": "immediate",
              "transition": {
               "duration": 0
              }
             }
            ],
            "label": "53",
            "method": "animate"
           },
           {
            "args": [
             [
              54
             ],
             {
              "frame": {
               "duration": 100,
               "redraw": false
              },
              "mode": "immediate",
              "transition": {
               "duration": 0
              }
             }
            ],
            "label": "54",
            "method": "animate"
           },
           {
            "args": [
             [
              55
             ],
             {
              "frame": {
               "duration": 100,
               "redraw": false
              },
              "mode": "immediate",
              "transition": {
               "duration": 0
              }
             }
            ],
            "label": "55",
            "method": "animate"
           },
           {
            "args": [
             [
              56
             ],
             {
              "frame": {
               "duration": 100,
               "redraw": false
              },
              "mode": "immediate",
              "transition": {
               "duration": 0
              }
             }
            ],
            "label": "56",
            "method": "animate"
           },
           {
            "args": [
             [
              57
             ],
             {
              "frame": {
               "duration": 100,
               "redraw": false
              },
              "mode": "immediate",
              "transition": {
               "duration": 0
              }
             }
            ],
            "label": "57",
            "method": "animate"
           },
           {
            "args": [
             [
              58
             ],
             {
              "frame": {
               "duration": 100,
               "redraw": false
              },
              "mode": "immediate",
              "transition": {
               "duration": 0
              }
             }
            ],
            "label": "58",
            "method": "animate"
           },
           {
            "args": [
             [
              59
             ],
             {
              "frame": {
               "duration": 100,
               "redraw": false
              },
              "mode": "immediate",
              "transition": {
               "duration": 0
              }
             }
            ],
            "label": "59",
            "method": "animate"
           },
           {
            "args": [
             [
              60
             ],
             {
              "frame": {
               "duration": 100,
               "redraw": false
              },
              "mode": "immediate",
              "transition": {
               "duration": 0
              }
             }
            ],
            "label": "60",
            "method": "animate"
           },
           {
            "args": [
             [
              61
             ],
             {
              "frame": {
               "duration": 100,
               "redraw": false
              },
              "mode": "immediate",
              "transition": {
               "duration": 0
              }
             }
            ],
            "label": "61",
            "method": "animate"
           },
           {
            "args": [
             [
              62
             ],
             {
              "frame": {
               "duration": 100,
               "redraw": false
              },
              "mode": "immediate",
              "transition": {
               "duration": 0
              }
             }
            ],
            "label": "62",
            "method": "animate"
           },
           {
            "args": [
             [
              63
             ],
             {
              "frame": {
               "duration": 100,
               "redraw": false
              },
              "mode": "immediate",
              "transition": {
               "duration": 0
              }
             }
            ],
            "label": "63",
            "method": "animate"
           },
           {
            "args": [
             [
              64
             ],
             {
              "frame": {
               "duration": 100,
               "redraw": false
              },
              "mode": "immediate",
              "transition": {
               "duration": 0
              }
             }
            ],
            "label": "64",
            "method": "animate"
           },
           {
            "args": [
             [
              65
             ],
             {
              "frame": {
               "duration": 100,
               "redraw": false
              },
              "mode": "immediate",
              "transition": {
               "duration": 0
              }
             }
            ],
            "label": "65",
            "method": "animate"
           },
           {
            "args": [
             [
              66
             ],
             {
              "frame": {
               "duration": 100,
               "redraw": false
              },
              "mode": "immediate",
              "transition": {
               "duration": 0
              }
             }
            ],
            "label": "66",
            "method": "animate"
           },
           {
            "args": [
             [
              67
             ],
             {
              "frame": {
               "duration": 100,
               "redraw": false
              },
              "mode": "immediate",
              "transition": {
               "duration": 0
              }
             }
            ],
            "label": "67",
            "method": "animate"
           },
           {
            "args": [
             [
              68
             ],
             {
              "frame": {
               "duration": 100,
               "redraw": false
              },
              "mode": "immediate",
              "transition": {
               "duration": 0
              }
             }
            ],
            "label": "68",
            "method": "animate"
           },
           {
            "args": [
             [
              69
             ],
             {
              "frame": {
               "duration": 100,
               "redraw": false
              },
              "mode": "immediate",
              "transition": {
               "duration": 0
              }
             }
            ],
            "label": "69",
            "method": "animate"
           },
           {
            "args": [
             [
              70
             ],
             {
              "frame": {
               "duration": 100,
               "redraw": false
              },
              "mode": "immediate",
              "transition": {
               "duration": 0
              }
             }
            ],
            "label": "70",
            "method": "animate"
           },
           {
            "args": [
             [
              71
             ],
             {
              "frame": {
               "duration": 100,
               "redraw": false
              },
              "mode": "immediate",
              "transition": {
               "duration": 0
              }
             }
            ],
            "label": "71",
            "method": "animate"
           },
           {
            "args": [
             [
              72
             ],
             {
              "frame": {
               "duration": 100,
               "redraw": false
              },
              "mode": "immediate",
              "transition": {
               "duration": 0
              }
             }
            ],
            "label": "72",
            "method": "animate"
           },
           {
            "args": [
             [
              73
             ],
             {
              "frame": {
               "duration": 100,
               "redraw": false
              },
              "mode": "immediate",
              "transition": {
               "duration": 0
              }
             }
            ],
            "label": "73",
            "method": "animate"
           },
           {
            "args": [
             [
              74
             ],
             {
              "frame": {
               "duration": 100,
               "redraw": false
              },
              "mode": "immediate",
              "transition": {
               "duration": 0
              }
             }
            ],
            "label": "74",
            "method": "animate"
           },
           {
            "args": [
             [
              75
             ],
             {
              "frame": {
               "duration": 100,
               "redraw": false
              },
              "mode": "immediate",
              "transition": {
               "duration": 0
              }
             }
            ],
            "label": "75",
            "method": "animate"
           },
           {
            "args": [
             [
              76
             ],
             {
              "frame": {
               "duration": 100,
               "redraw": false
              },
              "mode": "immediate",
              "transition": {
               "duration": 0
              }
             }
            ],
            "label": "76",
            "method": "animate"
           },
           {
            "args": [
             [
              77
             ],
             {
              "frame": {
               "duration": 100,
               "redraw": false
              },
              "mode": "immediate",
              "transition": {
               "duration": 0
              }
             }
            ],
            "label": "77",
            "method": "animate"
           },
           {
            "args": [
             [
              78
             ],
             {
              "frame": {
               "duration": 100,
               "redraw": false
              },
              "mode": "immediate",
              "transition": {
               "duration": 0
              }
             }
            ],
            "label": "78",
            "method": "animate"
           },
           {
            "args": [
             [
              79
             ],
             {
              "frame": {
               "duration": 100,
               "redraw": false
              },
              "mode": "immediate",
              "transition": {
               "duration": 0
              }
             }
            ],
            "label": "79",
            "method": "animate"
           },
           {
            "args": [
             [
              80
             ],
             {
              "frame": {
               "duration": 100,
               "redraw": false
              },
              "mode": "immediate",
              "transition": {
               "duration": 0
              }
             }
            ],
            "label": "80",
            "method": "animate"
           },
           {
            "args": [
             [
              81
             ],
             {
              "frame": {
               "duration": 100,
               "redraw": false
              },
              "mode": "immediate",
              "transition": {
               "duration": 0
              }
             }
            ],
            "label": "81",
            "method": "animate"
           },
           {
            "args": [
             [
              82
             ],
             {
              "frame": {
               "duration": 100,
               "redraw": false
              },
              "mode": "immediate",
              "transition": {
               "duration": 0
              }
             }
            ],
            "label": "82",
            "method": "animate"
           },
           {
            "args": [
             [
              83
             ],
             {
              "frame": {
               "duration": 100,
               "redraw": false
              },
              "mode": "immediate",
              "transition": {
               "duration": 0
              }
             }
            ],
            "label": "83",
            "method": "animate"
           },
           {
            "args": [
             [
              84
             ],
             {
              "frame": {
               "duration": 100,
               "redraw": false
              },
              "mode": "immediate",
              "transition": {
               "duration": 0
              }
             }
            ],
            "label": "84",
            "method": "animate"
           },
           {
            "args": [
             [
              85
             ],
             {
              "frame": {
               "duration": 100,
               "redraw": false
              },
              "mode": "immediate",
              "transition": {
               "duration": 0
              }
             }
            ],
            "label": "85",
            "method": "animate"
           },
           {
            "args": [
             [
              86
             ],
             {
              "frame": {
               "duration": 100,
               "redraw": false
              },
              "mode": "immediate",
              "transition": {
               "duration": 0
              }
             }
            ],
            "label": "86",
            "method": "animate"
           },
           {
            "args": [
             [
              87
             ],
             {
              "frame": {
               "duration": 100,
               "redraw": false
              },
              "mode": "immediate",
              "transition": {
               "duration": 0
              }
             }
            ],
            "label": "87",
            "method": "animate"
           },
           {
            "args": [
             [
              88
             ],
             {
              "frame": {
               "duration": 100,
               "redraw": false
              },
              "mode": "immediate",
              "transition": {
               "duration": 0
              }
             }
            ],
            "label": "88",
            "method": "animate"
           },
           {
            "args": [
             [
              89
             ],
             {
              "frame": {
               "duration": 100,
               "redraw": false
              },
              "mode": "immediate",
              "transition": {
               "duration": 0
              }
             }
            ],
            "label": "89",
            "method": "animate"
           },
           {
            "args": [
             [
              90
             ],
             {
              "frame": {
               "duration": 100,
               "redraw": false
              },
              "mode": "immediate",
              "transition": {
               "duration": 0
              }
             }
            ],
            "label": "90",
            "method": "animate"
           },
           {
            "args": [
             [
              91
             ],
             {
              "frame": {
               "duration": 100,
               "redraw": false
              },
              "mode": "immediate",
              "transition": {
               "duration": 0
              }
             }
            ],
            "label": "91",
            "method": "animate"
           },
           {
            "args": [
             [
              92
             ],
             {
              "frame": {
               "duration": 100,
               "redraw": false
              },
              "mode": "immediate",
              "transition": {
               "duration": 0
              }
             }
            ],
            "label": "92",
            "method": "animate"
           },
           {
            "args": [
             [
              93
             ],
             {
              "frame": {
               "duration": 100,
               "redraw": false
              },
              "mode": "immediate",
              "transition": {
               "duration": 0
              }
             }
            ],
            "label": "93",
            "method": "animate"
           },
           {
            "args": [
             [
              94
             ],
             {
              "frame": {
               "duration": 100,
               "redraw": false
              },
              "mode": "immediate",
              "transition": {
               "duration": 0
              }
             }
            ],
            "label": "94",
            "method": "animate"
           },
           {
            "args": [
             [
              95
             ],
             {
              "frame": {
               "duration": 100,
               "redraw": false
              },
              "mode": "immediate",
              "transition": {
               "duration": 0
              }
             }
            ],
            "label": "95",
            "method": "animate"
           },
           {
            "args": [
             [
              96
             ],
             {
              "frame": {
               "duration": 100,
               "redraw": false
              },
              "mode": "immediate",
              "transition": {
               "duration": 0
              }
             }
            ],
            "label": "96",
            "method": "animate"
           },
           {
            "args": [
             [
              97
             ],
             {
              "frame": {
               "duration": 100,
               "redraw": false
              },
              "mode": "immediate",
              "transition": {
               "duration": 0
              }
             }
            ],
            "label": "97",
            "method": "animate"
           },
           {
            "args": [
             [
              98
             ],
             {
              "frame": {
               "duration": 100,
               "redraw": false
              },
              "mode": "immediate",
              "transition": {
               "duration": 0
              }
             }
            ],
            "label": "98",
            "method": "animate"
           },
           {
            "args": [
             [
              99
             ],
             {
              "frame": {
               "duration": 100,
               "redraw": false
              },
              "mode": "immediate",
              "transition": {
               "duration": 0
              }
             }
            ],
            "label": "99",
            "method": "animate"
           },
           {
            "args": [
             [
              100
             ],
             {
              "frame": {
               "duration": 100,
               "redraw": false
              },
              "mode": "immediate",
              "transition": {
               "duration": 0
              }
             }
            ],
            "label": "100",
            "method": "animate"
           },
           {
            "args": [
             [
              101
             ],
             {
              "frame": {
               "duration": 100,
               "redraw": false
              },
              "mode": "immediate",
              "transition": {
               "duration": 0
              }
             }
            ],
            "label": "101",
            "method": "animate"
           }
          ],
          "transition": {
           "duration": 300,
           "easing": "cubic-in-out"
          },
          "x": 0.1,
          "xanchor": "left",
          "y": 0,
          "yanchor": "top"
         }
        ],
        "template": {
         "data": {
          "bar": [
           {
            "error_x": {
             "color": "#2a3f5f"
            },
            "error_y": {
             "color": "#2a3f5f"
            },
            "marker": {
             "line": {
              "color": "#E5ECF6",
              "width": 0.5
             },
             "pattern": {
              "fillmode": "overlay",
              "size": 10,
              "solidity": 0.2
             }
            },
            "type": "bar"
           }
          ],
          "barpolar": [
           {
            "marker": {
             "line": {
              "color": "#E5ECF6",
              "width": 0.5
             },
             "pattern": {
              "fillmode": "overlay",
              "size": 10,
              "solidity": 0.2
             }
            },
            "type": "barpolar"
           }
          ],
          "carpet": [
           {
            "aaxis": {
             "endlinecolor": "#2a3f5f",
             "gridcolor": "white",
             "linecolor": "white",
             "minorgridcolor": "white",
             "startlinecolor": "#2a3f5f"
            },
            "baxis": {
             "endlinecolor": "#2a3f5f",
             "gridcolor": "white",
             "linecolor": "white",
             "minorgridcolor": "white",
             "startlinecolor": "#2a3f5f"
            },
            "type": "carpet"
           }
          ],
          "choropleth": [
           {
            "colorbar": {
             "outlinewidth": 0,
             "ticks": ""
            },
            "type": "choropleth"
           }
          ],
          "contour": [
           {
            "colorbar": {
             "outlinewidth": 0,
             "ticks": ""
            },
            "colorscale": [
             [
              0,
              "#0d0887"
             ],
             [
              0.1111111111111111,
              "#46039f"
             ],
             [
              0.2222222222222222,
              "#7201a8"
             ],
             [
              0.3333333333333333,
              "#9c179e"
             ],
             [
              0.4444444444444444,
              "#bd3786"
             ],
             [
              0.5555555555555556,
              "#d8576b"
             ],
             [
              0.6666666666666666,
              "#ed7953"
             ],
             [
              0.7777777777777778,
              "#fb9f3a"
             ],
             [
              0.8888888888888888,
              "#fdca26"
             ],
             [
              1,
              "#f0f921"
             ]
            ],
            "type": "contour"
           }
          ],
          "contourcarpet": [
           {
            "colorbar": {
             "outlinewidth": 0,
             "ticks": ""
            },
            "type": "contourcarpet"
           }
          ],
          "heatmap": [
           {
            "colorbar": {
             "outlinewidth": 0,
             "ticks": ""
            },
            "colorscale": [
             [
              0,
              "#0d0887"
             ],
             [
              0.1111111111111111,
              "#46039f"
             ],
             [
              0.2222222222222222,
              "#7201a8"
             ],
             [
              0.3333333333333333,
              "#9c179e"
             ],
             [
              0.4444444444444444,
              "#bd3786"
             ],
             [
              0.5555555555555556,
              "#d8576b"
             ],
             [
              0.6666666666666666,
              "#ed7953"
             ],
             [
              0.7777777777777778,
              "#fb9f3a"
             ],
             [
              0.8888888888888888,
              "#fdca26"
             ],
             [
              1,
              "#f0f921"
             ]
            ],
            "type": "heatmap"
           }
          ],
          "heatmapgl": [
           {
            "colorbar": {
             "outlinewidth": 0,
             "ticks": ""
            },
            "colorscale": [
             [
              0,
              "#0d0887"
             ],
             [
              0.1111111111111111,
              "#46039f"
             ],
             [
              0.2222222222222222,
              "#7201a8"
             ],
             [
              0.3333333333333333,
              "#9c179e"
             ],
             [
              0.4444444444444444,
              "#bd3786"
             ],
             [
              0.5555555555555556,
              "#d8576b"
             ],
             [
              0.6666666666666666,
              "#ed7953"
             ],
             [
              0.7777777777777778,
              "#fb9f3a"
             ],
             [
              0.8888888888888888,
              "#fdca26"
             ],
             [
              1,
              "#f0f921"
             ]
            ],
            "type": "heatmapgl"
           }
          ],
          "histogram": [
           {
            "marker": {
             "pattern": {
              "fillmode": "overlay",
              "size": 10,
              "solidity": 0.2
             }
            },
            "type": "histogram"
           }
          ],
          "histogram2d": [
           {
            "colorbar": {
             "outlinewidth": 0,
             "ticks": ""
            },
            "colorscale": [
             [
              0,
              "#0d0887"
             ],
             [
              0.1111111111111111,
              "#46039f"
             ],
             [
              0.2222222222222222,
              "#7201a8"
             ],
             [
              0.3333333333333333,
              "#9c179e"
             ],
             [
              0.4444444444444444,
              "#bd3786"
             ],
             [
              0.5555555555555556,
              "#d8576b"
             ],
             [
              0.6666666666666666,
              "#ed7953"
             ],
             [
              0.7777777777777778,
              "#fb9f3a"
             ],
             [
              0.8888888888888888,
              "#fdca26"
             ],
             [
              1,
              "#f0f921"
             ]
            ],
            "type": "histogram2d"
           }
          ],
          "histogram2dcontour": [
           {
            "colorbar": {
             "outlinewidth": 0,
             "ticks": ""
            },
            "colorscale": [
             [
              0,
              "#0d0887"
             ],
             [
              0.1111111111111111,
              "#46039f"
             ],
             [
              0.2222222222222222,
              "#7201a8"
             ],
             [
              0.3333333333333333,
              "#9c179e"
             ],
             [
              0.4444444444444444,
              "#bd3786"
             ],
             [
              0.5555555555555556,
              "#d8576b"
             ],
             [
              0.6666666666666666,
              "#ed7953"
             ],
             [
              0.7777777777777778,
              "#fb9f3a"
             ],
             [
              0.8888888888888888,
              "#fdca26"
             ],
             [
              1,
              "#f0f921"
             ]
            ],
            "type": "histogram2dcontour"
           }
          ],
          "mesh3d": [
           {
            "colorbar": {
             "outlinewidth": 0,
             "ticks": ""
            },
            "type": "mesh3d"
           }
          ],
          "parcoords": [
           {
            "line": {
             "colorbar": {
              "outlinewidth": 0,
              "ticks": ""
             }
            },
            "type": "parcoords"
           }
          ],
          "pie": [
           {
            "automargin": true,
            "type": "pie"
           }
          ],
          "scatter": [
           {
            "fillpattern": {
             "fillmode": "overlay",
             "size": 10,
             "solidity": 0.2
            },
            "type": "scatter"
           }
          ],
          "scatter3d": [
           {
            "line": {
             "colorbar": {
              "outlinewidth": 0,
              "ticks": ""
             }
            },
            "marker": {
             "colorbar": {
              "outlinewidth": 0,
              "ticks": ""
             }
            },
            "type": "scatter3d"
           }
          ],
          "scattercarpet": [
           {
            "marker": {
             "colorbar": {
              "outlinewidth": 0,
              "ticks": ""
             }
            },
            "type": "scattercarpet"
           }
          ],
          "scattergeo": [
           {
            "marker": {
             "colorbar": {
              "outlinewidth": 0,
              "ticks": ""
             }
            },
            "type": "scattergeo"
           }
          ],
          "scattergl": [
           {
            "marker": {
             "colorbar": {
              "outlinewidth": 0,
              "ticks": ""
             }
            },
            "type": "scattergl"
           }
          ],
          "scattermapbox": [
           {
            "marker": {
             "colorbar": {
              "outlinewidth": 0,
              "ticks": ""
             }
            },
            "type": "scattermapbox"
           }
          ],
          "scatterpolar": [
           {
            "marker": {
             "colorbar": {
              "outlinewidth": 0,
              "ticks": ""
             }
            },
            "type": "scatterpolar"
           }
          ],
          "scatterpolargl": [
           {
            "marker": {
             "colorbar": {
              "outlinewidth": 0,
              "ticks": ""
             }
            },
            "type": "scatterpolargl"
           }
          ],
          "scatterternary": [
           {
            "marker": {
             "colorbar": {
              "outlinewidth": 0,
              "ticks": ""
             }
            },
            "type": "scatterternary"
           }
          ],
          "surface": [
           {
            "colorbar": {
             "outlinewidth": 0,
             "ticks": ""
            },
            "colorscale": [
             [
              0,
              "#0d0887"
             ],
             [
              0.1111111111111111,
              "#46039f"
             ],
             [
              0.2222222222222222,
              "#7201a8"
             ],
             [
              0.3333333333333333,
              "#9c179e"
             ],
             [
              0.4444444444444444,
              "#bd3786"
             ],
             [
              0.5555555555555556,
              "#d8576b"
             ],
             [
              0.6666666666666666,
              "#ed7953"
             ],
             [
              0.7777777777777778,
              "#fb9f3a"
             ],
             [
              0.8888888888888888,
              "#fdca26"
             ],
             [
              1,
              "#f0f921"
             ]
            ],
            "type": "surface"
           }
          ],
          "table": [
           {
            "cells": {
             "fill": {
              "color": "#EBF0F8"
             },
             "line": {
              "color": "white"
             }
            },
            "header": {
             "fill": {
              "color": "#C8D4E3"
             },
             "line": {
              "color": "white"
             }
            },
            "type": "table"
           }
          ]
         },
         "layout": {
          "annotationdefaults": {
           "arrowcolor": "#2a3f5f",
           "arrowhead": 0,
           "arrowwidth": 1
          },
          "autotypenumbers": "strict",
          "coloraxis": {
           "colorbar": {
            "outlinewidth": 0,
            "ticks": ""
           }
          },
          "colorscale": {
           "diverging": [
            [
             0,
             "#8e0152"
            ],
            [
             0.1,
             "#c51b7d"
            ],
            [
             0.2,
             "#de77ae"
            ],
            [
             0.3,
             "#f1b6da"
            ],
            [
             0.4,
             "#fde0ef"
            ],
            [
             0.5,
             "#f7f7f7"
            ],
            [
             0.6,
             "#e6f5d0"
            ],
            [
             0.7,
             "#b8e186"
            ],
            [
             0.8,
             "#7fbc41"
            ],
            [
             0.9,
             "#4d9221"
            ],
            [
             1,
             "#276419"
            ]
           ],
           "sequential": [
            [
             0,
             "#0d0887"
            ],
            [
             0.1111111111111111,
             "#46039f"
            ],
            [
             0.2222222222222222,
             "#7201a8"
            ],
            [
             0.3333333333333333,
             "#9c179e"
            ],
            [
             0.4444444444444444,
             "#bd3786"
            ],
            [
             0.5555555555555556,
             "#d8576b"
            ],
            [
             0.6666666666666666,
             "#ed7953"
            ],
            [
             0.7777777777777778,
             "#fb9f3a"
            ],
            [
             0.8888888888888888,
             "#fdca26"
            ],
            [
             1,
             "#f0f921"
            ]
           ],
           "sequentialminus": [
            [
             0,
             "#0d0887"
            ],
            [
             0.1111111111111111,
             "#46039f"
            ],
            [
             0.2222222222222222,
             "#7201a8"
            ],
            [
             0.3333333333333333,
             "#9c179e"
            ],
            [
             0.4444444444444444,
             "#bd3786"
            ],
            [
             0.5555555555555556,
             "#d8576b"
            ],
            [
             0.6666666666666666,
             "#ed7953"
            ],
            [
             0.7777777777777778,
             "#fb9f3a"
            ],
            [
             0.8888888888888888,
             "#fdca26"
            ],
            [
             1,
             "#f0f921"
            ]
           ]
          },
          "colorway": [
           "#636efa",
           "#EF553B",
           "#00cc96",
           "#ab63fa",
           "#FFA15A",
           "#19d3f3",
           "#FF6692",
           "#B6E880",
           "#FF97FF",
           "#FECB52"
          ],
          "font": {
           "color": "#2a3f5f"
          },
          "geo": {
           "bgcolor": "white",
           "lakecolor": "white",
           "landcolor": "#E5ECF6",
           "showlakes": true,
           "showland": true,
           "subunitcolor": "white"
          },
          "hoverlabel": {
           "align": "left"
          },
          "hovermode": "closest",
          "mapbox": {
           "style": "light"
          },
          "paper_bgcolor": "white",
          "plot_bgcolor": "#E5ECF6",
          "polar": {
           "angularaxis": {
            "gridcolor": "white",
            "linecolor": "white",
            "ticks": ""
           },
           "bgcolor": "#E5ECF6",
           "radialaxis": {
            "gridcolor": "white",
            "linecolor": "white",
            "ticks": ""
           }
          },
          "scene": {
           "xaxis": {
            "backgroundcolor": "#E5ECF6",
            "gridcolor": "white",
            "gridwidth": 2,
            "linecolor": "white",
            "showbackground": true,
            "ticks": "",
            "zerolinecolor": "white"
           },
           "yaxis": {
            "backgroundcolor": "#E5ECF6",
            "gridcolor": "white",
            "gridwidth": 2,
            "linecolor": "white",
            "showbackground": true,
            "ticks": "",
            "zerolinecolor": "white"
           },
           "zaxis": {
            "backgroundcolor": "#E5ECF6",
            "gridcolor": "white",
            "gridwidth": 2,
            "linecolor": "white",
            "showbackground": true,
            "ticks": "",
            "zerolinecolor": "white"
           }
          },
          "shapedefaults": {
           "line": {
            "color": "#2a3f5f"
           }
          },
          "ternary": {
           "aaxis": {
            "gridcolor": "white",
            "linecolor": "white",
            "ticks": ""
           },
           "baxis": {
            "gridcolor": "white",
            "linecolor": "white",
            "ticks": ""
           },
           "bgcolor": "#E5ECF6",
           "caxis": {
            "gridcolor": "white",
            "linecolor": "white",
            "ticks": ""
           }
          },
          "title": {
           "x": 0.05
          },
          "xaxis": {
           "automargin": true,
           "gridcolor": "white",
           "linecolor": "white",
           "ticks": "",
           "title": {
            "standoff": 15
           },
           "zerolinecolor": "white",
           "zerolinewidth": 2
          },
          "yaxis": {
           "automargin": true,
           "gridcolor": "white",
           "linecolor": "white",
           "ticks": "",
           "title": {
            "standoff": 15
           },
           "zerolinecolor": "white",
           "zerolinewidth": 2
          }
         }
        },
        "title": {
         "text": "GameId: 2022091108, PlayId: 1060<br>10:06 2Q<br><br><br><br><br><br><br><br><br><br><br><br><br><br><br><br><br><br><br>(10:06) (No Huddle, Shotgun) D.Jones sacked at TEN 49 for -7 yards (J.Simmons). FUMBLES (J.Simmons) [J.Simmons],<br>RECOVERED by TEN-B.Dupree at NYG 44. B.Dupree to NYG 42 for 2 yards (A.Thomas)."
        },
        "updatemenus": [
         {
          "buttons": [
           {
            "args": [
             null,
             {
              "frame": {
               "duration": 100,
               "redraw": false
              },
              "fromcurrent": true,
              "transition": {
               "duration": 0
              }
             }
            ],
            "label": "Play",
            "method": "animate"
           },
           {
            "args": [
             [
              null
             ],
             {
              "frame": {
               "duration": 0,
               "redraw": false
              },
              "mode": "immediate",
              "transition": {
               "duration": 0
              }
             }
            ],
            "label": "Pause",
            "method": "animate"
           }
          ],
          "direction": "left",
          "pad": {
           "r": 10,
           "t": 87
          },
          "showactive": false,
          "type": "buttons",
          "x": 0.1,
          "xanchor": "right",
          "y": 0,
          "yanchor": "top"
         }
        ],
        "width": 1200,
        "xaxis": {
         "autorange": false,
         "range": [
          0,
          120
         ],
         "showticklabels": false,
         "tickmode": "array",
         "tickvals": [
          10,
          15,
          20,
          25,
          30,
          35,
          40,
          45,
          50,
          55,
          60,
          65,
          70,
          75,
          80,
          85,
          90,
          95,
          100,
          105,
          110
         ]
        },
        "yaxis": {
         "autorange": false,
         "range": [
          0,
          53.3
         ],
         "showgrid": false,
         "showticklabels": false
        }
       }
      }
     },
     "metadata": {},
     "output_type": "display_data"
    }
   ],
   "source": [
    "play_figures[2].show()"
   ]
  }
 ],
 "metadata": {
  "kernelspec": {
   "display_name": "nfl",
   "language": "python",
   "name": "python3"
  },
  "language_info": {
   "codemirror_mode": {
    "name": "ipython",
    "version": 3
   },
   "file_extension": ".py",
   "mimetype": "text/x-python",
   "name": "python",
   "nbconvert_exporter": "python",
   "pygments_lexer": "ipython3",
   "version": "3.11.9"
  }
 },
 "nbformat": 4,
 "nbformat_minor": 2
}
